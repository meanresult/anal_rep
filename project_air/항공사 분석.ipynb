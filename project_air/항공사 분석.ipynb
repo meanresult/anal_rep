{
 "cells": [
  {
   "cell_type": "markdown",
   "id": "058a9073",
   "metadata": {},
   "source": [
    "# ✅ 항공 데이터 분석"
   ]
  },
  {
   "cell_type": "markdown",
   "id": "3adf8a14",
   "metadata": {},
   "source": [
    "## ✅ 설정"
   ]
  },
  {
   "cell_type": "code",
   "execution_count": 25,
   "id": "5c088b26",
   "metadata": {},
   "outputs": [
    {
     "name": "stdout",
     "output_type": "stream",
     "text": [
      "Noto Sans KR\n"
     ]
    }
   ],
   "source": [
    "import matplotlib.font_manager as fm\n",
    "for i in fm.fontManager.ttflist:\n",
    "    if i.name.find('Noto') != -1 :\n",
    "        print(i.name)"
   ]
  },
  {
   "cell_type": "code",
   "execution_count": 24,
   "id": "ba104852",
   "metadata": {},
   "outputs": [],
   "source": [
    "from matplotlib import rcParams\n",
    "rcParams['font.family'] = 'Noto Sans Kr'\n",
    "rcParams['axes.unicode_minus']= False"
   ]
  },
  {
   "cell_type": "markdown",
   "id": "3b472258",
   "metadata": {},
   "source": [
    "항공사 지연 요인 분석 보고서\n",
    "## ✅ 1. 프로젝트 개요   \n",
    "- 분석 목적: 항공사의 지연 요인(운항사, 관제, 기상)을 파악하여 개선 방향 제시   \n",
    "- 데이터 출처: 항공 운항 지연률 데이터 (총 33,468건)   \n",
    "- 분석 대상 변수:   \n",
    "    - pct_carrier_delay: 운항사 요인   \n",
    "    - pct_atc_delay: 관제 요인   \n",
    "    - pct_weather_delay: 기상 요인   \n",
    "    - airline: 항공사명   "
   ]
  },
  {
   "cell_type": "markdown",
   "id": "472a98a0",
   "metadata": {},
   "source": [
    "## ✅ 2. 파일 불러오기 및 1차원 데이터 / 결측치 확인"
   ]
  },
  {
   "cell_type": "code",
   "execution_count": 2,
   "id": "5a06e19b",
   "metadata": {},
   "outputs": [
    {
     "data": {
      "text/html": [
       "<div>\n",
       "<style scoped>\n",
       "    .dataframe tbody tr th:only-of-type {\n",
       "        vertical-align: middle;\n",
       "    }\n",
       "\n",
       "    .dataframe tbody tr th {\n",
       "        vertical-align: top;\n",
       "    }\n",
       "\n",
       "    .dataframe thead th {\n",
       "        text-align: right;\n",
       "    }\n",
       "</style>\n",
       "<table border=\"1\" class=\"dataframe\">\n",
       "  <thead>\n",
       "    <tr style=\"text-align: right;\">\n",
       "      <th></th>\n",
       "      <th>pct_carrier_delay</th>\n",
       "      <th>pct_atc_delay</th>\n",
       "      <th>pct_weather_delay</th>\n",
       "      <th>airline</th>\n",
       "    </tr>\n",
       "  </thead>\n",
       "  <tbody>\n",
       "    <tr>\n",
       "      <th>0</th>\n",
       "      <td>8.153226</td>\n",
       "      <td>1.971774</td>\n",
       "      <td>0.762097</td>\n",
       "      <td>American</td>\n",
       "    </tr>\n",
       "    <tr>\n",
       "      <th>1</th>\n",
       "      <td>5.959924</td>\n",
       "      <td>3.706107</td>\n",
       "      <td>1.585878</td>\n",
       "      <td>American</td>\n",
       "    </tr>\n",
       "    <tr>\n",
       "      <th>2</th>\n",
       "      <td>7.157270</td>\n",
       "      <td>2.706231</td>\n",
       "      <td>2.026706</td>\n",
       "      <td>American</td>\n",
       "    </tr>\n",
       "    <tr>\n",
       "      <th>3</th>\n",
       "      <td>12.100000</td>\n",
       "      <td>11.033333</td>\n",
       "      <td>0.000000</td>\n",
       "      <td>American</td>\n",
       "    </tr>\n",
       "    <tr>\n",
       "      <th>4</th>\n",
       "      <td>7.333333</td>\n",
       "      <td>3.365591</td>\n",
       "      <td>1.774194</td>\n",
       "      <td>American</td>\n",
       "    </tr>\n",
       "    <tr>\n",
       "      <th>...</th>\n",
       "      <td>...</td>\n",
       "      <td>...</td>\n",
       "      <td>...</td>\n",
       "      <td>...</td>\n",
       "    </tr>\n",
       "    <tr>\n",
       "      <th>33463</th>\n",
       "      <td>6.186422</td>\n",
       "      <td>8.798491</td>\n",
       "      <td>1.651940</td>\n",
       "      <td>Southwest</td>\n",
       "    </tr>\n",
       "    <tr>\n",
       "      <th>33464</th>\n",
       "      <td>9.522167</td>\n",
       "      <td>3.591133</td>\n",
       "      <td>0.261084</td>\n",
       "      <td>Southwest</td>\n",
       "    </tr>\n",
       "    <tr>\n",
       "      <th>33465</th>\n",
       "      <td>9.164179</td>\n",
       "      <td>2.664179</td>\n",
       "      <td>0.343284</td>\n",
       "      <td>Southwest</td>\n",
       "    </tr>\n",
       "    <tr>\n",
       "      <th>33466</th>\n",
       "      <td>5.152293</td>\n",
       "      <td>1.964520</td>\n",
       "      <td>0.122817</td>\n",
       "      <td>Southwest</td>\n",
       "    </tr>\n",
       "    <tr>\n",
       "      <th>33467</th>\n",
       "      <td>3.964393</td>\n",
       "      <td>1.700479</td>\n",
       "      <td>0.019449</td>\n",
       "      <td>Southwest</td>\n",
       "    </tr>\n",
       "  </tbody>\n",
       "</table>\n",
       "<p>33468 rows × 4 columns</p>\n",
       "</div>"
      ],
      "text/plain": [
       "       pct_carrier_delay  pct_atc_delay  pct_weather_delay    airline\n",
       "0               8.153226       1.971774           0.762097   American\n",
       "1               5.959924       3.706107           1.585878   American\n",
       "2               7.157270       2.706231           2.026706   American\n",
       "3              12.100000      11.033333           0.000000   American\n",
       "4               7.333333       3.365591           1.774194   American\n",
       "...                  ...            ...                ...        ...\n",
       "33463           6.186422       8.798491           1.651940  Southwest\n",
       "33464           9.522167       3.591133           0.261084  Southwest\n",
       "33465           9.164179       2.664179           0.343284  Southwest\n",
       "33466           5.152293       1.964520           0.122817  Southwest\n",
       "33467           3.964393       1.700479           0.019449  Southwest\n",
       "\n",
       "[33468 rows x 4 columns]"
      ]
     },
     "execution_count": 2,
     "metadata": {},
     "output_type": "execute_result"
    }
   ],
   "source": [
    "import pandas as pd \n",
    "df = pd.read_csv('data/airline_stats.csv')\n",
    "df"
   ]
  },
  {
   "cell_type": "code",
   "execution_count": 3,
   "id": "eb738698",
   "metadata": {},
   "outputs": [
    {
     "name": "stdout",
     "output_type": "stream",
     "text": [
      "<class 'pandas.core.frame.DataFrame'>\n",
      "RangeIndex: 33468 entries, 0 to 33467\n",
      "Data columns (total 4 columns):\n",
      " #   Column             Non-Null Count  Dtype  \n",
      "---  ------             --------------  -----  \n",
      " 0   pct_carrier_delay  33440 non-null  float64\n",
      " 1   pct_atc_delay      33440 non-null  float64\n",
      " 2   pct_weather_delay  33440 non-null  float64\n",
      " 3   airline            33468 non-null  object \n",
      "dtypes: float64(3), object(1)\n",
      "memory usage: 1.0+ MB\n"
     ]
    }
   ],
   "source": [
    "# 기본 정보 확인\n",
    "\n",
    "df.info()"
   ]
  },
  {
   "cell_type": "markdown",
   "id": "b1fdc0fc",
   "metadata": {},
   "source": [
    "수치형 데이터 3개, 범주형 데이터 3개 확인\n",
    "\n",
    "| 변수명                 | 데이터 타입  | 변수 종류                  |\n",
    "| ------------------- | ------- | ---------------------- |\n",
    "| `pct_carrier_delay` | float64 | **수치형** (항공사 자체 지연 비율) |\n",
    "| `pct_atc_delay`     | float64 | **수치형** (관제 지연 비율)     |\n",
    "| `pct_weather_delay` | float64 | **수치형** (날씨 지연 비율)     |\n",
    "| `airline`           | object  | **범주형** (항공사명)         |\n"
   ]
  },
  {
   "cell_type": "markdown",
   "id": "f24565e8",
   "metadata": {},
   "source": [
    "## ✅ 수치형 데이터, 범주형 데이터 확인"
   ]
  },
  {
   "cell_type": "code",
   "execution_count": 4,
   "id": "976bb9c6",
   "metadata": {},
   "outputs": [
    {
     "data": {
      "text/html": [
       "<div>\n",
       "<style scoped>\n",
       "    .dataframe tbody tr th:only-of-type {\n",
       "        vertical-align: middle;\n",
       "    }\n",
       "\n",
       "    .dataframe tbody tr th {\n",
       "        vertical-align: top;\n",
       "    }\n",
       "\n",
       "    .dataframe thead th {\n",
       "        text-align: right;\n",
       "    }\n",
       "</style>\n",
       "<table border=\"1\" class=\"dataframe\">\n",
       "  <thead>\n",
       "    <tr style=\"text-align: right;\">\n",
       "      <th></th>\n",
       "      <th>pct_carrier_delay</th>\n",
       "      <th>pct_atc_delay</th>\n",
       "      <th>pct_weather_delay</th>\n",
       "      <th>airline</th>\n",
       "    </tr>\n",
       "  </thead>\n",
       "  <tbody>\n",
       "    <tr>\n",
       "      <th>0</th>\n",
       "      <td>8.153226</td>\n",
       "      <td>1.971774</td>\n",
       "      <td>0.762097</td>\n",
       "      <td>American</td>\n",
       "    </tr>\n",
       "    <tr>\n",
       "      <th>1</th>\n",
       "      <td>5.959924</td>\n",
       "      <td>3.706107</td>\n",
       "      <td>1.585878</td>\n",
       "      <td>American</td>\n",
       "    </tr>\n",
       "  </tbody>\n",
       "</table>\n",
       "</div>"
      ],
      "text/plain": [
       "   pct_carrier_delay  pct_atc_delay  pct_weather_delay   airline\n",
       "0           8.153226       1.971774           0.762097  American\n",
       "1           5.959924       3.706107           1.585878  American"
      ]
     },
     "execution_count": 4,
     "metadata": {},
     "output_type": "execute_result"
    }
   ],
   "source": [
    "# 밸류값 확인\n",
    "df.head(2)"
   ]
  },
  {
   "cell_type": "code",
   "execution_count": 84,
   "id": "629760dc",
   "metadata": {},
   "outputs": [],
   "source": [
    "# 운항횟수\n",
    "# Delta가 압도적으로 많음\n",
    "# American / Southwest / United 가 비슷\n",
    "# Alasks / Jet Blue 가 비슷\n",
    "\n",
    "air_run = df['airline'].value_counts()"
   ]
  },
  {
   "cell_type": "code",
   "execution_count": 8,
   "id": "64813e5c",
   "metadata": {},
   "outputs": [
    {
     "data": {
      "text/html": [
       "<div>\n",
       "<style scoped>\n",
       "    .dataframe tbody tr th:only-of-type {\n",
       "        vertical-align: middle;\n",
       "    }\n",
       "\n",
       "    .dataframe tbody tr th {\n",
       "        vertical-align: top;\n",
       "    }\n",
       "\n",
       "    .dataframe thead th {\n",
       "        text-align: right;\n",
       "    }\n",
       "</style>\n",
       "<table border=\"1\" class=\"dataframe\">\n",
       "  <thead>\n",
       "    <tr style=\"text-align: right;\">\n",
       "      <th></th>\n",
       "      <th>pct_carrier_delay</th>\n",
       "      <th>pct_atc_delay</th>\n",
       "      <th>pct_weather_delay</th>\n",
       "    </tr>\n",
       "  </thead>\n",
       "  <tbody>\n",
       "    <tr>\n",
       "      <th>0</th>\n",
       "      <td>8.153226</td>\n",
       "      <td>1.971774</td>\n",
       "      <td>0.762097</td>\n",
       "    </tr>\n",
       "    <tr>\n",
       "      <th>1</th>\n",
       "      <td>5.959924</td>\n",
       "      <td>3.706107</td>\n",
       "      <td>1.585878</td>\n",
       "    </tr>\n",
       "    <tr>\n",
       "      <th>2</th>\n",
       "      <td>7.157270</td>\n",
       "      <td>2.706231</td>\n",
       "      <td>2.026706</td>\n",
       "    </tr>\n",
       "    <tr>\n",
       "      <th>3</th>\n",
       "      <td>12.100000</td>\n",
       "      <td>11.033333</td>\n",
       "      <td>0.000000</td>\n",
       "    </tr>\n",
       "    <tr>\n",
       "      <th>4</th>\n",
       "      <td>7.333333</td>\n",
       "      <td>3.365591</td>\n",
       "      <td>1.774194</td>\n",
       "    </tr>\n",
       "  </tbody>\n",
       "</table>\n",
       "</div>"
      ],
      "text/plain": [
       "   pct_carrier_delay  pct_atc_delay  pct_weather_delay\n",
       "0           8.153226       1.971774           0.762097\n",
       "1           5.959924       3.706107           1.585878\n",
       "2           7.157270       2.706231           2.026706\n",
       "3          12.100000      11.033333           0.000000\n",
       "4           7.333333       3.365591           1.774194"
      ]
     },
     "execution_count": 8,
     "metadata": {},
     "output_type": "execute_result"
    }
   ],
   "source": [
    "# 수치형 데이터만 모아보기\n",
    "\n",
    "num_df = df.select_dtypes(include='number').head() \n",
    "num_df "
   ]
  },
  {
   "cell_type": "code",
   "execution_count": 19,
   "id": "1c161ebd",
   "metadata": {},
   "outputs": [],
   "source": [
    "# 결측치 여부 확인\n",
    "# num_df.iloc[:] == len(num_df)\n",
    "\n",
    "missing_count = df.isnull().sum() # 결측치 있음\n",
    "missing_ratio = (missing_count/len(df))*100"
   ]
  },
  {
   "cell_type": "code",
   "execution_count": 22,
   "id": "19e037f3",
   "metadata": {},
   "outputs": [
    {
     "data": {
      "text/html": [
       "<div>\n",
       "<style scoped>\n",
       "    .dataframe tbody tr th:only-of-type {\n",
       "        vertical-align: middle;\n",
       "    }\n",
       "\n",
       "    .dataframe tbody tr th {\n",
       "        vertical-align: top;\n",
       "    }\n",
       "\n",
       "    .dataframe thead th {\n",
       "        text-align: right;\n",
       "    }\n",
       "</style>\n",
       "<table border=\"1\" class=\"dataframe\">\n",
       "  <thead>\n",
       "    <tr style=\"text-align: right;\">\n",
       "      <th></th>\n",
       "      <th>Missing Count</th>\n",
       "      <th>Missing Ratio (%)</th>\n",
       "    </tr>\n",
       "  </thead>\n",
       "  <tbody>\n",
       "    <tr>\n",
       "      <th>pct_carrier_delay</th>\n",
       "      <td>28</td>\n",
       "      <td>0.083662</td>\n",
       "    </tr>\n",
       "    <tr>\n",
       "      <th>pct_atc_delay</th>\n",
       "      <td>28</td>\n",
       "      <td>0.083662</td>\n",
       "    </tr>\n",
       "    <tr>\n",
       "      <th>pct_weather_delay</th>\n",
       "      <td>28</td>\n",
       "      <td>0.083662</td>\n",
       "    </tr>\n",
       "  </tbody>\n",
       "</table>\n",
       "</div>"
      ],
      "text/plain": [
       "                   Missing Count  Missing Ratio (%)\n",
       "pct_carrier_delay             28           0.083662\n",
       "pct_atc_delay                 28           0.083662\n",
       "pct_weather_delay             28           0.083662"
      ]
     },
     "execution_count": 22,
     "metadata": {},
     "output_type": "execute_result"
    }
   ],
   "source": [
    "#결측치 요약표 출력\n",
    "missing_df = pd.DataFrame({\n",
    "    'Missing Count':missing_count,\n",
    "    'Missing Ratio (%)':missing_ratio\n",
    "}).sort_values(by='Missing Count', ascending=False)\n",
    "\n",
    "missing_df[missing_count_df['Missing Count']>0]"
   ]
  },
  {
   "cell_type": "code",
   "execution_count": 27,
   "id": "66db3732",
   "metadata": {},
   "outputs": [
    {
     "data": {
      "image/png": "[encoded data removed]",
      "text/plain": [
       "<Figure size 1000x600 with 1 Axes>"
      ]
     },
     "metadata": {},
     "output_type": "display_data"
    }
   ],
   "source": [
    "import matplotlib.pyplot as plt\n",
    "\n",
    "# 결측치 있는 컬럼만 시각화\n",
    "missing_df = missing_df[missing_df['Missing Count']>0]\n",
    "\n",
    "plt.figure(figsize=(10,6)) # 도화지 생성\n",
    "plt.barh(missing_df.index, missing_df['Missing Count'], color = 'green')\n",
    "plt.xlabel('결측치 개수')\n",
    "plt.title('열별 결측치 분포')\n",
    "plt.tight_layout()\n",
    "plt.show()"
   ]
  },
  {
   "cell_type": "code",
   "execution_count": null,
   "id": "f511878c",
   "metadata": {},
   "outputs": [],
   "source": [
    "# A. 결측값이 있는 행 제거\n",
    "df_dropna = df.dropna()\n",
    "\n",
    "# B. 전체 평균으로 결측값 대체\n",
    "df_filled = df.copy()\n",
    "for col in ['pct_carrier_delay', 'pct_atc_delay', 'pct_weather_delay']:\n",
    "    df_filled[col] = df_filled[col].fillna(df_filled[col].mean())\n",
    "\n",
    "# 항공사별 중앙값으로 대체 \n",
    "df_group = df.copy()\n",
    "for col in ['pct_carrier_delay', 'pct_atc_delay', 'pct_weather_delay']:\n",
    "     df_group[col] = df.groupby('airline')[col].transform(lambda x : x.fillna(x.median()))"
   ]
  },
  {
   "cell_type": "code",
   "execution_count": 33,
   "id": "33ee84b3",
   "metadata": {},
   "outputs": [
    {
     "data": {
      "text/html": [
       "<div>\n",
       "<style scoped>\n",
       "    .dataframe tbody tr th:only-of-type {\n",
       "        vertical-align: middle;\n",
       "    }\n",
       "\n",
       "    .dataframe tbody tr th {\n",
       "        vertical-align: top;\n",
       "    }\n",
       "\n",
       "    .dataframe thead th {\n",
       "        text-align: right;\n",
       "    }\n",
       "</style>\n",
       "<table border=\"1\" class=\"dataframe\">\n",
       "  <thead>\n",
       "    <tr style=\"text-align: right;\">\n",
       "      <th></th>\n",
       "      <th>dropna_pct_carrier_delay</th>\n",
       "      <th>dropna_pct_atc_delay</th>\n",
       "      <th>dropna_pct_weather_delay</th>\n",
       "      <th>filled_pct_carrier_delay</th>\n",
       "      <th>filled_pct_atc_delay</th>\n",
       "      <th>filled_pct_weather_delay</th>\n",
       "      <th>group_pct_carrier_delay</th>\n",
       "      <th>group_pct_atc_delay</th>\n",
       "      <th>group_pct_weather_delay</th>\n",
       "    </tr>\n",
       "  </thead>\n",
       "  <tbody>\n",
       "    <tr>\n",
       "      <th>count</th>\n",
       "      <td>33440.000000</td>\n",
       "      <td>33440.000000</td>\n",
       "      <td>33440.000000</td>\n",
       "      <td>33468.000000</td>\n",
       "      <td>33468.000000</td>\n",
       "      <td>33468.000000</td>\n",
       "      <td>33468.000000</td>\n",
       "      <td>33468.000000</td>\n",
       "      <td>33468.000000</td>\n",
       "    </tr>\n",
       "    <tr>\n",
       "      <th>mean</th>\n",
       "      <td>7.041475</td>\n",
       "      <td>5.089962</td>\n",
       "      <td>0.684776</td>\n",
       "      <td>7.041475</td>\n",
       "      <td>5.089962</td>\n",
       "      <td>0.684776</td>\n",
       "      <td>7.040845</td>\n",
       "      <td>5.089187</td>\n",
       "      <td>0.684473</td>\n",
       "    </tr>\n",
       "    <tr>\n",
       "      <th>std</th>\n",
       "      <td>4.497596</td>\n",
       "      <td>4.718647</td>\n",
       "      <td>1.073743</td>\n",
       "      <td>4.495714</td>\n",
       "      <td>4.716672</td>\n",
       "      <td>1.073294</td>\n",
       "      <td>4.495832</td>\n",
       "      <td>4.716795</td>\n",
       "      <td>1.073355</td>\n",
       "    </tr>\n",
       "    <tr>\n",
       "      <th>min</th>\n",
       "      <td>0.000000</td>\n",
       "      <td>0.000000</td>\n",
       "      <td>0.000000</td>\n",
       "      <td>0.000000</td>\n",
       "      <td>0.000000</td>\n",
       "      <td>0.000000</td>\n",
       "      <td>0.000000</td>\n",
       "      <td>0.000000</td>\n",
       "      <td>0.000000</td>\n",
       "    </tr>\n",
       "    <tr>\n",
       "      <th>25%</th>\n",
       "      <td>4.145455</td>\n",
       "      <td>2.146565</td>\n",
       "      <td>0.000000</td>\n",
       "      <td>4.147084</td>\n",
       "      <td>2.148281</td>\n",
       "      <td>0.000000</td>\n",
       "      <td>4.147084</td>\n",
       "      <td>2.148281</td>\n",
       "      <td>0.000000</td>\n",
       "    </tr>\n",
       "    <tr>\n",
       "      <th>50%</th>\n",
       "      <td>6.356893</td>\n",
       "      <td>3.900000</td>\n",
       "      <td>0.316002</td>\n",
       "      <td>6.359631</td>\n",
       "      <td>3.903367</td>\n",
       "      <td>0.316655</td>\n",
       "      <td>6.357260</td>\n",
       "      <td>3.900299</td>\n",
       "      <td>0.316002</td>\n",
       "    </tr>\n",
       "    <tr>\n",
       "      <th>75%</th>\n",
       "      <td>9.140474</td>\n",
       "      <td>6.630238</td>\n",
       "      <td>0.935161</td>\n",
       "      <td>9.136141</td>\n",
       "      <td>6.625000</td>\n",
       "      <td>0.934579</td>\n",
       "      <td>9.136141</td>\n",
       "      <td>6.625000</td>\n",
       "      <td>0.934579</td>\n",
       "    </tr>\n",
       "    <tr>\n",
       "      <th>max</th>\n",
       "      <td>100.000000</td>\n",
       "      <td>100.000000</td>\n",
       "      <td>33.333333</td>\n",
       "      <td>100.000000</td>\n",
       "      <td>100.000000</td>\n",
       "      <td>33.333333</td>\n",
       "      <td>100.000000</td>\n",
       "      <td>100.000000</td>\n",
       "      <td>33.333333</td>\n",
       "    </tr>\n",
       "  </tbody>\n",
       "</table>\n",
       "</div>"
      ],
      "text/plain": [
       "       dropna_pct_carrier_delay  dropna_pct_atc_delay  \\\n",
       "count              33440.000000          33440.000000   \n",
       "mean                   7.041475              5.089962   \n",
       "std                    4.497596              4.718647   \n",
       "min                    0.000000              0.000000   \n",
       "25%                    4.145455              2.146565   \n",
       "50%                    6.356893              3.900000   \n",
       "75%                    9.140474              6.630238   \n",
       "max                  100.000000            100.000000   \n",
       "\n",
       "       dropna_pct_weather_delay  filled_pct_carrier_delay  \\\n",
       "count              33440.000000              33468.000000   \n",
       "mean                   0.684776                  7.041475   \n",
       "std                    1.073743                  4.495714   \n",
       "min                    0.000000                  0.000000   \n",
       "25%                    0.000000                  4.147084   \n",
       "50%                    0.316002                  6.359631   \n",
       "75%                    0.935161                  9.136141   \n",
       "max                   33.333333                100.000000   \n",
       "\n",
       "       filled_pct_atc_delay  filled_pct_weather_delay  \\\n",
       "count          33468.000000              33468.000000   \n",
       "mean               5.089962                  0.684776   \n",
       "std                4.716672                  1.073294   \n",
       "min                0.000000                  0.000000   \n",
       "25%                2.148281                  0.000000   \n",
       "50%                3.903367                  0.316655   \n",
       "75%                6.625000                  0.934579   \n",
       "max              100.000000                 33.333333   \n",
       "\n",
       "       group_pct_carrier_delay  group_pct_atc_delay  group_pct_weather_delay  \n",
       "count             33468.000000         33468.000000             33468.000000  \n",
       "mean                  7.040845             5.089187                 0.684473  \n",
       "std                   4.495832             4.716795                 1.073355  \n",
       "min                   0.000000             0.000000                 0.000000  \n",
       "25%                   4.147084             2.148281                 0.000000  \n",
       "50%                   6.357260             3.900299                 0.316002  \n",
       "75%                   9.136141             6.625000                 0.934579  \n",
       "max                 100.000000           100.000000                33.333333  "
      ]
     },
     "metadata": {},
     "output_type": "display_data"
    }
   ],
   "source": [
    "\n",
    "# 수치형 변수만 추출\n",
    "num_cols = ['pct_carrier_delay', 'pct_atc_delay', 'pct_weather_delay']\n",
    "\n",
    "\n",
    "# 수치형 변수만 추출\n",
    "num_cols = ['pct_carrier_delay', 'pct_atc_delay', 'pct_weather_delay']\n",
    "\n",
    "#describe 비교\n",
    "desc_dropna = df_dropna[num_cols].describe().add_prefix('dropna_')\n",
    "desc_filled = df_filled[num_cols].describe().add_prefix('filled_')\n",
    "desc_group = df_group[num_cols].describe().add_prefix('group_')\n",
    "\n",
    "# 세 개 결과를 하나로 합치기\n",
    "summary_all = pd.concat([desc_dropna, desc_filled, desc_group], axis=1)\n",
    "import pandas as pd\n",
    "from IPython.display import display\n",
    "display(summary_all)"
   ]
  },
  {
   "cell_type": "code",
   "execution_count": 35,
   "id": "3c7b1110",
   "metadata": {},
   "outputs": [
    {
     "data": {
      "image/png": "[encoded data removed]",
      "text/plain": [
       "<Figure size 1500x1000 with 9 Axes>"
      ]
     },
     "metadata": {},
     "output_type": "display_data"
    }
   ],
   "source": [
    "import matplotlib.pyplot as plt\n",
    "\n",
    "fig, axes = plt.subplots(3, 3, figsize=(15, 10))\n",
    "datasets = [('dropna', df_dropna), ('filled', df_filled), ('group', df_group)]\n",
    "\n",
    "for i, col in enumerate(num_cols):\n",
    "    for j, (label, data) in enumerate(datasets):\n",
    "        axes[i, j].hist(data[col], bins=30, color='skyblue', edgecolor='black')\n",
    "        axes[i, j].set_title(f'{label}: {col}')\n",
    "        axes[i, j].set_xlabel(col)\n",
    "        axes[i, j].set_ylabel('Freq')\n",
    "\n",
    "plt.tight_layout()\n",
    "plt.show()"
   ]
  },
  {
   "cell_type": "markdown",
   "id": "7d6cc963",
   "metadata": {},
   "source": [
    "평균 대체는 데이터 수를 유지하면서 평균은 같지만 분산이 약간 줄어든다.\n",
    "그룹 평균 대체는 항공사별 특징을 유지하면서 보다 정교한 대체 방식이다.\n",
    "dropna는 샘플 수가 줄어들어 외곽값의 영향이 커질 수 있다.\n",
    "선택된 처리 방식: 항공사별 그룹 평균 대체\n",
    "\n",
    "결론: 본 분석에서는 항공사별 그룹 평균을 이용한 결측치 보간 방식을 적용하였다.\n",
    "이는 데이터 손실을 최소화하고 항공사별 지연률 특성을 보존하여, 이후 분석의 정확도를 높일 수 있다."
   ]
  },
  {
   "cell_type": "markdown",
   "id": "eb678b85",
   "metadata": {},
   "source": [
    "## ✅ 탐색적 데이터 분석\n"
   ]
  },
  {
   "cell_type": "markdown",
   "id": "c56d13ff",
   "metadata": {},
   "source": [
    "### ✅ 변수별 분포\n",
    "\n",
    "- 히스토그램 및 상자그림(boxplot) 시각화   \n",
    "- 이상치(outlier) 여부 확인"
   ]
  },
  {
   "cell_type": "code",
   "execution_count": 48,
   "id": "f2e6f965",
   "metadata": {},
   "outputs": [
    {
     "data": {
      "image/png": "[encoded data removed]",
      "text/plain": [
       "<Figure size 800x1200 with 6 Axes>"
      ]
     },
     "metadata": {},
     "output_type": "display_data"
    }
   ],
   "source": [
    "numeric_columns = ['pct_carrier_delay', 'pct_atc_delay', 'pct_weather_delay']\n",
    "kr_columns = ['항공사 별', '관제탑 별', '날씨 별']\n",
    "\n",
    "import seaborn as sns \n",
    "import matplotlib.pyplot as plt\n",
    "\n",
    "# 수치형 변수의 히스토그램\n",
    "plt.figure(figsize=(8,12))\n",
    "for i, (col,col_kr) in enumerate(zip(numeric_columns, kr_columns), start=1):\n",
    "\n",
    "    plt.subplot(2, 3, i )\n",
    "    sns.histplot(df_group[col],bins=10, kde=False)\n",
    "    plt.title(f\"{col_kr}분포도\")\n",
    "    plt.ylabel('지연 비율을 가진 항공편 수 ')\n",
    "    plt.xlabel('지연 퍼센트')\n",
    "    \n",
    "    plt.subplot(2,3,i+3)\n",
    "    sns.boxplot(df_group[col])\n",
    "    plt.title(f\"{col_kr} 박스플롯\")\n",
    "\n",
    "plt.tight_layout() # 공백제거\n",
    "plt.show() # 그래프 보여주는 거 "
   ]
  },
  {
   "cell_type": "markdown",
   "id": "db723739",
   "metadata": {},
   "source": [
    "### 💬 히스토그램 설명\n",
    "✅ x축: 지연 비율 (delay percentage)\n",
    "각 히스토그램의 x축은 0 ~ 100% 사이의 값입니다.\n",
    "\n",
    "예: pct_carrier_delay 값이 10이라면, 전체 운항 중 10%가 항공사 문제로 지연된 것을 의미합니다.\n",
    "\n",
    "✅ y축: 해당 지연 비율에 해당하는 데이터(횟수) 개수\n",
    "y축은 해당 구간의 지연 비율을 가진 항공편 수를 의미합니다.\n",
    "\n",
    "예: x축 구간이 510%일 때 y값이 200이면, 지연 비율이 510%인 항공편이 200개라는 뜻입니다."
   ]
  },
  {
   "cell_type": "markdown",
   "id": "3df90cf6",
   "metadata": {},
   "source": [
    "### 💬 박스플롯 해석\n",
    "✅ 항공사 지연: \n",
    "박스플롯이 길고 점이 많음 → \"일부 항공편은 매우 지연되었고, 지연 정도도 다양함. 항공사 자체 문제에서 발생\"\n",
    "\n",
    "✅ 관제탑 지연: 이상치 하나가 비정상적으로 지연 정규화 필요\n",
    "\n",
    "✅ 날씨 지연:\n",
    "박스플롯이 짧고 점이 많음 \" 일부 항공편은 지연은 길지 않고 지연률도 일정함\""
   ]
  },
  {
   "cell_type": "markdown",
   "id": "8407c71e",
   "metadata": {},
   "source": [
    "### ✅ 항공사별 비교"
   ]
  },
  {
   "cell_type": "code",
   "execution_count": 74,
   "id": "e2139653",
   "metadata": {},
   "outputs": [],
   "source": [
    "import seaborn as sns\n",
    "import matplotlib.pylab as plt\n",
    "import math"
   ]
  },
  {
   "cell_type": "code",
   "execution_count": 111,
   "id": "9bfcea29",
   "metadata": {},
   "outputs": [],
   "source": [
    "airline_list = df_group.iloc[:,3].unique()\n",
    "\n",
    "# y축 공유를 위한 최대값 구하기 (세 지연 비율 중 가장 큰 값의 최대)\n",
    "def bars(x) : \n",
    "    ymax = df[['pct_carrier_delay', 'pct_atc_delay', 'pct_weather_delay']].mean().max().max()\n",
    "    ymax = ymax*1.2\n",
    "\n",
    "    num_airlines = len(x)\n",
    "    cols=3\n",
    "    rows = math.ceil(num_airlines/cols)\n",
    "\n",
    "    \n",
    "    fig, axs = plt.subplots(rows, cols , figsize=(10, num_airlines * 1), sharey=True)\n",
    "\n",
    "    axs = axs.flatten()\n",
    "\n",
    "    for i, airline in enumerate(x):\n",
    "        subset = df[df['airline'] == airline]\n",
    "        mean_values = subset[['pct_carrier_delay', 'pct_atc_delay', 'pct_weather_delay']].mean()\n",
    "        \n",
    "        axs[i].bar(['항공사', '관제탑', '날씨'], mean_values, color=['skyblue', 'orange', 'lightgreen'])\n",
    "        axs[i].set_title(f\"{airline} 지연 원인별 평균 비율\")\n",
    "        axs[i].set_ylabel('지연 비율 (%)')\n",
    "        axs[i].set_ylim(0, ymax + 2)\n",
    "\n",
    "    plt.tight_layout()\n",
    "    plt.show()\n"
   ]
  },
  {
   "cell_type": "code",
   "execution_count": 85,
   "id": "c79876f6",
   "metadata": {},
   "outputs": [
    {
     "data": {
      "text/plain": [
       "airline\n",
       "Delta        9107\n",
       "American     5725\n",
       "Southwest    5584\n",
       "United       5426\n",
       "Alaska       3851\n",
       "Jet Blue     3775\n",
       "Name: count, dtype: int64"
      ]
     },
     "execution_count": 85,
     "metadata": {},
     "output_type": "execute_result"
    }
   ],
   "source": [
    "air_run"
   ]
  },
  {
   "cell_type": "code",
   "execution_count": 114,
   "id": "b9ea5d1a",
   "metadata": {},
   "outputs": [],
   "source": [
    "li = df_group.iloc[:,3].unique()\n",
    "air_li = [li[0],li[4],li[5]]\n",
    "air_li2 = [li[1],li[2]]\n",
    "\n"
   ]
  },
  {
   "cell_type": "code",
   "execution_count": 115,
   "id": "f83ed040",
   "metadata": {},
   "outputs": [
    {
     "data": {
      "image/png": "[encoded data removed]",
      "text/plain": [
       "<Figure size 1000x300 with 3 Axes>"
      ]
     },
     "metadata": {},
     "output_type": "display_data"
    },
    {
     "data": {
      "image/png": "[encoded data removed]",
      "text/plain": [
       "<Figure size 1000x200 with 3 Axes>"
      ]
     },
     "metadata": {},
     "output_type": "display_data"
    }
   ],
   "source": [
    "bars(air_li)\n",
    "bars(air_li2)"
   ]
  },
  {
   "cell_type": "code",
   "execution_count": 121,
   "id": "4122a734",
   "metadata": {},
   "outputs": [
    {
     "data": {
      "text/html": [
       "<div>\n",
       "<style scoped>\n",
       "    .dataframe tbody tr th:only-of-type {\n",
       "        vertical-align: middle;\n",
       "    }\n",
       "\n",
       "    .dataframe tbody tr th {\n",
       "        vertical-align: top;\n",
       "    }\n",
       "\n",
       "    .dataframe thead th {\n",
       "        text-align: right;\n",
       "    }\n",
       "</style>\n",
       "<table border=\"1\" class=\"dataframe\">\n",
       "  <thead>\n",
       "    <tr style=\"text-align: right;\">\n",
       "      <th></th>\n",
       "      <th>pct_carrier_delay</th>\n",
       "      <th>pct_atc_delay</th>\n",
       "      <th>pct_weather_delay</th>\n",
       "      <th>airline</th>\n",
       "    </tr>\n",
       "  </thead>\n",
       "  <tbody>\n",
       "    <tr>\n",
       "      <th>0</th>\n",
       "      <td>8.153226</td>\n",
       "      <td>1.971774</td>\n",
       "      <td>0.762097</td>\n",
       "      <td>American</td>\n",
       "    </tr>\n",
       "    <tr>\n",
       "      <th>1</th>\n",
       "      <td>5.959924</td>\n",
       "      <td>3.706107</td>\n",
       "      <td>1.585878</td>\n",
       "      <td>American</td>\n",
       "    </tr>\n",
       "    <tr>\n",
       "      <th>2</th>\n",
       "      <td>7.157270</td>\n",
       "      <td>2.706231</td>\n",
       "      <td>2.026706</td>\n",
       "      <td>American</td>\n",
       "    </tr>\n",
       "    <tr>\n",
       "      <th>3</th>\n",
       "      <td>12.100000</td>\n",
       "      <td>11.033333</td>\n",
       "      <td>0.000000</td>\n",
       "      <td>American</td>\n",
       "    </tr>\n",
       "    <tr>\n",
       "      <th>4</th>\n",
       "      <td>7.333333</td>\n",
       "      <td>3.365591</td>\n",
       "      <td>1.774194</td>\n",
       "      <td>American</td>\n",
       "    </tr>\n",
       "    <tr>\n",
       "      <th>...</th>\n",
       "      <td>...</td>\n",
       "      <td>...</td>\n",
       "      <td>...</td>\n",
       "      <td>...</td>\n",
       "    </tr>\n",
       "    <tr>\n",
       "      <th>33463</th>\n",
       "      <td>6.186422</td>\n",
       "      <td>8.798491</td>\n",
       "      <td>1.651940</td>\n",
       "      <td>Southwest</td>\n",
       "    </tr>\n",
       "    <tr>\n",
       "      <th>33464</th>\n",
       "      <td>9.522167</td>\n",
       "      <td>3.591133</td>\n",
       "      <td>0.261084</td>\n",
       "      <td>Southwest</td>\n",
       "    </tr>\n",
       "    <tr>\n",
       "      <th>33465</th>\n",
       "      <td>9.164179</td>\n",
       "      <td>2.664179</td>\n",
       "      <td>0.343284</td>\n",
       "      <td>Southwest</td>\n",
       "    </tr>\n",
       "    <tr>\n",
       "      <th>33466</th>\n",
       "      <td>5.152293</td>\n",
       "      <td>1.964520</td>\n",
       "      <td>0.122817</td>\n",
       "      <td>Southwest</td>\n",
       "    </tr>\n",
       "    <tr>\n",
       "      <th>33467</th>\n",
       "      <td>3.964393</td>\n",
       "      <td>1.700479</td>\n",
       "      <td>0.019449</td>\n",
       "      <td>Southwest</td>\n",
       "    </tr>\n",
       "  </tbody>\n",
       "</table>\n",
       "<p>33468 rows × 4 columns</p>\n",
       "</div>"
      ],
      "text/plain": [
       "       pct_carrier_delay  pct_atc_delay  pct_weather_delay    airline\n",
       "0               8.153226       1.971774           0.762097   American\n",
       "1               5.959924       3.706107           1.585878   American\n",
       "2               7.157270       2.706231           2.026706   American\n",
       "3              12.100000      11.033333           0.000000   American\n",
       "4               7.333333       3.365591           1.774194   American\n",
       "...                  ...            ...                ...        ...\n",
       "33463           6.186422       8.798491           1.651940  Southwest\n",
       "33464           9.522167       3.591133           0.261084  Southwest\n",
       "33465           9.164179       2.664179           0.343284  Southwest\n",
       "33466           5.152293       1.964520           0.122817  Southwest\n",
       "33467           3.964393       1.700479           0.019449  Southwest\n",
       "\n",
       "[33468 rows x 4 columns]"
      ]
     },
     "execution_count": 121,
     "metadata": {},
     "output_type": "execute_result"
    }
   ],
   "source": [
    "df_group"
   ]
  },
  {
   "cell_type": "code",
   "execution_count": 124,
   "id": "54be3d4c",
   "metadata": {},
   "outputs": [
    {
     "data": {
      "text/html": [
       "<div>\n",
       "<style scoped>\n",
       "    .dataframe tbody tr th:only-of-type {\n",
       "        vertical-align: middle;\n",
       "    }\n",
       "\n",
       "    .dataframe tbody tr th {\n",
       "        vertical-align: top;\n",
       "    }\n",
       "\n",
       "    .dataframe thead th {\n",
       "        text-align: right;\n",
       "    }\n",
       "</style>\n",
       "<table border=\"1\" class=\"dataframe\">\n",
       "  <thead>\n",
       "    <tr style=\"text-align: right;\">\n",
       "      <th></th>\n",
       "      <th>count</th>\n",
       "      <th>mean</th>\n",
       "      <th>std</th>\n",
       "      <th>min</th>\n",
       "      <th>25%</th>\n",
       "      <th>50%</th>\n",
       "      <th>75%</th>\n",
       "      <th>max</th>\n",
       "    </tr>\n",
       "    <tr>\n",
       "      <th>airline</th>\n",
       "      <th></th>\n",
       "      <th></th>\n",
       "      <th></th>\n",
       "      <th></th>\n",
       "      <th></th>\n",
       "      <th></th>\n",
       "      <th></th>\n",
       "      <th></th>\n",
       "    </tr>\n",
       "  </thead>\n",
       "  <tbody>\n",
       "    <tr>\n",
       "      <th>Alaska</th>\n",
       "      <td>3851.0</td>\n",
       "      <td>5.472672</td>\n",
       "      <td>5.699303</td>\n",
       "      <td>0.0</td>\n",
       "      <td>1.878614</td>\n",
       "      <td>3.776860</td>\n",
       "      <td>7.001330</td>\n",
       "      <td>54.838710</td>\n",
       "    </tr>\n",
       "    <tr>\n",
       "      <th>American</th>\n",
       "      <td>5725.0</td>\n",
       "      <td>5.993177</td>\n",
       "      <td>4.646397</td>\n",
       "      <td>0.0</td>\n",
       "      <td>3.109278</td>\n",
       "      <td>4.986523</td>\n",
       "      <td>7.594203</td>\n",
       "      <td>60.000000</td>\n",
       "    </tr>\n",
       "    <tr>\n",
       "      <th>Delta</th>\n",
       "      <td>9107.0</td>\n",
       "      <td>4.461720</td>\n",
       "      <td>4.361595</td>\n",
       "      <td>0.0</td>\n",
       "      <td>1.818182</td>\n",
       "      <td>3.508108</td>\n",
       "      <td>5.835833</td>\n",
       "      <td>100.000000</td>\n",
       "    </tr>\n",
       "    <tr>\n",
       "      <th>Jet Blue</th>\n",
       "      <td>3775.0</td>\n",
       "      <td>7.344591</td>\n",
       "      <td>5.226060</td>\n",
       "      <td>0.0</td>\n",
       "      <td>3.785014</td>\n",
       "      <td>6.136905</td>\n",
       "      <td>9.610506</td>\n",
       "      <td>40.986111</td>\n",
       "    </tr>\n",
       "    <tr>\n",
       "      <th>Southwest</th>\n",
       "      <td>5584.0</td>\n",
       "      <td>3.147019</td>\n",
       "      <td>2.513162</td>\n",
       "      <td>0.0</td>\n",
       "      <td>1.612527</td>\n",
       "      <td>2.559242</td>\n",
       "      <td>3.790421</td>\n",
       "      <td>21.542722</td>\n",
       "    </tr>\n",
       "    <tr>\n",
       "      <th>United</th>\n",
       "      <td>5426.0</td>\n",
       "      <td>5.345934</td>\n",
       "      <td>4.987158</td>\n",
       "      <td>0.0</td>\n",
       "      <td>2.442792</td>\n",
       "      <td>4.353647</td>\n",
       "      <td>7.017497</td>\n",
       "      <td>100.000000</td>\n",
       "    </tr>\n",
       "  </tbody>\n",
       "</table>\n",
       "</div>"
      ],
      "text/plain": [
       "            count      mean       std  min       25%       50%       75%  \\\n",
       "airline                                                                    \n",
       "Alaska     3851.0  5.472672  5.699303  0.0  1.878614  3.776860  7.001330   \n",
       "American   5725.0  5.993177  4.646397  0.0  3.109278  4.986523  7.594203   \n",
       "Delta      9107.0  4.461720  4.361595  0.0  1.818182  3.508108  5.835833   \n",
       "Jet Blue   3775.0  7.344591  5.226060  0.0  3.785014  6.136905  9.610506   \n",
       "Southwest  5584.0  3.147019  2.513162  0.0  1.612527  2.559242  3.790421   \n",
       "United     5426.0  5.345934  4.987158  0.0  2.442792  4.353647  7.017497   \n",
       "\n",
       "                  max  \n",
       "airline                \n",
       "Alaska      54.838710  \n",
       "American    60.000000  \n",
       "Delta      100.000000  \n",
       "Jet Blue    40.986111  \n",
       "Southwest   21.542722  \n",
       "United     100.000000  "
      ]
     },
     "execution_count": 124,
     "metadata": {},
     "output_type": "execute_result"
    }
   ],
   "source": [
    "df_group.groupby('airline')['pct_atc_delay'].describe()"
   ]
  },
  {
   "cell_type": "code",
   "execution_count": null,
   "id": "cedc58f8",
   "metadata": {},
   "outputs": [],
   "source": []
  },
  {
   "cell_type": "markdown",
   "id": "aaaf2815",
   "metadata": {},
   "source": [
    "단순 운행 지연 비율 비교\n"
   ]
  },
  {
   "cell_type": "markdown",
   "id": "2d5f4687",
   "metadata": {},
   "source": [
    "## ✅ 2차원 데이터 분석"
   ]
  },
  {
   "cell_type": "code",
   "execution_count": null,
   "id": "10b81859",
   "metadata": {},
   "outputs": [
    {
     "data": {
      "text/html": [
       "<div>\n",
       "<style scoped>\n",
       "    .dataframe tbody tr th:only-of-type {\n",
       "        vertical-align: middle;\n",
       "    }\n",
       "\n",
       "    .dataframe tbody tr th {\n",
       "        vertical-align: top;\n",
       "    }\n",
       "\n",
       "    .dataframe thead th {\n",
       "        text-align: right;\n",
       "    }\n",
       "</style>\n",
       "<table border=\"1\" class=\"dataframe\">\n",
       "  <thead>\n",
       "    <tr style=\"text-align: right;\">\n",
       "      <th></th>\n",
       "      <th>pct_carrier_delay</th>\n",
       "      <th>pct_atc_delay</th>\n",
       "      <th>pct_weather_delay</th>\n",
       "      <th>airline</th>\n",
       "    </tr>\n",
       "  </thead>\n",
       "  <tbody>\n",
       "    <tr>\n",
       "      <th>0</th>\n",
       "      <td>8.153226</td>\n",
       "      <td>1.971774</td>\n",
       "      <td>0.762097</td>\n",
       "      <td>American</td>\n",
       "    </tr>\n",
       "    <tr>\n",
       "      <th>1</th>\n",
       "      <td>5.959924</td>\n",
       "      <td>3.706107</td>\n",
       "      <td>1.585878</td>\n",
       "      <td>American</td>\n",
       "    </tr>\n",
       "    <tr>\n",
       "      <th>2</th>\n",
       "      <td>7.157270</td>\n",
       "      <td>2.706231</td>\n",
       "      <td>2.026706</td>\n",
       "      <td>American</td>\n",
       "    </tr>\n",
       "    <tr>\n",
       "      <th>3</th>\n",
       "      <td>12.100000</td>\n",
       "      <td>11.033333</td>\n",
       "      <td>0.000000</td>\n",
       "      <td>American</td>\n",
       "    </tr>\n",
       "    <tr>\n",
       "      <th>4</th>\n",
       "      <td>7.333333</td>\n",
       "      <td>3.365591</td>\n",
       "      <td>1.774194</td>\n",
       "      <td>American</td>\n",
       "    </tr>\n",
       "    <tr>\n",
       "      <th>...</th>\n",
       "      <td>...</td>\n",
       "      <td>...</td>\n",
       "      <td>...</td>\n",
       "      <td>...</td>\n",
       "    </tr>\n",
       "    <tr>\n",
       "      <th>33463</th>\n",
       "      <td>6.186422</td>\n",
       "      <td>8.798491</td>\n",
       "      <td>1.651940</td>\n",
       "      <td>Southwest</td>\n",
       "    </tr>\n",
       "    <tr>\n",
       "      <th>33464</th>\n",
       "      <td>9.522167</td>\n",
       "      <td>3.591133</td>\n",
       "      <td>0.261084</td>\n",
       "      <td>Southwest</td>\n",
       "    </tr>\n",
       "    <tr>\n",
       "      <th>33465</th>\n",
       "      <td>9.164179</td>\n",
       "      <td>2.664179</td>\n",
       "      <td>0.343284</td>\n",
       "      <td>Southwest</td>\n",
       "    </tr>\n",
       "    <tr>\n",
       "      <th>33466</th>\n",
       "      <td>5.152293</td>\n",
       "      <td>1.964520</td>\n",
       "      <td>0.122817</td>\n",
       "      <td>Southwest</td>\n",
       "    </tr>\n",
       "    <tr>\n",
       "      <th>33467</th>\n",
       "      <td>3.964393</td>\n",
       "      <td>1.700479</td>\n",
       "      <td>0.019449</td>\n",
       "      <td>Southwest</td>\n",
       "    </tr>\n",
       "  </tbody>\n",
       "</table>\n",
       "<p>33468 rows × 4 columns</p>\n",
       "</div>"
      ],
      "text/plain": [
       "       pct_carrier_delay  pct_atc_delay  pct_weather_delay    airline\n",
       "0               8.153226       1.971774           0.762097   American\n",
       "1               5.959924       3.706107           1.585878   American\n",
       "2               7.157270       2.706231           2.026706   American\n",
       "3              12.100000      11.033333           0.000000   American\n",
       "4               7.333333       3.365591           1.774194   American\n",
       "...                  ...            ...                ...        ...\n",
       "33463           6.186422       8.798491           1.651940  Southwest\n",
       "33464           9.522167       3.591133           0.261084  Southwest\n",
       "33465           9.164179       2.664179           0.343284  Southwest\n",
       "33466           5.152293       1.964520           0.122817  Southwest\n",
       "33467           3.964393       1.700479           0.019449  Southwest\n",
       "\n",
       "[33468 rows x 4 columns]"
      ]
     },
     "execution_count": 119,
     "metadata": {},
     "output_type": "execute_result"
    }
   ],
   "source": [
    "\n",
    "\n"
   ]
  },
  {
   "cell_type": "markdown",
   "id": "2bc9897e",
   "metadata": {},
   "source": [
    "### ✅ 공분산 및 상관계수 분석"
   ]
  },
  {
   "cell_type": "markdown",
   "id": "e762fb45",
   "metadata": {},
   "source": [
    "### ✅ 다중공선성 분석"
   ]
  },
  {
   "cell_type": "markdown",
   "id": "c8345336",
   "metadata": {},
   "source": [
    "## ✅ 인사이트 도출"
   ]
  },
  {
   "cell_type": "markdown",
   "id": "56ea2ae6",
   "metadata": {},
   "source": [
    "## ✅ 결론 및 제안"
   ]
  },
  {
   "cell_type": "markdown",
   "id": "03c32f53",
   "metadata": {},
   "source": [
    "## ✅ 첨부자료"
   ]
  },
  {
   "cell_type": "code",
   "execution_count": null,
   "id": "5e60e336",
   "metadata": {},
   "outputs": [
    {
     "data": {
      "text/html": [
       "<div>\n",
       "<style scoped>\n",
       "    .dataframe tbody tr th:only-of-type {\n",
       "        vertical-align: middle;\n",
       "    }\n",
       "\n",
       "    .dataframe tbody tr th {\n",
       "        vertical-align: top;\n",
       "    }\n",
       "\n",
       "    .dataframe thead th {\n",
       "        text-align: right;\n",
       "    }\n",
       "</style>\n",
       "<table border=\"1\" class=\"dataframe\">\n",
       "  <thead>\n",
       "    <tr style=\"text-align: right;\">\n",
       "      <th></th>\n",
       "      <th>pct_carrier_delay</th>\n",
       "      <th>pct_atc_delay</th>\n",
       "      <th>pct_weather_delay</th>\n",
       "    </tr>\n",
       "  </thead>\n",
       "  <tbody>\n",
       "    <tr>\n",
       "      <th>count</th>\n",
       "      <td>5.000000</td>\n",
       "      <td>5.000000</td>\n",
       "      <td>5.000000</td>\n",
       "    </tr>\n",
       "    <tr>\n",
       "      <th>mean</th>\n",
       "      <td>8.140751</td>\n",
       "      <td>4.556607</td>\n",
       "      <td>1.229775</td>\n",
       "    </tr>\n",
       "    <tr>\n",
       "      <th>std</th>\n",
       "      <td>2.347923</td>\n",
       "      <td>3.680866</td>\n",
       "      <td>0.835070</td>\n",
       "    </tr>\n",
       "    <tr>\n",
       "      <th>min</th>\n",
       "      <td>5.959924</td>\n",
       "      <td>1.971774</td>\n",
       "      <td>0.000000</td>\n",
       "    </tr>\n",
       "    <tr>\n",
       "      <th>25%</th>\n",
       "      <td>7.157270</td>\n",
       "      <td>2.706231</td>\n",
       "      <td>0.762097</td>\n",
       "    </tr>\n",
       "    <tr>\n",
       "      <th>50%</th>\n",
       "      <td>7.333333</td>\n",
       "      <td>3.365591</td>\n",
       "      <td>1.585878</td>\n",
       "    </tr>\n",
       "    <tr>\n",
       "      <th>75%</th>\n",
       "      <td>8.153226</td>\n",
       "      <td>3.706107</td>\n",
       "      <td>1.774194</td>\n",
       "    </tr>\n",
       "    <tr>\n",
       "      <th>max</th>\n",
       "      <td>12.100000</td>\n",
       "      <td>11.033333</td>\n",
       "      <td>2.026706</td>\n",
       "    </tr>\n",
       "  </tbody>\n",
       "</table>\n",
       "</div>"
      ],
      "text/plain": [
       "       pct_carrier_delay  pct_atc_delay  pct_weather_delay\n",
       "count           5.000000       5.000000           5.000000\n",
       "mean            8.140751       4.556607           1.229775\n",
       "std             2.347923       3.680866           0.835070\n",
       "min             5.959924       1.971774           0.000000\n",
       "25%             7.157270       2.706231           0.762097\n",
       "50%             7.333333       3.365591           1.585878\n",
       "75%             8.153226       3.706107           1.774194\n",
       "max            12.100000      11.033333           2.026706"
      ]
     },
     "metadata": {},
     "output_type": "display_data"
    }
   ],
   "source": [
    "# 수치형 데이터 변수 기초 통계량\n",
    "num_df.describe()"
   ]
  },
  {
   "cell_type": "markdown",
   "id": "7db58d59",
   "metadata": {},
   "source": [
    "관제탑 지연율 이상치, 스케일 확인필요"
   ]
  },
  {
   "cell_type": "markdown",
   "id": "b678b721",
   "metadata": {},
   "source": [
    "결측치 존재함  -> 중앙값으로 대체 필요 "
   ]
  },
  {
   "cell_type": "markdown",
   "id": "bf96b52a",
   "metadata": {},
   "source": [
    "✅\n",
    "1.   \n",
    "2.   \n",
    "3. 추가 분석   \n",
    "4. 상관관계 분석   \n",
    "5. 공분산 확인   \n",
    "6. 다음 분석 방향 계획   "
   ]
  }
 ],
 "metadata": {
  "kernelspec": {
   "display_name": "hipython",
   "language": "python",
   "name": "python3"
  },
  "language_info": {
   "codemirror_mode": {
    "name": "ipython",
    "version": 3
   },
   "file_extension": ".py",
   "mimetype": "text/x-python",
   "name": "python",
   "nbconvert_exporter": "python",
   "pygments_lexer": "ipython3",
   "version": "3.12.9"
  }
 },
 "nbformat": 4,
 "nbformat_minor": 5
}
