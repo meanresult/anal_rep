{
 "cells": [
  {
   "cell_type": "code",
   "execution_count": 4,
   "id": "e1a6afe7",
   "metadata": {},
   "outputs": [],
   "source": [
    "import numpy as np\n"
   ]
  },
  {
   "cell_type": "markdown",
   "id": "46dee3ad",
   "metadata": {},
   "source": [
    "# 넘파이의 사용\n",
    "\n",
    "1. 데이터 분석 프로젝트 : 수치형 데이터의 요약, 통계, 시각화\n",
    "2. 이미지 처리 프로젝트 : 이미지 분석\n",
    "3. 게임, 시뮬레이션 프로그램 : 수치시뮬레이션 등을 구현\n",
    "3. 머신러닝/딥러닝 모델 프로젝트 : 금융데이터, 의료데이터, 실헙데이터, 센서데이터 "
   ]
  },
  {
   "cell_type": "code",
   "execution_count": 6,
   "id": "1b083ed0",
   "metadata": {},
   "outputs": [
    {
     "data": {
      "text/plain": [
       "[[120, 135, 150, 145], [100, 110, 140, 130], [90, 100, 95, 105]]"
      ]
     },
     "execution_count": 6,
     "metadata": {},
     "output_type": "execute_result"
    }
   ],
   "source": [
    "import numpy as np\n",
    "\n",
    "data = [\n",
    "    [120, 135, 150, 145],  # 제품A\n",
    "    [100, 110, 140, 130],  # 제품B\n",
    "    [90, 100, 95, 105] ]\n",
    "\n",
    "data"
   ]
  },
  {
   "cell_type": "code",
   "execution_count": 7,
   "id": "5015e0c2",
   "metadata": {},
   "outputs": [
    {
     "data": {
      "text/plain": [
       "array([550, 480, 390])"
      ]
     },
     "execution_count": 7,
     "metadata": {},
     "output_type": "execute_result"
    }
   ],
   "source": [
    "sales_data = np.array(data)\n",
    "np.sum(sales_data, axis=1) # 총 판매량 \n",
    "\n"
   ]
  },
  {
   "cell_type": "code",
   "execution_count": 8,
   "id": "968a4bd3",
   "metadata": {},
   "outputs": [
    {
     "data": {
      "text/plain": [
       "array([7650, 8500, 9575, 9425])"
      ]
     },
     "execution_count": 8,
     "metadata": {},
     "output_type": "execute_result"
    }
   ],
   "source": [
    "propit_per_unit = np.array([20,30,25])\n",
    "total_slaes = np.dot(propit_per_unit, sales_data)\n",
    "total_slaes  # 총 수익"
   ]
  },
  {
   "cell_type": "markdown",
   "id": "c7f7a92a",
   "metadata": {},
   "source": [
    "# 이미지 처리"
   ]
  },
  {
   "cell_type": "code",
   "execution_count": 9,
   "id": "71630b81",
   "metadata": {},
   "outputs": [
    {
     "ename": "NameError",
     "evalue": "name 'img_ary' is not defined",
     "output_type": "error",
     "traceback": [
      "\u001b[31m---------------------------------------------------------------------------\u001b[39m",
      "\u001b[31mNameError\u001b[39m                                 Traceback (most recent call last)",
      "\u001b[36mCell\u001b[39m\u001b[36m \u001b[39m\u001b[32mIn[9]\u001b[39m\u001b[32m, line 3\u001b[39m\n\u001b[32m      1\u001b[39m \u001b[38;5;28;01mfrom\u001b[39;00m\u001b[38;5;250m \u001b[39m\u001b[34;01mPIL\u001b[39;00m\u001b[38;5;250m \u001b[39m\u001b[38;5;28;01mimport\u001b[39;00m Image\n\u001b[32m      2\u001b[39m img = Image.open(\u001b[33m'\u001b[39m\u001b[33msample2.jpg\u001b[39m\u001b[33m'\u001b[39m).convert(\u001b[33m'\u001b[39m\u001b[33mL\u001b[39m\u001b[33m'\u001b[39m)\n\u001b[32m----> \u001b[39m\u001b[32m3\u001b[39m new_img = np.clip(img_ary +\u001b[32m90\u001b[39m , \u001b[32m0\u001b[39m , \u001b[32m255\u001b[39m).astype(np.uint8)\n\u001b[32m      4\u001b[39m img_ary = np.array(img)  \u001b[38;5;66;03m# 이미지를 numpy 배열로 변환\u001b[39;00m\n\u001b[32m      6\u001b[39m Image.fromarray(new_img).save (\u001b[33m'\u001b[39m\u001b[33mnew_sample2.jpg\u001b[39m\u001b[33m'\u001b[39m)\n",
      "\u001b[31mNameError\u001b[39m: name 'img_ary' is not defined"
     ]
    }
   ],
   "source": [
    "from PIL import Image\n",
    "img = Image.open('sample2.jpg').convert('L')\n",
    "new_img = np.clip(img_ary +90 , 0 , 255).astype(np.uint8)\n",
    "img_ary = np.array(img)  # 이미지를 numpy 배열로 변환\n",
    "\n",
    "Image.fromarray(new_img).save ('new_sample2.jpg')  # numpy 배열을 이미지로 변환"
   ]
  },
  {
   "cell_type": "markdown",
   "id": "9105edd0",
   "metadata": {},
   "source": [
    "# 데이터 시뮬레이션"
   ]
  },
  {
   "cell_type": "markdown",
   "id": "ee9ef2e3",
   "metadata": {},
   "source": [
    "1차원 배열의 어쩌구\n"
   ]
  },
  {
   "cell_type": "code",
   "execution_count": 29,
   "id": "85ccde7c",
   "metadata": {},
   "outputs": [
    {
     "name": "stdout",
     "output_type": "stream",
     "text": [
      "[ 1  1 -1 -1 -1 -1 -1 -1  1  1  1  1 -1  1 -1  1 -1  1 -1 -1  1 -1  1 -1\n",
      " -1 -1 -1 -1  1  1  1 -1  1 -1 -1 -1  1 -1 -1 -1 -1 -1  1  1  1  1 -1  1\n",
      " -1 -1  1 -1  1  1 -1  1 -1 -1  1 -1  1  1 -1 -1  1 -1 -1  1  1 -1  1  1\n",
      " -1 -1  1 -1 -1  1 -1 -1 -1  1 -1 -1 -1 -1  1 -1 -1 -1 -1  1 -1  1 -1 -1\n",
      " -1  1 -1  1  1 -1  1  1  1  1  1  1 -1  1 -1 -1  1 -1 -1 -1 -1  1  1 -1\n",
      "  1 -1 -1 -1  1 -1  1 -1 -1  1 -1 -1  1  1  1  1  1 -1  1 -1  1  1  1  1\n",
      "  1  1 -1 -1  1 -1 -1  1  1 -1  1  1  1 -1 -1  1  1 -1  1 -1 -1  1 -1  1\n",
      "  1 -1 -1  1 -1  1 -1  1  1  1  1 -1  1 -1  1  1  1  1 -1 -1  1  1 -1  1\n",
      "  1  1 -1 -1 -1  1 -1 -1 -1  1 -1 -1  1  1 -1 -1 -1 -1 -1 -1 -1 -1  1  1\n",
      " -1  1  1 -1  1  1 -1  1 -1  1 -1  1  1 -1 -1 -1 -1 -1  1 -1 -1 -1 -1 -1\n",
      "  1  1 -1 -1  1 -1 -1 -1 -1 -1 -1 -1  1 -1  1 -1 -1  1 -1  1  1  1 -1  1\n",
      "  1  1 -1  1 -1 -1 -1 -1 -1 -1  1  1 -1  1 -1  1 -1  1  1  1  1  1  1  1\n",
      "  1  1 -1  1 -1 -1  1  1  1  1 -1 -1 -1 -1 -1 -1 -1 -1  1 -1  1 -1 -1 -1\n",
      "  1 -1 -1  1  1 -1  1  1  1  1  1 -1  1 -1 -1  1 -1  1 -1 -1 -1  1 -1  1\n",
      "  1 -1  1  1  1  1  1  1  1 -1 -1 -1 -1 -1  1 -1 -1  1 -1 -1  1 -1 -1  1\n",
      "  1  1 -1 -1 -1 -1  1  1  1 -1  1  1 -1  1  1 -1 -1  1 -1 -1 -1  1  1  1\n",
      "  1  1 -1 -1 -1 -1 -1  1  1 -1 -1  1 -1 -1 -1 -1 -1 -1 -1 -1  1 -1  1 -1\n",
      " -1 -1  1 -1 -1  1  1  1  1 -1 -1  1 -1  1  1 -1  1  1  1  1 -1  1  1  1\n",
      "  1  1  1 -1 -1 -1 -1 -1 -1 -1  1 -1  1 -1  1  1  1  1  1 -1  1  1  1  1\n",
      " -1  1  1  1  1  1 -1 -1  1 -1  1  1 -1  1  1  1 -1  1 -1 -1 -1 -1 -1  1\n",
      "  1  1 -1 -1 -1 -1 -1  1 -1  1 -1 -1 -1  1 -1 -1  1 -1  1  1 -1  1  1 -1\n",
      " -1 -1 -1  1  1 -1  1 -1  1  1  1  1  1 -1  1  1  1  1 -1  1 -1 -1  1 -1\n",
      "  1  1 -1  1  1  1  1 -1 -1  1 -1  1  1 -1  1  1 -1 -1  1 -1 -1 -1 -1  1\n",
      " -1 -1  1  1  1  1  1  1  1  1 -1  1  1  1 -1  1 -1 -1  1 -1  1  1 -1  1\n",
      "  1 -1  1  1  1  1  1 -1 -1 -1 -1  1  1  1  1  1  1  1 -1 -1  1 -1 -1 -1\n",
      " -1 -1 -1 -1  1 -1  1  1 -1 -1 -1 -1 -1  1 -1  1 -1  1  1  1  1 -1 -1  1\n",
      " -1  1  1 -1  1  1 -1 -1  1 -1  1  1 -1 -1 -1 -1 -1 -1 -1  1  1 -1 -1 -1\n",
      "  1 -1  1  1 -1  1  1 -1 -1 -1  1  1  1 -1  1  1  1  1 -1 -1  1 -1  1 -1\n",
      " -1 -1  1  1 -1  1  1 -1 -1 -1  1  1 -1 -1 -1  1 -1 -1  1 -1 -1 -1  1  1\n",
      "  1  1  1 -1 -1  1  1  1 -1 -1  1  1  1  1 -1 -1 -1  1 -1 -1  1 -1  1 -1\n",
      "  1  1 -1 -1 -1 -1 -1  1  1 -1 -1 -1  1 -1  1  1 -1  1  1  1 -1  1 -1 -1\n",
      "  1 -1  1 -1  1 -1 -1 -1 -1 -1  1  1 -1  1 -1 -1  1 -1 -1 -1  1  1  1 -1\n",
      " -1  1 -1  1 -1  1 -1 -1  1  1 -1  1  1  1  1  1  1  1  1  1 -1 -1  1 -1\n",
      " -1  1  1 -1  1 -1  1 -1 -1 -1 -1  1 -1 -1  1 -1 -1  1 -1 -1 -1 -1  1  1\n",
      "  1  1  1 -1  1 -1 -1  1 -1 -1 -1 -1 -1 -1 -1  1  1  1 -1  1 -1  1 -1  1\n",
      "  1  1 -1  1 -1  1 -1  1 -1 -1  1  1  1  1  1  1 -1 -1  1 -1  1 -1 -1  1\n",
      "  1 -1  1 -1 -1 -1  1  1  1  1  1 -1 -1 -1 -1 -1 -1 -1 -1 -1  1  1 -1  1\n",
      "  1 -1 -1 -1  1 -1  1  1  1 -1 -1 -1  1  1  1  1  1  1 -1 -1 -1  1  1 -1\n",
      "  1  1  1  1  1  1 -1 -1  1 -1  1  1  1  1  1  1 -1 -1 -1 -1 -1 -1  1  1\n",
      "  1 -1  1 -1  1 -1  1 -1  1  1  1 -1 -1  1  1 -1 -1  1 -1  1 -1  1  1 -1\n",
      " -1  1  1  1  1  1  1  1 -1  1 -1 -1  1  1 -1  1  1 -1 -1  1  1 -1  1  1\n",
      " -1  1  1  1 -1 -1  1 -1  1  1 -1  1 -1  1  1 -1]\n"
     ]
    },
    {
     "data": {
      "text/plain": [
       "[<matplotlib.lines.Line2D at 0x1de117675c0>]"
      ]
     },
     "execution_count": 29,
     "metadata": {},
     "output_type": "execute_result"
    },
    {
     "data": {
      "image/png": "[encoded data removed]",
      "text/plain": [
       "<Figure size 640x480 with 1 Axes>"
      ]
     },
     "metadata": {},
     "output_type": "display_data"
    }
   ],
   "source": [
    "import matplotlib.pyplot as plt\n",
    "\n",
    "n_step = 1000\n",
    "step = np.random.choice([-1,1], size=n_step)\n",
    "print(step) # -1 또는 1의 난수 배열 생성\n",
    "walk = np.cumsum(step)\n",
    "\n",
    "plt.plot(walk)"
   ]
  },
  {
   "cell_type": "code",
   "execution_count": null,
   "id": "0ca580a7",
   "metadata": {},
   "outputs": [
    {
     "name": "stdout",
     "output_type": "stream",
     "text": [
      "배열의 차원 2\n",
      "배열의 형태 (3, 4)\n",
      "배열의 크기 12\n",
      "배열의 데이터 타입 int64\n",
      "배열 요소의 크기 8\n",
      "배열의 strides (32, 8)\n"
     ]
    }
   ],
   "source": [
    "arr = np.array([[1,4,2,4],\n",
    "                [4,5,6,5],\n",
    "                [7,8,9,6]])\n",
    "\n",
    "# 배열의 속성 확인\n",
    "print('배열의 차원', arr.ndim)\n",
    "print('배열의 형태', arr.shape)\n",
    "print('배열의 크기', arr.size)\n",
    "print('배열의 데이터 타입', arr.dtype)\n",
    "print('배열 요소의 크기', arr.itemsize)\n",
    "print('배열의 strides', arr.strides) # 어느 정도씩 읽어야 하는지 \n",
    "\n",
    "\n",
    "\n"
   ]
  },
  {
   "cell_type": "code",
   "execution_count": 15,
   "id": "8ad79056",
   "metadata": {},
   "outputs": [
    {
     "data": {
      "text/plain": [
       "list"
      ]
     },
     "execution_count": 15,
     "metadata": {},
     "output_type": "execute_result"
    }
   ],
   "source": [
    "tensor_list = [[[1,2,3,4],[1,2,3,4],[1,2,3,4]], #4행,3,4\n",
    "            #    [[1,2,3,4],[1,2,3,4],[1,2,3,4]],\n",
    "            #    [[1,2,3,4],[1,2,3,4],[1,2,3,4]],\n",
    "               [[1,2,3,4],[1,2,3,4],[1,2,3,4]]]\n",
    "type(tensor_list)"
   ]
  },
  {
   "cell_type": "code",
   "execution_count": null,
   "id": "261bcd16",
   "metadata": {},
   "outputs": [
    {
     "data": {
      "text/plain": [
       "(2, 3, 4)"
      ]
     },
     "execution_count": 17,
     "metadata": {},
     "output_type": "execute_result"
    }
   ],
   "source": [
    "arr1 = np.array(tensor_list)\n",
    "type(arr1)\n",
    "arr1.shape ( x,y,z 가 아님 z,x,y)"
   ]
  },
  {
   "cell_type": "code",
   "execution_count": 18,
   "id": "07f5237c",
   "metadata": {},
   "outputs": [
    {
     "data": {
      "application/vnd.jupyter.widget-view+json": {
       "model_id": "2aff795ea8d84c58a4febf1ecfddfa11",
       "version_major": 2,
       "version_minor": 0
      },
      "text/plain": [
       "interactive(children=(IntSlider(value=0, description='w', max=1), IntSlider(value=0, description='z', max=1), …"
      ]
     },
     "metadata": {},
     "output_type": "display_data"
    },
    {
     "data": {
      "text/plain": [
       "<function __main__.view_tensor(w=0, z=0)>"
      ]
     },
     "execution_count": 18,
     "metadata": {},
     "output_type": "execute_result"
    }
   ],
   "source": [
    "import numpy as np\n",
    "import matplotlib.pyplot as plt\n",
    "from ipywidgets import interact\n",
    "\n",
    "# 4D 텐서 생성 (예: w=2, z=2, x=3, y=4)\n",
    "tensor4d = np.arange(2*2*3*4).reshape(2, 2, 3, 4)\n",
    "\n",
    "def view_tensor(w=0, z=0):\n",
    "    \"\"\"\n",
    "    4D 텐서 중 w번째 박스, z번째 케이크 시각화\n",
    "    \"\"\"\n",
    "    slice2d = tensor4d[w, z]  # shape: (3, 4)\n",
    "\n",
    "    fig, ax = plt.subplots()\n",
    "    im = ax.imshow(slice2d, cmap='Blues', vmin=tensor4d.min(), vmax=tensor4d.max())\n",
    "\n",
    "    for i in range(slice2d.shape[0]):\n",
    "        for j in range(slice2d.shape[1]):\n",
    "            ax.text(j, i, f'{slice2d[i, j]}', ha='center', va='center', color='black')\n",
    "\n",
    "    ax.set_title(f'W={w}, Z={z} (Shape: {slice2d.shape})')\n",
    "    ax.set_xlabel('Y axis (열)')\n",
    "    ax.set_ylabel('X axis (행)')\n",
    "    plt.colorbar(im, ax=ax)\n",
    "    plt.show()\n",
    "\n",
    "# 슬라이더로 시각적으로 조절\n",
    "interact(view_tensor, w=(0, 1), z=(0, 1))\n"
   ]
  },
  {
   "cell_type": "markdown",
   "id": "48fe89fb",
   "metadata": {},
   "source": [
    "# 배열의 생성"
   ]
  },
  {
   "cell_type": "code",
   "execution_count": null,
   "id": "6858543e",
   "metadata": {},
   "outputs": [],
   "source": []
  }
 ],
 "metadata": {
  "kernelspec": {
   "display_name": "hipython",
   "language": "python",
   "name": "python3"
  },
  "language_info": {
   "codemirror_mode": {
    "name": "ipython",
    "version": 3
   },
   "file_extension": ".py",
   "mimetype": "text/x-python",
   "name": "python",
   "nbconvert_exporter": "python",
   "pygments_lexer": "ipython3",
   "version": "3.12.9"
  }
 },
 "nbformat": 4,
 "nbformat_minor": 5
}
