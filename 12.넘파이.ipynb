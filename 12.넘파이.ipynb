{
 "cells": [
  {
   "cell_type": "code",
   "execution_count": 158,
   "id": "e1a6afe7",
   "metadata": {},
   "outputs": [],
   "source": [
    "import numpy as np\n"
   ]
  },
  {
   "cell_type": "markdown",
   "id": "46dee3ad",
   "metadata": {},
   "source": [
    "# 넘파이의 사용\n",
    "\n",
    "1. 데이터 분석 프로젝트 : 수치형 데이터의 요약, 통계, 시각화\n",
    "2. 이미지 처리 프로젝트 : 이미지 분석\n",
    "3. 게임, 시뮬레이션 프로그램 : 수치시뮬레이션 등을 구현\n",
    "3. 머신러닝/딥러닝 모델 프로젝트 : 금융데이터, 의료데이터, 실헙데이터, 센서데이터 "
   ]
  },
  {
   "cell_type": "code",
   "execution_count": 159,
   "id": "1b083ed0",
   "metadata": {},
   "outputs": [
    {
     "data": {
      "text/plain": [
       "[[120, 135, 150, 145], [100, 110, 140, 130], [90, 100, 95, 105]]"
      ]
     },
     "execution_count": 159,
     "metadata": {},
     "output_type": "execute_result"
    }
   ],
   "source": [
    "import numpy as np\n",
    "\n",
    "data = [\n",
    "    [120, 135, 150, 145],  # 제품A\n",
    "    [100, 110, 140, 130],  # 제품B\n",
    "    [90, 100, 95, 105] ]\n",
    "\n",
    "data"
   ]
  },
  {
   "cell_type": "code",
   "execution_count": 4,
   "id": "5015e0c2",
   "metadata": {},
   "outputs": [
    {
     "data": {
      "text/plain": [
       "array([550, 480, 390])"
      ]
     },
     "execution_count": 4,
     "metadata": {},
     "output_type": "execute_result"
    }
   ],
   "source": [
    "sales_data = np.array(data)\n",
    "np.sum(sales_data, axis=1) # 총 판매량 \n",
    "\n"
   ]
  },
  {
   "cell_type": "code",
   "execution_count": 8,
   "id": "968a4bd3",
   "metadata": {},
   "outputs": [
    {
     "data": {
      "text/plain": [
       "array([7650, 8500, 9575, 9425])"
      ]
     },
     "execution_count": 8,
     "metadata": {},
     "output_type": "execute_result"
    }
   ],
   "source": [
    "propit_per_unit = np.array([20,30,25])\n",
    "total_slaes = np.dot(propit_per_unit, sales_data)\n",
    "total_slaes  # 총 수익"
   ]
  },
  {
   "cell_type": "markdown",
   "id": "c7f7a92a",
   "metadata": {},
   "source": [
    "# 이미지 처리"
   ]
  },
  {
   "cell_type": "code",
   "execution_count": 9,
   "id": "71630b81",
   "metadata": {},
   "outputs": [
    {
     "ename": "NameError",
     "evalue": "name 'img_ary' is not defined",
     "output_type": "error",
     "traceback": [
      "\u001b[31m---------------------------------------------------------------------------\u001b[39m",
      "\u001b[31mNameError\u001b[39m                                 Traceback (most recent call last)",
      "\u001b[36mCell\u001b[39m\u001b[36m \u001b[39m\u001b[32mIn[9]\u001b[39m\u001b[32m, line 3\u001b[39m\n\u001b[32m      1\u001b[39m \u001b[38;5;28;01mfrom\u001b[39;00m\u001b[38;5;250m \u001b[39m\u001b[34;01mPIL\u001b[39;00m\u001b[38;5;250m \u001b[39m\u001b[38;5;28;01mimport\u001b[39;00m Image\n\u001b[32m      2\u001b[39m img = Image.open(\u001b[33m'\u001b[39m\u001b[33msample2.jpg\u001b[39m\u001b[33m'\u001b[39m).convert(\u001b[33m'\u001b[39m\u001b[33mL\u001b[39m\u001b[33m'\u001b[39m)\n\u001b[32m----> \u001b[39m\u001b[32m3\u001b[39m new_img = np.clip(img_ary +\u001b[32m90\u001b[39m , \u001b[32m0\u001b[39m , \u001b[32m255\u001b[39m).astype(np.uint8)\n\u001b[32m      4\u001b[39m img_ary = np.array(img)  \u001b[38;5;66;03m# 이미지를 numpy 배열로 변환\u001b[39;00m\n\u001b[32m      6\u001b[39m Image.fromarray(new_img).save (\u001b[33m'\u001b[39m\u001b[33mnew_sample2.jpg\u001b[39m\u001b[33m'\u001b[39m)\n",
      "\u001b[31mNameError\u001b[39m: name 'img_ary' is not defined"
     ]
    }
   ],
   "source": [
    "from PIL import Image\n",
    "img = Image.open('sample2.jpg').convert('L')\n",
    "new_img = np.clip(img_ary +90 , 0 , 255).astype(np.uint8)\n",
    "img_ary = np.array(img)  # 이미지를 numpy 배열로 변환\n",
    "\n",
    "Image.fromarray(new_img).save ('new_sample2.jpg')  # numpy 배열을 이미지로 변환"
   ]
  },
  {
   "cell_type": "markdown",
   "id": "9105edd0",
   "metadata": {},
   "source": [
    "# 데이터 시뮬레이션"
   ]
  },
  {
   "cell_type": "markdown",
   "id": "ee9ef2e3",
   "metadata": {},
   "source": [
    "1차원 배열의 어쩌구\n"
   ]
  },
  {
   "cell_type": "code",
   "execution_count": 29,
   "id": "85ccde7c",
   "metadata": {},
   "outputs": [
    {
     "name": "stdout",
     "output_type": "stream",
     "text": [
      "[ 1  1 -1 -1 -1 -1 -1 -1  1  1  1  1 -1  1 -1  1 -1  1 -1 -1  1 -1  1 -1\n",
      " -1 -1 -1 -1  1  1  1 -1  1 -1 -1 -1  1 -1 -1 -1 -1 -1  1  1  1  1 -1  1\n",
      " -1 -1  1 -1  1  1 -1  1 -1 -1  1 -1  1  1 -1 -1  1 -1 -1  1  1 -1  1  1\n",
      " -1 -1  1 -1 -1  1 -1 -1 -1  1 -1 -1 -1 -1  1 -1 -1 -1 -1  1 -1  1 -1 -1\n",
      " -1  1 -1  1  1 -1  1  1  1  1  1  1 -1  1 -1 -1  1 -1 -1 -1 -1  1  1 -1\n",
      "  1 -1 -1 -1  1 -1  1 -1 -1  1 -1 -1  1  1  1  1  1 -1  1 -1  1  1  1  1\n",
      "  1  1 -1 -1  1 -1 -1  1  1 -1  1  1  1 -1 -1  1  1 -1  1 -1 -1  1 -1  1\n",
      "  1 -1 -1  1 -1  1 -1  1  1  1  1 -1  1 -1  1  1  1  1 -1 -1  1  1 -1  1\n",
      "  1  1 -1 -1 -1  1 -1 -1 -1  1 -1 -1  1  1 -1 -1 -1 -1 -1 -1 -1 -1  1  1\n",
      " -1  1  1 -1  1  1 -1  1 -1  1 -1  1  1 -1 -1 -1 -1 -1  1 -1 -1 -1 -1 -1\n",
      "  1  1 -1 -1  1 -1 -1 -1 -1 -1 -1 -1  1 -1  1 -1 -1  1 -1  1  1  1 -1  1\n",
      "  1  1 -1  1 -1 -1 -1 -1 -1 -1  1  1 -1  1 -1  1 -1  1  1  1  1  1  1  1\n",
      "  1  1 -1  1 -1 -1  1  1  1  1 -1 -1 -1 -1 -1 -1 -1 -1  1 -1  1 -1 -1 -1\n",
      "  1 -1 -1  1  1 -1  1  1  1  1  1 -1  1 -1 -1  1 -1  1 -1 -1 -1  1 -1  1\n",
      "  1 -1  1  1  1  1  1  1  1 -1 -1 -1 -1 -1  1 -1 -1  1 -1 -1  1 -1 -1  1\n",
      "  1  1 -1 -1 -1 -1  1  1  1 -1  1  1 -1  1  1 -1 -1  1 -1 -1 -1  1  1  1\n",
      "  1  1 -1 -1 -1 -1 -1  1  1 -1 -1  1 -1 -1 -1 -1 -1 -1 -1 -1  1 -1  1 -1\n",
      " -1 -1  1 -1 -1  1  1  1  1 -1 -1  1 -1  1  1 -1  1  1  1  1 -1  1  1  1\n",
      "  1  1  1 -1 -1 -1 -1 -1 -1 -1  1 -1  1 -1  1  1  1  1  1 -1  1  1  1  1\n",
      " -1  1  1  1  1  1 -1 -1  1 -1  1  1 -1  1  1  1 -1  1 -1 -1 -1 -1 -1  1\n",
      "  1  1 -1 -1 -1 -1 -1  1 -1  1 -1 -1 -1  1 -1 -1  1 -1  1  1 -1  1  1 -1\n",
      " -1 -1 -1  1  1 -1  1 -1  1  1  1  1  1 -1  1  1  1  1 -1  1 -1 -1  1 -1\n",
      "  1  1 -1  1  1  1  1 -1 -1  1 -1  1  1 -1  1  1 -1 -1  1 -1 -1 -1 -1  1\n",
      " -1 -1  1  1  1  1  1  1  1  1 -1  1  1  1 -1  1 -1 -1  1 -1  1  1 -1  1\n",
      "  1 -1  1  1  1  1  1 -1 -1 -1 -1  1  1  1  1  1  1  1 -1 -1  1 -1 -1 -1\n",
      " -1 -1 -1 -1  1 -1  1  1 -1 -1 -1 -1 -1  1 -1  1 -1  1  1  1  1 -1 -1  1\n",
      " -1  1  1 -1  1  1 -1 -1  1 -1  1  1 -1 -1 -1 -1 -1 -1 -1  1  1 -1 -1 -1\n",
      "  1 -1  1  1 -1  1  1 -1 -1 -1  1  1  1 -1  1  1  1  1 -1 -1  1 -1  1 -1\n",
      " -1 -1  1  1 -1  1  1 -1 -1 -1  1  1 -1 -1 -1  1 -1 -1  1 -1 -1 -1  1  1\n",
      "  1  1  1 -1 -1  1  1  1 -1 -1  1  1  1  1 -1 -1 -1  1 -1 -1  1 -1  1 -1\n",
      "  1  1 -1 -1 -1 -1 -1  1  1 -1 -1 -1  1 -1  1  1 -1  1  1  1 -1  1 -1 -1\n",
      "  1 -1  1 -1  1 -1 -1 -1 -1 -1  1  1 -1  1 -1 -1  1 -1 -1 -1  1  1  1 -1\n",
      " -1  1 -1  1 -1  1 -1 -1  1  1 -1  1  1  1  1  1  1  1  1  1 -1 -1  1 -1\n",
      " -1  1  1 -1  1 -1  1 -1 -1 -1 -1  1 -1 -1  1 -1 -1  1 -1 -1 -1 -1  1  1\n",
      "  1  1  1 -1  1 -1 -1  1 -1 -1 -1 -1 -1 -1 -1  1  1  1 -1  1 -1  1 -1  1\n",
      "  1  1 -1  1 -1  1 -1  1 -1 -1  1  1  1  1  1  1 -1 -1  1 -1  1 -1 -1  1\n",
      "  1 -1  1 -1 -1 -1  1  1  1  1  1 -1 -1 -1 -1 -1 -1 -1 -1 -1  1  1 -1  1\n",
      "  1 -1 -1 -1  1 -1  1  1  1 -1 -1 -1  1  1  1  1  1  1 -1 -1 -1  1  1 -1\n",
      "  1  1  1  1  1  1 -1 -1  1 -1  1  1  1  1  1  1 -1 -1 -1 -1 -1 -1  1  1\n",
      "  1 -1  1 -1  1 -1  1 -1  1  1  1 -1 -1  1  1 -1 -1  1 -1  1 -1  1  1 -1\n",
      " -1  1  1  1  1  1  1  1 -1  1 -1 -1  1  1 -1  1  1 -1 -1  1  1 -1  1  1\n",
      " -1  1  1  1 -1 -1  1 -1  1  1 -1  1 -1  1  1 -1]\n"
     ]
    },
    {
     "data": {
      "text/plain": [
       "[<matplotlib.lines.Line2D at 0x1de117675c0>]"
      ]
     },
     "execution_count": 29,
     "metadata": {},
     "output_type": "execute_result"
    },
    {
     "data": {
      "image/png": "[encoded data removed]",
      "text/plain": [
       "<Figure size 640x480 with 1 Axes>"
      ]
     },
     "metadata": {},
     "output_type": "display_data"
    }
   ],
   "source": [
    "import matplotlib.pyplot as plt\n",
    "\n",
    "n_step = 1000\n",
    "step = np.random.choice([-1,1], size=n_step)\n",
    "print(step) # -1 또는 1의 난수 배열 생성\n",
    "walk = np.cumsum(step)\n",
    "\n",
    "plt.plot(walk)"
   ]
  },
  {
   "cell_type": "code",
   "execution_count": null,
   "id": "0ca580a7",
   "metadata": {},
   "outputs": [
    {
     "name": "stdout",
     "output_type": "stream",
     "text": [
      "배열의 차원 2\n",
      "배열의 형태 (3, 4)\n",
      "배열의 크기 12\n",
      "배열의 데이터 타입 int64\n",
      "배열 요소의 크기 8\n",
      "배열의 strides (32, 8)\n"
     ]
    }
   ],
   "source": [
    "arr = np.array([[1,4,2,4],\n",
    "                [4,5,6,5],\n",
    "                [7,8,9,6]])\n",
    "\n",
    "# 배열의 속성 확인\n",
    "print('배열의 차원', arr.ndim)\n",
    "print('배열의 형태', arr.shape)\n",
    "print('배열의 크기', arr.size)\n",
    "print('배열의 데이터 타입', arr.dtype)\n",
    "print('배열 요소의 크기', arr.itemsize)\n",
    "print('배열의 strides', arr.strides) # 어느 정도씩 읽어야 하는지 \n",
    "\n",
    "\n",
    "\n"
   ]
  },
  {
   "cell_type": "code",
   "execution_count": 5,
   "id": "8ad79056",
   "metadata": {},
   "outputs": [
    {
     "ename": "AttributeError",
     "evalue": "'list' object has no attribute 'ndim'",
     "output_type": "error",
     "traceback": [
      "\u001b[31m---------------------------------------------------------------------------\u001b[39m",
      "\u001b[31mAttributeError\u001b[39m                            Traceback (most recent call last)",
      "\u001b[36mCell\u001b[39m\u001b[36m \u001b[39m\u001b[32mIn[5]\u001b[39m\u001b[32m, line 8\u001b[39m\n\u001b[32m      5\u001b[39m \u001b[38;5;28mtype\u001b[39m(tensor_list)\n\u001b[32m      7\u001b[39m \u001b[38;5;66;03m# 배열의 속성 확인\u001b[39;00m\n\u001b[32m----> \u001b[39m\u001b[32m8\u001b[39m \u001b[38;5;28mprint\u001b[39m(\u001b[33m'\u001b[39m\u001b[33m배열의 차원\u001b[39m\u001b[33m'\u001b[39m, tensor_list.ndim)\n\u001b[32m      9\u001b[39m \u001b[38;5;28mprint\u001b[39m(\u001b[33m'\u001b[39m\u001b[33m배열의 형태\u001b[39m\u001b[33m'\u001b[39m, tensor_list.shape)\n\u001b[32m     10\u001b[39m \u001b[38;5;28mprint\u001b[39m(\u001b[33m'\u001b[39m\u001b[33m배열의 크기\u001b[39m\u001b[33m'\u001b[39m, tensor_list.size)\n",
      "\u001b[31mAttributeError\u001b[39m: 'list' object has no attribute 'ndim'"
     ]
    }
   ],
   "source": [
    "#3차원 \n",
    "\n",
    "tensor_list = [[[1,2,3,4],[1,2,3,4],[1,2,3,4]], #4행,3,4\n",
    "               [[1,2,3,4],[1,2,3,4],[1,2,3,4]],\n",
    "               [[1,2,3,4],[1,2,3,4],[1,2,3,4]],\n",
    "               [[1,2,3,4],[1,2,3,4],[1,2,3,4]]]\n",
    "type(tensor_list)\n",
    "\n",
    "# 배열의 속성 확인\n",
    "print('배열의 차원', tensor_list.ndim)\n",
    "print('배열의 형태', tensor_list.shape)\n",
    "print('배열의 크기', tensor_list.size)\n",
    "print('배열의 데이터 타입', tensor_list.dtype)\n",
    "print('배열 요소의 크기', tensor_list.itemsize)\n",
    "print('배열의 strides', tensor_list.strides) # 어느 정도씩 읽어야 하는지"
   ]
  },
  {
   "cell_type": "code",
   "execution_count": null,
   "id": "743beea7",
   "metadata": {},
   "outputs": [],
   "source": []
  },
  {
   "cell_type": "code",
   "execution_count": 8,
   "id": "261bcd16",
   "metadata": {},
   "outputs": [
    {
     "ename": "TypeError",
     "evalue": "'tuple' object is not callable",
     "output_type": "error",
     "traceback": [
      "\u001b[31m---------------------------------------------------------------------------\u001b[39m",
      "\u001b[31mTypeError\u001b[39m                                 Traceback (most recent call last)",
      "\u001b[36mCell\u001b[39m\u001b[36m \u001b[39m\u001b[32mIn[8]\u001b[39m\u001b[32m, line 3\u001b[39m\n\u001b[32m      1\u001b[39m arr1 = np.array(tensor_list)\n\u001b[32m      2\u001b[39m \u001b[38;5;28mtype\u001b[39m(arr1)\n\u001b[32m----> \u001b[39m\u001b[32m3\u001b[39m arr1.shape ( \u001b[33m'\u001b[39m\u001b[33mx,y,z 가 아님 z,x,y\u001b[39m\u001b[33m'\u001b[39m)\n",
      "\u001b[31mTypeError\u001b[39m: 'tuple' object is not callable"
     ]
    }
   ],
   "source": [
    "arr1 = np.array(tensor_list)\n",
    "type(arr1)\n",
    "arr1.shape ( x,y,z 가 아님 z,x,y)"
   ]
  },
  {
   "cell_type": "code",
   "execution_count": null,
   "id": "1242283f",
   "metadata": {},
   "outputs": [],
   "source": []
  },
  {
   "cell_type": "code",
   "execution_count": 6,
   "id": "efcb73ad",
   "metadata": {},
   "outputs": [
    {
     "ename": "NameError",
     "evalue": "name 'arr4' is not defined",
     "output_type": "error",
     "traceback": [
      "\u001b[31m---------------------------------------------------------------------------\u001b[39m",
      "\u001b[31mNameError\u001b[39m                                 Traceback (most recent call last)",
      "\u001b[36mCell\u001b[39m\u001b[36m \u001b[39m\u001b[32mIn[6]\u001b[39m\u001b[32m, line 2\u001b[39m\n\u001b[32m      1\u001b[39m arr3 = np.array([\u001b[32m1\u001b[39m,\u001b[32m2\u001b[39m,\u001b[32m3\u001b[39m])\n\u001b[32m----> \u001b[39m\u001b[32m2\u001b[39m \u001b[38;5;28mid\u001b[39m(arr3), \u001b[38;5;28mid\u001b[39m(arr4)\n",
      "\u001b[31mNameError\u001b[39m: name 'arr4' is not defined"
     ]
    }
   ],
   "source": [
    "arr3 = np.array([1,2,3])\n",
    "arr4 = np.\n",
    "id(arr3), id(arr4)"
   ]
  },
  {
   "cell_type": "code",
   "execution_count": null,
   "id": "faca8ae2",
   "metadata": {},
   "outputs": [],
   "source": [
    "tensor_list = np.array([1,2,3])\n"
   ]
  },
  {
   "cell_type": "code",
   "execution_count": 18,
   "id": "07f5237c",
   "metadata": {},
   "outputs": [
    {
     "data": {
      "application/vnd.jupyter.widget-view+json": {
       "model_id": "2aff795ea8d84c58a4febf1ecfddfa11",
       "version_major": 2,
       "version_minor": 0
      },
      "text/plain": [
       "interactive(children=(IntSlider(value=0, description='w', max=1), IntSlider(value=0, description='z', max=1), …"
      ]
     },
     "metadata": {},
     "output_type": "display_data"
    },
    {
     "data": {
      "text/plain": [
       "<function __main__.view_tensor(w=0, z=0)>"
      ]
     },
     "execution_count": 18,
     "metadata": {},
     "output_type": "execute_result"
    }
   ],
   "source": [
    "import numpy as np\n",
    "import matplotlib.pyplot as plt\n",
    "from ipywidgets import interact\n",
    "\n",
    "# 4D 텐서 생성 (예: w=2, z=2, x=3, y=4)\n",
    "tensor4d = np.arange(2*2*3*4).reshape(2, 2, 3, 4)\n",
    "\n",
    "def view_tensor(w=0, z=0):\n",
    "    \"\"\"\n",
    "    4D 텐서 중 w번째 박스, z번째 케이크 시각화\n",
    "    \"\"\"\n",
    "    slice2d = tensor4d[w, z]  # shape: (3, 4)\n",
    "\n",
    "    fig, ax = plt.subplots()\n",
    "    im = ax.imshow(slice2d, cmap='Blues', vmin=tensor4d.min(), vmax=tensor4d.max())\n",
    "\n",
    "    for i in range(slice2d.shape[0]):\n",
    "        for j in range(slice2d.shape[1]):\n",
    "            ax.text(j, i, f'{slice2d[i, j]}', ha='center', va='center', color='black')\n",
    "\n",
    "    ax.set_title(f'W={w}, Z={z} (Shape: {slice2d.shape})')\n",
    "    ax.set_xlabel('Y axis (열)')\n",
    "    ax.set_ylabel('X axis (행)')\n",
    "    plt.colorbar(im, ax=ax)\n",
    "    plt.show()\n",
    "\n",
    "# 슬라이더로 시각적으로 조절\n",
    "interact(view_tensor, w=(0, 1), z=(0, 1))\n"
   ]
  },
  {
   "cell_type": "code",
   "execution_count": 13,
   "id": "f11788d2",
   "metadata": {},
   "outputs": [
    {
     "data": {
      "text/plain": [
       "(dtype('<U21'), array(['1', '2', '4', '5', '10'], dtype='<U21'))"
      ]
     },
     "execution_count": 13,
     "metadata": {},
     "output_type": "execute_result"
    }
   ],
   "source": [
    "# type 변환\n",
    "list2 = [1,2,4,'5',10]\n",
    "type(list2)\n",
    "t_1 = np.array(list2)\n",
    "t_1.dtype, t_1"
   ]
  },
  {
   "cell_type": "code",
   "execution_count": 15,
   "id": "dbaad72e",
   "metadata": {},
   "outputs": [
    {
     "data": {
      "text/plain": [
       "dtype('float64')"
      ]
     },
     "execution_count": 15,
     "metadata": {},
     "output_type": "execute_result"
    }
   ],
   "source": [
    "np.array(list2, float).dtype"
   ]
  },
  {
   "cell_type": "markdown",
   "id": "b5358d9f",
   "metadata": {},
   "source": [
    "# shape 속성"
   ]
  },
  {
   "cell_type": "code",
   "execution_count": 19,
   "id": "8343c6a5",
   "metadata": {},
   "outputs": [
    {
     "ename": "SyntaxError",
     "evalue": "invalid syntax (3863792129.py, line 3)",
     "output_type": "error",
     "traceback": [
      "  \u001b[36mCell\u001b[39m\u001b[36m \u001b[39m\u001b[32mIn[19]\u001b[39m\u001b[32m, line 3\u001b[39m\n\u001b[31m    \u001b[39m\u001b[31mt_2.shape, t_2.ndim shape # 요소가 8개 ,\u001b[39m\n                        ^\n\u001b[31mSyntaxError\u001b[39m\u001b[31m:\u001b[39m invalid syntax\n"
     ]
    }
   ],
   "source": [
    "list2 = [1,2,3,4,5,6,7,8]\n",
    "t_2 = np.array(list2)\n",
    "t_2.shape, t_2.ndim # 요소가 8개 , "
   ]
  },
  {
   "cell_type": "code",
   "execution_count": 22,
   "id": "9c995416",
   "metadata": {},
   "outputs": [
    {
     "data": {
      "text/plain": [
       "((4, 3), 2)"
      ]
     },
     "execution_count": 22,
     "metadata": {},
     "output_type": "execute_result"
    }
   ],
   "source": [
    "list3 = [[1,2,3],[4,5,6],\n",
    "         [7,8,9],[1,2,3]]\n",
    "t_3 = np.array(list3)\n",
    "t_3.shape, t_3.ndim"
   ]
  },
  {
   "cell_type": "code",
   "execution_count": 24,
   "id": "e8f5ebfb",
   "metadata": {},
   "outputs": [
    {
     "data": {
      "text/plain": [
       "array([[ 1,  2,  3,  4],\n",
       "       [ 5,  6,  7,  8],\n",
       "       [ 9, 10, 11, 12]])"
      ]
     },
     "execution_count": 24,
     "metadata": {},
     "output_type": "execute_result"
    }
   ],
   "source": [
    "# 3,4\n",
    "list3 = range(1,13)\n",
    "np.array(list3).reshape((3,4))"
   ]
  },
  {
   "cell_type": "code",
   "execution_count": 25,
   "id": "1166c93f",
   "metadata": {},
   "outputs": [
    {
     "data": {
      "text/plain": [
       "array([[ 1,  2,  3],\n",
       "       [ 4,  5,  6],\n",
       "       [ 7,  8,  9],\n",
       "       [10, 11, 12]])"
      ]
     },
     "execution_count": 25,
     "metadata": {},
     "output_type": "execute_result"
    }
   ],
   "source": [
    "# 3,4\n",
    "list3 = range(1,13)\n",
    "np.array(list3).reshape((4,3))"
   ]
  },
  {
   "cell_type": "code",
   "execution_count": 28,
   "id": "60bc3289",
   "metadata": {},
   "outputs": [
    {
     "data": {
      "text/plain": [
       "array([[1],\n",
       "       [2],\n",
       "       [3]])"
      ]
     },
     "execution_count": 28,
     "metadata": {},
     "output_type": "execute_result"
    }
   ],
   "source": [
    "list4 = np.array([1,2,3])\n",
    "list4.reshape((3,1))"
   ]
  },
  {
   "cell_type": "code",
   "execution_count": 30,
   "id": "4326ce3e",
   "metadata": {},
   "outputs": [
    {
     "data": {
      "text/plain": [
       "array([[1],\n",
       "       [2],\n",
       "       [3]])"
      ]
     },
     "execution_count": 30,
     "metadata": {},
     "output_type": "execute_result"
    }
   ],
   "source": [
    "# list4.reshape((3,1))\n",
    "list4[:,np.newaxis] "
   ]
  },
  {
   "cell_type": "code",
   "execution_count": 31,
   "id": "323f4d8c",
   "metadata": {},
   "outputs": [
    {
     "data": {
      "text/plain": [
       "array([[1, 2, 3]])"
      ]
     },
     "execution_count": 31,
     "metadata": {},
     "output_type": "execute_result"
    }
   ],
   "source": [
    "# list4.reshape((1,3))\n",
    "list4[np.newaxis,:]"
   ]
  },
  {
   "cell_type": "markdown",
   "id": "7ad573d4",
   "metadata": {},
   "source": [
    "## arange()\n",
    "\n",
    "range(시작, 끝, 스텝)"
   ]
  },
  {
   "cell_type": "code",
   "execution_count": 32,
   "id": "d646e0ab",
   "metadata": {},
   "outputs": [
    {
     "data": {
      "text/plain": [
       "array([0, 1, 2, 3, 4, 5, 6, 7, 8, 9])"
      ]
     },
     "execution_count": 32,
     "metadata": {},
     "output_type": "execute_result"
    }
   ],
   "source": [
    "np.arange(10)"
   ]
  },
  {
   "cell_type": "code",
   "execution_count": 33,
   "id": "91b3eb09",
   "metadata": {},
   "outputs": [
    {
     "data": {
      "text/plain": [
       "array([-5, -4, -3, -2, -1,  0,  1,  2,  3,  4])"
      ]
     },
     "execution_count": 33,
     "metadata": {},
     "output_type": "execute_result"
    }
   ],
   "source": [
    "np.arange(-5,5)"
   ]
  },
  {
   "cell_type": "code",
   "execution_count": 34,
   "id": "bfe8f1b2",
   "metadata": {},
   "outputs": [
    {
     "data": {
      "text/plain": [
       "array([0. , 0.5, 1. , 1.5, 2. , 2.5, 3. , 3.5, 4. , 4.5])"
      ]
     },
     "execution_count": 34,
     "metadata": {},
     "output_type": "execute_result"
    }
   ],
   "source": [
    "np.arange(0,5,0.5)"
   ]
  },
  {
   "cell_type": "code",
   "execution_count": 46,
   "id": "01584a04",
   "metadata": {},
   "outputs": [
    {
     "data": {
      "text/plain": [
       "(2, 3)"
      ]
     },
     "execution_count": 46,
     "metadata": {},
     "output_type": "execute_result"
    }
   ],
   "source": [
    "#2,3\n",
    "np.arange(1,7).reshape((2,3)).shape"
   ]
  },
  {
   "cell_type": "code",
   "execution_count": 48,
   "id": "82b3d6ca",
   "metadata": {},
   "outputs": [
    {
     "data": {
      "text/plain": [
       "array([[[ 1,  2,  3,  4],\n",
       "        [ 5,  6,  7,  8],\n",
       "        [ 9, 10, 11, 12]],\n",
       "\n",
       "       [[13, 14, 15, 16],\n",
       "        [17, 18, 19, 20],\n",
       "        [21, 22, 23, 24]]])"
      ]
     },
     "execution_count": 48,
     "metadata": {},
     "output_type": "execute_result"
    }
   ],
   "source": [
    "#2,3,4\n",
    "np.arange(1,25).reshape((2,3,4))"
   ]
  },
  {
   "cell_type": "code",
   "execution_count": 63,
   "id": "af26117c",
   "metadata": {},
   "outputs": [
    {
     "data": {
      "text/plain": [
       "array([ 1,  2,  3,  4,  5,  6,  7,  8,  9, 10, 11, 12, 13, 14, 15, 16, 17,\n",
       "       18, 19, 20, 21, 22, 23, 24])"
      ]
     },
     "execution_count": 63,
     "metadata": {},
     "output_type": "execute_result"
    }
   ],
   "source": [
    "#1차원 변환\n",
    "#2,3,4\n",
    "np.arange(1,25).reshape((24))\n",
    "\n",
    "# or\n",
    "\n",
    "#2,3,4\n",
    "np.arange(1,25).reshape((2,3,4)).reshape(-2)"
   ]
  },
  {
   "cell_type": "markdown",
   "id": "48fe89fb",
   "metadata": {},
   "source": [
    "# 배열의 생성"
   ]
  },
  {
   "cell_type": "code",
   "execution_count": 55,
   "id": "6858543e",
   "metadata": {},
   "outputs": [
    {
     "data": {
      "text/plain": [
       "array([0., 0., 0., 0., 0.])"
      ]
     },
     "execution_count": 55,
     "metadata": {},
     "output_type": "execute_result"
    }
   ],
   "source": [
    "#  리스트로부터 배열 생성\n",
    "arr1 = np.array([1,2,3,4,5])\n",
    "# 0으로 채워진 배열 생성\n",
    "arr2 = np.zeros(5)\n",
    "# 1로 채워진 배열 생성\n",
    "arr3 = np.ones((1,1))\n",
    "\n",
    "np.array(arr1)\n",
    "np.array(arr2)\n",
    "# np.array(arr3)"
   ]
  },
  {
   "cell_type": "code",
   "execution_count": 60,
   "id": "6ba4070b",
   "metadata": {},
   "outputs": [
    {
     "data": {
      "text/plain": [
       "array([[[ 1,  2,  3,  4],\n",
       "        [ 5,  6,  7,  8],\n",
       "        [ 9, 10, 11, 12]],\n",
       "\n",
       "       [[13, 14, 15, 16],\n",
       "        [17, 18, 19, 20],\n",
       "        [21, 22, 23, 24]]])"
      ]
     },
     "execution_count": 60,
     "metadata": {},
     "output_type": "execute_result"
    }
   ],
   "source": [
    "li1 = np.arange(1,25).reshape(2,3,4)\n",
    "np.array(li1)"
   ]
  },
  {
   "cell_type": "code",
   "execution_count": 64,
   "id": "154ad950",
   "metadata": {},
   "outputs": [
    {
     "data": {
      "text/plain": [
       "array([[[1, 2, 3],\n",
       "        [4, 5, 6],\n",
       "        [7, 8, 9]]])"
      ]
     },
     "execution_count": 64,
     "metadata": {},
     "output_type": "execute_result"
    }
   ],
   "source": [
    "li2 = np.arange(1,10).reshape((1,3,3))\n",
    "np.array(li2)"
   ]
  },
  {
   "cell_type": "code",
   "execution_count": 85,
   "id": "caf13deb",
   "metadata": {},
   "outputs": [
    {
     "name": "stdout",
     "output_type": "stream",
     "text": [
      "[  0.  25.  50.  75. 100.]\n"
     ]
    }
   ],
   "source": [
    "li3 = np.linspace(0,100,5)\n",
    "print(li3)"
   ]
  },
  {
   "cell_type": "markdown",
   "id": "f20ab16b",
   "metadata": {},
   "source": [
    "## 배열 생성 연습문제\n"
   ]
  },
  {
   "cell_type": "code",
   "execution_count": 67,
   "id": "3480b07d",
   "metadata": {},
   "outputs": [
    {
     "data": {
      "text/plain": [
       "array([1, 2, 3, 4, 5])"
      ]
     },
     "execution_count": 67,
     "metadata": {},
     "output_type": "execute_result"
    }
   ],
   "source": [
    "# 1. [기초] 1부터 5까지의 값을 가지는 1차원 배열을 생성하세요.\n",
    "\n",
    "li1= np.arange(1,6).reshape((5))\n",
    "np.array(li1)"
   ]
  },
  {
   "cell_type": "code",
   "execution_count": 69,
   "id": "0d451c61",
   "metadata": {},
   "outputs": [
    {
     "data": {
      "text/plain": [
       "array([[0., 0., 0., 0.],\n",
       "       [0., 0., 0., 0.],\n",
       "       [0., 0., 0., 0.]])"
      ]
     },
     "execution_count": 69,
     "metadata": {},
     "output_type": "execute_result"
    }
   ],
   "source": [
    "# 2. [기초] 0으로만 이루어진 3x4 배열을 생성하세요.\n",
    "\n",
    "li2 = np.zeros((3,4))\n",
    "np.array(li2)"
   ]
  },
  {
   "cell_type": "code",
   "execution_count": 70,
   "id": "3ae0954b",
   "metadata": {},
   "outputs": [
    {
     "data": {
      "text/plain": [
       "array([[1., 1.],\n",
       "       [1., 1.]])"
      ]
     },
     "execution_count": 70,
     "metadata": {},
     "output_type": "execute_result"
    }
   ],
   "source": [
    "# 3. [기초] 모든 원소가 1인 2x2 배열을 생성하세요.\n",
    "li3 = np.ones((2,2))\n",
    "np.array(li3)"
   ]
  },
  {
   "cell_type": "code",
   "execution_count": 76,
   "id": "0895f579",
   "metadata": {},
   "outputs": [
    {
     "ename": "TypeError",
     "evalue": "Cannot construct a dtype from an array",
     "output_type": "error",
     "traceback": [
      "\u001b[31m---------------------------------------------------------------------------\u001b[39m",
      "\u001b[31mTypeError\u001b[39m                                 Traceback (most recent call last)",
      "\u001b[36mCell\u001b[39m\u001b[36m \u001b[39m\u001b[32mIn[76]\u001b[39m\u001b[32m, line 4\u001b[39m\n\u001b[32m      2\u001b[39m li4=np.arange(\u001b[32m10\u001b[39m,\u001b[32m20\u001b[39m,\u001b[32m2\u001b[39m).reshape((\u001b[32m5\u001b[39m))\n\u001b[32m      3\u001b[39m t_3 = np.array(li4)\n\u001b[32m----> \u001b[39m\u001b[32m4\u001b[39m np.dtype(li4)\n",
      "\u001b[31mTypeError\u001b[39m: Cannot construct a dtype from an array"
     ]
    }
   ],
   "source": [
    "# [기초] 10부터 시작하여 2씩 증가하는 숫자 5개로 이루어진 배열을 만드세요.\n",
    "li4=np.arange(10,20,2).reshape((5))\n",
    "t_3 = np.array(li4)\n",
    "np.dtype(li4)"
   ]
  },
  {
   "cell_type": "code",
   "execution_count": null,
   "id": "be3583a0",
   "metadata": {},
   "outputs": [],
   "source": [
    "# [중급] 0~100 사이의 값을 4등분한 수들로 이루어진 배열을 생성하세요.\n",
    "# 출력: [ 0. 33.33 66.67 100. ] (소수점 반올림은 안 맞아도 됨)\n",
    "li5 = np.arange(0)"
   ]
  },
  {
   "cell_type": "markdown",
   "id": "36047806",
   "metadata": {},
   "source": [
    "## 배열 연산"
   ]
  },
  {
   "cell_type": "code",
   "execution_count": 89,
   "id": "822c29bd",
   "metadata": {},
   "outputs": [
    {
     "data": {
      "text/plain": [
       "[1, 2, 3, 1, 2, 3]"
      ]
     },
     "execution_count": 89,
     "metadata": {},
     "output_type": "execute_result"
    }
   ],
   "source": [
    "# 기존 리스트 더하기 \n",
    "li1 = [1,2,3] # (3,)\n",
    "li2 = [3,4,5]\n",
    "\n",
    "li1 + li2\n",
    "\n",
    "li1*2 # __mul__"
   ]
  },
  {
   "cell_type": "markdown",
   "id": "374d80ea",
   "metadata": {},
   "source": [
    "### 요소별 연산"
   ]
  },
  {
   "cell_type": "code",
   "execution_count": 138,
   "id": "683fb0de",
   "metadata": {},
   "outputs": [
    {
     "data": {
      "text/plain": [
       "array([2, 4, 6])"
      ]
     },
     "execution_count": 138,
     "metadata": {},
     "output_type": "execute_result"
    }
   ],
   "source": [
    "a1 = np.array(li1)\n",
    "a2 = np.array(li2).reshape(3,1)\n",
    "a1*2 # = [1,2,3] * [2,2,2]"
   ]
  },
  {
   "cell_type": "code",
   "execution_count": 139,
   "id": "61a1a483",
   "metadata": {},
   "outputs": [
    {
     "data": {
      "text/plain": [
       "array([[4, 5],\n",
       "       [5, 6],\n",
       "       [6, 7]])"
      ]
     },
     "execution_count": 139,
     "metadata": {},
     "output_type": "execute_result"
    }
   ],
   "source": [
    "# 주의할 점\n",
    "a3 = np.array([1,2]) #(2,)\n",
    "a2+a3\n",
    "# 안되는 이유는? 행렬의 shape이 같아야 요소별 연산이 된다.\n",
    "#shape이란? 각 차원의 크기를 나타내는 튜플 (예3,4, 3행 4열)"
   ]
  },
  {
   "cell_type": "markdown",
   "id": "618ae062",
   "metadata": {},
   "source": [
    "### 브로드캐스팅   \n",
    "\n",
    "크기가 다른 배열에서 작은 쪽이 큰 쪽에 맞춰 크기를 확장하는 기능   \n",
    "사칙연산에 적용"
   ]
  },
  {
   "cell_type": "code",
   "execution_count": 132,
   "id": "d3011c69",
   "metadata": {},
   "outputs": [
    {
     "data": {
      "text/plain": [
       "((2, 1),\n",
       " array([[0],\n",
       "        [1]]))"
      ]
     },
     "execution_count": 132,
     "metadata": {},
     "output_type": "execute_result"
    }
   ],
   "source": [
    "a_array = np.arange(2).reshape(1,2) # (2,1)\n",
    "b_array = np.arange(2)[:,np.newaxis] #(1,3)\n",
    "np.array(b_array).shape, b_array\n",
    "\n",
    "\n",
    "\n"
   ]
  },
  {
   "cell_type": "code",
   "execution_count": 133,
   "id": "d84aaa01",
   "metadata": {},
   "outputs": [
    {
     "data": {
      "text/plain": [
       "((1, 2), array([[0, 1]]))"
      ]
     },
     "execution_count": 133,
     "metadata": {},
     "output_type": "execute_result"
    }
   ],
   "source": [
    "np.array(a_array).shape, a_array"
   ]
  },
  {
   "cell_type": "code",
   "execution_count": 104,
   "id": "48eacc20",
   "metadata": {},
   "outputs": [
    {
     "data": {
      "text/plain": [
       "array([[0, 1],\n",
       "       [1, 2],\n",
       "       [2, 3]])"
      ]
     },
     "execution_count": 104,
     "metadata": {},
     "output_type": "execute_result"
    }
   ],
   "source": [
    "b_array + a_array\n",
    "b_array + a_array"
   ]
  },
  {
   "cell_type": "markdown",
   "id": "4836fd6c",
   "metadata": {},
   "source": [
    "## 배열의 결합, 연결\n",
    "\n",
    "concatenate(), vstack() hstack()"
   ]
  },
  {
   "cell_type": "code",
   "execution_count": 141,
   "id": "6904b6a4",
   "metadata": {},
   "outputs": [
    {
     "data": {
      "text/plain": [
       "array([[0, 1],\n",
       "       [0, 1]])"
      ]
     },
     "execution_count": 141,
     "metadata": {},
     "output_type": "execute_result"
    }
   ],
   "source": [
    "np.concatenate([a_array, a_array])"
   ]
  },
  {
   "cell_type": "code",
   "execution_count": 142,
   "id": "71d6c7fd",
   "metadata": {},
   "outputs": [
    {
     "data": {
      "text/plain": [
       "array([[0],\n",
       "       [1],\n",
       "       [0],\n",
       "       [1]])"
      ]
     },
     "execution_count": 142,
     "metadata": {},
     "output_type": "execute_result"
    }
   ],
   "source": [
    "np.concatenate([b_array, b_array])"
   ]
  },
  {
   "cell_type": "code",
   "execution_count": 148,
   "id": "d1b1003c",
   "metadata": {},
   "outputs": [
    {
     "data": {
      "text/plain": [
       "array([1, 2, 3, 4, 5, 6])"
      ]
     },
     "execution_count": 148,
     "metadata": {},
     "output_type": "execute_result"
    }
   ],
   "source": [
    "v1 = np.array([1,2,3])\n",
    "v2 = np.array([4,5,6])\n",
    "np.concatenate([v1,v2], axis=0)"
   ]
  },
  {
   "cell_type": "code",
   "execution_count": 152,
   "id": "b4f74784",
   "metadata": {},
   "outputs": [
    {
     "data": {
      "text/plain": [
       "array([[1, 2, 3, 1, 2, 3],\n",
       "       [1, 2, 3, 1, 2, 3]])"
      ]
     },
     "execution_count": 152,
     "metadata": {},
     "output_type": "execute_result"
    }
   ],
   "source": [
    "grid = np.array([[1,2,3],[1,2,3]])\n",
    "np.concatenate([grid,grid], axis=1)"
   ]
  },
  {
   "cell_type": "code",
   "execution_count": null,
   "id": "6498a664",
   "metadata": {},
   "outputs": [],
   "source": [
    "grid = np.array([[1,2,3],[1,2,3]])\n",
    "np.concatenate([grid,grid], axis=1)"
   ]
  },
  {
   "cell_type": "code",
   "execution_count": 153,
   "id": "970bc19c",
   "metadata": {},
   "outputs": [
    {
     "data": {
      "text/plain": [
       "array([[1, 2, 3],\n",
       "       [4, 5, 6]])"
      ]
     },
     "execution_count": 153,
     "metadata": {},
     "output_type": "execute_result"
    }
   ],
   "source": [
    "np.vstack((v1,v2)) # vlookup"
   ]
  },
  {
   "cell_type": "code",
   "execution_count": 154,
   "id": "8e00a116",
   "metadata": {},
   "outputs": [
    {
     "data": {
      "text/plain": [
       "array([1, 2, 3, 4, 5, 6])"
      ]
     },
     "execution_count": 154,
     "metadata": {},
     "output_type": "execute_result"
    }
   ],
   "source": [
    "np.hstack((v1,v2)) #hlookup 생각하면 쉬움 "
   ]
  },
  {
   "cell_type": "markdown",
   "id": "cb779dc1",
   "metadata": {},
   "source": [
    "# 인덱싱\n"
   ]
  },
  {
   "cell_type": "markdown",
   "id": "fc77483e",
   "metadata": {},
   "source": [
    "## 축 인덱싱\n",
    "\n",
    "aixs = 0\n",
    "aixs = 1 \n",
    "aixs = 2 "
   ]
  },
  {
   "cell_type": "code",
   "execution_count": 156,
   "id": "c5d74bc6",
   "metadata": {},
   "outputs": [
    {
     "data": {
      "text/plain": [
       "np.int64(21)"
      ]
     },
     "execution_count": 156,
     "metadata": {},
     "output_type": "execute_result"
    }
   ],
   "source": [
    "arr_1 = np.array([[1,2,3],[4,5,6]])\n",
    "np.sum(arr_1)"
   ]
  },
  {
   "cell_type": "code",
   "execution_count": null,
   "id": "5804abd1",
   "metadata": {},
   "outputs": [],
   "source": []
  },
  {
   "cell_type": "markdown",
   "id": "a2c538da",
   "metadata": {},
   "source": [
    "## 배열의 인덱싱"
   ]
  },
  {
   "cell_type": "code",
   "execution_count": 241,
   "id": "db95f92b",
   "metadata": {},
   "outputs": [
    {
     "data": {
      "text/plain": [
       "(np.int64(1), np.int64(5))"
      ]
     },
     "execution_count": 241,
     "metadata": {},
     "output_type": "execute_result"
    }
   ],
   "source": [
    "arr = np.array([1,2,3,4,5])\n",
    "arr[0], arr[-1]"
   ]
  },
  {
   "cell_type": "code",
   "execution_count": null,
   "id": "b9dffff4",
   "metadata": {},
   "outputs": [
    {
     "name": "stdout",
     "output_type": "stream",
     "text": [
      "[[2 3]\n",
      " [6 7]]\n"
     ]
    }
   ],
   "source": [
    "# 2차원 배열 슬라이싱\n",
    "arr_2d = np.array([[1, 2, 3, 4],\n",
    "                   [5, 6, 7, 8],\n",
    "                   [9, 10, 11, 12]])\n",
    "print(arr_2d[:2, 1:3])    # 처음 두 행, 두 번째와 세 번째 열\n",
    "# [[2 3]\n",
    "#  [6 7]]\n",
    "# 시작행 : 끝행 : 간격 "
   ]
  },
  {
   "cell_type": "markdown",
   "id": "fbed1f6d",
   "metadata": {},
   "source": [
    "## 슬라이싱\n",
    "\n",
    "- [:] 전체\n",
    "- [0:n] 0~n-1까지\n",
    "- [:5] 0~4까지\n",
    "\n",
    "리스트와 차이점\n",
    "- 리스트 : 복사본을 리턴\n",
    "- 배열 : 원본 배열의 뷰 -> 복사x, 원본에도 영향을 미친다\n",
    "- 슬라이싱.copy()"
   ]
  },
  {
   "cell_type": "code",
   "execution_count": 234,
   "id": "b95c7735",
   "metadata": {},
   "outputs": [
    {
     "data": {
      "text/plain": [
       "array([0, 1, 2, 3, 4, 5, 6, 7, 8, 9])"
      ]
     },
     "execution_count": 234,
     "metadata": {},
     "output_type": "execute_result"
    }
   ],
   "source": [
    "x= np.arange(10)\n",
    "x"
   ]
  },
  {
   "cell_type": "code",
   "execution_count": 236,
   "id": "1cab123a",
   "metadata": {},
   "outputs": [
    {
     "data": {
      "text/plain": [
       "array([4])"
      ]
     },
     "execution_count": 236,
     "metadata": {},
     "output_type": "execute_result"
    }
   ],
   "source": [
    "x[4:5]"
   ]
  },
  {
   "cell_type": "code",
   "execution_count": 238,
   "id": "0bea3c5e",
   "metadata": {},
   "outputs": [
    {
     "data": {
      "text/plain": [
       "array([4, 5, 6])"
      ]
     },
     "execution_count": 238,
     "metadata": {},
     "output_type": "execute_result"
    }
   ],
   "source": [
    "\n",
    "new_x = x[4:7]\n",
    "new_x\n"
   ]
  },
  {
   "cell_type": "code",
   "execution_count": 239,
   "id": "0ff04ed5",
   "metadata": {},
   "outputs": [
    {
     "data": {
      "text/plain": [
       "array([100,   5,   6])"
      ]
     },
     "execution_count": 239,
     "metadata": {},
     "output_type": "execute_result"
    }
   ],
   "source": [
    "new_x[0]=100\n",
    "new_x"
   ]
  },
  {
   "cell_type": "code",
   "execution_count": 167,
   "id": "3ce9b7cb",
   "metadata": {},
   "outputs": [
    {
     "name": "stdout",
     "output_type": "stream",
     "text": [
      "[2 3 4]\n"
     ]
    }
   ],
   "source": [
    "arr = np.array([0,1,2,3,4,5])\n",
    "print(arr[2:5])\n"
   ]
  },
  {
   "cell_type": "code",
   "execution_count": null,
   "id": "f4bed7f7",
   "metadata": {},
   "outputs": [],
   "source": [
    "new_x[0] = 100\n",
    "new_x, x #view, view 값을 변경하면 원본의 값도 변경\n"
   ]
  },
  {
   "cell_type": "code",
   "execution_count": 171,
   "id": "a487929b",
   "metadata": {},
   "outputs": [
    {
     "ename": "NameError",
     "evalue": "name 'new_x1' is not defined",
     "output_type": "error",
     "traceback": [
      "\u001b[31m---------------------------------------------------------------------------\u001b[39m",
      "\u001b[31mNameError\u001b[39m                                 Traceback (most recent call last)",
      "\u001b[36mCell\u001b[39m\u001b[36m \u001b[39m\u001b[32mIn[171]\u001b[39m\u001b[32m, line 2\u001b[39m\n\u001b[32m      1\u001b[39m x[\u001b[32m4\u001b[39m:\u001b[32m7\u001b[39m].copy()\n\u001b[32m----> \u001b[39m\u001b[32m2\u001b[39m new_x1[\u001b[32m0\u001b[39m]=\u001b[32m100\u001b[39m\n\u001b[32m      3\u001b[39m new_x1[\u001b[32m0\u001b[39m]=\u001b[32m200\u001b[39m\n",
      "\u001b[31mNameError\u001b[39m: name 'new_x1' is not defined"
     ]
    }
   ],
   "source": [
    "x[4:7].copy()\n",
    "new_x1[0]=100\n",
    "new_x1[0]=200"
   ]
  },
  {
   "cell_type": "markdown",
   "id": "ca261dc8",
   "metadata": {},
   "source": [
    "## 인덱싱 연습하기"
   ]
  },
  {
   "cell_type": "code",
   "execution_count": 2,
   "id": "cd8bbfa3",
   "metadata": {},
   "outputs": [
    {
     "name": "stdout",
     "output_type": "stream",
     "text": [
      "원본 4x4 배열:\n",
      "[[ 0  1  2  3]\n",
      " [ 4  5  6  7]\n",
      " [ 8  9 10 11]\n",
      " [12 13 14 15]]\n",
      "------------------------------\n"
     ]
    }
   ],
   "source": [
    "import numpy as np\n",
    "\n",
    "# 기준이 될 4x4 배열 생성 (이미지와 동일하게 0부터 15까지의 숫자로 채움)\n",
    "arr_2d = np.arange(16).reshape((4, 4))\n",
    "\n",
    "print(\"원본 4x4 배열:\")\n",
    "print(arr_2d)\n",
    "print(\"-\" * 30)"
   ]
  },
  {
   "cell_type": "code",
   "execution_count": 178,
   "id": "427c14e0",
   "metadata": {},
   "outputs": [
    {
     "name": "stdout",
     "output_type": "stream",
     "text": [
      "[[0 1 2 3]]\n"
     ]
    }
   ],
   "source": [
    "\n",
    "# 첫 번째 행 전체\n",
    "print(arr_2d[0:1:])\n",
    "\n"
   ]
  },
  {
   "cell_type": "code",
   "execution_count": 3,
   "id": "00c267f8",
   "metadata": {},
   "outputs": [
    {
     "name": "stdout",
     "output_type": "stream",
     "text": [
      "[[ 3]\n",
      " [ 7]\n",
      " [11]\n",
      " [15]]\n"
     ]
    },
    {
     "data": {
      "text/plain": [
       "array([ 3,  7, 11, 15])"
      ]
     },
     "execution_count": 3,
     "metadata": {},
     "output_type": "execute_result"
    }
   ],
   "source": [
    "#마지막 열 전체\n",
    "print(arr_2d[0:5:1,3:4:1])\n",
    "\n",
    "# 또 다른 답\n",
    "\n",
    "arr_2d[:, -1]"
   ]
  },
  {
   "cell_type": "code",
   "execution_count": 5,
   "id": "8c986252",
   "metadata": {},
   "outputs": [
    {
     "name": "stdout",
     "output_type": "stream",
     "text": [
      "[[ 0  3]\n",
      " [12 15]]\n"
     ]
    },
    {
     "data": {
      "text/plain": [
       "array([[ 0,  3],\n",
       "       [12, 15]])"
      ]
     },
     "execution_count": 5,
     "metadata": {},
     "output_type": "execute_result"
    }
   ],
   "source": [
    "#첫 번째 행과 마지막 행만 선택, 각 행의 첫번째, 마지막 열 선택\n",
    "print(arr_2d[0:4:3,0:4:3])\n",
    "# 또 다른 답\n",
    "arr_2d[[0,3]][:,[0,3]]"
   ]
  },
  {
   "cell_type": "code",
   "execution_count": 7,
   "id": "f17d64b2",
   "metadata": {},
   "outputs": [
    {
     "name": "stdout",
     "output_type": "stream",
     "text": [
      "[[ 1  3]\n",
      " [ 9 11]]\n"
     ]
    },
    {
     "data": {
      "text/plain": [
       "array([[ 1,  3],\n",
       "       [ 9, 11]])"
      ]
     },
     "execution_count": 7,
     "metadata": {},
     "output_type": "execute_result"
    }
   ],
   "source": [
    "# 짝수 인덱스 행(0번째, 2번째 행), 홀수 인덱스 열 선택택\n",
    "print(arr_2d[0:4:2,1:4:2])\n",
    "\n",
    "# 또 다른 답\n",
    "\n",
    "arr_2d[::2, 1::2]"
   ]
  },
  {
   "cell_type": "code",
   "execution_count": 10,
   "id": "ab227cc5",
   "metadata": {},
   "outputs": [
    {
     "data": {
      "text/plain": [
       "array([[ 1,  3],\n",
       "       [ 9, 11]])"
      ]
     },
     "execution_count": 10,
     "metadata": {},
     "output_type": "execute_result"
    }
   ],
   "source": [
    "# 또 다른 답 2 \n",
    "arr_2d[::2][:,1::2]"
   ]
  },
  {
   "cell_type": "code",
   "execution_count": 14,
   "id": "37f29e85",
   "metadata": {},
   "outputs": [
    {
     "data": {
      "text/plain": [
       "array([[[ 0,  1,  2,  3,  4,  5],\n",
       "        [ 6,  7,  8,  9, 10, 11],\n",
       "        [12, 13, 14, 15, 16, 17],\n",
       "        [18, 19, 20, 21, 22, 23],\n",
       "        [24, 25, 26, 27, 28, 29],\n",
       "        [30, 31, 32, 33, 34, 35]],\n",
       "\n",
       "       [[ 0,  1,  2,  3,  4,  5],\n",
       "        [ 6,  7,  8,  9, 10, 11],\n",
       "        [12, 13, 14, 15, 16, 17],\n",
       "        [18, 19, 20, 21, 22, 23],\n",
       "        [24, 25, 26, 27, 28, 29],\n",
       "        [30, 31, 32, 33, 34, 35]],\n",
       "\n",
       "       [[ 0,  1,  2,  3,  4,  5],\n",
       "        [ 6,  7,  8,  9, 10, 11],\n",
       "        [12, 13, 14, 15, 16, 17],\n",
       "        [18, 19, 20, 21, 22, 23],\n",
       "        [24, 25, 26, 27, 28, 29],\n",
       "        [30, 31, 32, 33, 34, 35]],\n",
       "\n",
       "       [[ 0,  1,  2,  3,  4,  5],\n",
       "        [ 6,  7,  8,  9, 10, 11],\n",
       "        [12, 13, 14, 15, 16, 17],\n",
       "        [18, 19, 20, 21, 22, 23],\n",
       "        [24, 25, 26, 27, 28, 29],\n",
       "        [30, 31, 32, 33, 34, 35]]])"
      ]
     },
     "execution_count": 14,
     "metadata": {},
     "output_type": "execute_result"
    }
   ],
   "source": [
    "#위의 3차원 행렬을 작성하세요\n",
    "\n",
    "ar_0 = np.stack([np.arange(36).reshape(6,6)]*4)\n",
    "ar_0"
   ]
  },
  {
   "cell_type": "code",
   "execution_count": 206,
   "id": "5f62c7ee",
   "metadata": {},
   "outputs": [
    {
     "data": {
      "text/plain": [
       "array([[[ 0,  1,  2,  3,  4,  5],\n",
       "        [ 6,  7,  8,  9, 10, 11],\n",
       "        [12, 13, 14, 15, 16, 17],\n",
       "        [18, 19, 20, 21, 22, 23],\n",
       "        [24, 25, 26, 27, 28, 29],\n",
       "        [30, 31, 32, 33, 34, 35]],\n",
       "\n",
       "       [[ 0,  1,  2,  3,  4,  5],\n",
       "        [ 6,  7,  8,  9, 10, 11],\n",
       "        [12, 13, 14, 15, 16, 17],\n",
       "        [18, 19, 20, 21, 22, 23],\n",
       "        [24, 25, 26, 27, 28, 29],\n",
       "        [30, 31, 32, 33, 34, 35]],\n",
       "\n",
       "       [[ 0,  1,  2,  3,  4,  5],\n",
       "        [ 6,  7,  8,  9, 10, 11],\n",
       "        [12, 13, 14, 15, 16, 17],\n",
       "        [18, 19, 20, 21, 22, 23],\n",
       "        [24, 25, 26, 27, 28, 29],\n",
       "        [30, 31, 32, 33, 34, 35]],\n",
       "\n",
       "       [[ 0,  1,  2,  3,  4,  5],\n",
       "        [ 6,  7,  8,  9, 10, 11],\n",
       "        [12, 13, 14, 15, 16, 17],\n",
       "        [18, 19, 20, 21, 22, 23],\n",
       "        [24, 25, 26, 27, 28, 29],\n",
       "        [30, 31, 32, 33, 34, 35]]])"
      ]
     },
     "execution_count": 206,
     "metadata": {},
     "output_type": "execute_result"
    }
   ],
   "source": [
    "#위의 3차원 행렬을 작성하세요\n",
    "ar1 = np.stack([np.arange(0,36).reshape((6,6))]*4)\n",
    "np.array(ar1)"
   ]
  },
  {
   "cell_type": "code",
   "execution_count": 17,
   "id": "80e210d6",
   "metadata": {},
   "outputs": [
    {
     "data": {
      "text/plain": [
       "array([[[  0,   1,   2,   3,   4,   5],\n",
       "        [  6,   7,   8,   9,  10,  11],\n",
       "        [ 12,  13,  14,  15,  16,  17],\n",
       "        [ 18,  19,  20,  21,  22,  23],\n",
       "        [ 24,  25,  26,  27,  28,  29],\n",
       "        [ 30,  31,  32,  33,  34,  35]],\n",
       "\n",
       "       [[ 36,  37,  38,  39,  40,  41],\n",
       "        [ 42,  43,  44,  45,  46,  47],\n",
       "        [ 48,  49,  50,  51,  52,  53],\n",
       "        [ 54,  55,  56,  57,  58,  59],\n",
       "        [ 60,  61,  62,  63,  64,  65],\n",
       "        [ 66,  67,  68,  69,  70,  71]],\n",
       "\n",
       "       [[ 72,  73,  74,  75,  76,  77],\n",
       "        [ 78,  79,  80,  81,  82,  83],\n",
       "        [ 84,  85,  86,  87,  88,  89],\n",
       "        [ 90,  91,  92,  93,  94,  95],\n",
       "        [ 96,  97,  98,  99, 100, 101],\n",
       "        [102, 103, 104, 105, 106, 107]],\n",
       "\n",
       "       [[108, 109, 110, 111, 112, 113],\n",
       "        [114, 115, 116, 117, 118, 119],\n",
       "        [120, 121, 122, 123, 124, 125],\n",
       "        [126, 127, 128, 129, 130, 131],\n",
       "        [132, 133, 134, 135, 136, 137],\n",
       "        [138, 139, 140, 141, 142, 143]]])"
      ]
     },
     "execution_count": 17,
     "metadata": {},
     "output_type": "execute_result"
    }
   ],
   "source": [
    "#위의 3차원 행렬을 작성하세요\n",
    "ar2 = np.arange(0,144).reshape((4,6,6))\n",
    "np.array(ar2)"
   ]
  },
  {
   "cell_type": "code",
   "execution_count": null,
   "id": "c82eb0fc",
   "metadata": {},
   "outputs": [],
   "source": [
    "# 각 층의 (0.0) 위치의 값을  각 층의 인덱스로 설정\n",
    "\n",
    "for d_idx in range(4):\n",
    "    ar_0[d_idx,0,0] = d_idx # 0번째 층에 첫번째 행에 첫번째 열에 0번 넣기 "
   ]
  },
  {
   "cell_type": "code",
   "execution_count": 50,
   "id": "2b4861c2",
   "metadata": {},
   "outputs": [
    {
     "data": {
      "text/plain": [
       "array([[[ 0,  3,  3,  3,  3,  3],\n",
       "        [ 6,  7,  8,  9, 10, 11],\n",
       "        [12, 13, 14, 15, 16, 17],\n",
       "        [18, 19, 20, 21, 22, 23],\n",
       "        [24, 25, 26, 27, 28, 29],\n",
       "        [30, 31, 32, 33, 34, 35]],\n",
       "\n",
       "       [[ 1,  1,  2,  3,  4,  5],\n",
       "        [ 6,  7,  8,  9, 10, 11],\n",
       "        [12, 13, 14, 15, 16, 17],\n",
       "        [18, 19, 20, 21, 22, 23],\n",
       "        [24, 25, 26, 27, 28, 29],\n",
       "        [30, 31, 32, 33, 34, 35]],\n",
       "\n",
       "       [[ 2,  1,  2,  3,  4,  5],\n",
       "        [ 6,  7,  8,  9, 10, 11],\n",
       "        [12, 13, 14, 15, 16, 17],\n",
       "        [18, 19, 20, 21, 22, 23],\n",
       "        [24, 25, 26, 27, 28, 29],\n",
       "        [30, 31, 32, 33, 34, 35]],\n",
       "\n",
       "       [[ 3,  1,  2,  3,  4,  5],\n",
       "        [ 6,  7,  8,  9, 10, 11],\n",
       "        [12, 13, 14, 15, 16, 17],\n",
       "        [18, 19, 20, 21, 22, 23],\n",
       "        [24, 25, 26, 27, 28, 29],\n",
       "        [30, 31, 32, 33, 34, 35]]])"
      ]
     },
     "execution_count": 50,
     "metadata": {},
     "output_type": "execute_result"
    }
   ],
   "source": [
    "ar_0"
   ]
  },
  {
   "cell_type": "code",
   "execution_count": null,
   "id": "35b31ea7",
   "metadata": {},
   "outputs": [
    {
     "data": {
      "text/plain": [
       "array([[ 0,  1,  2,  3,  4,  5],\n",
       "       [ 6,  7,  8,  9, 10, 11],\n",
       "       [12, 13, 14, 15, 16, 17],\n",
       "       [18, 19, 20, 21, 22, 23],\n",
       "       [24, 25, 26, 27, 28, 29],\n",
       "       [30, 31, 32, 33, 34, 35]])"
      ]
     },
     "execution_count": 217,
     "metadata": {},
     "output_type": "execute_result"
    }
   ],
   "source": [
    "# 2번째 층(깊이, 면) 선택\n",
    "\n",
    "ar2[0]"
   ]
  },
  {
   "cell_type": "code",
   "execution_count": 86,
   "id": "8b9f8f2c",
   "metadata": {},
   "outputs": [
    {
     "data": {
      "text/plain": [
       "array([[[  0,   1,   2,   3,   4,   5],\n",
       "        [  6,   7,   8,   9,  10,  11],\n",
       "        [ 12,  13,  14,  15,  16,  17],\n",
       "        [ 18,  19,  20,  21,  22,  23],\n",
       "        [ 24,  25,  26,  27,  28,  29],\n",
       "        [ 30,  31,  32,  33,  34,  35]],\n",
       "\n",
       "       [[ 36,  37,  38,  39,  40,  41],\n",
       "        [ 42,  43,  44,  45,  46,  47],\n",
       "        [ 48,  49,  50,  51,  52,  53],\n",
       "        [ 54,  55,  56,  57,  58,  59],\n",
       "        [ 60,  61,  62,  63,  64,  65],\n",
       "        [ 66,  67,  68,  69,  70,  71]],\n",
       "\n",
       "       [[ 72,  73,  74,  75,  76,  77],\n",
       "        [ 78,  79,  80,  81,  82,  83],\n",
       "        [ 84,  85,  86,  87,  88,  89],\n",
       "        [ 90,  91,  92,  93,  94,  95],\n",
       "        [ 96,  97,  98,  99, 100, 101],\n",
       "        [102, 103, 104, 105, 106, 107]],\n",
       "\n",
       "       [[108, 109, 110, 111, 112, 113],\n",
       "        [114, 115, 116, 117, 118, 119],\n",
       "        [120, 121, 122, 123, 124, 125],\n",
       "        [126, 127, 128, 129, 130, 131],\n",
       "        [132, 133, 134, 135, 136, 137],\n",
       "        [138, 139, 140, 141, 142, 143]]])"
      ]
     },
     "execution_count": 86,
     "metadata": {},
     "output_type": "execute_result"
    }
   ],
   "source": [
    "ar2"
   ]
  },
  {
   "cell_type": "code",
   "execution_count": 85,
   "id": "d36ac6de",
   "metadata": {},
   "outputs": [
    {
     "data": {
      "text/plain": [
       "array([[ 19],\n",
       "       [ 55],\n",
       "       [ 91],\n",
       "       [127]])"
      ]
     },
     "execution_count": 85,
     "metadata": {},
     "output_type": "execute_result"
    }
   ],
   "source": [
    "\n",
    "#모든 층 , 네번째행, 두번째 열 원소 선택, 1차원 배열로 작성\n",
    "ar2[:, [3],[1]]\n",
    "\n",
    "# # 또 다른 답\n",
    "# ar2[:, 3, 1]"
   ]
  },
  {
   "cell_type": "code",
   "execution_count": 119,
   "id": "da3e4418",
   "metadata": {},
   "outputs": [
    {
     "data": {
      "text/plain": [
       "array([[[28, 29],\n",
       "        [34, 35]],\n",
       "\n",
       "       [[64, 65],\n",
       "        [70, 71]]])"
      ]
     },
     "execution_count": 119,
     "metadata": {},
     "output_type": "execute_result"
    }
   ],
   "source": [
    "#배열의 첫 두 층, 마지막 두 행, 마지막 두 열 선택\n",
    "ar2[:2, 4:,4:]\n",
    "\n"
   ]
  },
  {
   "cell_type": "code",
   "execution_count": 122,
   "id": "84b936a7",
   "metadata": {},
   "outputs": [
    {
     "data": {
      "text/plain": [
       "array([[[28, 29],\n",
       "        [34, 35]],\n",
       "\n",
       "       [[64, 65],\n",
       "        [70, 71]]])"
      ]
     },
     "execution_count": 122,
     "metadata": {},
     "output_type": "execute_result"
    }
   ],
   "source": [
    "#또 다른 답\n",
    "\n",
    "ar2[:2,-2:,-2:]"
   ]
  },
  {
   "cell_type": "code",
   "execution_count": 92,
   "id": "95b2d176",
   "metadata": {},
   "outputs": [
    {
     "data": {
      "text/plain": [
       "array([[[  0,   1,   2,   3,   4,   5],\n",
       "        [  6,   7,   8,   9,  10,  11],\n",
       "        [ 12,  13,  14,  15,  16,  17],\n",
       "        [ 18,  19,  20,  21,  22,  23],\n",
       "        [ 24,  25,  26,  27,  28,  29],\n",
       "        [ 30,  31,  32,  33,  34,  35]],\n",
       "\n",
       "       [[ 36,  37,  38,  39,  40,  41],\n",
       "        [ 42,  43,  44,  45,  46,  47],\n",
       "        [ 48,  49,  50,  51,  52,  53],\n",
       "        [ 54,  55,  56,  57,  58,  59],\n",
       "        [ 60,  61,  62,  63,  64,  65],\n",
       "        [ 66,  67,  68,  69,  70,  71]],\n",
       "\n",
       "       [[ 72,  73,  74,  75,  76,  77],\n",
       "        [ 78,  79,  80,  81,  82,  83],\n",
       "        [ 84,  85,  86,  87,  88,  89],\n",
       "        [ 90,  91,  92,  93,  94,  95],\n",
       "        [ 96,  97,  98,  99, 100, 101],\n",
       "        [102, 103, 104, 105, 106, 107]],\n",
       "\n",
       "       [[108, 109, 110, 111, 112, 113],\n",
       "        [114, 115, 116, 117, 118, 119],\n",
       "        [120, 121, 122, 123, 124, 125],\n",
       "        [126, 127, 128, 129, 130, 131],\n",
       "        [132, 133, 134, 135, 136, 137],\n",
       "        [138, 139, 140, 141, 142, 143]]])"
      ]
     },
     "execution_count": 92,
     "metadata": {},
     "output_type": "execute_result"
    }
   ],
   "source": [
    "ar2"
   ]
  },
  {
   "cell_type": "code",
   "execution_count": 99,
   "id": "5d55ed60",
   "metadata": {},
   "outputs": [
    {
     "data": {
      "text/plain": [
       "array([[[  2],\n",
       "        [  8],\n",
       "        [ 14],\n",
       "        [ 20],\n",
       "        [ 26],\n",
       "        [ 32]],\n",
       "\n",
       "       [[ 74],\n",
       "        [ 80],\n",
       "        [ 86],\n",
       "        [ 92],\n",
       "        [ 98],\n",
       "        [104]]])"
      ]
     },
     "execution_count": 99,
     "metadata": {},
     "output_type": "execute_result"
    }
   ],
   "source": [
    "\n",
    "#짝수 인덱스층, 모든행의 세번째열 선택\n",
    "ar2[0:3:2, 0:6:1, 2:3:1]\n",
    "\n",
    "# ar2[::2,[:],[2]]\n",
    "\n"
   ]
  },
  {
   "cell_type": "code",
   "execution_count": 109,
   "id": "196b0af4",
   "metadata": {},
   "outputs": [
    {
     "data": {
      "text/plain": [
       "array([[  2,   8,  14,  20,  26,  32],\n",
       "       [ 74,  80,  86,  92,  98, 104]])"
      ]
     },
     "execution_count": 109,
     "metadata": {},
     "output_type": "execute_result"
    }
   ],
   "source": [
    "# 또 다른 답\n",
    "ar2[::2, [0,1,2,3,4,5], [2]] # 하나의 행과 열만 갖고 올거면 슬라이싱 해야함 "
   ]
  },
  {
   "cell_type": "code",
   "execution_count": 110,
   "id": "4343d08f",
   "metadata": {},
   "outputs": [
    {
     "ename": "IndexError",
     "evalue": "index 2 is out of bounds for axis 0 with size 2",
     "output_type": "error",
     "traceback": [
      "\u001b[31m---------------------------------------------------------------------------\u001b[39m",
      "\u001b[31mIndexError\u001b[39m                                Traceback (most recent call last)",
      "\u001b[36mCell\u001b[39m\u001b[36m \u001b[39m\u001b[32mIn[110]\u001b[39m\u001b[32m, line 1\u001b[39m\n\u001b[32m----> \u001b[39m\u001b[32m1\u001b[39m ar2[::\u001b[32m2\u001b[39m][:][\u001b[32m2\u001b[39m]\n",
      "\u001b[31mIndexError\u001b[39m: index 2 is out of bounds for axis 0 with size 2"
     ]
    }
   ],
   "source": [
    "ar2[::2][:][2]"
   ]
  },
  {
   "cell_type": "code",
   "execution_count": 232,
   "id": "01c534b8",
   "metadata": {},
   "outputs": [
    {
     "data": {
      "text/plain": [
       "array([[79, 81, 83],\n",
       "       [85, 87, 89],\n",
       "       [91, 93, 95]])"
      ]
     },
     "execution_count": 232,
     "metadata": {},
     "output_type": "execute_result"
    }
   ],
   "source": [
    "#세번째 층, 두번째 행에서 네번째 행, 홀수 인덱스 열\n",
    "ar2[-2, 1:4,1::2]"
   ]
  },
  {
   "cell_type": "code",
   "execution_count": 22,
   "id": "403ad4b1",
   "metadata": {},
   "outputs": [
    {
     "data": {
      "text/plain": [
       "array([[79, 81, 83],\n",
       "       [85, 87, 89],\n",
       "       [91, 93, 95]])"
      ]
     },
     "execution_count": 22,
     "metadata": {},
     "output_type": "execute_result"
    }
   ],
   "source": [
    "ar2[2,1:4,1::2]"
   ]
  },
  {
   "cell_type": "markdown",
   "id": "489c05e9",
   "metadata": {},
   "source": [
    "# 인덱싱 기법\n",
    "\n",
    "- 기본 인덱싱\n",
    "- 불리언 인덱싱\n",
    "- 팽시 인덱싱"
   ]
  },
  {
   "cell_type": "markdown",
   "id": "8b8ee94a",
   "metadata": {},
   "source": [
    "## 불리언 인덱싱\n",
    "\n",
    "비교연산자, 논리연산자를 이용한 마스크 행렬을 생성\n",
    "\n",
    "마스크 행렬을 이용한 인덱싱 "
   ]
  },
  {
   "cell_type": "code",
   "execution_count": 24,
   "id": "eddd25f6",
   "metadata": {},
   "outputs": [
    {
     "data": {
      "text/plain": [
       "array([ True,  True, False, False, False])"
      ]
     },
     "execution_count": 24,
     "metadata": {},
     "output_type": "execute_result"
    }
   ],
   "source": [
    "#부울행렬\n",
    "\n",
    "x = np.array([1,2,3,4,5])\n",
    "\n",
    "x < 3 "
   ]
  },
  {
   "cell_type": "code",
   "execution_count": 25,
   "id": "fc7367a3",
   "metadata": {},
   "outputs": [
    {
     "data": {
      "text/plain": [
       "array([ True,  True, False, False, False])"
      ]
     },
     "execution_count": 25,
     "metadata": {},
     "output_type": "execute_result"
    }
   ],
   "source": [
    "np.less(x,3)"
   ]
  },
  {
   "cell_type": "code",
   "execution_count": 26,
   "id": "5e9b4594",
   "metadata": {},
   "outputs": [
    {
     "data": {
      "text/plain": [
       "array([[False, False, False],\n",
       "       [False, False,  True]])"
      ]
     },
     "execution_count": 26,
     "metadata": {},
     "output_type": "execute_result"
    }
   ],
   "source": [
    "x1 = np.array([[1,2,3],[4,5,6]])\n",
    "x1.shape\n",
    "x1 > 5"
   ]
  },
  {
   "cell_type": "code",
   "execution_count": 27,
   "id": "bb440534",
   "metadata": {},
   "outputs": [
    {
     "data": {
      "text/plain": [
       "array([[False, False, False, False],\n",
       "       [False, False,  True,  True],\n",
       "       [ True,  True,  True,  True],\n",
       "       [ True,  True,  True,  True],\n",
       "       [ True,  True,  True,  True],\n",
       "       [ True,  True,  True,  True],\n",
       "       [ True,  True,  True,  True]])"
      ]
     },
     "execution_count": 27,
     "metadata": {},
     "output_type": "execute_result"
    }
   ],
   "source": [
    "data = np.arange(28).reshape(7,4)\n",
    "data > 5"
   ]
  },
  {
   "cell_type": "code",
   "execution_count": 28,
   "id": "3603afed",
   "metadata": {},
   "outputs": [
    {
     "data": {
      "text/plain": [
       "array([ 6,  7,  8,  9, 10, 11, 12, 13, 14, 15, 16, 17, 18, 19, 20, 21, 22,\n",
       "       23, 24, 25, 26, 27])"
      ]
     },
     "execution_count": 28,
     "metadata": {},
     "output_type": "execute_result"
    }
   ],
   "source": [
    "data[data>5] ## 조건에 맞는 값 추출 > 1차원"
   ]
  },
  {
   "cell_type": "code",
   "execution_count": 80,
   "id": "0c106fa6",
   "metadata": {},
   "outputs": [
    {
     "data": {
      "text/plain": [
       "array(['Bob', 'Joe', 'Will', 'Bob', 'Will', 'Joe', 'Joe'], dtype='<U4')"
      ]
     },
     "execution_count": 80,
     "metadata": {},
     "output_type": "execute_result"
    }
   ],
   "source": [
    "name = np.array(['Bob','Joe', 'Will','Bob','Will',\"Joe\",'Joe'])\n",
    "name"
   ]
  },
  {
   "cell_type": "code",
   "execution_count": 40,
   "id": "d0b2b9db",
   "metadata": {},
   "outputs": [
    {
     "data": {
      "text/plain": [
       "array([ True, False, False,  True, False, False, False])"
      ]
     },
     "execution_count": 40,
     "metadata": {},
     "output_type": "execute_result"
    }
   ],
   "source": [
    "name == 'Bob'"
   ]
  },
  {
   "cell_type": "code",
   "execution_count": 41,
   "id": "22fb045c",
   "metadata": {},
   "outputs": [
    {
     "data": {
      "text/plain": [
       "array([[ 0,  1,  2,  3],\n",
       "       [ 4,  5,  6,  7],\n",
       "       [ 8,  9, 10, 11],\n",
       "       [12, 13, 14, 15],\n",
       "       [16, 17, 18, 19],\n",
       "       [20, 21, 22, 23],\n",
       "       [24, 25, 26, 27]])"
      ]
     },
     "execution_count": 41,
     "metadata": {},
     "output_type": "execute_result"
    }
   ],
   "source": [
    "data"
   ]
  },
  {
   "cell_type": "code",
   "execution_count": 42,
   "id": "57855940",
   "metadata": {},
   "outputs": [
    {
     "data": {
      "text/plain": [
       "array([[ 0,  1,  2,  3],\n",
       "       [12, 13, 14, 15]])"
      ]
     },
     "execution_count": 42,
     "metadata": {},
     "output_type": "execute_result"
    }
   ],
   "source": [
    "data[name=='Bob']"
   ]
  },
  {
   "cell_type": "code",
   "execution_count": 76,
   "id": "728da638",
   "metadata": {},
   "outputs": [
    {
     "data": {
      "text/plain": [
       "array([[ 0,  1,  2,  3],\n",
       "       [12, 13, 14, 15]])"
      ]
     },
     "execution_count": 76,
     "metadata": {},
     "output_type": "execute_result"
    }
   ],
   "source": [
    "data[name=='Bob', :]"
   ]
  },
  {
   "cell_type": "code",
   "execution_count": 75,
   "id": "643b4eeb",
   "metadata": {},
   "outputs": [
    {
     "data": {
      "text/plain": [
       "array([ 1, 13])"
      ]
     },
     "execution_count": 75,
     "metadata": {},
     "output_type": "execute_result"
    }
   ],
   "source": [
    "data[name=='Bob', 1]"
   ]
  },
  {
   "cell_type": "code",
   "execution_count": 74,
   "id": "1d89f9a5",
   "metadata": {},
   "outputs": [
    {
     "data": {
      "text/plain": [
       "array([ 6,  7,  8,  9, 10, 11, 12, 13, 14, 15, 16, 17, 18, 19, 20, 21, 22,\n",
       "       23, 24, 25, 26, 27])"
      ]
     },
     "execution_count": 74,
     "metadata": {},
     "output_type": "execute_result"
    }
   ],
   "source": [
    "data[data>5]"
   ]
  },
  {
   "cell_type": "code",
   "execution_count": null,
   "id": "85b76252",
   "metadata": {},
   "outputs": [],
   "source": [
    "## 조건식의 규칠\n",
    "\n",
    "- 조건식으로 사용할 행렬의 값이 문자여도 결과만 True/False 식으로 나오면 필터가 된다.\n",
    "- 필터로 사용할 행렬의 갯수 == 원본 데이터의 갯수 : \"짝이 맞아야 한다\" 아니면 indexerr가 나옴 \n",
    "- 행렬[조건식, ] \n",
    "- 행렬[:,조건식]\n",
    "- 괄호() 로 우선순위를 지정할 수 있음 \n",
    "- 복합조건 : 논리함수 and, or > 불리언 인덱싱에선 and > & , or > |로 표현한다\n",
    "- 부정연산자 : != , ~ \n",
    " "
   ]
  },
  {
   "cell_type": "code",
   "execution_count": 65,
   "id": "cf36c45e",
   "metadata": {},
   "outputs": [
    {
     "ename": "IndexError",
     "evalue": "boolean index did not match indexed array along axis 0; size of axis is 7 but size of corresponding boolean axis is 3",
     "output_type": "error",
     "traceback": [
      "\u001b[31m---------------------------------------------------------------------------\u001b[39m",
      "\u001b[31mIndexError\u001b[39m                                Traceback (most recent call last)",
      "\u001b[36mCell\u001b[39m\u001b[36m \u001b[39m\u001b[32mIn[65]\u001b[39m\u001b[32m, line 3\u001b[39m\n\u001b[32m      1\u001b[39m name\n\u001b[32m      2\u001b[39m name1 = np.array([\u001b[33m'\u001b[39m\u001b[33mBob\u001b[39m\u001b[33m'\u001b[39m, \u001b[33m'\u001b[39m\u001b[33mJoe\u001b[39m\u001b[33m'\u001b[39m,\u001b[33m'\u001b[39m\u001b[33mWill\u001b[39m\u001b[33m'\u001b[39m])\n\u001b[32m----> \u001b[39m\u001b[32m3\u001b[39m data[name1 == \u001b[33m'\u001b[39m\u001b[33mBob\u001b[39m\u001b[33m'\u001b[39m]\n",
      "\u001b[31mIndexError\u001b[39m: boolean index did not match indexed array along axis 0; size of axis is 7 but size of corresponding boolean axis is 3"
     ]
    }
   ],
   "source": [
    "name\n",
    "name1 = np.array(['Bob', 'Joe','Will'])\n",
    "data[name1 == 'Bob'] # 행렬 수가 안맞아서 안됨 "
   ]
  },
  {
   "cell_type": "code",
   "execution_count": 81,
   "id": "5535cf6f",
   "metadata": {},
   "outputs": [
    {
     "data": {
      "text/plain": [
       "(array(['Bob', 'Joe', 'Will', 'Bob', 'Will', 'Joe', 'Joe'], dtype='<U4'),\n",
       " array([[ 0,  1,  2,  3],\n",
       "        [ 4,  5,  6,  7],\n",
       "        [ 8,  9, 10, 11],\n",
       "        [12, 13, 14, 15],\n",
       "        [16, 17, 18, 19],\n",
       "        [20, 21, 22, 23],\n",
       "        [24, 25, 26, 27]]))"
      ]
     },
     "execution_count": 81,
     "metadata": {},
     "output_type": "execute_result"
    }
   ],
   "source": [
    "name , data"
   ]
  },
  {
   "cell_type": "code",
   "execution_count": 82,
   "id": "575cc7a9",
   "metadata": {},
   "outputs": [],
   "source": [
    "mask = ( name == 'Bob') | (name=='Will')"
   ]
  },
  {
   "cell_type": "code",
   "execution_count": 77,
   "id": "fc369a33",
   "metadata": {},
   "outputs": [
    {
     "data": {
      "text/plain": [
       "array([[ 0,  1,  2,  3],\n",
       "       [12, 13, 14, 15]])"
      ]
     },
     "execution_count": 77,
     "metadata": {},
     "output_type": "execute_result"
    }
   ],
   "source": [
    "data[name=='Bob']"
   ]
  },
  {
   "cell_type": "code",
   "execution_count": 83,
   "id": "5e580c22",
   "metadata": {},
   "outputs": [
    {
     "data": {
      "text/plain": [
       "array([[ 0,  1,  2,  3],\n",
       "       [ 8,  9, 10, 11],\n",
       "       [12, 13, 14, 15],\n",
       "       [16, 17, 18, 19]])"
      ]
     },
     "execution_count": 83,
     "metadata": {},
     "output_type": "execute_result"
    }
   ],
   "source": [
    "data[mask]"
   ]
  },
  {
   "cell_type": "markdown",
   "id": "9ec52552",
   "metadata": {},
   "source": [
    "## 팬시 인덱싱\n",
    "\n",
    " - 행, 열의 순서를 바꿀 수 있다. \n",
    " - 정수 리스트를 인덱스로 사용\n"
   ]
  },
  {
   "cell_type": "code",
   "execution_count": 123,
   "id": "a78d7130",
   "metadata": {},
   "outputs": [
    {
     "data": {
      "text/plain": [
       "array([[ 0,  1,  2,  3],\n",
       "       [ 4,  5,  6,  7],\n",
       "       [ 8,  9, 10, 11],\n",
       "       [12, 13, 14, 15],\n",
       "       [16, 17, 18, 19],\n",
       "       [20, 21, 22, 23],\n",
       "       [24, 25, 26, 27]])"
      ]
     },
     "execution_count": 123,
     "metadata": {},
     "output_type": "execute_result"
    }
   ],
   "source": [
    "data #(7,)"
   ]
  },
  {
   "cell_type": "code",
   "execution_count": 125,
   "id": "e290e088",
   "metadata": {},
   "outputs": [
    {
     "data": {
      "text/plain": [
       "array([[12, 13, 14, 15],\n",
       "       [ 4,  5,  6,  7],\n",
       "       [ 8,  9, 10, 11],\n",
       "       [ 0,  1,  2,  3]])"
      ]
     },
     "execution_count": 125,
     "metadata": {},
     "output_type": "execute_result"
    }
   ],
   "source": [
    "data[[3,1,2,0]]"
   ]
  },
  {
   "cell_type": "code",
   "execution_count": 127,
   "id": "98079d33",
   "metadata": {},
   "outputs": [
    {
     "data": {
      "text/plain": [
       "array([[1.16281073e-311, 1.03259720e-321, 0.00000000e+000,\n",
       "        0.00000000e+000],\n",
       "       [0.00000000e+000, 5.02034658e+175, 5.75204117e-066,\n",
       "        5.02907387e-037],\n",
       "       [4.55706100e-037, 3.34412004e-061, 3.34571668e-033,\n",
       "        2.00416438e-052],\n",
       "       [3.83819517e+151, 2.59903818e-144, 4.31908309e-096,\n",
       "        2.14027814e+161],\n",
       "       [1.47762371e+248, 4.30625279e-096, 4.82337723e+228,\n",
       "        5.55259943e+170],\n",
       "       [2.61633661e+180, 5.49489399e+170, 1.60026128e+160,\n",
       "        4.26507245e-096],\n",
       "       [1.16097020e-028, 1.26121729e-076, 2.29574742e-028,\n",
       "        2.10694085e-052],\n",
       "       [1.04917183e-153, 9.08366791e+223, 6.14415221e-144,\n",
       "        5.81186265e+294]])"
      ]
     },
     "execution_count": 127,
     "metadata": {},
     "output_type": "execute_result"
    }
   ],
   "source": [
    "arr = np.empty((8,4))\n",
    "\n",
    "arr"
   ]
  },
  {
   "cell_type": "code",
   "execution_count": 129,
   "id": "8eb96963",
   "metadata": {},
   "outputs": [
    {
     "data": {
      "text/plain": [
       "array([[0., 0., 0., 0.],\n",
       "       [1., 1., 1., 1.],\n",
       "       [2., 2., 2., 2.],\n",
       "       [3., 3., 3., 3.],\n",
       "       [4., 4., 4., 4.],\n",
       "       [5., 5., 5., 5.],\n",
       "       [6., 6., 6., 6.],\n",
       "       [7., 7., 7., 7.]])"
      ]
     },
     "execution_count": 129,
     "metadata": {},
     "output_type": "execute_result"
    }
   ],
   "source": [
    "for i in range(8):\n",
    "    arr[i] = i\n",
    "    \n",
    "arr"
   ]
  },
  {
   "cell_type": "code",
   "execution_count": 130,
   "id": "4075b55b",
   "metadata": {},
   "outputs": [
    {
     "data": {
      "text/plain": [
       "array([[3., 3., 3., 3.],\n",
       "       [5., 5., 5., 5.]])"
      ]
     },
     "execution_count": 130,
     "metadata": {},
     "output_type": "execute_result"
    }
   ],
   "source": [
    "arr[[3,5]]"
   ]
  },
  {
   "cell_type": "code",
   "execution_count": 134,
   "id": "d9b66553",
   "metadata": {},
   "outputs": [
    {
     "data": {
      "text/plain": [
       "array([1., 5., 7., 2.])"
      ]
     },
     "execution_count": 134,
     "metadata": {},
     "output_type": "execute_result"
    }
   ],
   "source": [
    "# (1,0) :1 (5,3):5 vos\n",
    "arr[[1,5,7,2],[0,3,1,2]]"
   ]
  },
  {
   "cell_type": "code",
   "execution_count": null,
   "id": "f18ffed9",
   "metadata": {},
   "outputs": [],
   "source": []
  }
 ],
 "metadata": {
  "kernelspec": {
   "display_name": "hipython",
   "language": "python",
   "name": "python3"
  },
  "language_info": {
   "codemirror_mode": {
    "name": "ipython",
    "version": 3
   },
   "file_extension": ".py",
   "mimetype": "text/x-python",
   "name": "python",
   "nbconvert_exporter": "python",
   "pygments_lexer": "ipython3",
   "version": "3.12.9"
  }
 },
 "nbformat": 4,
 "nbformat_minor": 5
}
