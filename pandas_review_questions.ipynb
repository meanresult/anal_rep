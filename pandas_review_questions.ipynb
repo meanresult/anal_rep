{
  "cells": [
    {
      "cell_type": "markdown",
      "metadata": {},
      "source": [
        "# 📘 Pandas 복습 문제\n",
        "\n",
        "아래는 오늘 학습한 내용을 복습할 수 있는 문제입니다.\n"
      ]
    },
    {
      "cell_type": "markdown",
      "metadata": {},
      "source": [
        "### 1. Pandas란 무엇이며, 데이터 엔지니어가 왜 Pandas를 사용해야 하는지 서술하세요."
      ]
    },
    {
      "cell_type": "markdown",
      "id": "2f85c9ad",
      "metadata": {},
      "source": [
        "데이터엔지니어는 대량의 데이터를 수집, 정제, 가공하는 역할을 맡습니다. 이 과정에서 데이터를 표 형태로 다루는 일이 매우 많은데, Pandas는 이 과정을 빠르고 쉽게 처리할 수 있도록 도와주는 필수 도구입니다.\n",
        "\n",
        "예를들어: CSV, EXECL, SQL 등 다양한 소스의 데이터를 불러와 가공\n",
        "결측값 처리, 열/행 추가 및 삭제, 인덱싱 등 데이터 전처리\n",
        "통계 요약, 그룹화 필터링 등 분석 전처리 단계에 쓰입니다\n",
        "\n",
        "결국 Pandas는 데이터를 엑셀처럼 쉽게 다룰 수 있게 도와주는 파이썬 도구 입니다."
      ]
    },
    {
      "cell_type": "markdown",
      "metadata": {},
      "source": [
        "### 2. Series와 DataFrame의 차이를 표로 정리해보세요."
      ]
    },
    {
      "cell_type": "markdown",
      "id": "cc9b84ab",
      "metadata": {
        "vscode": {
          "languageId": "plaintext"
        }
      },
      "source": [
        "Series는 일렬로 정리된 데이터 즉, 1차원 데이터이고 DataFrame은 행과 열로 이루어진 2차원 데이터 입니다.\n",
        "\n"
      ]
    },
    {
      "cell_type": "markdown",
      "metadata": {},
      "source": [
        "### 3. 다음 리스트를 Series로 변환하는 코드를 작성하세요.\n",
        "   data = [10, 20, 30, 40]"
      ]
    },
    {
      "cell_type": "code",
      "execution_count": 12,
      "id": "28fd4b94",
      "metadata": {},
      "outputs": [
        {
          "data": {
            "text/plain": [
              "pandas.core.series.Series"
            ]
          },
          "execution_count": 12,
          "metadata": {},
          "output_type": "execute_result"
        }
      ],
      "source": [
        "data1 = [10, 20, 30, 40]\n",
        "\n",
        "import pandas as pd\n",
        "\n",
        "dt = pd.Series(data1)\n",
        "\n",
        "type(dt)"
      ]
    },
    {
      "cell_type": "markdown",
      "metadata": {},
      "source": [
        "### 4. 다음과 같은 딕셔너리를 이용하여 Series를 생성하는 코드를 작성하세요.\n",
        "   data = {'a': 1, 'b': 2, 'c': 3}"
      ]
    },
    {
      "cell_type": "code",
      "execution_count": 13,
      "id": "acb51dfd",
      "metadata": {},
      "outputs": [
        {
          "data": {
            "text/plain": [
              "a    1\n",
              "b    2\n",
              "c    3\n",
              "dtype: int64"
            ]
          },
          "execution_count": 13,
          "metadata": {},
          "output_type": "execute_result"
        }
      ],
      "source": [
        "data_3 = {'a': 1, 'b': 2, 'c': 3}\n",
        "\n",
        "dt2 = pd.Series(data_3)\n",
        "\n",
        "dt2"
      ]
    },
    {
      "cell_type": "markdown",
      "metadata": {},
      "source": [
        "### 5. 다음 데이터를 이용해 DataFrame을 생성하고, 열 이름을 '이름', '나이', '성적'으로 설정하세요.\n",
        "   data = [['영희', 23, 90], ['철수', 25, 85], ['민수', 21, 78]]"
      ]
    },
    {
      "cell_type": "code",
      "execution_count": 14,
      "id": "3187a761",
      "metadata": {},
      "outputs": [
        {
          "data": {
            "text/html": [
              "<div>\n",
              "<style scoped>\n",
              "    .dataframe tbody tr th:only-of-type {\n",
              "        vertical-align: middle;\n",
              "    }\n",
              "\n",
              "    .dataframe tbody tr th {\n",
              "        vertical-align: top;\n",
              "    }\n",
              "\n",
              "    .dataframe thead th {\n",
              "        text-align: right;\n",
              "    }\n",
              "</style>\n",
              "<table border=\"1\" class=\"dataframe\">\n",
              "  <thead>\n",
              "    <tr style=\"text-align: right;\">\n",
              "      <th></th>\n",
              "      <th>이름</th>\n",
              "      <th>나이</th>\n",
              "      <th>성적</th>\n",
              "    </tr>\n",
              "  </thead>\n",
              "  <tbody>\n",
              "    <tr>\n",
              "      <th>0</th>\n",
              "      <td>영희</td>\n",
              "      <td>23</td>\n",
              "      <td>90</td>\n",
              "    </tr>\n",
              "    <tr>\n",
              "      <th>1</th>\n",
              "      <td>철수</td>\n",
              "      <td>25</td>\n",
              "      <td>85</td>\n",
              "    </tr>\n",
              "    <tr>\n",
              "      <th>2</th>\n",
              "      <td>민수</td>\n",
              "      <td>21</td>\n",
              "      <td>78</td>\n",
              "    </tr>\n",
              "  </tbody>\n",
              "</table>\n",
              "</div>"
            ],
            "text/plain": [
              "   이름  나이  성적\n",
              "0  영희  23  90\n",
              "1  철수  25  85\n",
              "2  민수  21  78"
            ]
          },
          "execution_count": 14,
          "metadata": {},
          "output_type": "execute_result"
        }
      ],
      "source": [
        "dt_1 = [['영희', 23, 90], ['철수', 25, 85], ['민수', 21, 78]]\n",
        "\n",
        "dt3 = pd.DataFrame(dt_1, columns=['이름','나이','성적'])\n",
        "dt3\n"
      ]
    },
    {
      "cell_type": "markdown",
      "metadata": {},
      "source": [
        "### 6. DataFrame에서 처음 3개의 행만 출력하는 코드를 작성하세요."
      ]
    },
    {
      "cell_type": "code",
      "execution_count": 15,
      "id": "55ae68f5",
      "metadata": {},
      "outputs": [],
      "source": [
        "dt3.loc[3] = ['지훈',31,100]"
      ]
    },
    {
      "cell_type": "code",
      "execution_count": 16,
      "id": "f60801d8",
      "metadata": {},
      "outputs": [
        {
          "data": {
            "text/html": [
              "<div>\n",
              "<style scoped>\n",
              "    .dataframe tbody tr th:only-of-type {\n",
              "        vertical-align: middle;\n",
              "    }\n",
              "\n",
              "    .dataframe tbody tr th {\n",
              "        vertical-align: top;\n",
              "    }\n",
              "\n",
              "    .dataframe thead th {\n",
              "        text-align: right;\n",
              "    }\n",
              "</style>\n",
              "<table border=\"1\" class=\"dataframe\">\n",
              "  <thead>\n",
              "    <tr style=\"text-align: right;\">\n",
              "      <th></th>\n",
              "      <th>이름</th>\n",
              "      <th>나이</th>\n",
              "      <th>성적</th>\n",
              "    </tr>\n",
              "  </thead>\n",
              "  <tbody>\n",
              "    <tr>\n",
              "      <th>0</th>\n",
              "      <td>영희</td>\n",
              "      <td>23</td>\n",
              "      <td>90</td>\n",
              "    </tr>\n",
              "    <tr>\n",
              "      <th>1</th>\n",
              "      <td>철수</td>\n",
              "      <td>25</td>\n",
              "      <td>85</td>\n",
              "    </tr>\n",
              "    <tr>\n",
              "      <th>2</th>\n",
              "      <td>민수</td>\n",
              "      <td>21</td>\n",
              "      <td>78</td>\n",
              "    </tr>\n",
              "  </tbody>\n",
              "</table>\n",
              "</div>"
            ],
            "text/plain": [
              "   이름  나이  성적\n",
              "0  영희  23  90\n",
              "1  철수  25  85\n",
              "2  민수  21  78"
            ]
          },
          "execution_count": 16,
          "metadata": {},
          "output_type": "execute_result"
        }
      ],
      "source": [
        "dt3.iloc[:3,:]"
      ]
    },
    {
      "cell_type": "code",
      "execution_count": 17,
      "id": "eae53c56",
      "metadata": {},
      "outputs": [
        {
          "data": {
            "text/html": [
              "<div>\n",
              "<style scoped>\n",
              "    .dataframe tbody tr th:only-of-type {\n",
              "        vertical-align: middle;\n",
              "    }\n",
              "\n",
              "    .dataframe tbody tr th {\n",
              "        vertical-align: top;\n",
              "    }\n",
              "\n",
              "    .dataframe thead th {\n",
              "        text-align: right;\n",
              "    }\n",
              "</style>\n",
              "<table border=\"1\" class=\"dataframe\">\n",
              "  <thead>\n",
              "    <tr style=\"text-align: right;\">\n",
              "      <th></th>\n",
              "      <th>이름</th>\n",
              "      <th>나이</th>\n",
              "      <th>성적</th>\n",
              "    </tr>\n",
              "  </thead>\n",
              "  <tbody>\n",
              "    <tr>\n",
              "      <th>0</th>\n",
              "      <td>영희</td>\n",
              "      <td>23</td>\n",
              "      <td>90</td>\n",
              "    </tr>\n",
              "    <tr>\n",
              "      <th>1</th>\n",
              "      <td>철수</td>\n",
              "      <td>25</td>\n",
              "      <td>85</td>\n",
              "    </tr>\n",
              "    <tr>\n",
              "      <th>2</th>\n",
              "      <td>민수</td>\n",
              "      <td>21</td>\n",
              "      <td>78</td>\n",
              "    </tr>\n",
              "  </tbody>\n",
              "</table>\n",
              "</div>"
            ],
            "text/plain": [
              "   이름  나이  성적\n",
              "0  영희  23  90\n",
              "1  철수  25  85\n",
              "2  민수  21  78"
            ]
          },
          "execution_count": 17,
          "metadata": {},
          "output_type": "execute_result"
        }
      ],
      "source": [
        "dt3.iloc[[0,1,2],:] #인덱싱 할 거면 괄호!!! 슬라이싱할거면 괄호 없이 "
      ]
    },
    {
      "cell_type": "code",
      "execution_count": 18,
      "id": "a350beab",
      "metadata": {},
      "outputs": [
        {
          "data": {
            "text/html": [
              "<div>\n",
              "<style scoped>\n",
              "    .dataframe tbody tr th:only-of-type {\n",
              "        vertical-align: middle;\n",
              "    }\n",
              "\n",
              "    .dataframe tbody tr th {\n",
              "        vertical-align: top;\n",
              "    }\n",
              "\n",
              "    .dataframe thead th {\n",
              "        text-align: right;\n",
              "    }\n",
              "</style>\n",
              "<table border=\"1\" class=\"dataframe\">\n",
              "  <thead>\n",
              "    <tr style=\"text-align: right;\">\n",
              "      <th></th>\n",
              "      <th>이름</th>\n",
              "      <th>나이</th>\n",
              "      <th>성적</th>\n",
              "    </tr>\n",
              "  </thead>\n",
              "  <tbody>\n",
              "    <tr>\n",
              "      <th>0</th>\n",
              "      <td>영희</td>\n",
              "      <td>23</td>\n",
              "      <td>90</td>\n",
              "    </tr>\n",
              "    <tr>\n",
              "      <th>1</th>\n",
              "      <td>철수</td>\n",
              "      <td>25</td>\n",
              "      <td>85</td>\n",
              "    </tr>\n",
              "    <tr>\n",
              "      <th>2</th>\n",
              "      <td>민수</td>\n",
              "      <td>21</td>\n",
              "      <td>78</td>\n",
              "    </tr>\n",
              "  </tbody>\n",
              "</table>\n",
              "</div>"
            ],
            "text/plain": [
              "   이름  나이  성적\n",
              "0  영희  23  90\n",
              "1  철수  25  85\n",
              "2  민수  21  78"
            ]
          },
          "execution_count": 18,
          "metadata": {},
          "output_type": "execute_result"
        }
      ],
      "source": [
        "dt3.iloc[0:3,:]"
      ]
    },
    {
      "cell_type": "markdown",
      "metadata": {},
      "source": [
        "### 7. DataFrame의 구조(행/열 수, 열별 데이터 타입 등)를 확인하는 방법을 코드로 작성하세요."
      ]
    },
    {
      "cell_type": "code",
      "execution_count": 21,
      "id": "9db4b333",
      "metadata": {},
      "outputs": [
        {
          "name": "stdout",
          "output_type": "stream",
          "text": [
            "<class 'pandas.core.frame.DataFrame'>\n",
            "Index: 4 entries, 0 to 3\n",
            "Data columns (total 3 columns):\n",
            " #   Column  Non-Null Count  Dtype \n",
            "---  ------  --------------  ----- \n",
            " 0   이름      4 non-null      object\n",
            " 1   나이      4 non-null      int64 \n",
            " 2   성적      4 non-null      int64 \n",
            "dtypes: int64(2), object(1)\n",
            "memory usage: 128.0+ bytes\n"
          ]
        }
      ],
      "source": [
        "dt3.info()"
      ]
    },
    {
      "cell_type": "markdown",
      "metadata": {},
      "source": [
        "### 8. DataFrame에서 '나이' 열만 선택하는 코드를 작성하세요."
      ]
    },
    {
      "cell_type": "code",
      "execution_count": 23,
      "id": "b19e742d",
      "metadata": {},
      "outputs": [
        {
          "data": {
            "text/plain": [
              "0    23\n",
              "1    25\n",
              "2    21\n",
              "3    31\n",
              "Name: 나이, dtype: int64"
            ]
          },
          "execution_count": 23,
          "metadata": {},
          "output_type": "execute_result"
        }
      ],
      "source": [
        "dt3.iloc[:,1]"
      ]
    },
    {
      "cell_type": "markdown",
      "metadata": {},
      "source": [
        "### 9. '나이'가 23세 이상인 사람들만 출력하는 코드를 작성하세요."
      ]
    },
    {
      "cell_type": "code",
      "execution_count": 24,
      "id": "26f6345e",
      "metadata": {},
      "outputs": [
        {
          "data": {
            "text/html": [
              "<div>\n",
              "<style scoped>\n",
              "    .dataframe tbody tr th:only-of-type {\n",
              "        vertical-align: middle;\n",
              "    }\n",
              "\n",
              "    .dataframe tbody tr th {\n",
              "        vertical-align: top;\n",
              "    }\n",
              "\n",
              "    .dataframe thead th {\n",
              "        text-align: right;\n",
              "    }\n",
              "</style>\n",
              "<table border=\"1\" class=\"dataframe\">\n",
              "  <thead>\n",
              "    <tr style=\"text-align: right;\">\n",
              "      <th></th>\n",
              "      <th>이름</th>\n",
              "      <th>나이</th>\n",
              "      <th>성적</th>\n",
              "    </tr>\n",
              "  </thead>\n",
              "  <tbody>\n",
              "    <tr>\n",
              "      <th>0</th>\n",
              "      <td>영희</td>\n",
              "      <td>23</td>\n",
              "      <td>90</td>\n",
              "    </tr>\n",
              "    <tr>\n",
              "      <th>1</th>\n",
              "      <td>철수</td>\n",
              "      <td>25</td>\n",
              "      <td>85</td>\n",
              "    </tr>\n",
              "    <tr>\n",
              "      <th>3</th>\n",
              "      <td>지훈</td>\n",
              "      <td>31</td>\n",
              "      <td>100</td>\n",
              "    </tr>\n",
              "  </tbody>\n",
              "</table>\n",
              "</div>"
            ],
            "text/plain": [
              "   이름  나이   성적\n",
              "0  영희  23   90\n",
              "1  철수  25   85\n",
              "3  지훈  31  100"
            ]
          },
          "execution_count": 24,
          "metadata": {},
          "output_type": "execute_result"
        }
      ],
      "source": [
        "dt3[dt3['나이']>=23]"
      ]
    },
    {
      "cell_type": "markdown",
      "metadata": {},
      "source": [
        "### 10. DataFrame에 '성별' 열을 추가하고, ['여', '남', '남'] 데이터를 입력하는 코드를 작성하세요."
      ]
    },
    {
      "cell_type": "code",
      "execution_count": 31,
      "id": "7b6fe5fa",
      "metadata": {},
      "outputs": [],
      "source": [
        "dt3['성별'] = ['여', '남', '남','남'] \n",
        "dt3.insert(loc=4, column='반', value=['1반','1반','2반','2반'])\n"
      ]
    },
    {
      "cell_type": "code",
      "execution_count": 32,
      "id": "fd6ede46",
      "metadata": {},
      "outputs": [
        {
          "data": {
            "text/html": [
              "<div>\n",
              "<style scoped>\n",
              "    .dataframe tbody tr th:only-of-type {\n",
              "        vertical-align: middle;\n",
              "    }\n",
              "\n",
              "    .dataframe tbody tr th {\n",
              "        vertical-align: top;\n",
              "    }\n",
              "\n",
              "    .dataframe thead th {\n",
              "        text-align: right;\n",
              "    }\n",
              "</style>\n",
              "<table border=\"1\" class=\"dataframe\">\n",
              "  <thead>\n",
              "    <tr style=\"text-align: right;\">\n",
              "      <th></th>\n",
              "      <th>이름</th>\n",
              "      <th>나이</th>\n",
              "      <th>성적</th>\n",
              "      <th>성별</th>\n",
              "      <th>반</th>\n",
              "    </tr>\n",
              "  </thead>\n",
              "  <tbody>\n",
              "    <tr>\n",
              "      <th>0</th>\n",
              "      <td>영희</td>\n",
              "      <td>23</td>\n",
              "      <td>90</td>\n",
              "      <td>여</td>\n",
              "      <td>1반</td>\n",
              "    </tr>\n",
              "    <tr>\n",
              "      <th>1</th>\n",
              "      <td>철수</td>\n",
              "      <td>25</td>\n",
              "      <td>85</td>\n",
              "      <td>남</td>\n",
              "      <td>1반</td>\n",
              "    </tr>\n",
              "    <tr>\n",
              "      <th>2</th>\n",
              "      <td>민수</td>\n",
              "      <td>21</td>\n",
              "      <td>78</td>\n",
              "      <td>남</td>\n",
              "      <td>2반</td>\n",
              "    </tr>\n",
              "    <tr>\n",
              "      <th>3</th>\n",
              "      <td>지훈</td>\n",
              "      <td>31</td>\n",
              "      <td>100</td>\n",
              "      <td>남</td>\n",
              "      <td>2반</td>\n",
              "    </tr>\n",
              "  </tbody>\n",
              "</table>\n",
              "</div>"
            ],
            "text/plain": [
              "   이름  나이   성적 성별   반\n",
              "0  영희  23   90  여  1반\n",
              "1  철수  25   85  남  1반\n",
              "2  민수  21   78  남  2반\n",
              "3  지훈  31  100  남  2반"
            ]
          },
          "execution_count": 32,
          "metadata": {},
          "output_type": "execute_result"
        }
      ],
      "source": [
        "dt3"
      ]
    },
    {
      "cell_type": "markdown",
      "metadata": {},
      "source": [
        "### 11. DataFrame에서 '성적' 열을 삭제하는 코드를 작성하세요."
      ]
    },
    {
      "cell_type": "code",
      "execution_count": 35,
      "id": "85ada0f2",
      "metadata": {},
      "outputs": [
        {
          "data": {
            "text/html": [
              "<div>\n",
              "<style scoped>\n",
              "    .dataframe tbody tr th:only-of-type {\n",
              "        vertical-align: middle;\n",
              "    }\n",
              "\n",
              "    .dataframe tbody tr th {\n",
              "        vertical-align: top;\n",
              "    }\n",
              "\n",
              "    .dataframe thead th {\n",
              "        text-align: right;\n",
              "    }\n",
              "</style>\n",
              "<table border=\"1\" class=\"dataframe\">\n",
              "  <thead>\n",
              "    <tr style=\"text-align: right;\">\n",
              "      <th></th>\n",
              "      <th>이름</th>\n",
              "      <th>나이</th>\n",
              "      <th>성별</th>\n",
              "      <th>반</th>\n",
              "    </tr>\n",
              "  </thead>\n",
              "  <tbody>\n",
              "    <tr>\n",
              "      <th>0</th>\n",
              "      <td>영희</td>\n",
              "      <td>23</td>\n",
              "      <td>여</td>\n",
              "      <td>1반</td>\n",
              "    </tr>\n",
              "    <tr>\n",
              "      <th>1</th>\n",
              "      <td>철수</td>\n",
              "      <td>25</td>\n",
              "      <td>남</td>\n",
              "      <td>1반</td>\n",
              "    </tr>\n",
              "    <tr>\n",
              "      <th>2</th>\n",
              "      <td>민수</td>\n",
              "      <td>21</td>\n",
              "      <td>남</td>\n",
              "      <td>2반</td>\n",
              "    </tr>\n",
              "    <tr>\n",
              "      <th>3</th>\n",
              "      <td>지훈</td>\n",
              "      <td>31</td>\n",
              "      <td>남</td>\n",
              "      <td>2반</td>\n",
              "    </tr>\n",
              "  </tbody>\n",
              "</table>\n",
              "</div>"
            ],
            "text/plain": [
              "   이름  나이 성별   반\n",
              "0  영희  23  여  1반\n",
              "1  철수  25  남  1반\n",
              "2  민수  21  남  2반\n",
              "3  지훈  31  남  2반"
            ]
          },
          "execution_count": 35,
          "metadata": {},
          "output_type": "execute_result"
        }
      ],
      "source": [
        "dt3.drop('성적',axis=1)"
      ]
    },
    {
      "cell_type": "markdown",
      "metadata": {},
      "source": [
        "### 12. DataFrame의 인덱스를 ['1반', '2반', '3반']으로 변경하는 코드를 작성하세요."
      ]
    },
    {
      "cell_type": "code",
      "execution_count": 37,
      "id": "8a8d8f6a",
      "metadata": {},
      "outputs": [
        {
          "data": {
            "text/html": [
              "<div>\n",
              "<style scoped>\n",
              "    .dataframe tbody tr th:only-of-type {\n",
              "        vertical-align: middle;\n",
              "    }\n",
              "\n",
              "    .dataframe tbody tr th {\n",
              "        vertical-align: top;\n",
              "    }\n",
              "\n",
              "    .dataframe thead th {\n",
              "        text-align: right;\n",
              "    }\n",
              "</style>\n",
              "<table border=\"1\" class=\"dataframe\">\n",
              "  <thead>\n",
              "    <tr style=\"text-align: right;\">\n",
              "      <th></th>\n",
              "      <th>이름</th>\n",
              "      <th>나이</th>\n",
              "      <th>성적</th>\n",
              "      <th>성별</th>\n",
              "      <th>반</th>\n",
              "    </tr>\n",
              "  </thead>\n",
              "  <tbody>\n",
              "    <tr>\n",
              "      <th>1반</th>\n",
              "      <td>영희</td>\n",
              "      <td>23</td>\n",
              "      <td>90</td>\n",
              "      <td>여</td>\n",
              "      <td>1반</td>\n",
              "    </tr>\n",
              "    <tr>\n",
              "      <th>2반</th>\n",
              "      <td>철수</td>\n",
              "      <td>25</td>\n",
              "      <td>85</td>\n",
              "      <td>남</td>\n",
              "      <td>1반</td>\n",
              "    </tr>\n",
              "    <tr>\n",
              "      <th>3반</th>\n",
              "      <td>민수</td>\n",
              "      <td>21</td>\n",
              "      <td>78</td>\n",
              "      <td>남</td>\n",
              "      <td>2반</td>\n",
              "    </tr>\n",
              "    <tr>\n",
              "      <th>4반</th>\n",
              "      <td>지훈</td>\n",
              "      <td>31</td>\n",
              "      <td>100</td>\n",
              "      <td>남</td>\n",
              "      <td>2반</td>\n",
              "    </tr>\n",
              "  </tbody>\n",
              "</table>\n",
              "</div>"
            ],
            "text/plain": [
              "    이름  나이   성적 성별   반\n",
              "1반  영희  23   90  여  1반\n",
              "2반  철수  25   85  남  1반\n",
              "3반  민수  21   78  남  2반\n",
              "4반  지훈  31  100  남  2반"
            ]
          },
          "execution_count": 37,
          "metadata": {},
          "output_type": "execute_result"
        }
      ],
      "source": [
        "dt3.rename({0:'1반',1:'2반',2:'3반',3:'4반'})"
      ]
    },
    {
      "cell_type": "markdown",
      "metadata": {},
      "source": [
        "### 13. '철수'의 성적을 95점으로 수정하는 코드를 작성하세요 (loc 또는 iloc 사용)."
      ]
    },
    {
      "cell_type": "code",
      "execution_count": 41,
      "id": "e65f31ad",
      "metadata": {},
      "outputs": [],
      "source": [
        "dt3.iloc[1,2] = [95]"
      ]
    },
    {
      "cell_type": "code",
      "execution_count": 42,
      "id": "d5e89506",
      "metadata": {},
      "outputs": [
        {
          "data": {
            "text/html": [
              "<div>\n",
              "<style scoped>\n",
              "    .dataframe tbody tr th:only-of-type {\n",
              "        vertical-align: middle;\n",
              "    }\n",
              "\n",
              "    .dataframe tbody tr th {\n",
              "        vertical-align: top;\n",
              "    }\n",
              "\n",
              "    .dataframe thead th {\n",
              "        text-align: right;\n",
              "    }\n",
              "</style>\n",
              "<table border=\"1\" class=\"dataframe\">\n",
              "  <thead>\n",
              "    <tr style=\"text-align: right;\">\n",
              "      <th></th>\n",
              "      <th>이름</th>\n",
              "      <th>나이</th>\n",
              "      <th>성적</th>\n",
              "      <th>성별</th>\n",
              "      <th>반</th>\n",
              "    </tr>\n",
              "  </thead>\n",
              "  <tbody>\n",
              "    <tr>\n",
              "      <th>0</th>\n",
              "      <td>영희</td>\n",
              "      <td>23</td>\n",
              "      <td>90</td>\n",
              "      <td>여</td>\n",
              "      <td>1반</td>\n",
              "    </tr>\n",
              "    <tr>\n",
              "      <th>1</th>\n",
              "      <td>철수</td>\n",
              "      <td>25</td>\n",
              "      <td>95</td>\n",
              "      <td>남</td>\n",
              "      <td>1반</td>\n",
              "    </tr>\n",
              "    <tr>\n",
              "      <th>2</th>\n",
              "      <td>민수</td>\n",
              "      <td>21</td>\n",
              "      <td>78</td>\n",
              "      <td>남</td>\n",
              "      <td>2반</td>\n",
              "    </tr>\n",
              "    <tr>\n",
              "      <th>3</th>\n",
              "      <td>지훈</td>\n",
              "      <td>31</td>\n",
              "      <td>100</td>\n",
              "      <td>남</td>\n",
              "      <td>2반</td>\n",
              "    </tr>\n",
              "  </tbody>\n",
              "</table>\n",
              "</div>"
            ],
            "text/plain": [
              "   이름  나이   성적 성별   반\n",
              "0  영희  23   90  여  1반\n",
              "1  철수  25   95  남  1반\n",
              "2  민수  21   78  남  2반\n",
              "3  지훈  31  100  남  2반"
            ]
          },
          "execution_count": 42,
          "metadata": {},
          "output_type": "execute_result"
        }
      ],
      "source": [
        "dt3"
      ]
    },
    {
      "cell_type": "markdown",
      "metadata": {},
      "source": [
        "### 14. DataFrame의 모든 수치형 열에 대해 평균을 구하는 코드를 작성하세요."
      ]
    },
    {
      "cell_type": "code",
      "execution_count": 48,
      "id": "80361f84",
      "metadata": {},
      "outputs": [
        {
          "data": {
            "text/plain": [
              "나이    25.00\n",
              "성적    90.75\n",
              "dtype: float64"
            ]
          },
          "execution_count": 48,
          "metadata": {},
          "output_type": "execute_result"
        }
      ],
      "source": [
        "dt3.iloc[:,1:3].mean()"
      ]
    },
    {
      "cell_type": "markdown",
      "metadata": {},
      "source": [
        "### 15. '2025-01-01'부터 일주일치 날짜 인덱스를 생성하고 이를 DataFrame의 인덱스로 설정하는 코드를 작성하세요."
      ]
    },
    {
      "cell_type": "code",
      "execution_count": null,
      "id": "856c9802",
      "metadata": {},
      "outputs": [],
      "source": [
        "data2 = pd.date_range(2025-1-1,periods=4,freq='d')\n"
      ]
    },
    {
      "cell_type": "code",
      "execution_count": 51,
      "id": "3b43400f",
      "metadata": {},
      "outputs": [],
      "source": [
        "data2\n",
        "\n",
        "dt3['날짜'] = data2"
      ]
    },
    {
      "cell_type": "code",
      "execution_count": null,
      "id": "7d6160ee",
      "metadata": {},
      "outputs": [
        {
          "data": {
            "text/html": [
              "<div>\n",
              "<style scoped>\n",
              "    .dataframe tbody tr th:only-of-type {\n",
              "        vertical-align: middle;\n",
              "    }\n",
              "\n",
              "    .dataframe tbody tr th {\n",
              "        vertical-align: top;\n",
              "    }\n",
              "\n",
              "    .dataframe thead th {\n",
              "        text-align: right;\n",
              "    }\n",
              "</style>\n",
              "<table border=\"1\" class=\"dataframe\">\n",
              "  <thead>\n",
              "    <tr style=\"text-align: right;\">\n",
              "      <th></th>\n",
              "      <th>이름</th>\n",
              "      <th>나이</th>\n",
              "      <th>성적</th>\n",
              "      <th>성별</th>\n",
              "      <th>반</th>\n",
              "      <th>날짜</th>\n",
              "    </tr>\n",
              "  </thead>\n",
              "  <tbody>\n",
              "    <tr>\n",
              "      <th>0</th>\n",
              "      <td>영희</td>\n",
              "      <td>23</td>\n",
              "      <td>90</td>\n",
              "      <td>여</td>\n",
              "      <td>1반</td>\n",
              "      <td>1970-01-01 00:00:00.000002023</td>\n",
              "    </tr>\n",
              "    <tr>\n",
              "      <th>1</th>\n",
              "      <td>철수</td>\n",
              "      <td>25</td>\n",
              "      <td>95</td>\n",
              "      <td>남</td>\n",
              "      <td>1반</td>\n",
              "      <td>1970-01-02 00:00:00.000002023</td>\n",
              "    </tr>\n",
              "    <tr>\n",
              "      <th>2</th>\n",
              "      <td>민수</td>\n",
              "      <td>21</td>\n",
              "      <td>78</td>\n",
              "      <td>남</td>\n",
              "      <td>2반</td>\n",
              "      <td>1970-01-03 00:00:00.000002023</td>\n",
              "    </tr>\n",
              "    <tr>\n",
              "      <th>3</th>\n",
              "      <td>지훈</td>\n",
              "      <td>31</td>\n",
              "      <td>100</td>\n",
              "      <td>남</td>\n",
              "      <td>2반</td>\n",
              "      <td>1970-01-04 00:00:00.000002023</td>\n",
              "    </tr>\n",
              "  </tbody>\n",
              "</table>\n",
              "</div>"
            ],
            "text/plain": [
              "   이름  나이   성적 성별   반                            날짜\n",
              "0  영희  23   90  여  1반 1970-01-01 00:00:00.000002023\n",
              "1  철수  25   95  남  1반 1970-01-02 00:00:00.000002023\n",
              "2  민수  21   78  남  2반 1970-01-03 00:00:00.000002023\n",
              "3  지훈  31  100  남  2반 1970-01-04 00:00:00.000002023"
            ]
          },
          "execution_count": 52,
          "metadata": {},
          "output_type": "execute_result"
        }
      ],
      "source": [
        "dt3[:,5].rou"
      ]
    },
    {
      "cell_type": "code",
      "execution_count": 59,
      "id": "fcc1e6fb",
      "metadata": {},
      "outputs": [],
      "source": [
        "dt3 = dt3.drop('날짜',axis=1)"
      ]
    },
    {
      "cell_type": "code",
      "execution_count": 56,
      "id": "1aedfc5e",
      "metadata": {},
      "outputs": [],
      "source": [
        "data3 = data2.date"
      ]
    },
    {
      "cell_type": "code",
      "execution_count": null,
      "id": "1ff6e25b",
      "metadata": {},
      "outputs": [
        {
          "data": {
            "text/plain": [
              "array([datetime.date(1970, 1, 1), datetime.date(1970, 1, 2),\n",
              "       datetime.date(1970, 1, 3), datetime.date(1970, 1, 4)], dtype=object)"
            ]
          },
          "execution_count": 57,
          "metadata": {},
          "output_type": "execute_result"
        }
      ],
      "source": [
        "data3"
      ]
    },
    {
      "cell_type": "code",
      "execution_count": 60,
      "id": "3607127c",
      "metadata": {},
      "outputs": [],
      "source": [
        "dt3.insert(loc=5,column='날짜',value=data3)"
      ]
    },
    {
      "cell_type": "code",
      "execution_count": 61,
      "id": "0a9c95af",
      "metadata": {},
      "outputs": [
        {
          "data": {
            "text/html": [
              "<div>\n",
              "<style scoped>\n",
              "    .dataframe tbody tr th:only-of-type {\n",
              "        vertical-align: middle;\n",
              "    }\n",
              "\n",
              "    .dataframe tbody tr th {\n",
              "        vertical-align: top;\n",
              "    }\n",
              "\n",
              "    .dataframe thead th {\n",
              "        text-align: right;\n",
              "    }\n",
              "</style>\n",
              "<table border=\"1\" class=\"dataframe\">\n",
              "  <thead>\n",
              "    <tr style=\"text-align: right;\">\n",
              "      <th></th>\n",
              "      <th>이름</th>\n",
              "      <th>나이</th>\n",
              "      <th>성적</th>\n",
              "      <th>성별</th>\n",
              "      <th>반</th>\n",
              "      <th>날짜</th>\n",
              "    </tr>\n",
              "  </thead>\n",
              "  <tbody>\n",
              "    <tr>\n",
              "      <th>0</th>\n",
              "      <td>영희</td>\n",
              "      <td>23</td>\n",
              "      <td>90</td>\n",
              "      <td>여</td>\n",
              "      <td>1반</td>\n",
              "      <td>1970-01-01</td>\n",
              "    </tr>\n",
              "    <tr>\n",
              "      <th>1</th>\n",
              "      <td>철수</td>\n",
              "      <td>25</td>\n",
              "      <td>95</td>\n",
              "      <td>남</td>\n",
              "      <td>1반</td>\n",
              "      <td>1970-01-02</td>\n",
              "    </tr>\n",
              "    <tr>\n",
              "      <th>2</th>\n",
              "      <td>민수</td>\n",
              "      <td>21</td>\n",
              "      <td>78</td>\n",
              "      <td>남</td>\n",
              "      <td>2반</td>\n",
              "      <td>1970-01-03</td>\n",
              "    </tr>\n",
              "    <tr>\n",
              "      <th>3</th>\n",
              "      <td>지훈</td>\n",
              "      <td>31</td>\n",
              "      <td>100</td>\n",
              "      <td>남</td>\n",
              "      <td>2반</td>\n",
              "      <td>1970-01-04</td>\n",
              "    </tr>\n",
              "  </tbody>\n",
              "</table>\n",
              "</div>"
            ],
            "text/plain": [
              "   이름  나이   성적 성별   반          날짜\n",
              "0  영희  23   90  여  1반  1970-01-01\n",
              "1  철수  25   95  남  1반  1970-01-02\n",
              "2  민수  21   78  남  2반  1970-01-03\n",
              "3  지훈  31  100  남  2반  1970-01-04"
            ]
          },
          "execution_count": 61,
          "metadata": {},
          "output_type": "execute_result"
        }
      ],
      "source": [
        "dt3"
      ]
    }
  ],
  "metadata": {
    "kernelspec": {
      "display_name": "hipython",
      "language": "python",
      "name": "python3"
    },
    "language_info": {
      "codemirror_mode": {
        "name": "ipython",
        "version": 3
      },
      "file_extension": ".py",
      "mimetype": "text/x-python",
      "name": "python",
      "nbconvert_exporter": "python",
      "pygments_lexer": "ipython3",
      "version": "3.12.9"
    }
  },
  "nbformat": 4,
  "nbformat_minor": 5
}
