{
  "cells": [
    {
      "cell_type": "markdown",
      "metadata": {},
      "source": [
        "# 📘 Pandas 복습 문제\n",
        "\n",
        "아래는 오늘 학습한 내용을 복습할 수 있는 문제입니다.\n"
      ]
    },
    {
      "cell_type": "markdown",
      "metadata": {},
      "source": [
        "### 1. Pandas란 무엇이며, 데이터 엔지니어가 왜 Pandas를 사용해야 하는지 서술하세요."
      ]
    },
    {
      "cell_type": "markdown",
      "id": "2f85c9ad",
      "metadata": {},
      "source": [
        "데이터엔지니어는 대량의 데이터를 수집, 정제, 가공하는 역할을 맡습니다. 이 과정에서 데이터를 표 형태로 다루는 일이 매우 많은데, Pandas는 이 과정을 빠르고 쉽게 처리할 수 있도록 도와주는 필수 도구입니다.\n",
        "\n",
        "예를들어: CSV, EXECL, SQL 등 다양한 소스의 데이터를 불러와 가공\n",
        "결측값 처리, 열/행 추가 및 삭제, 인덱싱 등 데이터 전처리\n",
        "통계 요약, 그룹화 필터링 등 분석 전처리 단계에 쓰입니다\n",
        "\n",
        "결국 Pandas는 데이터를 엑셀처럼 쉽게 다룰 수 있게 도와주는 파이썬 도구 입니다."
      ]
    },
    {
      "cell_type": "markdown",
      "metadata": {},
      "source": [
        "### 2. Series와 DataFrame의 차이를 표로 정리해보세요."
      ]
    },
    {
      "cell_type": "markdown",
      "id": "cc9b84ab",
      "metadata": {
        "vscode": {
          "languageId": "plaintext"
        }
      },
      "source": [
        "Series는 일렬로 정리된 데이터 즉, 1차원 데이터이고 DataFrame은 행과 열로 이루어진 2차원 데이터 입니다.\n",
        "\n"
      ]
    },
    {
      "cell_type": "markdown",
      "metadata": {},
      "source": [
        "### 3. 다음 리스트를 Series로 변환하는 코드를 작성하세요.\n",
        "   data = [10, 20, 30, 40]"
      ]
    },
    {
      "cell_type": "code",
      "execution_count": 5,
      "id": "28fd4b94",
      "metadata": {},
      "outputs": [
        {
          "data": {
            "text/plain": [
              "pandas.core.series.Series"
            ]
          },
          "execution_count": 5,
          "metadata": {},
          "output_type": "execute_result"
        }
      ],
      "source": [
        "data1 = [10, 20, 30, 40]\n",
        "\n",
        "import pandas as pd\n",
        "\n",
        "dt = pd.Series(data1)\n",
        "\n",
        "type(dt)"
      ]
    },
    {
      "cell_type": "markdown",
      "metadata": {},
      "source": [
        "### 4. 다음과 같은 딕셔너리를 이용하여 Series를 생성하는 코드를 작성하세요.\n",
        "   data = {'a': 1, 'b': 2, 'c': 3}"
      ]
    },
    {
      "cell_type": "code",
      "execution_count": 7,
      "id": "acb51dfd",
      "metadata": {},
      "outputs": [
        {
          "data": {
            "text/plain": [
              "a    1\n",
              "b    2\n",
              "c    3\n",
              "dtype: int64"
            ]
          },
          "execution_count": 7,
          "metadata": {},
          "output_type": "execute_result"
        }
      ],
      "source": [
        " data2 = {'a': 1, 'b': 2, 'c': 3}\n",
        "\n",
        "dt2 = pd.Series(data2)\n",
        "\n",
        "dt2"
      ]
    },
    {
      "cell_type": "markdown",
      "metadata": {},
      "source": [
        "### 5. 다음 데이터를 이용해 DataFrame을 생성하고, 열 이름을 '이름', '나이', '성적'으로 설정하세요.\n",
        "   data = [['영희', 23, 90], ['철수', 25, 85], ['민수', 21, 78]]"
      ]
    },
    {
      "cell_type": "code",
      "execution_count": 9,
      "id": "3187a761",
      "metadata": {},
      "outputs": [
        {
          "data": {
            "text/html": [
              "<div>\n",
              "<style scoped>\n",
              "    .dataframe tbody tr th:only-of-type {\n",
              "        vertical-align: middle;\n",
              "    }\n",
              "\n",
              "    .dataframe tbody tr th {\n",
              "        vertical-align: top;\n",
              "    }\n",
              "\n",
              "    .dataframe thead th {\n",
              "        text-align: right;\n",
              "    }\n",
              "</style>\n",
              "<table border=\"1\" class=\"dataframe\">\n",
              "  <thead>\n",
              "    <tr style=\"text-align: right;\">\n",
              "      <th></th>\n",
              "      <th>이름</th>\n",
              "      <th>나이</th>\n",
              "      <th>성적</th>\n",
              "    </tr>\n",
              "  </thead>\n",
              "  <tbody>\n",
              "    <tr>\n",
              "      <th>0</th>\n",
              "      <td>영희</td>\n",
              "      <td>23</td>\n",
              "      <td>90</td>\n",
              "    </tr>\n",
              "    <tr>\n",
              "      <th>1</th>\n",
              "      <td>철수</td>\n",
              "      <td>25</td>\n",
              "      <td>85</td>\n",
              "    </tr>\n",
              "    <tr>\n",
              "      <th>2</th>\n",
              "      <td>민수</td>\n",
              "      <td>21</td>\n",
              "      <td>78</td>\n",
              "    </tr>\n",
              "  </tbody>\n",
              "</table>\n",
              "</div>"
            ],
            "text/plain": [
              "   이름  나이  성적\n",
              "0  영희  23  90\n",
              "1  철수  25  85\n",
              "2  민수  21  78"
            ]
          },
          "execution_count": 9,
          "metadata": {},
          "output_type": "execute_result"
        }
      ],
      "source": [
        "dt_1 = [['영희', 23, 90], ['철수', 25, 85], ['민수', 21, 78]]\n",
        "\n",
        "dt3 = pd.DataFrame(dt_1, columns=['이름','나이','성적'])\n",
        "dt3\n"
      ]
    },
    {
      "cell_type": "markdown",
      "metadata": {},
      "source": [
        "### 6. DataFrame에서 처음 3개의 행만 출력하는 코드를 작성하세요."
      ]
    },
    {
      "cell_type": "code",
      "execution_count": 10,
      "id": "55ae68f5",
      "metadata": {},
      "outputs": [],
      "source": [
        "dt3.loc[3] = ['지훈',31,100]"
      ]
    },
    {
      "cell_type": "code",
      "execution_count": 12,
      "id": "f60801d8",
      "metadata": {},
      "outputs": [
        {
          "data": {
            "text/html": [
              "<div>\n",
              "<style scoped>\n",
              "    .dataframe tbody tr th:only-of-type {\n",
              "        vertical-align: middle;\n",
              "    }\n",
              "\n",
              "    .dataframe tbody tr th {\n",
              "        vertical-align: top;\n",
              "    }\n",
              "\n",
              "    .dataframe thead th {\n",
              "        text-align: right;\n",
              "    }\n",
              "</style>\n",
              "<table border=\"1\" class=\"dataframe\">\n",
              "  <thead>\n",
              "    <tr style=\"text-align: right;\">\n",
              "      <th></th>\n",
              "      <th>이름</th>\n",
              "      <th>나이</th>\n",
              "      <th>성적</th>\n",
              "    </tr>\n",
              "  </thead>\n",
              "  <tbody>\n",
              "    <tr>\n",
              "      <th>0</th>\n",
              "      <td>영희</td>\n",
              "      <td>23</td>\n",
              "      <td>90</td>\n",
              "    </tr>\n",
              "    <tr>\n",
              "      <th>1</th>\n",
              "      <td>철수</td>\n",
              "      <td>25</td>\n",
              "      <td>85</td>\n",
              "    </tr>\n",
              "    <tr>\n",
              "      <th>2</th>\n",
              "      <td>민수</td>\n",
              "      <td>21</td>\n",
              "      <td>78</td>\n",
              "    </tr>\n",
              "  </tbody>\n",
              "</table>\n",
              "</div>"
            ],
            "text/plain": [
              "   이름  나이  성적\n",
              "0  영희  23  90\n",
              "1  철수  25  85\n",
              "2  민수  21  78"
            ]
          },
          "execution_count": 12,
          "metadata": {},
          "output_type": "execute_result"
        }
      ],
      "source": [
        "dt3.iloc[:3,:]"
      ]
    },
    {
      "cell_type": "code",
      "execution_count": null,
      "id": "eae53c56",
      "metadata": {},
      "outputs": [
        {
          "data": {
            "text/html": [
              "<div>\n",
              "<style scoped>\n",
              "    .dataframe tbody tr th:only-of-type {\n",
              "        vertical-align: middle;\n",
              "    }\n",
              "\n",
              "    .dataframe tbody tr th {\n",
              "        vertical-align: top;\n",
              "    }\n",
              "\n",
              "    .dataframe thead th {\n",
              "        text-align: right;\n",
              "    }\n",
              "</style>\n",
              "<table border=\"1\" class=\"dataframe\">\n",
              "  <thead>\n",
              "    <tr style=\"text-align: right;\">\n",
              "      <th></th>\n",
              "      <th>이름</th>\n",
              "      <th>나이</th>\n",
              "      <th>성적</th>\n",
              "    </tr>\n",
              "  </thead>\n",
              "  <tbody>\n",
              "    <tr>\n",
              "      <th>0</th>\n",
              "      <td>영희</td>\n",
              "      <td>23</td>\n",
              "      <td>90</td>\n",
              "    </tr>\n",
              "    <tr>\n",
              "      <th>1</th>\n",
              "      <td>철수</td>\n",
              "      <td>25</td>\n",
              "      <td>85</td>\n",
              "    </tr>\n",
              "    <tr>\n",
              "      <th>2</th>\n",
              "      <td>민수</td>\n",
              "      <td>21</td>\n",
              "      <td>78</td>\n",
              "    </tr>\n",
              "  </tbody>\n",
              "</table>\n",
              "</div>"
            ],
            "text/plain": [
              "   이름  나이  성적\n",
              "0  영희  23  90\n",
              "1  철수  25  85\n",
              "2  민수  21  78"
            ]
          },
          "execution_count": 22,
          "metadata": {},
          "output_type": "execute_result"
        }
      ],
      "source": [
        "dt3.iloc[[0,1,2],:] #인덱싱 할 거면 괄호!!! 슬라이싱할거면 괄호 없이 "
      ]
    },
    {
      "cell_type": "code",
      "execution_count": 23,
      "id": "a350beab",
      "metadata": {},
      "outputs": [
        {
          "data": {
            "text/html": [
              "<div>\n",
              "<style scoped>\n",
              "    .dataframe tbody tr th:only-of-type {\n",
              "        vertical-align: middle;\n",
              "    }\n",
              "\n",
              "    .dataframe tbody tr th {\n",
              "        vertical-align: top;\n",
              "    }\n",
              "\n",
              "    .dataframe thead th {\n",
              "        text-align: right;\n",
              "    }\n",
              "</style>\n",
              "<table border=\"1\" class=\"dataframe\">\n",
              "  <thead>\n",
              "    <tr style=\"text-align: right;\">\n",
              "      <th></th>\n",
              "      <th>이름</th>\n",
              "      <th>나이</th>\n",
              "      <th>성적</th>\n",
              "    </tr>\n",
              "  </thead>\n",
              "  <tbody>\n",
              "    <tr>\n",
              "      <th>0</th>\n",
              "      <td>영희</td>\n",
              "      <td>23</td>\n",
              "      <td>90</td>\n",
              "    </tr>\n",
              "    <tr>\n",
              "      <th>1</th>\n",
              "      <td>철수</td>\n",
              "      <td>25</td>\n",
              "      <td>85</td>\n",
              "    </tr>\n",
              "    <tr>\n",
              "      <th>2</th>\n",
              "      <td>민수</td>\n",
              "      <td>21</td>\n",
              "      <td>78</td>\n",
              "    </tr>\n",
              "  </tbody>\n",
              "</table>\n",
              "</div>"
            ],
            "text/plain": [
              "   이름  나이  성적\n",
              "0  영희  23  90\n",
              "1  철수  25  85\n",
              "2  민수  21  78"
            ]
          },
          "execution_count": 23,
          "metadata": {},
          "output_type": "execute_result"
        }
      ],
      "source": [
        "dt3.iloc[0:3,:]"
      ]
    },
    {
      "cell_type": "markdown",
      "metadata": {},
      "source": [
        "### 7. DataFrame의 구조(행/열 수, 열별 데이터 타입 등)를 확인하는 방법을 코드로 작성하세요."
      ]
    },
    {
      "cell_type": "markdown",
      "metadata": {},
      "source": [
        "### 8. DataFrame에서 '나이' 열만 선택하는 코드를 작성하세요."
      ]
    },
    {
      "cell_type": "markdown",
      "metadata": {},
      "source": [
        "### 9. '나이'가 23세 이상인 사람들만 출력하는 코드를 작성하세요."
      ]
    },
    {
      "cell_type": "markdown",
      "metadata": {},
      "source": [
        "### 10. DataFrame에 '성별' 열을 추가하고, ['여', '남', '남'] 데이터를 입력하는 코드를 작성하세요."
      ]
    },
    {
      "cell_type": "markdown",
      "metadata": {},
      "source": [
        "### 11. DataFrame에서 '성적' 열을 삭제하는 코드를 작성하세요."
      ]
    },
    {
      "cell_type": "markdown",
      "metadata": {},
      "source": [
        "### 12. DataFrame의 인덱스를 ['1반', '2반', '3반']으로 변경하는 코드를 작성하세요."
      ]
    },
    {
      "cell_type": "markdown",
      "metadata": {},
      "source": [
        "### 13. '철수'의 성적을 95점으로 수정하는 코드를 작성하세요 (loc 또는 iloc 사용)."
      ]
    },
    {
      "cell_type": "markdown",
      "metadata": {},
      "source": [
        "### 14. DataFrame의 모든 수치형 열에 대해 평균을 구하는 코드를 작성하세요."
      ]
    },
    {
      "cell_type": "markdown",
      "metadata": {},
      "source": [
        "### 15. '2025-01-01'부터 일주일치 날짜 인덱스를 생성하고 이를 DataFrame의 인덱스로 설정하는 코드를 작성하세요."
      ]
    }
  ],
  "metadata": {
    "kernelspec": {
      "display_name": "hipython",
      "language": "python",
      "name": "python3"
    },
    "language_info": {
      "codemirror_mode": {
        "name": "ipython",
        "version": 3
      },
      "file_extension": ".py",
      "mimetype": "text/x-python",
      "name": "python",
      "nbconvert_exporter": "python",
      "pygments_lexer": "ipython3",
      "version": "3.10.18"
    }
  },
  "nbformat": 4,
  "nbformat_minor": 5
}
