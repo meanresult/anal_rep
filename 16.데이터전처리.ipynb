{
 "cells": [
  {
   "cell_type": "code",
   "execution_count": 10,
   "id": "14e5ca1c",
   "metadata": {},
   "outputs": [
    {
     "data": {
      "text/html": [
       "<div>\n",
       "<style scoped>\n",
       "    .dataframe tbody tr th:only-of-type {\n",
       "        vertical-align: middle;\n",
       "    }\n",
       "\n",
       "    .dataframe tbody tr th {\n",
       "        vertical-align: top;\n",
       "    }\n",
       "\n",
       "    .dataframe thead th {\n",
       "        text-align: right;\n",
       "    }\n",
       "</style>\n",
       "<table border=\"1\" class=\"dataframe\">\n",
       "  <thead>\n",
       "    <tr style=\"text-align: right;\">\n",
       "      <th></th>\n",
       "      <th>Unnamed: 0</th>\n",
       "      <th>2007</th>\n",
       "      <th>2008</th>\n",
       "      <th>2009</th>\n",
       "      <th>2010</th>\n",
       "      <th>2011</th>\n",
       "    </tr>\n",
       "  </thead>\n",
       "  <tbody>\n",
       "    <tr>\n",
       "      <th>0</th>\n",
       "      <td>China</td>\n",
       "      <td>7.71</td>\n",
       "      <td>7.95</td>\n",
       "      <td>11.96</td>\n",
       "      <td>15.84</td>\n",
       "      <td>16.33</td>\n",
       "    </tr>\n",
       "    <tr>\n",
       "      <th>1</th>\n",
       "      <td>EU</td>\n",
       "      <td>19.02</td>\n",
       "      <td>17.71</td>\n",
       "      <td>15.00</td>\n",
       "      <td>16.70</td>\n",
       "      <td>17.48</td>\n",
       "    </tr>\n",
       "    <tr>\n",
       "      <th>2</th>\n",
       "      <td>US</td>\n",
       "      <td>10.47</td>\n",
       "      <td>8.45</td>\n",
       "      <td>5.58</td>\n",
       "      <td>7.60</td>\n",
       "      <td>8.40</td>\n",
       "    </tr>\n",
       "    <tr>\n",
       "      <th>3</th>\n",
       "      <td>Japan</td>\n",
       "      <td>10.87</td>\n",
       "      <td>10.83</td>\n",
       "      <td>7.55</td>\n",
       "      <td>9.09</td>\n",
       "      <td>7.88</td>\n",
       "    </tr>\n",
       "    <tr>\n",
       "      <th>4</th>\n",
       "      <td>Korea</td>\n",
       "      <td>4.04</td>\n",
       "      <td>3.78</td>\n",
       "      <td>3.45</td>\n",
       "      <td>4.20</td>\n",
       "      <td>4.62</td>\n",
       "    </tr>\n",
       "    <tr>\n",
       "      <th>5</th>\n",
       "      <td>Mexico</td>\n",
       "      <td>2.01</td>\n",
       "      <td>2.05</td>\n",
       "      <td>1.50</td>\n",
       "      <td>2.25</td>\n",
       "      <td>2.54</td>\n",
       "    </tr>\n",
       "  </tbody>\n",
       "</table>\n",
       "</div>"
      ],
      "text/plain": [
       "  Unnamed: 0   2007   2008   2009   2010   2011\n",
       "0      China   7.71   7.95  11.96  15.84  16.33\n",
       "1         EU  19.02  17.71  15.00  16.70  17.48\n",
       "2         US  10.47   8.45   5.58   7.60   8.40\n",
       "3      Japan  10.87  10.83   7.55   9.09   7.88\n",
       "4      Korea   4.04   3.78   3.45   4.20   4.62\n",
       "5     Mexico   2.01   2.05   1.50   2.25   2.54"
      ]
     },
     "execution_count": 10,
     "metadata": {},
     "output_type": "execute_result"
    }
   ],
   "source": [
    "import pandas as pd\n",
    "\n",
    "pd.read_csv('./vehicle_prod.csv')"
   ]
  },
  {
   "cell_type": "code",
   "execution_count": null,
   "id": "b04b1bb6",
   "metadata": {},
   "outputs": [],
   "source": [
    "df.rename(colums)"
   ]
  },
  {
   "cell_type": "code",
   "execution_count": null,
   "id": "8217f879",
   "metadata": {},
   "outputs": [],
   "source": [
    "df.set_index('country',inplace = True)"
   ]
  },
  {
   "cell_type": "code",
   "execution_count": 13,
   "id": "5cca1dc9",
   "metadata": {},
   "outputs": [
    {
     "data": {
      "text/html": [
       "<div>\n",
       "<style scoped>\n",
       "    .dataframe tbody tr th:only-of-type {\n",
       "        vertical-align: middle;\n",
       "    }\n",
       "\n",
       "    .dataframe tbody tr th {\n",
       "        vertical-align: top;\n",
       "    }\n",
       "\n",
       "    .dataframe thead th {\n",
       "        text-align: right;\n",
       "    }\n",
       "</style>\n",
       "<table border=\"1\" class=\"dataframe\">\n",
       "  <thead>\n",
       "    <tr style=\"text-align: right;\">\n",
       "      <th></th>\n",
       "      <th>2007</th>\n",
       "      <th>2008</th>\n",
       "      <th>2009</th>\n",
       "      <th>2010</th>\n",
       "      <th>2011</th>\n",
       "    </tr>\n",
       "  </thead>\n",
       "  <tbody>\n",
       "    <tr>\n",
       "      <th>China</th>\n",
       "      <td>7.71</td>\n",
       "      <td>7.95</td>\n",
       "      <td>11.96</td>\n",
       "      <td>15.84</td>\n",
       "      <td>16.33</td>\n",
       "    </tr>\n",
       "    <tr>\n",
       "      <th>EU</th>\n",
       "      <td>19.02</td>\n",
       "      <td>17.71</td>\n",
       "      <td>15.00</td>\n",
       "      <td>16.70</td>\n",
       "      <td>17.48</td>\n",
       "    </tr>\n",
       "    <tr>\n",
       "      <th>US</th>\n",
       "      <td>10.47</td>\n",
       "      <td>8.45</td>\n",
       "      <td>5.58</td>\n",
       "      <td>7.60</td>\n",
       "      <td>8.40</td>\n",
       "    </tr>\n",
       "    <tr>\n",
       "      <th>Japan</th>\n",
       "      <td>10.87</td>\n",
       "      <td>10.83</td>\n",
       "      <td>7.55</td>\n",
       "      <td>9.09</td>\n",
       "      <td>7.88</td>\n",
       "    </tr>\n",
       "    <tr>\n",
       "      <th>Korea</th>\n",
       "      <td>4.04</td>\n",
       "      <td>3.78</td>\n",
       "      <td>3.45</td>\n",
       "      <td>4.20</td>\n",
       "      <td>4.62</td>\n",
       "    </tr>\n",
       "    <tr>\n",
       "      <th>Mexico</th>\n",
       "      <td>2.01</td>\n",
       "      <td>2.05</td>\n",
       "      <td>1.50</td>\n",
       "      <td>2.25</td>\n",
       "      <td>2.54</td>\n",
       "    </tr>\n",
       "  </tbody>\n",
       "</table>\n",
       "</div>"
      ],
      "text/plain": [
       "         2007   2008   2009   2010   2011\n",
       "China    7.71   7.95  11.96  15.84  16.33\n",
       "EU      19.02  17.71  15.00  16.70  17.48\n",
       "US      10.47   8.45   5.58   7.60   8.40\n",
       "Japan   10.87  10.83   7.55   9.09   7.88\n",
       "Korea    4.04   3.78   3.45   4.20   4.62\n",
       "Mexico   2.01   2.05   1.50   2.25   2.54"
      ]
     },
     "execution_count": 13,
     "metadata": {},
     "output_type": "execute_result"
    }
   ],
   "source": [
    "df = pd.read_csv('./vehicle_prod.csv', index_col=0)\n",
    "df"
   ]
  },
  {
   "cell_type": "code",
   "execution_count": 14,
   "id": "ab43b266",
   "metadata": {},
   "outputs": [
    {
     "data": {
      "text/plain": [
       "China      7.71\n",
       "EU        19.02\n",
       "US        10.47\n",
       "Japan     10.87\n",
       "Korea      4.04\n",
       "Mexico     2.01\n",
       "Name: 2007, dtype: float64"
      ]
     },
     "execution_count": 14,
     "metadata": {},
     "output_type": "execute_result"
    }
   ],
   "source": [
    "df['2007']"
   ]
  },
  {
   "cell_type": "code",
   "execution_count": 15,
   "id": "fba51011",
   "metadata": {},
   "outputs": [
    {
     "data": {
      "text/html": [
       "<div>\n",
       "<style scoped>\n",
       "    .dataframe tbody tr th:only-of-type {\n",
       "        vertical-align: middle;\n",
       "    }\n",
       "\n",
       "    .dataframe tbody tr th {\n",
       "        vertical-align: top;\n",
       "    }\n",
       "\n",
       "    .dataframe thead th {\n",
       "        text-align: right;\n",
       "    }\n",
       "</style>\n",
       "<table border=\"1\" class=\"dataframe\">\n",
       "  <thead>\n",
       "    <tr style=\"text-align: right;\">\n",
       "      <th></th>\n",
       "      <th>2007</th>\n",
       "    </tr>\n",
       "  </thead>\n",
       "  <tbody>\n",
       "    <tr>\n",
       "      <th>China</th>\n",
       "      <td>7.71</td>\n",
       "    </tr>\n",
       "    <tr>\n",
       "      <th>EU</th>\n",
       "      <td>19.02</td>\n",
       "    </tr>\n",
       "    <tr>\n",
       "      <th>US</th>\n",
       "      <td>10.47</td>\n",
       "    </tr>\n",
       "    <tr>\n",
       "      <th>Japan</th>\n",
       "      <td>10.87</td>\n",
       "    </tr>\n",
       "    <tr>\n",
       "      <th>Korea</th>\n",
       "      <td>4.04</td>\n",
       "    </tr>\n",
       "    <tr>\n",
       "      <th>Mexico</th>\n",
       "      <td>2.01</td>\n",
       "    </tr>\n",
       "  </tbody>\n",
       "</table>\n",
       "</div>"
      ],
      "text/plain": [
       "         2007\n",
       "China    7.71\n",
       "EU      19.02\n",
       "US      10.47\n",
       "Japan   10.87\n",
       "Korea    4.04\n",
       "Mexico   2.01"
      ]
     },
     "execution_count": 15,
     "metadata": {},
     "output_type": "execute_result"
    }
   ],
   "source": [
    "df[['2007']]"
   ]
  },
  {
   "cell_type": "code",
   "execution_count": 22,
   "id": "5a4f5c55",
   "metadata": {},
   "outputs": [
    {
     "data": {
      "text/plain": [
       "['2007', '2008', '2009', '2010', '2011']"
      ]
     },
     "execution_count": 22,
     "metadata": {},
     "output_type": "execute_result"
    }
   ],
   "source": [
    "df.columns.tolist()"
   ]
  },
  {
   "cell_type": "code",
   "execution_count": 24,
   "id": "84595f72",
   "metadata": {},
   "outputs": [
    {
     "data": {
      "text/plain": [
       "[7.71, 19.02, 10.47, 10.87, 4.04, 2.01]"
      ]
     },
     "execution_count": 24,
     "metadata": {},
     "output_type": "execute_result"
    }
   ],
   "source": [
    "df['2007'].tolist()"
   ]
  },
  {
   "cell_type": "markdown",
   "id": "a4bdcc92",
   "metadata": {},
   "source": [
    "# 상관관계\n",
    "변수들 간의 값의 변화의 유사도\n",
    "\n",
    "- 음의 상관관계 : 서로 반대 방향으로 변화, 증가>감소, 감소>증가\n",
    "<br>\n",
    "- 양의 상관관계 : 서로 반대 방향으로 변화, 증가>증가, 감소>감소"
   ]
  },
  {
   "cell_type": "code",
   "execution_count": 27,
   "id": "760b2221",
   "metadata": {},
   "outputs": [
    {
     "data": {
      "text/html": [
       "<div>\n",
       "<style scoped>\n",
       "    .dataframe tbody tr th:only-of-type {\n",
       "        vertical-align: middle;\n",
       "    }\n",
       "\n",
       "    .dataframe tbody tr th {\n",
       "        vertical-align: top;\n",
       "    }\n",
       "\n",
       "    .dataframe thead th {\n",
       "        text-align: right;\n",
       "    }\n",
       "</style>\n",
       "<table border=\"1\" class=\"dataframe\">\n",
       "  <thead>\n",
       "    <tr style=\"text-align: right;\">\n",
       "      <th></th>\n",
       "      <th>2007</th>\n",
       "      <th>2008</th>\n",
       "      <th>2009</th>\n",
       "      <th>2010</th>\n",
       "      <th>2011</th>\n",
       "    </tr>\n",
       "  </thead>\n",
       "  <tbody>\n",
       "    <tr>\n",
       "      <th>2007</th>\n",
       "      <td>1.000000</td>\n",
       "      <td>0.991073</td>\n",
       "      <td>0.831447</td>\n",
       "      <td>0.769040</td>\n",
       "      <td>0.758271</td>\n",
       "    </tr>\n",
       "    <tr>\n",
       "      <th>2008</th>\n",
       "      <td>0.991073</td>\n",
       "      <td>1.000000</td>\n",
       "      <td>0.872296</td>\n",
       "      <td>0.810529</td>\n",
       "      <td>0.789512</td>\n",
       "    </tr>\n",
       "    <tr>\n",
       "      <th>2009</th>\n",
       "      <td>0.831447</td>\n",
       "      <td>0.872296</td>\n",
       "      <td>1.000000</td>\n",
       "      <td>0.988513</td>\n",
       "      <td>0.980025</td>\n",
       "    </tr>\n",
       "    <tr>\n",
       "      <th>2010</th>\n",
       "      <td>0.769040</td>\n",
       "      <td>0.810529</td>\n",
       "      <td>0.988513</td>\n",
       "      <td>1.000000</td>\n",
       "      <td>0.992667</td>\n",
       "    </tr>\n",
       "    <tr>\n",
       "      <th>2011</th>\n",
       "      <td>0.758271</td>\n",
       "      <td>0.789512</td>\n",
       "      <td>0.980025</td>\n",
       "      <td>0.992667</td>\n",
       "      <td>1.000000</td>\n",
       "    </tr>\n",
       "  </tbody>\n",
       "</table>\n",
       "</div>"
      ],
      "text/plain": [
       "          2007      2008      2009      2010      2011\n",
       "2007  1.000000  0.991073  0.831447  0.769040  0.758271\n",
       "2008  0.991073  1.000000  0.872296  0.810529  0.789512\n",
       "2009  0.831447  0.872296  1.000000  0.988513  0.980025\n",
       "2010  0.769040  0.810529  0.988513  1.000000  0.992667\n",
       "2011  0.758271  0.789512  0.980025  0.992667  1.000000"
      ]
     },
     "execution_count": 27,
     "metadata": {},
     "output_type": "execute_result"
    }
   ],
   "source": [
    "df.corr()"
   ]
  },
  {
   "cell_type": "code",
   "execution_count": 28,
   "id": "24d8c4d1",
   "metadata": {},
   "outputs": [
    {
     "data": {
      "text/html": [
       "<div>\n",
       "<style scoped>\n",
       "    .dataframe tbody tr th:only-of-type {\n",
       "        vertical-align: middle;\n",
       "    }\n",
       "\n",
       "    .dataframe tbody tr th {\n",
       "        vertical-align: top;\n",
       "    }\n",
       "\n",
       "    .dataframe thead th {\n",
       "        text-align: right;\n",
       "    }\n",
       "</style>\n",
       "<table border=\"1\" class=\"dataframe\">\n",
       "  <thead>\n",
       "    <tr style=\"text-align: right;\">\n",
       "      <th></th>\n",
       "      <th>2007</th>\n",
       "      <th>2008</th>\n",
       "      <th>2009</th>\n",
       "      <th>2010</th>\n",
       "      <th>2011</th>\n",
       "    </tr>\n",
       "  </thead>\n",
       "  <tbody>\n",
       "    <tr>\n",
       "      <th>China</th>\n",
       "      <td>7.71</td>\n",
       "      <td>7.95</td>\n",
       "      <td>11.96</td>\n",
       "      <td>15.84</td>\n",
       "      <td>16.33</td>\n",
       "    </tr>\n",
       "    <tr>\n",
       "      <th>EU</th>\n",
       "      <td>19.02</td>\n",
       "      <td>17.71</td>\n",
       "      <td>15.00</td>\n",
       "      <td>16.70</td>\n",
       "      <td>17.48</td>\n",
       "    </tr>\n",
       "    <tr>\n",
       "      <th>US</th>\n",
       "      <td>10.47</td>\n",
       "      <td>8.45</td>\n",
       "      <td>5.58</td>\n",
       "      <td>7.60</td>\n",
       "      <td>8.40</td>\n",
       "    </tr>\n",
       "    <tr>\n",
       "      <th>Japan</th>\n",
       "      <td>10.87</td>\n",
       "      <td>10.83</td>\n",
       "      <td>7.55</td>\n",
       "      <td>9.09</td>\n",
       "      <td>7.88</td>\n",
       "    </tr>\n",
       "    <tr>\n",
       "      <th>Korea</th>\n",
       "      <td>4.04</td>\n",
       "      <td>3.78</td>\n",
       "      <td>3.45</td>\n",
       "      <td>4.20</td>\n",
       "      <td>4.62</td>\n",
       "    </tr>\n",
       "    <tr>\n",
       "      <th>Mexico</th>\n",
       "      <td>2.01</td>\n",
       "      <td>2.05</td>\n",
       "      <td>1.50</td>\n",
       "      <td>2.25</td>\n",
       "      <td>2.54</td>\n",
       "    </tr>\n",
       "  </tbody>\n",
       "</table>\n",
       "</div>"
      ],
      "text/plain": [
       "         2007   2008   2009   2010   2011\n",
       "China    7.71   7.95  11.96  15.84  16.33\n",
       "EU      19.02  17.71  15.00  16.70  17.48\n",
       "US      10.47   8.45   5.58   7.60   8.40\n",
       "Japan   10.87  10.83   7.55   9.09   7.88\n",
       "Korea    4.04   3.78   3.45   4.20   4.62\n",
       "Mexico   2.01   2.05   1.50   2.25   2.54"
      ]
     },
     "execution_count": 28,
     "metadata": {},
     "output_type": "execute_result"
    }
   ],
   "source": [
    "df"
   ]
  },
  {
   "cell_type": "code",
   "execution_count": 34,
   "id": "40a5c3ac",
   "metadata": {},
   "outputs": [],
   "source": [
    "# 2007 ~ 2011 년까지의 생산량을 합한 total_production 컬럼을 생성해보자 \n",
    "\n",
    "df1 = df.loc['total'] = df.sum()"
   ]
  },
  {
   "cell_type": "code",
   "execution_count": 35,
   "id": "81ab149f",
   "metadata": {},
   "outputs": [
    {
     "data": {
      "text/html": [
       "<div>\n",
       "<style scoped>\n",
       "    .dataframe tbody tr th:only-of-type {\n",
       "        vertical-align: middle;\n",
       "    }\n",
       "\n",
       "    .dataframe tbody tr th {\n",
       "        vertical-align: top;\n",
       "    }\n",
       "\n",
       "    .dataframe thead th {\n",
       "        text-align: right;\n",
       "    }\n",
       "</style>\n",
       "<table border=\"1\" class=\"dataframe\">\n",
       "  <thead>\n",
       "    <tr style=\"text-align: right;\">\n",
       "      <th></th>\n",
       "      <th>2007</th>\n",
       "      <th>2008</th>\n",
       "      <th>2009</th>\n",
       "      <th>2010</th>\n",
       "      <th>2011</th>\n",
       "    </tr>\n",
       "  </thead>\n",
       "  <tbody>\n",
       "    <tr>\n",
       "      <th>China</th>\n",
       "      <td>7.71</td>\n",
       "      <td>7.95</td>\n",
       "      <td>11.96</td>\n",
       "      <td>15.84</td>\n",
       "      <td>16.33</td>\n",
       "    </tr>\n",
       "    <tr>\n",
       "      <th>EU</th>\n",
       "      <td>19.02</td>\n",
       "      <td>17.71</td>\n",
       "      <td>15.00</td>\n",
       "      <td>16.70</td>\n",
       "      <td>17.48</td>\n",
       "    </tr>\n",
       "    <tr>\n",
       "      <th>US</th>\n",
       "      <td>10.47</td>\n",
       "      <td>8.45</td>\n",
       "      <td>5.58</td>\n",
       "      <td>7.60</td>\n",
       "      <td>8.40</td>\n",
       "    </tr>\n",
       "    <tr>\n",
       "      <th>Japan</th>\n",
       "      <td>10.87</td>\n",
       "      <td>10.83</td>\n",
       "      <td>7.55</td>\n",
       "      <td>9.09</td>\n",
       "      <td>7.88</td>\n",
       "    </tr>\n",
       "    <tr>\n",
       "      <th>Korea</th>\n",
       "      <td>4.04</td>\n",
       "      <td>3.78</td>\n",
       "      <td>3.45</td>\n",
       "      <td>4.20</td>\n",
       "      <td>4.62</td>\n",
       "    </tr>\n",
       "    <tr>\n",
       "      <th>Mexico</th>\n",
       "      <td>2.01</td>\n",
       "      <td>2.05</td>\n",
       "      <td>1.50</td>\n",
       "      <td>2.25</td>\n",
       "      <td>2.54</td>\n",
       "    </tr>\n",
       "    <tr>\n",
       "      <th>total</th>\n",
       "      <td>108.24</td>\n",
       "      <td>101.54</td>\n",
       "      <td>90.08</td>\n",
       "      <td>111.36</td>\n",
       "      <td>114.50</td>\n",
       "    </tr>\n",
       "  </tbody>\n",
       "</table>\n",
       "</div>"
      ],
      "text/plain": [
       "          2007    2008   2009    2010    2011\n",
       "China     7.71    7.95  11.96   15.84   16.33\n",
       "EU       19.02   17.71  15.00   16.70   17.48\n",
       "US       10.47    8.45   5.58    7.60    8.40\n",
       "Japan    10.87   10.83   7.55    9.09    7.88\n",
       "Korea     4.04    3.78   3.45    4.20    4.62\n",
       "Mexico    2.01    2.05   1.50    2.25    2.54\n",
       "total   108.24  101.54  90.08  111.36  114.50"
      ]
     },
     "execution_count": 35,
     "metadata": {},
     "output_type": "execute_result"
    }
   ],
   "source": [
    "df"
   ]
  },
  {
   "cell_type": "code",
   "execution_count": 55,
   "id": "f729d08f",
   "metadata": {},
   "outputs": [],
   "source": [
    "df.insert(loc=5,column='total', value=df.sum(axis=1, numeric_only=True))"
   ]
  },
  {
   "cell_type": "code",
   "execution_count": null,
   "id": "40117aa4",
   "metadata": {},
   "outputs": [],
   "source": [
    "df['total'] = df.sum(axis=1) # loc 없이 하면 열에 추가 "
   ]
  },
  {
   "cell_type": "code",
   "execution_count": 66,
   "id": "2dd2379a",
   "metadata": {},
   "outputs": [
    {
     "data": {
      "text/plain": [
       "2007     54.12\n",
       "2008     50.77\n",
       "2009     45.04\n",
       "2010     55.68\n",
       "2011     57.25\n",
       "total     0.00\n",
       "dtype: float64"
      ]
     },
     "execution_count": 66,
     "metadata": {},
     "output_type": "execute_result"
    }
   ],
   "source": [
    "df.sum()"
   ]
  },
  {
   "cell_type": "code",
   "execution_count": 78,
   "id": "aced2550",
   "metadata": {},
   "outputs": [],
   "source": [
    "df = df.drop('total',axis=0)"
   ]
  },
  {
   "cell_type": "code",
   "execution_count": 81,
   "id": "9c6e16fd",
   "metadata": {},
   "outputs": [
    {
     "data": {
      "text/html": [
       "<div>\n",
       "<style scoped>\n",
       "    .dataframe tbody tr th:only-of-type {\n",
       "        vertical-align: middle;\n",
       "    }\n",
       "\n",
       "    .dataframe tbody tr th {\n",
       "        vertical-align: top;\n",
       "    }\n",
       "\n",
       "    .dataframe thead th {\n",
       "        text-align: right;\n",
       "    }\n",
       "</style>\n",
       "<table border=\"1\" class=\"dataframe\">\n",
       "  <thead>\n",
       "    <tr style=\"text-align: right;\">\n",
       "      <th></th>\n",
       "      <th>2007</th>\n",
       "      <th>2008</th>\n",
       "      <th>2009</th>\n",
       "      <th>2010</th>\n",
       "      <th>2011</th>\n",
       "      <th>total</th>\n",
       "    </tr>\n",
       "  </thead>\n",
       "  <tbody>\n",
       "    <tr>\n",
       "      <th>China</th>\n",
       "      <td>7.71</td>\n",
       "      <td>7.95</td>\n",
       "      <td>11.96</td>\n",
       "      <td>15.84</td>\n",
       "      <td>16.33</td>\n",
       "      <td>59.79</td>\n",
       "    </tr>\n",
       "    <tr>\n",
       "      <th>EU</th>\n",
       "      <td>19.02</td>\n",
       "      <td>17.71</td>\n",
       "      <td>15.00</td>\n",
       "      <td>16.70</td>\n",
       "      <td>17.48</td>\n",
       "      <td>85.91</td>\n",
       "    </tr>\n",
       "    <tr>\n",
       "      <th>US</th>\n",
       "      <td>10.47</td>\n",
       "      <td>8.45</td>\n",
       "      <td>5.58</td>\n",
       "      <td>7.60</td>\n",
       "      <td>8.40</td>\n",
       "      <td>40.50</td>\n",
       "    </tr>\n",
       "    <tr>\n",
       "      <th>Japan</th>\n",
       "      <td>10.87</td>\n",
       "      <td>10.83</td>\n",
       "      <td>7.55</td>\n",
       "      <td>9.09</td>\n",
       "      <td>7.88</td>\n",
       "      <td>46.22</td>\n",
       "    </tr>\n",
       "    <tr>\n",
       "      <th>Korea</th>\n",
       "      <td>4.04</td>\n",
       "      <td>3.78</td>\n",
       "      <td>3.45</td>\n",
       "      <td>4.20</td>\n",
       "      <td>4.62</td>\n",
       "      <td>20.09</td>\n",
       "    </tr>\n",
       "    <tr>\n",
       "      <th>Mexico</th>\n",
       "      <td>2.01</td>\n",
       "      <td>2.05</td>\n",
       "      <td>1.50</td>\n",
       "      <td>2.25</td>\n",
       "      <td>2.54</td>\n",
       "      <td>10.35</td>\n",
       "    </tr>\n",
       "  </tbody>\n",
       "</table>\n",
       "</div>"
      ],
      "text/plain": [
       "         2007   2008   2009   2010   2011  total\n",
       "China    7.71   7.95  11.96  15.84  16.33  59.79\n",
       "EU      19.02  17.71  15.00  16.70  17.48  85.91\n",
       "US      10.47   8.45   5.58   7.60   8.40  40.50\n",
       "Japan   10.87  10.83   7.55   9.09   7.88  46.22\n",
       "Korea    4.04   3.78   3.45   4.20   4.62  20.09\n",
       "Mexico   2.01   2.05   1.50   2.25   2.54  10.35"
      ]
     },
     "execution_count": 81,
     "metadata": {},
     "output_type": "execute_result"
    }
   ],
   "source": [
    "df"
   ]
  },
  {
   "cell_type": "code",
   "execution_count": null,
   "id": "9e8c51eb",
   "metadata": {},
   "outputs": [],
   "source": []
  },
  {
   "cell_type": "code",
   "execution_count": 58,
   "id": "a2ebf8c1",
   "metadata": {},
   "outputs": [],
   "source": [
    "# 시리즈 생성\n",
    "month_se = pd.Series(['1월', '2월', '3월', '4월'])\n",
    "income_se = pd.Series([9500, 6200, 6050, 7000])\n",
    "expenses_se = pd.Series([5040, 2350, 2300, 4800])\n",
    "\n",
    "# 데이터프레임 생성\n",
    "store_df = pd.DataFrame({\n",
    "    '월': month_se,\n",
    "    '수입': income_se,\n",
    "    '지출': expenses_se\n",
    "})"
   ]
  },
  {
   "cell_type": "code",
   "execution_count": 85,
   "id": "c6af2f2a",
   "metadata": {},
   "outputs": [
    {
     "data": {
      "text/html": [
       "<div>\n",
       "<style scoped>\n",
       "    .dataframe tbody tr th:only-of-type {\n",
       "        vertical-align: middle;\n",
       "    }\n",
       "\n",
       "    .dataframe tbody tr th {\n",
       "        vertical-align: top;\n",
       "    }\n",
       "\n",
       "    .dataframe thead th {\n",
       "        text-align: right;\n",
       "    }\n",
       "</style>\n",
       "<table border=\"1\" class=\"dataframe\">\n",
       "  <thead>\n",
       "    <tr style=\"text-align: right;\">\n",
       "      <th></th>\n",
       "      <th>월</th>\n",
       "      <th>수입</th>\n",
       "      <th>지출</th>\n",
       "      <th>순수입</th>\n",
       "    </tr>\n",
       "  </thead>\n",
       "  <tbody>\n",
       "    <tr>\n",
       "      <th>0</th>\n",
       "      <td>1월</td>\n",
       "      <td>9500</td>\n",
       "      <td>5040</td>\n",
       "      <td>4460</td>\n",
       "    </tr>\n",
       "    <tr>\n",
       "      <th>1</th>\n",
       "      <td>2월</td>\n",
       "      <td>6200</td>\n",
       "      <td>2350</td>\n",
       "      <td>3850</td>\n",
       "    </tr>\n",
       "    <tr>\n",
       "      <th>2</th>\n",
       "      <td>3월</td>\n",
       "      <td>6050</td>\n",
       "      <td>2300</td>\n",
       "      <td>3750</td>\n",
       "    </tr>\n",
       "    <tr>\n",
       "      <th>3</th>\n",
       "      <td>4월</td>\n",
       "      <td>7000</td>\n",
       "      <td>4800</td>\n",
       "      <td>2200</td>\n",
       "    </tr>\n",
       "  </tbody>\n",
       "</table>\n",
       "</div>"
      ],
      "text/plain": [
       "    월    수입    지출   순수입\n",
       "0  1월  9500  5040  4460\n",
       "1  2월  6200  2350  3850\n",
       "2  3월  6050  2300  3750\n",
       "3  4월  7000  4800  2200"
      ]
     },
     "execution_count": 85,
     "metadata": {},
     "output_type": "execute_result"
    }
   ],
   "source": [
    "#순수입 컬럼 추가하기 \n",
    "store_df['순수입'] = store_df['수입'] - store_df['지출']\n",
    "store_df"
   ]
  },
  {
   "cell_type": "markdown",
   "id": "cac09c21",
   "metadata": {},
   "source": [
    "시각화"
   ]
  },
  {
   "cell_type": "code",
   "execution_count": null,
   "id": "7c8e38c6",
   "metadata": {},
   "outputs": [],
   "source": [
    "#국가명 컬럼으로 인덱스 설정하고 "
   ]
  },
  {
   "cell_type": "code",
   "execution_count": 91,
   "id": "3bd8ad9d",
   "metadata": {},
   "outputs": [
    {
     "data": {
      "text/html": [
       "<div>\n",
       "<style scoped>\n",
       "    .dataframe tbody tr th:only-of-type {\n",
       "        vertical-align: middle;\n",
       "    }\n",
       "\n",
       "    .dataframe tbody tr th {\n",
       "        vertical-align: top;\n",
       "    }\n",
       "\n",
       "    .dataframe thead th {\n",
       "        text-align: right;\n",
       "    }\n",
       "</style>\n",
       "<table border=\"1\" class=\"dataframe\">\n",
       "  <thead>\n",
       "    <tr style=\"text-align: right;\">\n",
       "      <th></th>\n",
       "      <th>2007</th>\n",
       "      <th>2008</th>\n",
       "      <th>2009</th>\n",
       "      <th>2010</th>\n",
       "      <th>2011</th>\n",
       "    </tr>\n",
       "  </thead>\n",
       "  <tbody>\n",
       "    <tr>\n",
       "      <th>China</th>\n",
       "      <td>7.71</td>\n",
       "      <td>7.95</td>\n",
       "      <td>11.96</td>\n",
       "      <td>15.84</td>\n",
       "      <td>16.33</td>\n",
       "    </tr>\n",
       "    <tr>\n",
       "      <th>EU</th>\n",
       "      <td>19.02</td>\n",
       "      <td>17.71</td>\n",
       "      <td>15.00</td>\n",
       "      <td>16.70</td>\n",
       "      <td>17.48</td>\n",
       "    </tr>\n",
       "    <tr>\n",
       "      <th>US</th>\n",
       "      <td>10.47</td>\n",
       "      <td>8.45</td>\n",
       "      <td>5.58</td>\n",
       "      <td>7.60</td>\n",
       "      <td>8.40</td>\n",
       "    </tr>\n",
       "    <tr>\n",
       "      <th>Japan</th>\n",
       "      <td>10.87</td>\n",
       "      <td>10.83</td>\n",
       "      <td>7.55</td>\n",
       "      <td>9.09</td>\n",
       "      <td>7.88</td>\n",
       "    </tr>\n",
       "    <tr>\n",
       "      <th>Korea</th>\n",
       "      <td>4.04</td>\n",
       "      <td>3.78</td>\n",
       "      <td>3.45</td>\n",
       "      <td>4.20</td>\n",
       "      <td>4.62</td>\n",
       "    </tr>\n",
       "    <tr>\n",
       "      <th>Mexico</th>\n",
       "      <td>2.01</td>\n",
       "      <td>2.05</td>\n",
       "      <td>1.50</td>\n",
       "      <td>2.25</td>\n",
       "      <td>2.54</td>\n",
       "    </tr>\n",
       "  </tbody>\n",
       "</table>\n",
       "</div>"
      ],
      "text/plain": [
       "         2007   2008   2009   2010   2011\n",
       "China    7.71   7.95  11.96  15.84  16.33\n",
       "EU      19.02  17.71  15.00  16.70  17.48\n",
       "US      10.47   8.45   5.58   7.60   8.40\n",
       "Japan   10.87  10.83   7.55   9.09   7.88\n",
       "Korea    4.04   3.78   3.45   4.20   4.62\n",
       "Mexico   2.01   2.05   1.50   2.25   2.54"
      ]
     },
     "execution_count": 91,
     "metadata": {},
     "output_type": "execute_result"
    }
   ],
   "source": [
    "df"
   ]
  },
  {
   "cell_type": "code",
   "execution_count": 97,
   "id": "acef518a",
   "metadata": {},
   "outputs": [
    {
     "data": {
      "text/html": [
       "<div>\n",
       "<style scoped>\n",
       "    .dataframe tbody tr th:only-of-type {\n",
       "        vertical-align: middle;\n",
       "    }\n",
       "\n",
       "    .dataframe tbody tr th {\n",
       "        vertical-align: top;\n",
       "    }\n",
       "\n",
       "    .dataframe thead th {\n",
       "        text-align: right;\n",
       "    }\n",
       "</style>\n",
       "<table border=\"1\" class=\"dataframe\">\n",
       "  <thead>\n",
       "    <tr style=\"text-align: right;\">\n",
       "      <th></th>\n",
       "      <th>2007</th>\n",
       "      <th>2008</th>\n",
       "      <th>2009</th>\n",
       "      <th>2010</th>\n",
       "      <th>2011</th>\n",
       "    </tr>\n",
       "  </thead>\n",
       "  <tbody>\n",
       "    <tr>\n",
       "      <th>China</th>\n",
       "      <td>7.71</td>\n",
       "      <td>7.95</td>\n",
       "      <td>11.96</td>\n",
       "      <td>15.84</td>\n",
       "      <td>16.33</td>\n",
       "    </tr>\n",
       "    <tr>\n",
       "      <th>EU</th>\n",
       "      <td>19.02</td>\n",
       "      <td>17.71</td>\n",
       "      <td>15.00</td>\n",
       "      <td>16.70</td>\n",
       "      <td>17.48</td>\n",
       "    </tr>\n",
       "    <tr>\n",
       "      <th>US</th>\n",
       "      <td>10.47</td>\n",
       "      <td>8.45</td>\n",
       "      <td>5.58</td>\n",
       "      <td>7.60</td>\n",
       "      <td>8.40</td>\n",
       "    </tr>\n",
       "    <tr>\n",
       "      <th>Japan</th>\n",
       "      <td>10.87</td>\n",
       "      <td>10.83</td>\n",
       "      <td>7.55</td>\n",
       "      <td>9.09</td>\n",
       "      <td>7.88</td>\n",
       "    </tr>\n",
       "    <tr>\n",
       "      <th>Korea</th>\n",
       "      <td>4.04</td>\n",
       "      <td>3.78</td>\n",
       "      <td>3.45</td>\n",
       "      <td>4.20</td>\n",
       "      <td>4.62</td>\n",
       "    </tr>\n",
       "    <tr>\n",
       "      <th>Mexico</th>\n",
       "      <td>2.01</td>\n",
       "      <td>2.05</td>\n",
       "      <td>1.50</td>\n",
       "      <td>2.25</td>\n",
       "      <td>2.54</td>\n",
       "    </tr>\n",
       "  </tbody>\n",
       "</table>\n",
       "</div>"
      ],
      "text/plain": [
       "         2007   2008   2009   2010   2011\n",
       "China    7.71   7.95  11.96  15.84  16.33\n",
       "EU      19.02  17.71  15.00  16.70  17.48\n",
       "US      10.47   8.45   5.58   7.60   8.40\n",
       "Japan   10.87  10.83   7.55   9.09   7.88\n",
       "Korea    4.04   3.78   3.45   4.20   4.62\n",
       "Mexico   2.01   2.05   1.50   2.25   2.54"
      ]
     },
     "execution_count": 97,
     "metadata": {},
     "output_type": "execute_result"
    }
   ],
   "source": [
    "df"
   ]
  },
  {
   "cell_type": "code",
   "execution_count": 96,
   "id": "f3e0b349",
   "metadata": {},
   "outputs": [
    {
     "data": {
      "text/plain": [
       "Text(0, 0.5, 'Production')"
      ]
     },
     "execution_count": 96,
     "metadata": {},
     "output_type": "execute_result"
    },
    {
     "data": {
      "image/png": "[encoded data removed]",
      "text/plain": [
       "<Figure size 640x480 with 1 Axes>"
      ]
     },
     "metadata": {},
     "output_type": "display_data"
    }
   ],
   "source": [
    "ax = df.plot.bar()\n",
    "ax.set_xlabel('Country')\n",
    "ax.set_ylabel('Production')"
   ]
  },
  {
   "cell_type": "code",
   "execution_count": 100,
   "id": "3f4dd846",
   "metadata": {},
   "outputs": [
    {
     "data": {
      "text/html": [
       "<div>\n",
       "<style scoped>\n",
       "    .dataframe tbody tr th:only-of-type {\n",
       "        vertical-align: middle;\n",
       "    }\n",
       "\n",
       "    .dataframe tbody tr th {\n",
       "        vertical-align: top;\n",
       "    }\n",
       "\n",
       "    .dataframe thead th {\n",
       "        text-align: right;\n",
       "    }\n",
       "</style>\n",
       "<table border=\"1\" class=\"dataframe\">\n",
       "  <thead>\n",
       "    <tr style=\"text-align: right;\">\n",
       "      <th></th>\n",
       "      <th>China</th>\n",
       "      <th>EU</th>\n",
       "      <th>US</th>\n",
       "      <th>Japan</th>\n",
       "      <th>Korea</th>\n",
       "      <th>Mexico</th>\n",
       "    </tr>\n",
       "  </thead>\n",
       "  <tbody>\n",
       "    <tr>\n",
       "      <th>2007</th>\n",
       "      <td>7.71</td>\n",
       "      <td>19.02</td>\n",
       "      <td>10.47</td>\n",
       "      <td>10.87</td>\n",
       "      <td>4.04</td>\n",
       "      <td>2.01</td>\n",
       "    </tr>\n",
       "    <tr>\n",
       "      <th>2008</th>\n",
       "      <td>7.95</td>\n",
       "      <td>17.71</td>\n",
       "      <td>8.45</td>\n",
       "      <td>10.83</td>\n",
       "      <td>3.78</td>\n",
       "      <td>2.05</td>\n",
       "    </tr>\n",
       "    <tr>\n",
       "      <th>2009</th>\n",
       "      <td>11.96</td>\n",
       "      <td>15.00</td>\n",
       "      <td>5.58</td>\n",
       "      <td>7.55</td>\n",
       "      <td>3.45</td>\n",
       "      <td>1.50</td>\n",
       "    </tr>\n",
       "    <tr>\n",
       "      <th>2010</th>\n",
       "      <td>15.84</td>\n",
       "      <td>16.70</td>\n",
       "      <td>7.60</td>\n",
       "      <td>9.09</td>\n",
       "      <td>4.20</td>\n",
       "      <td>2.25</td>\n",
       "    </tr>\n",
       "    <tr>\n",
       "      <th>2011</th>\n",
       "      <td>16.33</td>\n",
       "      <td>17.48</td>\n",
       "      <td>8.40</td>\n",
       "      <td>7.88</td>\n",
       "      <td>4.62</td>\n",
       "      <td>2.54</td>\n",
       "    </tr>\n",
       "  </tbody>\n",
       "</table>\n",
       "</div>"
      ],
      "text/plain": [
       "      China     EU     US  Japan  Korea  Mexico\n",
       "2007   7.71  19.02  10.47  10.87   4.04    2.01\n",
       "2008   7.95  17.71   8.45  10.83   3.78    2.05\n",
       "2009  11.96  15.00   5.58   7.55   3.45    1.50\n",
       "2010  15.84  16.70   7.60   9.09   4.20    2.25\n",
       "2011  16.33  17.48   8.40   7.88   4.62    2.54"
      ]
     },
     "execution_count": 100,
     "metadata": {},
     "output_type": "execute_result"
    }
   ],
   "source": [
    "df.transpose()"
   ]
  },
  {
   "cell_type": "code",
   "execution_count": 99,
   "id": "a19a440d",
   "metadata": {},
   "outputs": [
    {
     "data": {
      "text/plain": [
       "<Axes: >"
      ]
     },
     "execution_count": 99,
     "metadata": {},
     "output_type": "execute_result"
    },
    {
     "data": {
      "image/png": "[encoded data removed]",
      "text/plain": [
       "<Figure size 640x480 with 1 Axes>"
      ]
     },
     "metadata": {},
     "output_type": "display_data"
    }
   ],
   "source": [
    "df_year = df.transpose() # 행열 변경 함수 \n",
    "df_year.plot.line() # 선그래프 "
   ]
  },
  {
   "cell_type": "code",
   "execution_count": null,
   "id": "c941ae37",
   "metadata": {},
   "outputs": [],
   "source": [
    "# 결측치 np.nan, pd.NA"
   ]
  },
  {
   "cell_type": "code",
   "execution_count": 104,
   "id": "cc39c756",
   "metadata": {},
   "outputs": [
    {
     "data": {
      "text/plain": [
       "False"
      ]
     },
     "execution_count": 104,
     "metadata": {},
     "output_type": "execute_result"
    }
   ],
   "source": [
    "import numpy as np\n",
    "np.nan == 0"
   ]
  },
  {
   "cell_type": "code",
   "execution_count": 105,
   "id": "22f237e3",
   "metadata": {},
   "outputs": [
    {
     "data": {
      "text/plain": [
       "[1, 2, nan, 4]"
      ]
     },
     "execution_count": 105,
     "metadata": {},
     "output_type": "execute_result"
    }
   ],
   "source": [
    "x = [1,2, np.nan,4]\n",
    "x"
   ]
  },
  {
   "cell_type": "code",
   "execution_count": 107,
   "id": "331e01e5",
   "metadata": {},
   "outputs": [
    {
     "data": {
      "text/plain": [
       "array([False, False,  True, False])"
      ]
     },
     "execution_count": 107,
     "metadata": {},
     "output_type": "execute_result"
    }
   ],
   "source": [
    "import pandas as pd\n",
    "\n",
    "pd.NA #NaN\n",
    "pd.isna(x) # 결측치 맞냐고 물어보는 함수"
   ]
  },
  {
   "cell_type": "code",
   "execution_count": 108,
   "id": "5497141a",
   "metadata": {},
   "outputs": [
    {
     "data": {
      "text/plain": [
       "<NA>"
      ]
     },
     "execution_count": 108,
     "metadata": {},
     "output_type": "execute_result"
    }
   ],
   "source": [
    "pd.NA == np.nan"
   ]
  },
  {
   "cell_type": "code",
   "execution_count": 110,
   "id": "2790933c",
   "metadata": {},
   "outputs": [
    {
     "data": {
      "text/plain": [
       "True"
      ]
     },
     "execution_count": 110,
     "metadata": {},
     "output_type": "execute_result"
    }
   ],
   "source": [
    "pd.isnull(np.nan)"
   ]
  },
  {
   "cell_type": "code",
   "execution_count": 172,
   "id": "e616100f",
   "metadata": {},
   "outputs": [
    {
     "data": {
      "text/html": [
       "<div>\n",
       "<style scoped>\n",
       "    .dataframe tbody tr th:only-of-type {\n",
       "        vertical-align: middle;\n",
       "    }\n",
       "\n",
       "    .dataframe tbody tr th {\n",
       "        vertical-align: top;\n",
       "    }\n",
       "\n",
       "    .dataframe thead th {\n",
       "        text-align: right;\n",
       "    }\n",
       "</style>\n",
       "<table border=\"1\" class=\"dataframe\">\n",
       "  <thead>\n",
       "    <tr style=\"text-align: right;\">\n",
       "      <th></th>\n",
       "      <th>name</th>\n",
       "      <th>age</th>\n",
       "      <th>score</th>\n",
       "      <th>city</th>\n",
       "    </tr>\n",
       "  </thead>\n",
       "  <tbody>\n",
       "    <tr>\n",
       "      <th>0</th>\n",
       "      <td>Alice</td>\n",
       "      <td>25.0</td>\n",
       "      <td>90.0</td>\n",
       "      <td>Seoul</td>\n",
       "    </tr>\n",
       "    <tr>\n",
       "      <th>1</th>\n",
       "      <td>Bob</td>\n",
       "      <td>NaN</td>\n",
       "      <td>85.0</td>\n",
       "      <td>Busan</td>\n",
       "    </tr>\n",
       "    <tr>\n",
       "      <th>2</th>\n",
       "      <td>Charlie</td>\n",
       "      <td>30.0</td>\n",
       "      <td>NaN</td>\n",
       "      <td>NaN</td>\n",
       "    </tr>\n",
       "    <tr>\n",
       "      <th>3</th>\n",
       "      <td>David</td>\n",
       "      <td>22.0</td>\n",
       "      <td>88.0</td>\n",
       "      <td>Incheon</td>\n",
       "    </tr>\n",
       "    <tr>\n",
       "      <th>4</th>\n",
       "      <td>Eva</td>\n",
       "      <td>NaN</td>\n",
       "      <td>95.0</td>\n",
       "      <td>Seoul</td>\n",
       "    </tr>\n",
       "  </tbody>\n",
       "</table>\n",
       "</div>"
      ],
      "text/plain": [
       "      name   age  score     city\n",
       "0    Alice  25.0   90.0    Seoul\n",
       "1      Bob   NaN   85.0    Busan\n",
       "2  Charlie  30.0    NaN      NaN\n",
       "3    David  22.0   88.0  Incheon\n",
       "4      Eva   NaN   95.0    Seoul"
      ]
     },
     "execution_count": 172,
     "metadata": {},
     "output_type": "execute_result"
    }
   ],
   "source": [
    "import pandas as pd\n",
    "import numpy as np\n",
    "\n",
    "data = {\n",
    "    'name': ['Alice', 'Bob', 'Charlie', 'David', 'Eva'],\n",
    "    'age': [25, np.nan, 30, 22, np.nan],\n",
    "    'score': [90, 85, np.nan, 88, 95],\n",
    "    'city': ['Seoul', 'Busan', np.nan, 'Incheon', 'Seoul']\n",
    "}\n",
    "\n",
    "df = pd.DataFrame(data)\n",
    "df\n"
   ]
  },
  {
   "cell_type": "code",
   "execution_count": 119,
   "id": "c1bb3bf3",
   "metadata": {},
   "outputs": [
    {
     "data": {
      "text/plain": [
       "name     0\n",
       "age      2\n",
       "score    1\n",
       "city     1\n",
       "dtype: int64"
      ]
     },
     "execution_count": 119,
     "metadata": {},
     "output_type": "execute_result"
    }
   ],
   "source": [
    "pd.isnull(df).sum()"
   ]
  },
  {
   "cell_type": "code",
   "execution_count": 121,
   "id": "77117911",
   "metadata": {},
   "outputs": [],
   "source": [
    "# 결측치 제거\n",
    "df2 = df.dropna() # 행전체 제거"
   ]
  },
  {
   "cell_type": "code",
   "execution_count": 124,
   "id": "af63a4c0",
   "metadata": {},
   "outputs": [
    {
     "data": {
      "text/html": [
       "<div>\n",
       "<style scoped>\n",
       "    .dataframe tbody tr th:only-of-type {\n",
       "        vertical-align: middle;\n",
       "    }\n",
       "\n",
       "    .dataframe tbody tr th {\n",
       "        vertical-align: top;\n",
       "    }\n",
       "\n",
       "    .dataframe thead th {\n",
       "        text-align: right;\n",
       "    }\n",
       "</style>\n",
       "<table border=\"1\" class=\"dataframe\">\n",
       "  <thead>\n",
       "    <tr style=\"text-align: right;\">\n",
       "      <th></th>\n",
       "      <th>name</th>\n",
       "      <th>age</th>\n",
       "      <th>score</th>\n",
       "      <th>city</th>\n",
       "    </tr>\n",
       "  </thead>\n",
       "  <tbody>\n",
       "    <tr>\n",
       "      <th>0</th>\n",
       "      <td>Alice</td>\n",
       "      <td>25.0</td>\n",
       "      <td>90.0</td>\n",
       "      <td>Seoul</td>\n",
       "    </tr>\n",
       "    <tr>\n",
       "      <th>3</th>\n",
       "      <td>David</td>\n",
       "      <td>22.0</td>\n",
       "      <td>88.0</td>\n",
       "      <td>Incheon</td>\n",
       "    </tr>\n",
       "  </tbody>\n",
       "</table>\n",
       "</div>"
      ],
      "text/plain": [
       "    name   age  score     city\n",
       "0  Alice  25.0   90.0    Seoul\n",
       "3  David  22.0   88.0  Incheon"
      ]
     },
     "execution_count": 124,
     "metadata": {},
     "output_type": "execute_result"
    }
   ],
   "source": [
    "df2"
   ]
  },
  {
   "cell_type": "code",
   "execution_count": null,
   "id": "49c519f6",
   "metadata": {},
   "outputs": [],
   "source": [
    "df3 = df.dropna(axis=1) # 열 전체 삭제, 이건 잘 안씀 "
   ]
  },
  {
   "cell_type": "code",
   "execution_count": 123,
   "id": "b46d0ede",
   "metadata": {},
   "outputs": [
    {
     "data": {
      "text/html": [
       "<div>\n",
       "<style scoped>\n",
       "    .dataframe tbody tr th:only-of-type {\n",
       "        vertical-align: middle;\n",
       "    }\n",
       "\n",
       "    .dataframe tbody tr th {\n",
       "        vertical-align: top;\n",
       "    }\n",
       "\n",
       "    .dataframe thead th {\n",
       "        text-align: right;\n",
       "    }\n",
       "</style>\n",
       "<table border=\"1\" class=\"dataframe\">\n",
       "  <thead>\n",
       "    <tr style=\"text-align: right;\">\n",
       "      <th></th>\n",
       "      <th>name</th>\n",
       "    </tr>\n",
       "  </thead>\n",
       "  <tbody>\n",
       "    <tr>\n",
       "      <th>0</th>\n",
       "      <td>Alice</td>\n",
       "    </tr>\n",
       "    <tr>\n",
       "      <th>1</th>\n",
       "      <td>Bob</td>\n",
       "    </tr>\n",
       "    <tr>\n",
       "      <th>2</th>\n",
       "      <td>Charlie</td>\n",
       "    </tr>\n",
       "    <tr>\n",
       "      <th>3</th>\n",
       "      <td>David</td>\n",
       "    </tr>\n",
       "    <tr>\n",
       "      <th>4</th>\n",
       "      <td>Eva</td>\n",
       "    </tr>\n",
       "  </tbody>\n",
       "</table>\n",
       "</div>"
      ],
      "text/plain": [
       "      name\n",
       "0    Alice\n",
       "1      Bob\n",
       "2  Charlie\n",
       "3    David\n",
       "4      Eva"
      ]
     },
     "execution_count": 123,
     "metadata": {},
     "output_type": "execute_result"
    }
   ],
   "source": [
    "df3"
   ]
  },
  {
   "cell_type": "code",
   "execution_count": 126,
   "id": "3e4d09e3",
   "metadata": {},
   "outputs": [
    {
     "data": {
      "text/html": [
       "<div>\n",
       "<style scoped>\n",
       "    .dataframe tbody tr th:only-of-type {\n",
       "        vertical-align: middle;\n",
       "    }\n",
       "\n",
       "    .dataframe tbody tr th {\n",
       "        vertical-align: top;\n",
       "    }\n",
       "\n",
       "    .dataframe thead th {\n",
       "        text-align: right;\n",
       "    }\n",
       "</style>\n",
       "<table border=\"1\" class=\"dataframe\">\n",
       "  <thead>\n",
       "    <tr style=\"text-align: right;\">\n",
       "      <th></th>\n",
       "      <th>name</th>\n",
       "      <th>age</th>\n",
       "      <th>score</th>\n",
       "      <th>city</th>\n",
       "    </tr>\n",
       "  </thead>\n",
       "  <tbody>\n",
       "    <tr>\n",
       "      <th>0</th>\n",
       "      <td>Alice</td>\n",
       "      <td>25.0</td>\n",
       "      <td>90.0</td>\n",
       "      <td>Seoul</td>\n",
       "    </tr>\n",
       "    <tr>\n",
       "      <th>1</th>\n",
       "      <td>Bob</td>\n",
       "      <td>NaN</td>\n",
       "      <td>85.0</td>\n",
       "      <td>Busan</td>\n",
       "    </tr>\n",
       "    <tr>\n",
       "      <th>3</th>\n",
       "      <td>David</td>\n",
       "      <td>22.0</td>\n",
       "      <td>88.0</td>\n",
       "      <td>Incheon</td>\n",
       "    </tr>\n",
       "    <tr>\n",
       "      <th>4</th>\n",
       "      <td>Eva</td>\n",
       "      <td>NaN</td>\n",
       "      <td>95.0</td>\n",
       "      <td>Seoul</td>\n",
       "    </tr>\n",
       "  </tbody>\n",
       "</table>\n",
       "</div>"
      ],
      "text/plain": [
       "    name   age  score     city\n",
       "0  Alice  25.0   90.0    Seoul\n",
       "1    Bob   NaN   85.0    Busan\n",
       "3  David  22.0   88.0  Incheon\n",
       "4    Eva   NaN   95.0    Seoul"
      ]
     },
     "execution_count": 126,
     "metadata": {},
     "output_type": "execute_result"
    }
   ],
   "source": [
    "df.dropna(subset=['score'])  # 해당 컬럼의 null 값이 포함된 애들만 삭제 \n",
    "# 리스트 안줘도 날라가긴 하는데 주는 걸로 습관들이기 "
   ]
  },
  {
   "cell_type": "code",
   "execution_count": 129,
   "id": "d87fa09e",
   "metadata": {},
   "outputs": [
    {
     "ename": "TypeError",
     "evalue": "DataFrame.dropna() takes 1 positional argument but 2 were given",
     "output_type": "error",
     "traceback": [
      "\u001b[31m---------------------------------------------------------------------------\u001b[39m",
      "\u001b[31mTypeError\u001b[39m                                 Traceback (most recent call last)",
      "\u001b[36mCell\u001b[39m\u001b[36m \u001b[39m\u001b[32mIn[129]\u001b[39m\u001b[32m, line 1\u001b[39m\n\u001b[32m----> \u001b[39m\u001b[32m1\u001b[39m df.dropna(help)\n",
      "\u001b[31mTypeError\u001b[39m: DataFrame.dropna() takes 1 positional argument but 2 were given"
     ]
    }
   ],
   "source": [
    "df.dropna()"
   ]
  },
  {
   "cell_type": "code",
   "execution_count": 132,
   "id": "1dc8673b",
   "metadata": {},
   "outputs": [],
   "source": [
    "# coloum 값이 데이터타입이 각자 다르기 때문에 \n",
    "# 컬럼 설정해주고 어떤 값으로 처리할지 설정\n",
    "df3 = df['age'].fillna('없음') "
   ]
  },
  {
   "cell_type": "code",
   "execution_count": 135,
   "id": "a7d2154a",
   "metadata": {},
   "outputs": [
    {
     "data": {
      "text/html": [
       "<div>\n",
       "<style scoped>\n",
       "    .dataframe tbody tr th:only-of-type {\n",
       "        vertical-align: middle;\n",
       "    }\n",
       "\n",
       "    .dataframe tbody tr th {\n",
       "        vertical-align: top;\n",
       "    }\n",
       "\n",
       "    .dataframe thead th {\n",
       "        text-align: right;\n",
       "    }\n",
       "</style>\n",
       "<table border=\"1\" class=\"dataframe\">\n",
       "  <thead>\n",
       "    <tr style=\"text-align: right;\">\n",
       "      <th></th>\n",
       "      <th>name</th>\n",
       "      <th>age</th>\n",
       "      <th>score</th>\n",
       "      <th>city</th>\n",
       "    </tr>\n",
       "  </thead>\n",
       "  <tbody>\n",
       "    <tr>\n",
       "      <th>0</th>\n",
       "      <td>Alice</td>\n",
       "      <td>25.0</td>\n",
       "      <td>90.0</td>\n",
       "      <td>Seoul</td>\n",
       "    </tr>\n",
       "    <tr>\n",
       "      <th>1</th>\n",
       "      <td>Bob</td>\n",
       "      <td>NaN</td>\n",
       "      <td>85.0</td>\n",
       "      <td>Busan</td>\n",
       "    </tr>\n",
       "    <tr>\n",
       "      <th>2</th>\n",
       "      <td>Charlie</td>\n",
       "      <td>30.0</td>\n",
       "      <td>NaN</td>\n",
       "      <td>NaN</td>\n",
       "    </tr>\n",
       "    <tr>\n",
       "      <th>3</th>\n",
       "      <td>David</td>\n",
       "      <td>22.0</td>\n",
       "      <td>88.0</td>\n",
       "      <td>Incheon</td>\n",
       "    </tr>\n",
       "    <tr>\n",
       "      <th>4</th>\n",
       "      <td>Eva</td>\n",
       "      <td>NaN</td>\n",
       "      <td>95.0</td>\n",
       "      <td>Seoul</td>\n",
       "    </tr>\n",
       "  </tbody>\n",
       "</table>\n",
       "</div>"
      ],
      "text/plain": [
       "      name   age  score     city\n",
       "0    Alice  25.0   90.0    Seoul\n",
       "1      Bob   NaN   85.0    Busan\n",
       "2  Charlie  30.0    NaN      NaN\n",
       "3    David  22.0   88.0  Incheon\n",
       "4      Eva   NaN   95.0    Seoul"
      ]
     },
     "execution_count": 135,
     "metadata": {},
     "output_type": "execute_result"
    }
   ],
   "source": [
    "df"
   ]
  },
  {
   "cell_type": "code",
   "execution_count": 156,
   "id": "d71be00b",
   "metadata": {},
   "outputs": [],
   "source": [
    "# 수치형 변수의 경우는 대표값 : 평균, 중앙값, 최빈값으로 채움\n",
    "\n",
    "df_n = df['age'].fillna(df['age'].mean()) # 평균값"
   ]
  },
  {
   "cell_type": "code",
   "execution_count": 157,
   "id": "bd9dd2d1",
   "metadata": {},
   "outputs": [
    {
     "data": {
      "text/plain": [
       "0    25.000000\n",
       "1    25.666667\n",
       "2    30.000000\n",
       "3    22.000000\n",
       "4    25.666667\n",
       "Name: age, dtype: float64"
      ]
     },
     "execution_count": 157,
     "metadata": {},
     "output_type": "execute_result"
    }
   ],
   "source": [
    "df_n"
   ]
  },
  {
   "cell_type": "code",
   "execution_count": 149,
   "id": "6433d85d",
   "metadata": {},
   "outputs": [],
   "source": [
    "df_n1 = df['age'].fillna(df['age'].median()) # 중앙값"
   ]
  },
  {
   "cell_type": "code",
   "execution_count": 153,
   "id": "f81896e6",
   "metadata": {},
   "outputs": [
    {
     "data": {
      "text/plain": [
       "0    25.000000\n",
       "1    25.666667\n",
       "2    30.000000\n",
       "3    22.000000\n",
       "4    25.666667\n",
       "Name: age, dtype: float64"
      ]
     },
     "execution_count": 153,
     "metadata": {},
     "output_type": "execute_result"
    }
   ],
   "source": [
    "df_n1"
   ]
  },
  {
   "cell_type": "code",
   "execution_count": 168,
   "id": "246a7f1c",
   "metadata": {},
   "outputs": [
    {
     "data": {
      "text/plain": [
       "0    25.000000\n",
       "1    25.666667\n",
       "2    30.000000\n",
       "3    22.000000\n",
       "4    25.666667\n",
       "Name: age, dtype: float64"
      ]
     },
     "execution_count": 168,
     "metadata": {},
     "output_type": "execute_result"
    }
   ],
   "source": [
    "df['age']"
   ]
  },
  {
   "cell_type": "code",
   "execution_count": 167,
   "id": "305a5cdd",
   "metadata": {},
   "outputs": [],
   "source": [
    "df_n1 = df['age'].fillna(df['age'].mode().iloc[0]) # 최빈값"
   ]
  },
  {
   "cell_type": "code",
   "execution_count": 166,
   "id": "cf7c45c1",
   "metadata": {},
   "outputs": [
    {
     "data": {
      "text/plain": [
       "0    25.000000\n",
       "1    25.666667\n",
       "2    30.000000\n",
       "3    22.000000\n",
       "4    25.666667\n",
       "Name: age, dtype: float64"
      ]
     },
     "execution_count": 166,
     "metadata": {},
     "output_type": "execute_result"
    }
   ],
   "source": [
    "df_n1"
   ]
  },
  {
   "cell_type": "code",
   "execution_count": 152,
   "id": "53506982",
   "metadata": {},
   "outputs": [
    {
     "data": {
      "text/html": [
       "<div>\n",
       "<style scoped>\n",
       "    .dataframe tbody tr th:only-of-type {\n",
       "        vertical-align: middle;\n",
       "    }\n",
       "\n",
       "    .dataframe tbody tr th {\n",
       "        vertical-align: top;\n",
       "    }\n",
       "\n",
       "    .dataframe thead th {\n",
       "        text-align: right;\n",
       "    }\n",
       "</style>\n",
       "<table border=\"1\" class=\"dataframe\">\n",
       "  <thead>\n",
       "    <tr style=\"text-align: right;\">\n",
       "      <th></th>\n",
       "      <th>name</th>\n",
       "      <th>age</th>\n",
       "      <th>score</th>\n",
       "      <th>city</th>\n",
       "    </tr>\n",
       "  </thead>\n",
       "  <tbody>\n",
       "    <tr>\n",
       "      <th>0</th>\n",
       "      <td>Alice</td>\n",
       "      <td>25.000000</td>\n",
       "      <td>90.0</td>\n",
       "      <td>Seoul</td>\n",
       "    </tr>\n",
       "    <tr>\n",
       "      <th>1</th>\n",
       "      <td>Bob</td>\n",
       "      <td>25.666667</td>\n",
       "      <td>85.0</td>\n",
       "      <td>Busan</td>\n",
       "    </tr>\n",
       "    <tr>\n",
       "      <th>2</th>\n",
       "      <td>Charlie</td>\n",
       "      <td>30.000000</td>\n",
       "      <td>NaN</td>\n",
       "      <td>NaN</td>\n",
       "    </tr>\n",
       "    <tr>\n",
       "      <th>3</th>\n",
       "      <td>David</td>\n",
       "      <td>22.000000</td>\n",
       "      <td>88.0</td>\n",
       "      <td>Incheon</td>\n",
       "    </tr>\n",
       "    <tr>\n",
       "      <th>4</th>\n",
       "      <td>Eva</td>\n",
       "      <td>25.666667</td>\n",
       "      <td>95.0</td>\n",
       "      <td>Seoul</td>\n",
       "    </tr>\n",
       "  </tbody>\n",
       "</table>\n",
       "</div>"
      ],
      "text/plain": [
       "      name        age  score     city\n",
       "0    Alice  25.000000   90.0    Seoul\n",
       "1      Bob  25.666667   85.0    Busan\n",
       "2  Charlie  30.000000    NaN      NaN\n",
       "3    David  22.000000   88.0  Incheon\n",
       "4      Eva  25.666667   95.0    Seoul"
      ]
     },
     "execution_count": 152,
     "metadata": {},
     "output_type": "execute_result"
    }
   ],
   "source": [
    "df"
   ]
  },
  {
   "cell_type": "code",
   "execution_count": 170,
   "id": "b245a8d2",
   "metadata": {},
   "outputs": [
    {
     "data": {
      "text/plain": [
       "0    90.0\n",
       "1    85.0\n",
       "2    85.0\n",
       "3    88.0\n",
       "4    95.0\n",
       "Name: score, dtype: float64"
      ]
     },
     "execution_count": 170,
     "metadata": {},
     "output_type": "execute_result"
    }
   ],
   "source": [
    "#직전값ffill, 직후값\n",
    "df['score'].ffill() # 직전값으로 채우기 "
   ]
  },
  {
   "cell_type": "code",
   "execution_count": 171,
   "id": "3ddc0c0b",
   "metadata": {},
   "outputs": [
    {
     "data": {
      "text/plain": [
       "0    90.0\n",
       "1    85.0\n",
       "2    88.0\n",
       "3    88.0\n",
       "4    95.0\n",
       "Name: score, dtype: float64"
      ]
     },
     "execution_count": 171,
     "metadata": {},
     "output_type": "execute_result"
    }
   ],
   "source": [
    "df['score'].bfill() # 직후값으로 채우기 "
   ]
  },
  {
   "cell_type": "code",
   "execution_count": 173,
   "id": "a5dfe665",
   "metadata": {},
   "outputs": [
    {
     "data": {
      "text/html": [
       "<div>\n",
       "<style scoped>\n",
       "    .dataframe tbody tr th:only-of-type {\n",
       "        vertical-align: middle;\n",
       "    }\n",
       "\n",
       "    .dataframe tbody tr th {\n",
       "        vertical-align: top;\n",
       "    }\n",
       "\n",
       "    .dataframe thead th {\n",
       "        text-align: right;\n",
       "    }\n",
       "</style>\n",
       "<table border=\"1\" class=\"dataframe\">\n",
       "  <thead>\n",
       "    <tr style=\"text-align: right;\">\n",
       "      <th></th>\n",
       "      <th>name</th>\n",
       "      <th>age</th>\n",
       "      <th>score</th>\n",
       "      <th>city</th>\n",
       "    </tr>\n",
       "  </thead>\n",
       "  <tbody>\n",
       "    <tr>\n",
       "      <th>0</th>\n",
       "      <td>Alice</td>\n",
       "      <td>25.0</td>\n",
       "      <td>90.0</td>\n",
       "      <td>Seoul</td>\n",
       "    </tr>\n",
       "    <tr>\n",
       "      <th>1</th>\n",
       "      <td>Bob</td>\n",
       "      <td>NaN</td>\n",
       "      <td>85.0</td>\n",
       "      <td>Busan</td>\n",
       "    </tr>\n",
       "    <tr>\n",
       "      <th>2</th>\n",
       "      <td>Charlie</td>\n",
       "      <td>30.0</td>\n",
       "      <td>NaN</td>\n",
       "      <td>NaN</td>\n",
       "    </tr>\n",
       "    <tr>\n",
       "      <th>3</th>\n",
       "      <td>David</td>\n",
       "      <td>22.0</td>\n",
       "      <td>88.0</td>\n",
       "      <td>Incheon</td>\n",
       "    </tr>\n",
       "    <tr>\n",
       "      <th>4</th>\n",
       "      <td>Eva</td>\n",
       "      <td>NaN</td>\n",
       "      <td>95.0</td>\n",
       "      <td>Seoul</td>\n",
       "    </tr>\n",
       "  </tbody>\n",
       "</table>\n",
       "</div>"
      ],
      "text/plain": [
       "      name   age  score     city\n",
       "0    Alice  25.0   90.0    Seoul\n",
       "1      Bob   NaN   85.0    Busan\n",
       "2  Charlie  30.0    NaN      NaN\n",
       "3    David  22.0   88.0  Incheon\n",
       "4      Eva   NaN   95.0    Seoul"
      ]
     },
     "execution_count": 173,
     "metadata": {},
     "output_type": "execute_result"
    }
   ],
   "source": [
    "df"
   ]
  },
  {
   "cell_type": "code",
   "execution_count": 175,
   "id": "6e63728f",
   "metadata": {},
   "outputs": [
    {
     "data": {
      "text/plain": [
       "0     True\n",
       "1    False\n",
       "2    False\n",
       "3     True\n",
       "4    False\n",
       "Name: age, dtype: bool"
      ]
     },
     "execution_count": 175,
     "metadata": {},
     "output_type": "execute_result"
    }
   ],
   "source": [
    "df['age']<30"
   ]
  },
  {
   "cell_type": "code",
   "execution_count": 176,
   "id": "15ea3009",
   "metadata": {},
   "outputs": [
    {
     "data": {
      "text/plain": [
       "0    30.0\n",
       "1     NaN\n",
       "2    30.0\n",
       "3    30.0\n",
       "4     NaN\n",
       "Name: age, dtype: float64"
      ]
     },
     "execution_count": 176,
     "metadata": {},
     "output_type": "execute_result"
    }
   ],
   "source": [
    "df['age'].mask(df['age']<30, 30) # 컬럼의 값에 조건을 주어, 대체할 때 사용 "
   ]
  },
  {
   "cell_type": "code",
   "execution_count": 214,
   "id": "caa39d2b",
   "metadata": {},
   "outputs": [],
   "source": [
    "tt= pd.read_csv('./titanic.csv')"
   ]
  },
  {
   "cell_type": "code",
   "execution_count": 199,
   "id": "ed1bc443",
   "metadata": {},
   "outputs": [
    {
     "data": {
      "text/html": [
       "<div>\n",
       "<style scoped>\n",
       "    .dataframe tbody tr th:only-of-type {\n",
       "        vertical-align: middle;\n",
       "    }\n",
       "\n",
       "    .dataframe tbody tr th {\n",
       "        vertical-align: top;\n",
       "    }\n",
       "\n",
       "    .dataframe thead th {\n",
       "        text-align: right;\n",
       "    }\n",
       "</style>\n",
       "<table border=\"1\" class=\"dataframe\">\n",
       "  <thead>\n",
       "    <tr style=\"text-align: right;\">\n",
       "      <th></th>\n",
       "      <th>PassengerId</th>\n",
       "      <th>Survived</th>\n",
       "      <th>Pclass</th>\n",
       "      <th>Name</th>\n",
       "      <th>Sex</th>\n",
       "      <th>Age</th>\n",
       "      <th>SibSp</th>\n",
       "      <th>Parch</th>\n",
       "      <th>Ticket</th>\n",
       "      <th>Fare</th>\n",
       "      <th>Cabin</th>\n",
       "      <th>Embarked</th>\n",
       "    </tr>\n",
       "  </thead>\n",
       "  <tbody>\n",
       "    <tr>\n",
       "      <th>0</th>\n",
       "      <td>1</td>\n",
       "      <td>0</td>\n",
       "      <td>3</td>\n",
       "      <td>Braund, Mr. Owen Harris</td>\n",
       "      <td>male</td>\n",
       "      <td>22.0</td>\n",
       "      <td>1</td>\n",
       "      <td>0</td>\n",
       "      <td>A/5 21171</td>\n",
       "      <td>7.2500</td>\n",
       "      <td>NaN</td>\n",
       "      <td>S</td>\n",
       "    </tr>\n",
       "    <tr>\n",
       "      <th>1</th>\n",
       "      <td>2</td>\n",
       "      <td>1</td>\n",
       "      <td>1</td>\n",
       "      <td>Cumings, Mrs. John Bradley (Florence Briggs Th...</td>\n",
       "      <td>female</td>\n",
       "      <td>38.0</td>\n",
       "      <td>1</td>\n",
       "      <td>0</td>\n",
       "      <td>PC 17599</td>\n",
       "      <td>71.2833</td>\n",
       "      <td>C85</td>\n",
       "      <td>C</td>\n",
       "    </tr>\n",
       "    <tr>\n",
       "      <th>2</th>\n",
       "      <td>3</td>\n",
       "      <td>1</td>\n",
       "      <td>3</td>\n",
       "      <td>Heikkinen, Miss. Laina</td>\n",
       "      <td>female</td>\n",
       "      <td>26.0</td>\n",
       "      <td>0</td>\n",
       "      <td>0</td>\n",
       "      <td>STON/O2. 3101282</td>\n",
       "      <td>7.9250</td>\n",
       "      <td>NaN</td>\n",
       "      <td>S</td>\n",
       "    </tr>\n",
       "    <tr>\n",
       "      <th>3</th>\n",
       "      <td>4</td>\n",
       "      <td>1</td>\n",
       "      <td>1</td>\n",
       "      <td>Futrelle, Mrs. Jacques Heath (Lily May Peel)</td>\n",
       "      <td>female</td>\n",
       "      <td>35.0</td>\n",
       "      <td>1</td>\n",
       "      <td>0</td>\n",
       "      <td>113803</td>\n",
       "      <td>53.1000</td>\n",
       "      <td>C123</td>\n",
       "      <td>S</td>\n",
       "    </tr>\n",
       "    <tr>\n",
       "      <th>4</th>\n",
       "      <td>5</td>\n",
       "      <td>0</td>\n",
       "      <td>3</td>\n",
       "      <td>Allen, Mr. William Henry</td>\n",
       "      <td>male</td>\n",
       "      <td>35.0</td>\n",
       "      <td>0</td>\n",
       "      <td>0</td>\n",
       "      <td>373450</td>\n",
       "      <td>8.0500</td>\n",
       "      <td>NaN</td>\n",
       "      <td>S</td>\n",
       "    </tr>\n",
       "    <tr>\n",
       "      <th>...</th>\n",
       "      <td>...</td>\n",
       "      <td>...</td>\n",
       "      <td>...</td>\n",
       "      <td>...</td>\n",
       "      <td>...</td>\n",
       "      <td>...</td>\n",
       "      <td>...</td>\n",
       "      <td>...</td>\n",
       "      <td>...</td>\n",
       "      <td>...</td>\n",
       "      <td>...</td>\n",
       "      <td>...</td>\n",
       "    </tr>\n",
       "    <tr>\n",
       "      <th>886</th>\n",
       "      <td>887</td>\n",
       "      <td>0</td>\n",
       "      <td>2</td>\n",
       "      <td>Montvila, Rev. Juozas</td>\n",
       "      <td>male</td>\n",
       "      <td>27.0</td>\n",
       "      <td>0</td>\n",
       "      <td>0</td>\n",
       "      <td>211536</td>\n",
       "      <td>13.0000</td>\n",
       "      <td>NaN</td>\n",
       "      <td>S</td>\n",
       "    </tr>\n",
       "    <tr>\n",
       "      <th>887</th>\n",
       "      <td>888</td>\n",
       "      <td>1</td>\n",
       "      <td>1</td>\n",
       "      <td>Graham, Miss. Margaret Edith</td>\n",
       "      <td>female</td>\n",
       "      <td>19.0</td>\n",
       "      <td>0</td>\n",
       "      <td>0</td>\n",
       "      <td>112053</td>\n",
       "      <td>30.0000</td>\n",
       "      <td>B42</td>\n",
       "      <td>S</td>\n",
       "    </tr>\n",
       "    <tr>\n",
       "      <th>888</th>\n",
       "      <td>889</td>\n",
       "      <td>0</td>\n",
       "      <td>3</td>\n",
       "      <td>Johnston, Miss. Catherine Helen \"Carrie\"</td>\n",
       "      <td>female</td>\n",
       "      <td>NaN</td>\n",
       "      <td>1</td>\n",
       "      <td>2</td>\n",
       "      <td>W./C. 6607</td>\n",
       "      <td>23.4500</td>\n",
       "      <td>NaN</td>\n",
       "      <td>S</td>\n",
       "    </tr>\n",
       "    <tr>\n",
       "      <th>889</th>\n",
       "      <td>890</td>\n",
       "      <td>1</td>\n",
       "      <td>1</td>\n",
       "      <td>Behr, Mr. Karl Howell</td>\n",
       "      <td>male</td>\n",
       "      <td>26.0</td>\n",
       "      <td>0</td>\n",
       "      <td>0</td>\n",
       "      <td>111369</td>\n",
       "      <td>30.0000</td>\n",
       "      <td>C148</td>\n",
       "      <td>C</td>\n",
       "    </tr>\n",
       "    <tr>\n",
       "      <th>890</th>\n",
       "      <td>891</td>\n",
       "      <td>0</td>\n",
       "      <td>3</td>\n",
       "      <td>Dooley, Mr. Patrick</td>\n",
       "      <td>male</td>\n",
       "      <td>32.0</td>\n",
       "      <td>0</td>\n",
       "      <td>0</td>\n",
       "      <td>370376</td>\n",
       "      <td>7.7500</td>\n",
       "      <td>NaN</td>\n",
       "      <td>Q</td>\n",
       "    </tr>\n",
       "  </tbody>\n",
       "</table>\n",
       "<p>891 rows × 12 columns</p>\n",
       "</div>"
      ],
      "text/plain": [
       "     PassengerId  Survived  Pclass  \\\n",
       "0              1         0       3   \n",
       "1              2         1       1   \n",
       "2              3         1       3   \n",
       "3              4         1       1   \n",
       "4              5         0       3   \n",
       "..           ...       ...     ...   \n",
       "886          887         0       2   \n",
       "887          888         1       1   \n",
       "888          889         0       3   \n",
       "889          890         1       1   \n",
       "890          891         0       3   \n",
       "\n",
       "                                                  Name     Sex   Age  SibSp  \\\n",
       "0                              Braund, Mr. Owen Harris    male  22.0      1   \n",
       "1    Cumings, Mrs. John Bradley (Florence Briggs Th...  female  38.0      1   \n",
       "2                               Heikkinen, Miss. Laina  female  26.0      0   \n",
       "3         Futrelle, Mrs. Jacques Heath (Lily May Peel)  female  35.0      1   \n",
       "4                             Allen, Mr. William Henry    male  35.0      0   \n",
       "..                                                 ...     ...   ...    ...   \n",
       "886                              Montvila, Rev. Juozas    male  27.0      0   \n",
       "887                       Graham, Miss. Margaret Edith  female  19.0      0   \n",
       "888           Johnston, Miss. Catherine Helen \"Carrie\"  female   NaN      1   \n",
       "889                              Behr, Mr. Karl Howell    male  26.0      0   \n",
       "890                                Dooley, Mr. Patrick    male  32.0      0   \n",
       "\n",
       "     Parch            Ticket     Fare Cabin Embarked  \n",
       "0        0         A/5 21171   7.2500   NaN        S  \n",
       "1        0          PC 17599  71.2833   C85        C  \n",
       "2        0  STON/O2. 3101282   7.9250   NaN        S  \n",
       "3        0            113803  53.1000  C123        S  \n",
       "4        0            373450   8.0500   NaN        S  \n",
       "..     ...               ...      ...   ...      ...  \n",
       "886      0            211536  13.0000   NaN        S  \n",
       "887      0            112053  30.0000   B42        S  \n",
       "888      2        W./C. 6607  23.4500   NaN        S  \n",
       "889      0            111369  30.0000  C148        C  \n",
       "890      0            370376   7.7500   NaN        Q  \n",
       "\n",
       "[891 rows x 12 columns]"
      ]
     },
     "execution_count": 199,
     "metadata": {},
     "output_type": "execute_result"
    }
   ],
   "source": [
    "tt"
   ]
  },
  {
   "cell_type": "code",
   "execution_count": 183,
   "id": "28088721",
   "metadata": {},
   "outputs": [
    {
     "name": "stdout",
     "output_type": "stream",
     "text": [
      "<class 'pandas.core.frame.DataFrame'>\n",
      "RangeIndex: 891 entries, 0 to 890\n",
      "Data columns (total 12 columns):\n",
      " #   Column       Non-Null Count  Dtype  \n",
      "---  ------       --------------  -----  \n",
      " 0   PassengerId  891 non-null    int64  \n",
      " 1   Survived     891 non-null    int64  \n",
      " 2   Pclass       891 non-null    int64  \n",
      " 3   Name         891 non-null    object \n",
      " 4   Sex          891 non-null    object \n",
      " 5   Age          714 non-null    float64\n",
      " 6   SibSp        891 non-null    int64  \n",
      " 7   Parch        891 non-null    int64  \n",
      " 8   Ticket       891 non-null    object \n",
      " 9   Fare         891 non-null    float64\n",
      " 10  Cabin        204 non-null    object \n",
      " 11  Embarked     889 non-null    object \n",
      "dtypes: float64(2), int64(5), object(5)\n",
      "memory usage: 83.7+ KB\n"
     ]
    }
   ],
   "source": [
    "tt.info()"
   ]
  },
  {
   "cell_type": "code",
   "execution_count": 180,
   "id": "fff8b4db",
   "metadata": {},
   "outputs": [
    {
     "data": {
      "text/plain": [
       "PassengerId      0\n",
       "Survived         0\n",
       "Pclass           0\n",
       "Name             0\n",
       "Sex              0\n",
       "Age            177\n",
       "SibSp            0\n",
       "Parch            0\n",
       "Ticket           0\n",
       "Fare             0\n",
       "Cabin          687\n",
       "Embarked         2\n",
       "dtype: int64"
      ]
     },
     "execution_count": 180,
     "metadata": {},
     "output_type": "execute_result"
    }
   ],
   "source": [
    "#결측치 있는 컬럼 확인 \n",
    "\n",
    "tt.isnull().sum()\n",
    "# tt.isna().sum()"
   ]
  },
  {
   "cell_type": "code",
   "execution_count": null,
   "id": "b04d94aa",
   "metadata": {},
   "outputs": [],
   "source": [
    "df_n1 = df['age'].fillna(df['age'].mode().iloc[0]) # 최빈값b"
   ]
  },
  {
   "cell_type": "code",
   "execution_count": 190,
   "id": "068bd67a",
   "metadata": {},
   "outputs": [
    {
     "data": {
      "text/plain": [
       "np.float64(29.69911764705882)"
      ]
     },
     "execution_count": 190,
     "metadata": {},
     "output_type": "execute_result"
    }
   ],
   "source": [
    "#이산형은 보통 미디언으로 사용 함\n",
    "\n",
    "tt['Age'].median() # 중앙값\n",
    "tt['Age'].mean() # 평균값\n"
   ]
  },
  {
   "cell_type": "code",
   "execution_count": 191,
   "id": "c651609f",
   "metadata": {},
   "outputs": [
    {
     "data": {
      "text/plain": [
       "0      22.0\n",
       "1      38.0\n",
       "2      26.0\n",
       "3      35.0\n",
       "4      35.0\n",
       "       ... \n",
       "886    27.0\n",
       "887    19.0\n",
       "888    28.0\n",
       "889    26.0\n",
       "890    32.0\n",
       "Name: Age, Length: 891, dtype: float64"
      ]
     },
     "execution_count": 191,
     "metadata": {},
     "output_type": "execute_result"
    }
   ],
   "source": [
    "tt2 = tt['Age'].fillna(tt['Age'].median())\n",
    "tt2"
   ]
  },
  {
   "cell_type": "code",
   "execution_count": 202,
   "id": "24868762",
   "metadata": {},
   "outputs": [],
   "source": [
    "tt['Age'] = tt2"
   ]
  },
  {
   "cell_type": "code",
   "execution_count": 203,
   "id": "2c40e0be",
   "metadata": {},
   "outputs": [
    {
     "data": {
      "text/plain": [
       "<Axes: ylabel='Frequency'>"
      ]
     },
     "execution_count": 203,
     "metadata": {},
     "output_type": "execute_result"
    },
    {
     "data": {
      "image/png": "[encoded data removed]",
      "text/plain": [
       "<Figure size 640x480 with 1 Axes>"
      ]
     },
     "metadata": {},
     "output_type": "display_data"
    }
   ],
   "source": [
    "tt['Age'].plot(kind='hist', bins=20)"
   ]
  },
  {
   "cell_type": "code",
   "execution_count": 215,
   "id": "1e2c9437",
   "metadata": {},
   "outputs": [],
   "source": [
    "#cabin= 'unknown'\n",
    "\n",
    "tt['Cabin']= tt['Cabin'].fillna('unknown')"
   ]
  },
  {
   "cell_type": "code",
   "execution_count": 216,
   "id": "ecc5ddbd",
   "metadata": {},
   "outputs": [
    {
     "data": {
      "text/html": [
       "<div>\n",
       "<style scoped>\n",
       "    .dataframe tbody tr th:only-of-type {\n",
       "        vertical-align: middle;\n",
       "    }\n",
       "\n",
       "    .dataframe tbody tr th {\n",
       "        vertical-align: top;\n",
       "    }\n",
       "\n",
       "    .dataframe thead th {\n",
       "        text-align: right;\n",
       "    }\n",
       "</style>\n",
       "<table border=\"1\" class=\"dataframe\">\n",
       "  <thead>\n",
       "    <tr style=\"text-align: right;\">\n",
       "      <th></th>\n",
       "      <th>PassengerId</th>\n",
       "      <th>Survived</th>\n",
       "      <th>Pclass</th>\n",
       "      <th>Name</th>\n",
       "      <th>Sex</th>\n",
       "      <th>Age</th>\n",
       "      <th>SibSp</th>\n",
       "      <th>Parch</th>\n",
       "      <th>Ticket</th>\n",
       "      <th>Fare</th>\n",
       "      <th>Cabin</th>\n",
       "      <th>Embarked</th>\n",
       "    </tr>\n",
       "  </thead>\n",
       "  <tbody>\n",
       "    <tr>\n",
       "      <th>0</th>\n",
       "      <td>1</td>\n",
       "      <td>0</td>\n",
       "      <td>3</td>\n",
       "      <td>Braund, Mr. Owen Harris</td>\n",
       "      <td>male</td>\n",
       "      <td>22.0</td>\n",
       "      <td>1</td>\n",
       "      <td>0</td>\n",
       "      <td>A/5 21171</td>\n",
       "      <td>7.2500</td>\n",
       "      <td>unknown</td>\n",
       "      <td>S</td>\n",
       "    </tr>\n",
       "    <tr>\n",
       "      <th>1</th>\n",
       "      <td>2</td>\n",
       "      <td>1</td>\n",
       "      <td>1</td>\n",
       "      <td>Cumings, Mrs. John Bradley (Florence Briggs Th...</td>\n",
       "      <td>female</td>\n",
       "      <td>38.0</td>\n",
       "      <td>1</td>\n",
       "      <td>0</td>\n",
       "      <td>PC 17599</td>\n",
       "      <td>71.2833</td>\n",
       "      <td>C85</td>\n",
       "      <td>C</td>\n",
       "    </tr>\n",
       "    <tr>\n",
       "      <th>2</th>\n",
       "      <td>3</td>\n",
       "      <td>1</td>\n",
       "      <td>3</td>\n",
       "      <td>Heikkinen, Miss. Laina</td>\n",
       "      <td>female</td>\n",
       "      <td>26.0</td>\n",
       "      <td>0</td>\n",
       "      <td>0</td>\n",
       "      <td>STON/O2. 3101282</td>\n",
       "      <td>7.9250</td>\n",
       "      <td>unknown</td>\n",
       "      <td>S</td>\n",
       "    </tr>\n",
       "    <tr>\n",
       "      <th>3</th>\n",
       "      <td>4</td>\n",
       "      <td>1</td>\n",
       "      <td>1</td>\n",
       "      <td>Futrelle, Mrs. Jacques Heath (Lily May Peel)</td>\n",
       "      <td>female</td>\n",
       "      <td>35.0</td>\n",
       "      <td>1</td>\n",
       "      <td>0</td>\n",
       "      <td>113803</td>\n",
       "      <td>53.1000</td>\n",
       "      <td>C123</td>\n",
       "      <td>S</td>\n",
       "    </tr>\n",
       "    <tr>\n",
       "      <th>4</th>\n",
       "      <td>5</td>\n",
       "      <td>0</td>\n",
       "      <td>3</td>\n",
       "      <td>Allen, Mr. William Henry</td>\n",
       "      <td>male</td>\n",
       "      <td>35.0</td>\n",
       "      <td>0</td>\n",
       "      <td>0</td>\n",
       "      <td>373450</td>\n",
       "      <td>8.0500</td>\n",
       "      <td>unknown</td>\n",
       "      <td>S</td>\n",
       "    </tr>\n",
       "    <tr>\n",
       "      <th>...</th>\n",
       "      <td>...</td>\n",
       "      <td>...</td>\n",
       "      <td>...</td>\n",
       "      <td>...</td>\n",
       "      <td>...</td>\n",
       "      <td>...</td>\n",
       "      <td>...</td>\n",
       "      <td>...</td>\n",
       "      <td>...</td>\n",
       "      <td>...</td>\n",
       "      <td>...</td>\n",
       "      <td>...</td>\n",
       "    </tr>\n",
       "    <tr>\n",
       "      <th>886</th>\n",
       "      <td>887</td>\n",
       "      <td>0</td>\n",
       "      <td>2</td>\n",
       "      <td>Montvila, Rev. Juozas</td>\n",
       "      <td>male</td>\n",
       "      <td>27.0</td>\n",
       "      <td>0</td>\n",
       "      <td>0</td>\n",
       "      <td>211536</td>\n",
       "      <td>13.0000</td>\n",
       "      <td>unknown</td>\n",
       "      <td>S</td>\n",
       "    </tr>\n",
       "    <tr>\n",
       "      <th>887</th>\n",
       "      <td>888</td>\n",
       "      <td>1</td>\n",
       "      <td>1</td>\n",
       "      <td>Graham, Miss. Margaret Edith</td>\n",
       "      <td>female</td>\n",
       "      <td>19.0</td>\n",
       "      <td>0</td>\n",
       "      <td>0</td>\n",
       "      <td>112053</td>\n",
       "      <td>30.0000</td>\n",
       "      <td>B42</td>\n",
       "      <td>S</td>\n",
       "    </tr>\n",
       "    <tr>\n",
       "      <th>888</th>\n",
       "      <td>889</td>\n",
       "      <td>0</td>\n",
       "      <td>3</td>\n",
       "      <td>Johnston, Miss. Catherine Helen \"Carrie\"</td>\n",
       "      <td>female</td>\n",
       "      <td>NaN</td>\n",
       "      <td>1</td>\n",
       "      <td>2</td>\n",
       "      <td>W./C. 6607</td>\n",
       "      <td>23.4500</td>\n",
       "      <td>unknown</td>\n",
       "      <td>S</td>\n",
       "    </tr>\n",
       "    <tr>\n",
       "      <th>889</th>\n",
       "      <td>890</td>\n",
       "      <td>1</td>\n",
       "      <td>1</td>\n",
       "      <td>Behr, Mr. Karl Howell</td>\n",
       "      <td>male</td>\n",
       "      <td>26.0</td>\n",
       "      <td>0</td>\n",
       "      <td>0</td>\n",
       "      <td>111369</td>\n",
       "      <td>30.0000</td>\n",
       "      <td>C148</td>\n",
       "      <td>C</td>\n",
       "    </tr>\n",
       "    <tr>\n",
       "      <th>890</th>\n",
       "      <td>891</td>\n",
       "      <td>0</td>\n",
       "      <td>3</td>\n",
       "      <td>Dooley, Mr. Patrick</td>\n",
       "      <td>male</td>\n",
       "      <td>32.0</td>\n",
       "      <td>0</td>\n",
       "      <td>0</td>\n",
       "      <td>370376</td>\n",
       "      <td>7.7500</td>\n",
       "      <td>unknown</td>\n",
       "      <td>Q</td>\n",
       "    </tr>\n",
       "  </tbody>\n",
       "</table>\n",
       "<p>891 rows × 12 columns</p>\n",
       "</div>"
      ],
      "text/plain": [
       "     PassengerId  Survived  Pclass  \\\n",
       "0              1         0       3   \n",
       "1              2         1       1   \n",
       "2              3         1       3   \n",
       "3              4         1       1   \n",
       "4              5         0       3   \n",
       "..           ...       ...     ...   \n",
       "886          887         0       2   \n",
       "887          888         1       1   \n",
       "888          889         0       3   \n",
       "889          890         1       1   \n",
       "890          891         0       3   \n",
       "\n",
       "                                                  Name     Sex   Age  SibSp  \\\n",
       "0                              Braund, Mr. Owen Harris    male  22.0      1   \n",
       "1    Cumings, Mrs. John Bradley (Florence Briggs Th...  female  38.0      1   \n",
       "2                               Heikkinen, Miss. Laina  female  26.0      0   \n",
       "3         Futrelle, Mrs. Jacques Heath (Lily May Peel)  female  35.0      1   \n",
       "4                             Allen, Mr. William Henry    male  35.0      0   \n",
       "..                                                 ...     ...   ...    ...   \n",
       "886                              Montvila, Rev. Juozas    male  27.0      0   \n",
       "887                       Graham, Miss. Margaret Edith  female  19.0      0   \n",
       "888           Johnston, Miss. Catherine Helen \"Carrie\"  female   NaN      1   \n",
       "889                              Behr, Mr. Karl Howell    male  26.0      0   \n",
       "890                                Dooley, Mr. Patrick    male  32.0      0   \n",
       "\n",
       "     Parch            Ticket     Fare    Cabin Embarked  \n",
       "0        0         A/5 21171   7.2500  unknown        S  \n",
       "1        0          PC 17599  71.2833      C85        C  \n",
       "2        0  STON/O2. 3101282   7.9250  unknown        S  \n",
       "3        0            113803  53.1000     C123        S  \n",
       "4        0            373450   8.0500  unknown        S  \n",
       "..     ...               ...      ...      ...      ...  \n",
       "886      0            211536  13.0000  unknown        S  \n",
       "887      0            112053  30.0000      B42        S  \n",
       "888      2        W./C. 6607  23.4500  unknown        S  \n",
       "889      0            111369  30.0000     C148        C  \n",
       "890      0            370376   7.7500  unknown        Q  \n",
       "\n",
       "[891 rows x 12 columns]"
      ]
     },
     "execution_count": 216,
     "metadata": {},
     "output_type": "execute_result"
    }
   ],
   "source": [
    "tt"
   ]
  },
  {
   "cell_type": "code",
   "execution_count": 217,
   "id": "9d615d73",
   "metadata": {},
   "outputs": [
    {
     "data": {
      "text/plain": [
       "Cabin\n",
       "unknown        687\n",
       "G6               4\n",
       "C23 C25 C27      4\n",
       "B96 B98          4\n",
       "F2               3\n",
       "              ... \n",
       "E17              1\n",
       "A24              1\n",
       "C50              1\n",
       "B42              1\n",
       "C148             1\n",
       "Name: count, Length: 148, dtype: int64"
      ]
     },
     "execution_count": 217,
     "metadata": {},
     "output_type": "execute_result"
    }
   ],
   "source": [
    "tt['Cabin'].value_counts()"
   ]
  },
  {
   "cell_type": "code",
   "execution_count": 219,
   "id": "cc0003f6",
   "metadata": {},
   "outputs": [
    {
     "data": {
      "text/html": [
       "<div>\n",
       "<style scoped>\n",
       "    .dataframe tbody tr th:only-of-type {\n",
       "        vertical-align: middle;\n",
       "    }\n",
       "\n",
       "    .dataframe tbody tr th {\n",
       "        vertical-align: top;\n",
       "    }\n",
       "\n",
       "    .dataframe thead th {\n",
       "        text-align: right;\n",
       "    }\n",
       "</style>\n",
       "<table border=\"1\" class=\"dataframe\">\n",
       "  <thead>\n",
       "    <tr style=\"text-align: right;\">\n",
       "      <th></th>\n",
       "      <th>PassengerId</th>\n",
       "      <th>Survived</th>\n",
       "      <th>Pclass</th>\n",
       "      <th>Name</th>\n",
       "      <th>Sex</th>\n",
       "      <th>Age</th>\n",
       "      <th>SibSp</th>\n",
       "      <th>Parch</th>\n",
       "      <th>Ticket</th>\n",
       "      <th>Fare</th>\n",
       "      <th>Cabin</th>\n",
       "      <th>Embarked</th>\n",
       "    </tr>\n",
       "  </thead>\n",
       "  <tbody>\n",
       "    <tr>\n",
       "      <th>0</th>\n",
       "      <td>1</td>\n",
       "      <td>0</td>\n",
       "      <td>3</td>\n",
       "      <td>Braund, Mr. Owen Harris</td>\n",
       "      <td>male</td>\n",
       "      <td>22.0</td>\n",
       "      <td>1</td>\n",
       "      <td>0</td>\n",
       "      <td>A/5 21171</td>\n",
       "      <td>7.25</td>\n",
       "      <td>unknown</td>\n",
       "      <td>S</td>\n",
       "    </tr>\n",
       "  </tbody>\n",
       "</table>\n",
       "</div>"
      ],
      "text/plain": [
       "   PassengerId  Survived  Pclass                     Name   Sex   Age  SibSp  \\\n",
       "0            1         0       3  Braund, Mr. Owen Harris  male  22.0      1   \n",
       "\n",
       "   Parch     Ticket  Fare    Cabin Embarked  \n",
       "0      0  A/5 21171  7.25  unknown        S  "
      ]
     },
     "execution_count": 219,
     "metadata": {},
     "output_type": "execute_result"
    }
   ],
   "source": [
    "tt.head(1)"
   ]
  },
  {
   "cell_type": "code",
   "execution_count": 221,
   "id": "cf794605",
   "metadata": {},
   "outputs": [
    {
     "name": "stdout",
     "output_type": "stream",
     "text": [
      "<class 'pandas.core.frame.DataFrame'>\n",
      "RangeIndex: 891 entries, 0 to 890\n",
      "Data columns (total 12 columns):\n",
      " #   Column       Non-Null Count  Dtype  \n",
      "---  ------       --------------  -----  \n",
      " 0   PassengerId  891 non-null    int64  \n",
      " 1   Survived     891 non-null    int64  \n",
      " 2   Pclass       891 non-null    int64  \n",
      " 3   Name         891 non-null    object \n",
      " 4   Sex          891 non-null    object \n",
      " 5   Age          714 non-null    float64\n",
      " 6   SibSp        891 non-null    int64  \n",
      " 7   Parch        891 non-null    int64  \n",
      " 8   Ticket       891 non-null    object \n",
      " 9   Fare         891 non-null    float64\n",
      " 10  Cabin        891 non-null    object \n",
      " 11  Embarked     891 non-null    object \n",
      "dtypes: float64(2), int64(5), object(5)\n",
      "memory usage: 83.7+ KB\n"
     ]
    }
   ],
   "source": [
    "#Embarked 의 최빈값으로 채우기\n",
    "tt['Embarked']= tt['Embarked'].fillna('S')\n",
    "tt.info()\n"
   ]
  },
  {
   "cell_type": "code",
   "execution_count": 280,
   "id": "03c2b6f0",
   "metadata": {},
   "outputs": [],
   "source": [
    "sb = pd.read_csv('./CARD_SUBWAY_MONTH_202102.csv',index_col=False)"
   ]
  },
  {
   "cell_type": "code",
   "execution_count": 258,
   "id": "a2779162",
   "metadata": {},
   "outputs": [
    {
     "data": {
      "text/html": [
       "<div>\n",
       "<style scoped>\n",
       "    .dataframe tbody tr th:only-of-type {\n",
       "        vertical-align: middle;\n",
       "    }\n",
       "\n",
       "    .dataframe tbody tr th {\n",
       "        vertical-align: top;\n",
       "    }\n",
       "\n",
       "    .dataframe thead th {\n",
       "        text-align: right;\n",
       "    }\n",
       "</style>\n",
       "<table border=\"1\" class=\"dataframe\">\n",
       "  <thead>\n",
       "    <tr style=\"text-align: right;\">\n",
       "      <th></th>\n",
       "      <th>사용일자</th>\n",
       "      <th>노선명</th>\n",
       "      <th>역명</th>\n",
       "      <th>승차총승객수</th>\n",
       "      <th>하차총승객수</th>\n",
       "      <th>등록일자</th>\n",
       "    </tr>\n",
       "  </thead>\n",
       "  <tbody>\n",
       "    <tr>\n",
       "      <th>0</th>\n",
       "      <td>20210201</td>\n",
       "      <td>중앙선</td>\n",
       "      <td>용문</td>\n",
       "      <td>1282</td>\n",
       "      <td>1259</td>\n",
       "      <td>20210204</td>\n",
       "    </tr>\n",
       "    <tr>\n",
       "      <th>1</th>\n",
       "      <td>20210201</td>\n",
       "      <td>중앙선</td>\n",
       "      <td>지평</td>\n",
       "      <td>48</td>\n",
       "      <td>43</td>\n",
       "      <td>20210204</td>\n",
       "    </tr>\n",
       "    <tr>\n",
       "      <th>2</th>\n",
       "      <td>20210201</td>\n",
       "      <td>중앙선</td>\n",
       "      <td>아신</td>\n",
       "      <td>415</td>\n",
       "      <td>413</td>\n",
       "      <td>20210204</td>\n",
       "    </tr>\n",
       "    <tr>\n",
       "      <th>3</th>\n",
       "      <td>20210201</td>\n",
       "      <td>중앙선</td>\n",
       "      <td>양수</td>\n",
       "      <td>1463</td>\n",
       "      <td>1466</td>\n",
       "      <td>20210204</td>\n",
       "    </tr>\n",
       "    <tr>\n",
       "      <th>4</th>\n",
       "      <td>20210201</td>\n",
       "      <td>중앙선</td>\n",
       "      <td>운길산</td>\n",
       "      <td>495</td>\n",
       "      <td>463</td>\n",
       "      <td>20210204</td>\n",
       "    </tr>\n",
       "    <tr>\n",
       "      <th>...</th>\n",
       "      <td>...</td>\n",
       "      <td>...</td>\n",
       "      <td>...</td>\n",
       "      <td>...</td>\n",
       "      <td>...</td>\n",
       "      <td>...</td>\n",
       "    </tr>\n",
       "    <tr>\n",
       "      <th>16746</th>\n",
       "      <td>20210228</td>\n",
       "      <td>중앙선</td>\n",
       "      <td>오빈</td>\n",
       "      <td>216</td>\n",
       "      <td>236</td>\n",
       "      <td>20210303</td>\n",
       "    </tr>\n",
       "    <tr>\n",
       "      <th>16747</th>\n",
       "      <td>20210228</td>\n",
       "      <td>중앙선</td>\n",
       "      <td>양평</td>\n",
       "      <td>3299</td>\n",
       "      <td>3187</td>\n",
       "      <td>20210303</td>\n",
       "    </tr>\n",
       "    <tr>\n",
       "      <th>16748</th>\n",
       "      <td>20210228</td>\n",
       "      <td>중앙선</td>\n",
       "      <td>원덕</td>\n",
       "      <td>322</td>\n",
       "      <td>304</td>\n",
       "      <td>20210303</td>\n",
       "    </tr>\n",
       "    <tr>\n",
       "      <th>16749</th>\n",
       "      <td>20210228</td>\n",
       "      <td>중앙선</td>\n",
       "      <td>용문</td>\n",
       "      <td>1899</td>\n",
       "      <td>1716</td>\n",
       "      <td>20210303</td>\n",
       "    </tr>\n",
       "    <tr>\n",
       "      <th>16750</th>\n",
       "      <td>20210228</td>\n",
       "      <td>중앙선</td>\n",
       "      <td>지평</td>\n",
       "      <td>30</td>\n",
       "      <td>31</td>\n",
       "      <td>20210303</td>\n",
       "    </tr>\n",
       "  </tbody>\n",
       "</table>\n",
       "<p>16751 rows × 6 columns</p>\n",
       "</div>"
      ],
      "text/plain": [
       "           사용일자  노선명   역명  승차총승객수  하차총승객수      등록일자\n",
       "0      20210201  중앙선   용문    1282    1259  20210204\n",
       "1      20210201  중앙선   지평      48      43  20210204\n",
       "2      20210201  중앙선   아신     415     413  20210204\n",
       "3      20210201  중앙선   양수    1463    1466  20210204\n",
       "4      20210201  중앙선  운길산     495     463  20210204\n",
       "...         ...  ...  ...     ...     ...       ...\n",
       "16746  20210228  중앙선   오빈     216     236  20210303\n",
       "16747  20210228  중앙선   양평    3299    3187  20210303\n",
       "16748  20210228  중앙선   원덕     322     304  20210303\n",
       "16749  20210228  중앙선   용문    1899    1716  20210303\n",
       "16750  20210228  중앙선   지평      30      31  20210303\n",
       "\n",
       "[16751 rows x 6 columns]"
      ]
     },
     "execution_count": 258,
     "metadata": {},
     "output_type": "execute_result"
    }
   ],
   "source": [
    "sb"
   ]
  },
  {
   "cell_type": "code",
   "execution_count": 259,
   "id": "7c09db73",
   "metadata": {},
   "outputs": [
    {
     "data": {
      "text/plain": [
       "사용일자      노선명  역명   승차총승객수  하차총승객수  등록일자    \n",
       "20210201  1호선  동대문  9591    9240    20210204    1\n",
       "               동묘앞  7095    7284    20210204    1\n",
       "               서울역  35821   33113   20210204    1\n",
       "               시청   19064   18880   20210204    1\n",
       "               신설동  13013   12965   20210204    1\n",
       "                                               ..\n",
       "20210228  중앙선  원덕   322     304     20210303    1\n",
       "               중랑   3228    3177    20210303    1\n",
       "               지평   30      31      20210303    1\n",
       "               팔당   1629    1807    20210303    1\n",
       "               회기   14447   14275   20210303    1\n",
       "Name: count, Length: 16751, dtype: int64"
      ]
     },
     "execution_count": 259,
     "metadata": {},
     "output_type": "execute_result"
    }
   ],
   "source": [
    "# 총 몇 건인지 코드로 확인\n",
    "sb.value_counts()"
   ]
  },
  {
   "cell_type": "code",
   "execution_count": 260,
   "id": "f3cff0b4",
   "metadata": {},
   "outputs": [
    {
     "data": {
      "text/html": [
       "<div>\n",
       "<style scoped>\n",
       "    .dataframe tbody tr th:only-of-type {\n",
       "        vertical-align: middle;\n",
       "    }\n",
       "\n",
       "    .dataframe tbody tr th {\n",
       "        vertical-align: top;\n",
       "    }\n",
       "\n",
       "    .dataframe thead th {\n",
       "        text-align: right;\n",
       "    }\n",
       "</style>\n",
       "<table border=\"1\" class=\"dataframe\">\n",
       "  <thead>\n",
       "    <tr style=\"text-align: right;\">\n",
       "      <th></th>\n",
       "      <th>사용일자</th>\n",
       "      <th>승차총승객수</th>\n",
       "      <th>하차총승객수</th>\n",
       "      <th>등록일자</th>\n",
       "    </tr>\n",
       "  </thead>\n",
       "  <tbody>\n",
       "    <tr>\n",
       "      <th>count</th>\n",
       "      <td>1.675100e+04</td>\n",
       "      <td>16751.000000</td>\n",
       "      <td>16751.000000</td>\n",
       "      <td>1.675100e+04</td>\n",
       "    </tr>\n",
       "    <tr>\n",
       "      <th>mean</th>\n",
       "      <td>2.021021e+07</td>\n",
       "      <td>8567.344696</td>\n",
       "      <td>8536.474419</td>\n",
       "      <td>2.021023e+07</td>\n",
       "    </tr>\n",
       "    <tr>\n",
       "      <th>std</th>\n",
       "      <td>8.083073e+00</td>\n",
       "      <td>9006.651687</td>\n",
       "      <td>9064.054078</td>\n",
       "      <td>2.749315e+01</td>\n",
       "    </tr>\n",
       "    <tr>\n",
       "      <th>min</th>\n",
       "      <td>2.021020e+07</td>\n",
       "      <td>1.000000</td>\n",
       "      <td>0.000000</td>\n",
       "      <td>2.021020e+07</td>\n",
       "    </tr>\n",
       "    <tr>\n",
       "      <th>25%</th>\n",
       "      <td>2.021021e+07</td>\n",
       "      <td>2652.500000</td>\n",
       "      <td>2594.500000</td>\n",
       "      <td>2.021021e+07</td>\n",
       "    </tr>\n",
       "    <tr>\n",
       "      <th>50%</th>\n",
       "      <td>2.021022e+07</td>\n",
       "      <td>5857.000000</td>\n",
       "      <td>5733.000000</td>\n",
       "      <td>2.021022e+07</td>\n",
       "    </tr>\n",
       "    <tr>\n",
       "      <th>75%</th>\n",
       "      <td>2.021022e+07</td>\n",
       "      <td>11257.000000</td>\n",
       "      <td>11117.000000</td>\n",
       "      <td>2.021022e+07</td>\n",
       "    </tr>\n",
       "    <tr>\n",
       "      <th>max</th>\n",
       "      <td>2.021023e+07</td>\n",
       "      <td>88904.000000</td>\n",
       "      <td>87891.000000</td>\n",
       "      <td>2.021030e+07</td>\n",
       "    </tr>\n",
       "  </tbody>\n",
       "</table>\n",
       "</div>"
      ],
      "text/plain": [
       "               사용일자        승차총승객수        하차총승객수          등록일자\n",
       "count  1.675100e+04  16751.000000  16751.000000  1.675100e+04\n",
       "mean   2.021021e+07   8567.344696   8536.474419  2.021023e+07\n",
       "std    8.083073e+00   9006.651687   9064.054078  2.749315e+01\n",
       "min    2.021020e+07      1.000000      0.000000  2.021020e+07\n",
       "25%    2.021021e+07   2652.500000   2594.500000  2.021021e+07\n",
       "50%    2.021022e+07   5857.000000   5733.000000  2.021022e+07\n",
       "75%    2.021022e+07  11257.000000  11117.000000  2.021022e+07\n",
       "max    2.021023e+07  88904.000000  87891.000000  2.021030e+07"
      ]
     },
     "execution_count": 260,
     "metadata": {},
     "output_type": "execute_result"
    }
   ],
   "source": [
    "# 평균, 표준편차, 사분위수 등 주요 통계 지표를 확인 \n",
    "sb.describe()"
   ]
  },
  {
   "cell_type": "code",
   "execution_count": 252,
   "id": "77132cf6",
   "metadata": {},
   "outputs": [
    {
     "name": "stdout",
     "output_type": "stream",
     "text": [
      "<class 'pandas.core.frame.DataFrame'>\n",
      "Index: 16751 entries, 20210201 to 20210228\n",
      "Data columns (total 6 columns):\n",
      " #   Column  Non-Null Count  Dtype  \n",
      "---  ------  --------------  -----  \n",
      " 0   사용일자    16751 non-null  object \n",
      " 1   노선명     16751 non-null  object \n",
      " 2   역명      16751 non-null  int64  \n",
      " 3   승차총승객수  16751 non-null  int64  \n",
      " 4   하차총승객수  16751 non-null  int64  \n",
      " 5   등록일자    0 non-null      float64\n",
      "dtypes: float64(1), int64(3), object(2)\n",
      "memory usage: 916.1+ KB\n"
     ]
    }
   ],
   "source": [
    "# 몇 개의 컬럼이 있는지, 각 컬럼에 포함된 데이터 타입은 무엇인지 확인해보세요\n",
    "sb.info()"
   ]
  },
  {
   "cell_type": "code",
   "execution_count": 281,
   "id": "faa0ac27",
   "metadata": {},
   "outputs": [
    {
     "data": {
      "text/html": [
       "<div>\n",
       "<style scoped>\n",
       "    .dataframe tbody tr th:only-of-type {\n",
       "        vertical-align: middle;\n",
       "    }\n",
       "\n",
       "    .dataframe tbody tr th {\n",
       "        vertical-align: top;\n",
       "    }\n",
       "\n",
       "    .dataframe thead th {\n",
       "        text-align: right;\n",
       "    }\n",
       "</style>\n",
       "<table border=\"1\" class=\"dataframe\">\n",
       "  <thead>\n",
       "    <tr style=\"text-align: right;\">\n",
       "      <th></th>\n",
       "      <th>사용일자</th>\n",
       "      <th>노선명</th>\n",
       "      <th>역명</th>\n",
       "      <th>승차총승객수</th>\n",
       "      <th>하차총승객수</th>\n",
       "      <th>등록일자</th>\n",
       "    </tr>\n",
       "  </thead>\n",
       "  <tbody>\n",
       "    <tr>\n",
       "      <th>0</th>\n",
       "      <td>20210201</td>\n",
       "      <td>중앙선</td>\n",
       "      <td>용문</td>\n",
       "      <td>1282</td>\n",
       "      <td>1259</td>\n",
       "      <td>20210204</td>\n",
       "    </tr>\n",
       "    <tr>\n",
       "      <th>1</th>\n",
       "      <td>20210201</td>\n",
       "      <td>중앙선</td>\n",
       "      <td>지평</td>\n",
       "      <td>48</td>\n",
       "      <td>43</td>\n",
       "      <td>20210204</td>\n",
       "    </tr>\n",
       "    <tr>\n",
       "      <th>2</th>\n",
       "      <td>20210201</td>\n",
       "      <td>중앙선</td>\n",
       "      <td>아신</td>\n",
       "      <td>415</td>\n",
       "      <td>413</td>\n",
       "      <td>20210204</td>\n",
       "    </tr>\n",
       "    <tr>\n",
       "      <th>3</th>\n",
       "      <td>20210201</td>\n",
       "      <td>중앙선</td>\n",
       "      <td>양수</td>\n",
       "      <td>1463</td>\n",
       "      <td>1466</td>\n",
       "      <td>20210204</td>\n",
       "    </tr>\n",
       "    <tr>\n",
       "      <th>4</th>\n",
       "      <td>20210201</td>\n",
       "      <td>중앙선</td>\n",
       "      <td>운길산</td>\n",
       "      <td>495</td>\n",
       "      <td>463</td>\n",
       "      <td>20210204</td>\n",
       "    </tr>\n",
       "    <tr>\n",
       "      <th>...</th>\n",
       "      <td>...</td>\n",
       "      <td>...</td>\n",
       "      <td>...</td>\n",
       "      <td>...</td>\n",
       "      <td>...</td>\n",
       "      <td>...</td>\n",
       "    </tr>\n",
       "    <tr>\n",
       "      <th>16746</th>\n",
       "      <td>20210228</td>\n",
       "      <td>중앙선</td>\n",
       "      <td>오빈</td>\n",
       "      <td>216</td>\n",
       "      <td>236</td>\n",
       "      <td>20210303</td>\n",
       "    </tr>\n",
       "    <tr>\n",
       "      <th>16747</th>\n",
       "      <td>20210228</td>\n",
       "      <td>중앙선</td>\n",
       "      <td>양평</td>\n",
       "      <td>3299</td>\n",
       "      <td>3187</td>\n",
       "      <td>20210303</td>\n",
       "    </tr>\n",
       "    <tr>\n",
       "      <th>16748</th>\n",
       "      <td>20210228</td>\n",
       "      <td>중앙선</td>\n",
       "      <td>원덕</td>\n",
       "      <td>322</td>\n",
       "      <td>304</td>\n",
       "      <td>20210303</td>\n",
       "    </tr>\n",
       "    <tr>\n",
       "      <th>16749</th>\n",
       "      <td>20210228</td>\n",
       "      <td>중앙선</td>\n",
       "      <td>용문</td>\n",
       "      <td>1899</td>\n",
       "      <td>1716</td>\n",
       "      <td>20210303</td>\n",
       "    </tr>\n",
       "    <tr>\n",
       "      <th>16750</th>\n",
       "      <td>20210228</td>\n",
       "      <td>중앙선</td>\n",
       "      <td>지평</td>\n",
       "      <td>30</td>\n",
       "      <td>31</td>\n",
       "      <td>20210303</td>\n",
       "    </tr>\n",
       "  </tbody>\n",
       "</table>\n",
       "<p>16751 rows × 6 columns</p>\n",
       "</div>"
      ],
      "text/plain": [
       "           사용일자  노선명   역명  승차총승객수  하차총승객수      등록일자\n",
       "0      20210201  중앙선   용문    1282    1259  20210204\n",
       "1      20210201  중앙선   지평      48      43  20210204\n",
       "2      20210201  중앙선   아신     415     413  20210204\n",
       "3      20210201  중앙선   양수    1463    1466  20210204\n",
       "4      20210201  중앙선  운길산     495     463  20210204\n",
       "...         ...  ...  ...     ...     ...       ...\n",
       "16746  20210228  중앙선   오빈     216     236  20210303\n",
       "16747  20210228  중앙선   양평    3299    3187  20210303\n",
       "16748  20210228  중앙선   원덕     322     304  20210303\n",
       "16749  20210228  중앙선   용문    1899    1716  20210303\n",
       "16750  20210228  중앙선   지평      30      31  20210303\n",
       "\n",
       "[16751 rows x 6 columns]"
      ]
     },
     "execution_count": 281,
     "metadata": {},
     "output_type": "execute_result"
    }
   ],
   "source": [
    "sb"
   ]
  },
  {
   "cell_type": "code",
   "execution_count": 239,
   "id": "0f83184a",
   "metadata": {},
   "outputs": [
    {
     "data": {
      "text/plain": [
       "count     16751\n",
       "unique      517\n",
       "top         서울역\n",
       "freq        142\n",
       "Name: 노선명, dtype: object"
      ]
     },
     "execution_count": 239,
     "metadata": {},
     "output_type": "execute_result"
    }
   ],
   "source": [
    "#'노선명'컬럼이 가지고 있는 데이터의 종류와 갯수를 확인하세요\n",
    "sb['노선명'].describe()"
   ]
  },
  {
   "cell_type": "code",
   "execution_count": 261,
   "id": "3447b254",
   "metadata": {},
   "outputs": [
    {
     "data": {
      "text/html": [
       "<div>\n",
       "<style scoped>\n",
       "    .dataframe tbody tr th:only-of-type {\n",
       "        vertical-align: middle;\n",
       "    }\n",
       "\n",
       "    .dataframe tbody tr th {\n",
       "        vertical-align: top;\n",
       "    }\n",
       "\n",
       "    .dataframe thead th {\n",
       "        text-align: right;\n",
       "    }\n",
       "</style>\n",
       "<table border=\"1\" class=\"dataframe\">\n",
       "  <thead>\n",
       "    <tr style=\"text-align: right;\">\n",
       "      <th></th>\n",
       "      <th>사용일자</th>\n",
       "      <th>노선명</th>\n",
       "      <th>역명</th>\n",
       "      <th>승차총승객수</th>\n",
       "      <th>하차총승객수</th>\n",
       "      <th>등록일자</th>\n",
       "    </tr>\n",
       "  </thead>\n",
       "  <tbody>\n",
       "    <tr>\n",
       "      <th>14984</th>\n",
       "      <td>20210226</td>\n",
       "      <td>2호선</td>\n",
       "      <td>강남</td>\n",
       "      <td>88904</td>\n",
       "      <td>87891</td>\n",
       "      <td>20210301</td>\n",
       "    </tr>\n",
       "    <tr>\n",
       "      <th>10857</th>\n",
       "      <td>20210219</td>\n",
       "      <td>2호선</td>\n",
       "      <td>강남</td>\n",
       "      <td>86800</td>\n",
       "      <td>80948</td>\n",
       "      <td>20210222</td>\n",
       "    </tr>\n",
       "    <tr>\n",
       "      <th>13705</th>\n",
       "      <td>20210223</td>\n",
       "      <td>2호선</td>\n",
       "      <td>강남</td>\n",
       "      <td>84922</td>\n",
       "      <td>83364</td>\n",
       "      <td>20210226</td>\n",
       "    </tr>\n",
       "    <tr>\n",
       "      <th>14314</th>\n",
       "      <td>20210224</td>\n",
       "      <td>2호선</td>\n",
       "      <td>강남</td>\n",
       "      <td>84628</td>\n",
       "      <td>82667</td>\n",
       "      <td>20210227</td>\n",
       "    </tr>\n",
       "    <tr>\n",
       "      <th>14384</th>\n",
       "      <td>20210225</td>\n",
       "      <td>2호선</td>\n",
       "      <td>강남</td>\n",
       "      <td>84374</td>\n",
       "      <td>82960</td>\n",
       "      <td>20210228</td>\n",
       "    </tr>\n",
       "    <tr>\n",
       "      <th>...</th>\n",
       "      <td>...</td>\n",
       "      <td>...</td>\n",
       "      <td>...</td>\n",
       "      <td>...</td>\n",
       "      <td>...</td>\n",
       "      <td>...</td>\n",
       "    </tr>\n",
       "    <tr>\n",
       "      <th>14136</th>\n",
       "      <td>20210224</td>\n",
       "      <td>6호선</td>\n",
       "      <td>신내</td>\n",
       "      <td>1</td>\n",
       "      <td>0</td>\n",
       "      <td>20210227</td>\n",
       "    </tr>\n",
       "    <tr>\n",
       "      <th>4678</th>\n",
       "      <td>20210208</td>\n",
       "      <td>분당선</td>\n",
       "      <td>복정</td>\n",
       "      <td>1</td>\n",
       "      <td>0</td>\n",
       "      <td>20210211</td>\n",
       "    </tr>\n",
       "    <tr>\n",
       "      <th>10025</th>\n",
       "      <td>20210217</td>\n",
       "      <td>경의선</td>\n",
       "      <td>김포공항</td>\n",
       "      <td>1</td>\n",
       "      <td>0</td>\n",
       "      <td>20210220</td>\n",
       "    </tr>\n",
       "    <tr>\n",
       "      <th>414</th>\n",
       "      <td>20210201</td>\n",
       "      <td>6호선</td>\n",
       "      <td>연신내</td>\n",
       "      <td>1</td>\n",
       "      <td>0</td>\n",
       "      <td>20210204</td>\n",
       "    </tr>\n",
       "    <tr>\n",
       "      <th>9213</th>\n",
       "      <td>20210216</td>\n",
       "      <td>경의선</td>\n",
       "      <td>계양</td>\n",
       "      <td>1</td>\n",
       "      <td>0</td>\n",
       "      <td>20210219</td>\n",
       "    </tr>\n",
       "  </tbody>\n",
       "</table>\n",
       "<p>16751 rows × 6 columns</p>\n",
       "</div>"
      ],
      "text/plain": [
       "           사용일자  노선명    역명  승차총승객수  하차총승객수      등록일자\n",
       "14984  20210226  2호선    강남   88904   87891  20210301\n",
       "10857  20210219  2호선    강남   86800   80948  20210222\n",
       "13705  20210223  2호선    강남   84922   83364  20210226\n",
       "14314  20210224  2호선    강남   84628   82667  20210227\n",
       "14384  20210225  2호선    강남   84374   82960  20210228\n",
       "...         ...  ...   ...     ...     ...       ...\n",
       "14136  20210224  6호선    신내       1       0  20210227\n",
       "4678   20210208  분당선    복정       1       0  20210211\n",
       "10025  20210217  경의선  김포공항       1       0  20210220\n",
       "414    20210201  6호선   연신내       1       0  20210204\n",
       "9213   20210216  경의선    계양       1       0  20210219\n",
       "\n",
       "[16751 rows x 6 columns]"
      ]
     },
     "execution_count": 261,
     "metadata": {},
     "output_type": "execute_result"
    }
   ],
   "source": [
    "#승차총승객수' 컬럼을 기준으로 데이터를 정렬하세요 \n",
    "# .sort_values()\n",
    "sb.sort_values('승차총승객수', ascending=False)"
   ]
  },
  {
   "cell_type": "code",
   "execution_count": 279,
   "id": "a072e407",
   "metadata": {},
   "outputs": [
    {
     "ename": "AttributeError",
     "evalue": "'list' object has no attribute 'head'",
     "output_type": "error",
     "traceback": [
      "\u001b[31m---------------------------------------------------------------------------\u001b[39m",
      "\u001b[31mAttributeError\u001b[39m                            Traceback (most recent call last)",
      "\u001b[36mCell\u001b[39m\u001b[36m \u001b[39m\u001b[32mIn[279]\u001b[39m\u001b[32m, line 1\u001b[39m\n\u001b[32m----> \u001b[39m\u001b[32m1\u001b[39m sb.head(\u001b[32m2\u001b[39m)\n",
      "\u001b[31mAttributeError\u001b[39m: 'list' object has no attribute 'head'"
     ]
    }
   ],
   "source": [
    "sb.head(2)"
   ]
  },
  {
   "cell_type": "code",
   "execution_count": 282,
   "id": "184a7edc",
   "metadata": {},
   "outputs": [],
   "source": [
    "# '2호선'만 선택하세요\n",
    "sb2 = sb[sb['노선명'] == '2호선']"
   ]
  },
  {
   "cell_type": "code",
   "execution_count": 283,
   "id": "84f0defa",
   "metadata": {},
   "outputs": [
    {
     "data": {
      "text/html": [
       "<div>\n",
       "<style scoped>\n",
       "    .dataframe tbody tr th:only-of-type {\n",
       "        vertical-align: middle;\n",
       "    }\n",
       "\n",
       "    .dataframe tbody tr th {\n",
       "        vertical-align: top;\n",
       "    }\n",
       "\n",
       "    .dataframe thead th {\n",
       "        text-align: right;\n",
       "    }\n",
       "</style>\n",
       "<table border=\"1\" class=\"dataframe\">\n",
       "  <thead>\n",
       "    <tr style=\"text-align: right;\">\n",
       "      <th></th>\n",
       "      <th>사용일자</th>\n",
       "      <th>노선명</th>\n",
       "      <th>역명</th>\n",
       "      <th>승차총승객수</th>\n",
       "      <th>하차총승객수</th>\n",
       "      <th>등록일자</th>\n",
       "    </tr>\n",
       "  </thead>\n",
       "  <tbody>\n",
       "    <tr>\n",
       "      <th>532</th>\n",
       "      <td>20210201</td>\n",
       "      <td>2호선</td>\n",
       "      <td>용두(동대문구청)</td>\n",
       "      <td>2365</td>\n",
       "      <td>2430</td>\n",
       "      <td>20210204</td>\n",
       "    </tr>\n",
       "    <tr>\n",
       "      <th>533</th>\n",
       "      <td>20210201</td>\n",
       "      <td>2호선</td>\n",
       "      <td>신정네거리</td>\n",
       "      <td>9269</td>\n",
       "      <td>9599</td>\n",
       "      <td>20210204</td>\n",
       "    </tr>\n",
       "    <tr>\n",
       "      <th>534</th>\n",
       "      <td>20210201</td>\n",
       "      <td>2호선</td>\n",
       "      <td>양천구청</td>\n",
       "      <td>6318</td>\n",
       "      <td>6738</td>\n",
       "      <td>20210204</td>\n",
       "    </tr>\n",
       "    <tr>\n",
       "      <th>535</th>\n",
       "      <td>20210201</td>\n",
       "      <td>2호선</td>\n",
       "      <td>도림천</td>\n",
       "      <td>1434</td>\n",
       "      <td>1469</td>\n",
       "      <td>20210204</td>\n",
       "    </tr>\n",
       "    <tr>\n",
       "      <th>536</th>\n",
       "      <td>20210201</td>\n",
       "      <td>2호선</td>\n",
       "      <td>신설동</td>\n",
       "      <td>3046</td>\n",
       "      <td>3110</td>\n",
       "      <td>20210204</td>\n",
       "    </tr>\n",
       "    <tr>\n",
       "      <th>...</th>\n",
       "      <td>...</td>\n",
       "      <td>...</td>\n",
       "      <td>...</td>\n",
       "      <td>...</td>\n",
       "      <td>...</td>\n",
       "      <td>...</td>\n",
       "    </tr>\n",
       "    <tr>\n",
       "      <th>16207</th>\n",
       "      <td>20210228</td>\n",
       "      <td>2호선</td>\n",
       "      <td>신설동</td>\n",
       "      <td>2806</td>\n",
       "      <td>2830</td>\n",
       "      <td>20210303</td>\n",
       "    </tr>\n",
       "    <tr>\n",
       "      <th>16208</th>\n",
       "      <td>20210228</td>\n",
       "      <td>2호선</td>\n",
       "      <td>도림천</td>\n",
       "      <td>480</td>\n",
       "      <td>477</td>\n",
       "      <td>20210303</td>\n",
       "    </tr>\n",
       "    <tr>\n",
       "      <th>16209</th>\n",
       "      <td>20210228</td>\n",
       "      <td>2호선</td>\n",
       "      <td>양천구청</td>\n",
       "      <td>3234</td>\n",
       "      <td>3281</td>\n",
       "      <td>20210303</td>\n",
       "    </tr>\n",
       "    <tr>\n",
       "      <th>16210</th>\n",
       "      <td>20210228</td>\n",
       "      <td>2호선</td>\n",
       "      <td>신정네거리</td>\n",
       "      <td>4814</td>\n",
       "      <td>4805</td>\n",
       "      <td>20210303</td>\n",
       "    </tr>\n",
       "    <tr>\n",
       "      <th>16211</th>\n",
       "      <td>20210228</td>\n",
       "      <td>2호선</td>\n",
       "      <td>용두(동대문구청)</td>\n",
       "      <td>1069</td>\n",
       "      <td>1029</td>\n",
       "      <td>20210303</td>\n",
       "    </tr>\n",
       "  </tbody>\n",
       "</table>\n",
       "<p>1400 rows × 6 columns</p>\n",
       "</div>"
      ],
      "text/plain": [
       "           사용일자  노선명         역명  승차총승객수  하차총승객수      등록일자\n",
       "532    20210201  2호선  용두(동대문구청)    2365    2430  20210204\n",
       "533    20210201  2호선      신정네거리    9269    9599  20210204\n",
       "534    20210201  2호선       양천구청    6318    6738  20210204\n",
       "535    20210201  2호선        도림천    1434    1469  20210204\n",
       "536    20210201  2호선        신설동    3046    3110  20210204\n",
       "...         ...  ...        ...     ...     ...       ...\n",
       "16207  20210228  2호선        신설동    2806    2830  20210303\n",
       "16208  20210228  2호선        도림천     480     477  20210303\n",
       "16209  20210228  2호선       양천구청    3234    3281  20210303\n",
       "16210  20210228  2호선      신정네거리    4814    4805  20210303\n",
       "16211  20210228  2호선  용두(동대문구청)    1069    1029  20210303\n",
       "\n",
       "[1400 rows x 6 columns]"
      ]
     },
     "execution_count": 283,
     "metadata": {},
     "output_type": "execute_result"
    }
   ],
   "source": [
    "sb2"
   ]
  },
  {
   "cell_type": "code",
   "execution_count": 276,
   "id": "d28f39f6",
   "metadata": {},
   "outputs": [
    {
     "ename": "ValueError",
     "evalue": "Length of values (1) does not match length of index (16751)",
     "output_type": "error",
     "traceback": [
      "\u001b[31m---------------------------------------------------------------------------\u001b[39m",
      "\u001b[31mValueError\u001b[39m                                Traceback (most recent call last)",
      "\u001b[36mCell\u001b[39m\u001b[36m \u001b[39m\u001b[32mIn[276]\u001b[39m\u001b[32m, line 3\u001b[39m\n\u001b[32m      1\u001b[39m \u001b[38;5;66;03m#승차총승객수가 5000명 이상인 로우의 '역명'을 확인하세요\u001b[39;00m\n\u001b[32m      2\u001b[39m a = sb[\u001b[33m'\u001b[39m\u001b[33m승차총승객수\u001b[39m\u001b[33m'\u001b[39m] >= \u001b[32m5000\u001b[39m\n\u001b[32m----> \u001b[39m\u001b[32m3\u001b[39m sb[\u001b[33m'\u001b[39m\u001b[33m역명\u001b[39m\u001b[33m'\u001b[39m]= [sb.filter(a)]\n",
      "\u001b[36mFile \u001b[39m\u001b[32mc:\\Users\\Admin\\miniconda3\\envs\\hipython\\Lib\\site-packages\\pandas\\core\\frame.py:4316\u001b[39m, in \u001b[36mDataFrame.__setitem__\u001b[39m\u001b[34m(self, key, value)\u001b[39m\n\u001b[32m   4313\u001b[39m     \u001b[38;5;28mself\u001b[39m._setitem_array([key], value)\n\u001b[32m   4314\u001b[39m \u001b[38;5;28;01melse\u001b[39;00m:\n\u001b[32m   4315\u001b[39m     \u001b[38;5;66;03m# set column\u001b[39;00m\n\u001b[32m-> \u001b[39m\u001b[32m4316\u001b[39m     \u001b[38;5;28mself\u001b[39m._set_item(key, value)\n",
      "\u001b[36mFile \u001b[39m\u001b[32mc:\\Users\\Admin\\miniconda3\\envs\\hipython\\Lib\\site-packages\\pandas\\core\\frame.py:4529\u001b[39m, in \u001b[36mDataFrame._set_item\u001b[39m\u001b[34m(self, key, value)\u001b[39m\n\u001b[32m   4519\u001b[39m \u001b[38;5;28;01mdef\u001b[39;00m\u001b[38;5;250m \u001b[39m\u001b[34m_set_item\u001b[39m(\u001b[38;5;28mself\u001b[39m, key, value) -> \u001b[38;5;28;01mNone\u001b[39;00m:\n\u001b[32m   4520\u001b[39m \u001b[38;5;250m    \u001b[39m\u001b[33;03m\"\"\"\u001b[39;00m\n\u001b[32m   4521\u001b[39m \u001b[33;03m    Add series to DataFrame in specified column.\u001b[39;00m\n\u001b[32m   4522\u001b[39m \n\u001b[32m   (...)\u001b[39m\u001b[32m   4527\u001b[39m \u001b[33;03m    ensure homogeneity.\u001b[39;00m\n\u001b[32m   4528\u001b[39m \u001b[33;03m    \"\"\"\u001b[39;00m\n\u001b[32m-> \u001b[39m\u001b[32m4529\u001b[39m     value, refs = \u001b[38;5;28mself\u001b[39m._sanitize_column(value)\n\u001b[32m   4531\u001b[39m     \u001b[38;5;28;01mif\u001b[39;00m (\n\u001b[32m   4532\u001b[39m         key \u001b[38;5;129;01min\u001b[39;00m \u001b[38;5;28mself\u001b[39m.columns\n\u001b[32m   4533\u001b[39m         \u001b[38;5;129;01mand\u001b[39;00m value.ndim == \u001b[32m1\u001b[39m\n\u001b[32m   4534\u001b[39m         \u001b[38;5;129;01mand\u001b[39;00m \u001b[38;5;129;01mnot\u001b[39;00m \u001b[38;5;28misinstance\u001b[39m(value.dtype, ExtensionDtype)\n\u001b[32m   4535\u001b[39m     ):\n\u001b[32m   4536\u001b[39m         \u001b[38;5;66;03m# broadcast across multiple columns if necessary\u001b[39;00m\n\u001b[32m   4537\u001b[39m         \u001b[38;5;28;01mif\u001b[39;00m \u001b[38;5;129;01mnot\u001b[39;00m \u001b[38;5;28mself\u001b[39m.columns.is_unique \u001b[38;5;129;01mor\u001b[39;00m \u001b[38;5;28misinstance\u001b[39m(\u001b[38;5;28mself\u001b[39m.columns, MultiIndex):\n",
      "\u001b[36mFile \u001b[39m\u001b[32mc:\\Users\\Admin\\miniconda3\\envs\\hipython\\Lib\\site-packages\\pandas\\core\\frame.py:5273\u001b[39m, in \u001b[36mDataFrame._sanitize_column\u001b[39m\u001b[34m(self, value)\u001b[39m\n\u001b[32m   5270\u001b[39m     \u001b[38;5;28;01mreturn\u001b[39;00m _reindex_for_setitem(value, \u001b[38;5;28mself\u001b[39m.index)\n\u001b[32m   5272\u001b[39m \u001b[38;5;28;01mif\u001b[39;00m is_list_like(value):\n\u001b[32m-> \u001b[39m\u001b[32m5273\u001b[39m     com.require_length_match(value, \u001b[38;5;28mself\u001b[39m.index)\n\u001b[32m   5274\u001b[39m arr = sanitize_array(value, \u001b[38;5;28mself\u001b[39m.index, copy=\u001b[38;5;28;01mTrue\u001b[39;00m, allow_2d=\u001b[38;5;28;01mTrue\u001b[39;00m)\n\u001b[32m   5275\u001b[39m \u001b[38;5;28;01mif\u001b[39;00m (\n\u001b[32m   5276\u001b[39m     \u001b[38;5;28misinstance\u001b[39m(value, Index)\n\u001b[32m   5277\u001b[39m     \u001b[38;5;129;01mand\u001b[39;00m value.dtype == \u001b[33m\"\u001b[39m\u001b[33mobject\u001b[39m\u001b[33m\"\u001b[39m\n\u001b[32m   (...)\u001b[39m\u001b[32m   5280\u001b[39m     \u001b[38;5;66;03m# TODO: Remove kludge in sanitize_array for string mode when enforcing\u001b[39;00m\n\u001b[32m   5281\u001b[39m     \u001b[38;5;66;03m# this deprecation\u001b[39;00m\n",
      "\u001b[36mFile \u001b[39m\u001b[32mc:\\Users\\Admin\\miniconda3\\envs\\hipython\\Lib\\site-packages\\pandas\\core\\common.py:573\u001b[39m, in \u001b[36mrequire_length_match\u001b[39m\u001b[34m(data, index)\u001b[39m\n\u001b[32m    569\u001b[39m \u001b[38;5;250m\u001b[39m\u001b[33;03m\"\"\"\u001b[39;00m\n\u001b[32m    570\u001b[39m \u001b[33;03mCheck the length of data matches the length of the index.\u001b[39;00m\n\u001b[32m    571\u001b[39m \u001b[33;03m\"\"\"\u001b[39;00m\n\u001b[32m    572\u001b[39m \u001b[38;5;28;01mif\u001b[39;00m \u001b[38;5;28mlen\u001b[39m(data) != \u001b[38;5;28mlen\u001b[39m(index):\n\u001b[32m--> \u001b[39m\u001b[32m573\u001b[39m     \u001b[38;5;28;01mraise\u001b[39;00m \u001b[38;5;167;01mValueError\u001b[39;00m(\n\u001b[32m    574\u001b[39m         \u001b[33m\"\u001b[39m\u001b[33mLength of values \u001b[39m\u001b[33m\"\u001b[39m\n\u001b[32m    575\u001b[39m         \u001b[33mf\u001b[39m\u001b[33m\"\u001b[39m\u001b[33m(\u001b[39m\u001b[38;5;132;01m{\u001b[39;00m\u001b[38;5;28mlen\u001b[39m(data)\u001b[38;5;132;01m}\u001b[39;00m\u001b[33m) \u001b[39m\u001b[33m\"\u001b[39m\n\u001b[32m    576\u001b[39m         \u001b[33m\"\u001b[39m\u001b[33mdoes not match length of index \u001b[39m\u001b[33m\"\u001b[39m\n\u001b[32m    577\u001b[39m         \u001b[33mf\u001b[39m\u001b[33m\"\u001b[39m\u001b[33m(\u001b[39m\u001b[38;5;132;01m{\u001b[39;00m\u001b[38;5;28mlen\u001b[39m(index)\u001b[38;5;132;01m}\u001b[39;00m\u001b[33m)\u001b[39m\u001b[33m\"\u001b[39m\n\u001b[32m    578\u001b[39m     )\n",
      "\u001b[31mValueError\u001b[39m: Length of values (1) does not match length of index (16751)"
     ]
    }
   ],
   "source": [
    "#승차총승객수가 5000명 이상인 로우의 '역명'을 확인하세요\n",
    "a = sb['승차총승객수'] >= 5000\n",
    "sb['역명']= [sb.filter(a)]"
   ]
  },
  {
   "cell_type": "code",
   "execution_count": 209,
   "id": "83843e36",
   "metadata": {},
   "outputs": [
    {
     "data": {
      "text/plain": [
       "'11oWor1d'"
      ]
     },
     "execution_count": 209,
     "metadata": {},
     "output_type": "execute_result"
    }
   ],
   "source": [
    "d= \"He11oWor1d\"\n",
    "e = \"lloWorl\"\n",
    "s = 2\n",
    "\n",
    "d[s:].translate(e)"
   ]
  }
 ],
 "metadata": {
  "kernelspec": {
   "display_name": "hipython",
   "language": "python",
   "name": "python3"
  },
  "language_info": {
   "codemirror_mode": {
    "name": "ipython",
    "version": 3
   },
   "file_extension": ".py",
   "mimetype": "text/x-python",
   "name": "python",
   "nbconvert_exporter": "python",
   "pygments_lexer": "ipython3",
   "version": "3.12.9"
  }
 },
 "nbformat": 4,
 "nbformat_minor": 5
}
