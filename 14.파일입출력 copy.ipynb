{
 "cells": [
  {
   "cell_type": "code",
   "execution_count": null,
   "id": "34be7ca3",
   "metadata": {},
   "outputs": [],
   "source": [
    "with open('abc/text.txt','w') as f:\n",
    "    f.write('hello')"
   ]
  },
  {
   "cell_type": "code",
   "execution_count": 5,
   "id": "7ca93a46",
   "metadata": {},
   "outputs": [],
   "source": [
    "d = open('abc/text.txt','r')\n",
    "d.read()\n",
    "d.close()"
   ]
  },
  {
   "cell_type": "code",
   "execution_count": 8,
   "id": "f9371171",
   "metadata": {},
   "outputs": [],
   "source": [
    "e = open('abc/text.txt', 'w')\n",
    "e.write('hi ttenk kong')\n",
    "e.close()"
   ]
  },
  {
   "cell_type": "code",
   "execution_count": 11,
   "id": "970e257d",
   "metadata": {},
   "outputs": [],
   "source": [
    "s = open('abc/text.txt', 'a')\n",
    "s.write('\\n이건 내가 쓴 게 아닙니다')\n",
    "s.close()"
   ]
  },
  {
   "cell_type": "code",
   "execution_count": null,
   "id": "d6b63173",
   "metadata": {},
   "outputs": [
    {
     "name": "stdout",
     "output_type": "stream",
     "text": [
      "hi ttenk kong\n",
      "이건 내가 쓴 게 아닙니다\n",
      "이건 내가 쓴 게 아닙니다\n",
      "이건 내가 쓴 게 아닙니다\n"
     ]
    }
   ],
   "source": [
    "with open('abc/text.txt','r') as re:\n",
    "    first_line = re.read()\n",
    "    print(first_line)"
   ]
  },
  {
   "cell_type": "code",
   "execution_count": 19,
   "id": "bf7a72db",
   "metadata": {},
   "outputs": [
    {
     "name": "stdout",
     "output_type": "stream",
     "text": [
      "hi ttenk kong\n",
      "이건 내가 쓴 게 아닙니다\n",
      "이건 내가 쓴 게 아닙니다\n",
      "이건 내가 쓴 게 아닙니다\n"
     ]
    }
   ],
   "source": [
    "with open('abc/text.txt','r') as re:\n",
    "    first_line = re.readlines()\n",
    "\n",
    "for line in first_line:\n",
    "    print(line.strip())"
   ]
  },
  {
   "cell_type": "markdown",
   "id": "43868e48",
   "metadata": {},
   "source": [
    "# 직렬화\n",
    "\n",
    "dump() 는 짐을 가방에 넣는 것 (파일에 저장) dump(함수, 파일)\n",
    "<br>\n",
    "load() 는 짐을 가방에서 꺼내는 것 (다시 사용 가능) 파일형식.load(file 약자)"
   ]
  },
  {
   "cell_type": "code",
   "execution_count": 1,
   "id": "bddebf2a",
   "metadata": {},
   "outputs": [],
   "source": [
    "import pickle\n",
    "\n",
    "# 직렬화할 데이터\n",
    "data = {\n",
    "    'name': '홍길동',\n",
    "    'age': 30,\n",
    "    'scores': [90, 85, 88]\n",
    "}\n",
    "\n",
    "\n"
   ]
  },
  {
   "cell_type": "code",
   "execution_count": 5,
   "id": "81de9481",
   "metadata": {},
   "outputs": [],
   "source": [
    "# 직렬화하여 파일에 저장\n",
    "with open('abc/jeehun.pickle','wb') as f:\n",
    "    pickle.dump(data, f)\n"
   ]
  },
  {
   "cell_type": "code",
   "execution_count": 7,
   "id": "0f448489",
   "metadata": {},
   "outputs": [
    {
     "name": "stdout",
     "output_type": "stream",
     "text": [
      "{'name': '홍길동', 'age': 30, 'scores': [90, 85, 88]}\n"
     ]
    }
   ],
   "source": [
    "# 파일에서 역직렬화하여 읽기\n",
    "with open('abc/jeehun.pickle', 'rb') as f:\n",
    "    loaded_data = pickle.load(f)\n",
    "\n",
    "print(loaded_data)  # 원본 데이터가 그대로 복원됨"
   ]
  },
  {
   "cell_type": "code",
   "execution_count": 15,
   "id": "56ea1ac9",
   "metadata": {},
   "outputs": [
    {
     "data": {
      "text/plain": [
       "[['name', 'age'], ['bob', '20'], ['alice', '15']]"
      ]
     },
     "execution_count": 15,
     "metadata": {},
     "output_type": "execute_result"
    }
   ],
   "source": [
    "import csv\n",
    "data = [['name','age'], ['bob', '20'], ['alice', '15']]\n",
    "data"
   ]
  },
  {
   "cell_type": "code",
   "execution_count": 16,
   "id": "82448e51",
   "metadata": {},
   "outputs": [],
   "source": [
    "with open('abc/bob.csv','w') as f:\n",
    "    wrt = csv.writer(f)\n",
    "    wrt.writerow(data)"
   ]
  },
  {
   "cell_type": "code",
   "execution_count": 17,
   "id": "9c29ff0a",
   "metadata": {},
   "outputs": [],
   "source": [
    "import pandas as pd\n",
    "\n",
    "df = pd.DataFrame(data)\n",
    "df.to_csv('abc/aloce.csv')"
   ]
  },
  {
   "cell_type": "code",
   "execution_count": 20,
   "id": "0d3c5221",
   "metadata": {},
   "outputs": [
    {
     "data": {
      "text/html": [
       "<div>\n",
       "<style scoped>\n",
       "    .dataframe tbody tr th:only-of-type {\n",
       "        vertical-align: middle;\n",
       "    }\n",
       "\n",
       "    .dataframe tbody tr th {\n",
       "        vertical-align: top;\n",
       "    }\n",
       "\n",
       "    .dataframe thead th {\n",
       "        text-align: right;\n",
       "    }\n",
       "</style>\n",
       "<table border=\"1\" class=\"dataframe\">\n",
       "  <thead>\n",
       "    <tr style=\"text-align: right;\">\n",
       "      <th></th>\n",
       "      <th>['name', 'age']</th>\n",
       "      <th>['bob', '20']</th>\n",
       "      <th>['alice', '15']</th>\n",
       "    </tr>\n",
       "  </thead>\n",
       "  <tbody>\n",
       "  </tbody>\n",
       "</table>\n",
       "</div>"
      ],
      "text/plain": [
       "Empty DataFrame\n",
       "Columns: [['name', 'age'], ['bob', '20'], ['alice', '15']]\n",
       "Index: []"
      ]
     },
     "execution_count": 20,
     "metadata": {},
     "output_type": "execute_result"
    }
   ],
   "source": [
    "pd.read_csv('abc/bob.csv')"
   ]
  }
 ],
 "metadata": {
  "kernelspec": {
   "display_name": "hipython",
   "language": "python",
   "name": "python3"
  },
  "language_info": {
   "codemirror_mode": {
    "name": "ipython",
    "version": 3
   },
   "file_extension": ".py",
   "mimetype": "text/x-python",
   "name": "python",
   "nbconvert_exporter": "python",
   "pygments_lexer": "ipython3",
   "version": "3.12.9"
  }
 },
 "nbformat": 4,
 "nbformat_minor": 5
}
