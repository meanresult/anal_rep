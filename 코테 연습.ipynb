{
 "cells": [
  {
   "cell_type": "code",
   "execution_count": 20,
   "id": "87949468",
   "metadata": {},
   "outputs": [
    {
     "name": "stdout",
     "output_type": "stream",
     "text": [
      "HI\n"
     ]
    }
   ],
   "source": [
    "a = input()\n",
    "if a == a.upper():\n",
    "        print(a.lower())\n",
    "else:\n",
    "        print(a.upper())\n"
   ]
  },
  {
   "cell_type": "code",
   "execution_count": null,
   "id": "0f050062",
   "metadata": {},
   "outputs": [
    {
     "name": "stdout",
     "output_type": "stream",
     "text": [
      "hI\n"
     ]
    }
   ],
   "source": [
    "x = input()\n",
    "print(''.join(s.lower() if s == s.upper()  else s.upper()  f2or s in x))"
   ]
  },
  {
   "cell_type": "code",
   "execution_count": 25,
   "id": "ed095c6b",
   "metadata": {},
   "outputs": [
    {
     "name": "stdout",
     "output_type": "stream",
     "text": [
      "!@#$%^&*('\"<>?:;\n"
     ]
    }
   ],
   "source": [
    "print(\"!@#$%^&*(\\'\\\"<>?:;\")"
   ]
  }
 ],
 "metadata": {
  "kernelspec": {
   "display_name": "hipython",
   "language": "python",
   "name": "python3"
  },
  "language_info": {
   "codemirror_mode": {
    "name": "ipython",
    "version": 3
   },
   "file_extension": ".py",
   "mimetype": "text/x-python",
   "name": "python",
   "nbconvert_exporter": "python",
   "pygments_lexer": "ipython3",
   "version": "3.12.9"
  }
 },
 "nbformat": 4,
 "nbformat_minor": 5
}
