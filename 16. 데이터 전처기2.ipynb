{
 "cells": [
  {
   "cell_type": "markdown",
   "id": "2466dc3a",
   "metadata": {},
   "source": [
    "# 데이터 전처리 2 "
   ]
  },
  {
   "cell_type": "code",
   "execution_count": 1,
   "id": "76c3876c",
   "metadata": {},
   "outputs": [
    {
     "data": {
      "text/html": [
       "<div>\n",
       "<style scoped>\n",
       "    .dataframe tbody tr th:only-of-type {\n",
       "        vertical-align: middle;\n",
       "    }\n",
       "\n",
       "    .dataframe tbody tr th {\n",
       "        vertical-align: top;\n",
       "    }\n",
       "\n",
       "    .dataframe thead th {\n",
       "        text-align: right;\n",
       "    }\n",
       "</style>\n",
       "<table border=\"1\" class=\"dataframe\">\n",
       "  <thead>\n",
       "    <tr style=\"text-align: right;\">\n",
       "      <th></th>\n",
       "      <th>Unnamed: 0</th>\n",
       "      <th>2007</th>\n",
       "      <th>2008</th>\n",
       "      <th>2009</th>\n",
       "      <th>2010</th>\n",
       "      <th>2011</th>\n",
       "    </tr>\n",
       "  </thead>\n",
       "  <tbody>\n",
       "    <tr>\n",
       "      <th>0</th>\n",
       "      <td>China</td>\n",
       "      <td>7.71</td>\n",
       "      <td>7.95</td>\n",
       "      <td>11.96</td>\n",
       "      <td>15.84</td>\n",
       "      <td>16.33</td>\n",
       "    </tr>\n",
       "    <tr>\n",
       "      <th>1</th>\n",
       "      <td>EU</td>\n",
       "      <td>19.02</td>\n",
       "      <td>17.71</td>\n",
       "      <td>15.00</td>\n",
       "      <td>16.70</td>\n",
       "      <td>17.48</td>\n",
       "    </tr>\n",
       "    <tr>\n",
       "      <th>2</th>\n",
       "      <td>US</td>\n",
       "      <td>10.47</td>\n",
       "      <td>8.45</td>\n",
       "      <td>5.58</td>\n",
       "      <td>7.60</td>\n",
       "      <td>8.40</td>\n",
       "    </tr>\n",
       "    <tr>\n",
       "      <th>3</th>\n",
       "      <td>Japan</td>\n",
       "      <td>10.87</td>\n",
       "      <td>10.83</td>\n",
       "      <td>7.55</td>\n",
       "      <td>9.09</td>\n",
       "      <td>7.88</td>\n",
       "    </tr>\n",
       "    <tr>\n",
       "      <th>4</th>\n",
       "      <td>Korea</td>\n",
       "      <td>4.04</td>\n",
       "      <td>3.78</td>\n",
       "      <td>3.45</td>\n",
       "      <td>4.20</td>\n",
       "      <td>4.62</td>\n",
       "    </tr>\n",
       "    <tr>\n",
       "      <th>5</th>\n",
       "      <td>Mexico</td>\n",
       "      <td>2.01</td>\n",
       "      <td>2.05</td>\n",
       "      <td>1.50</td>\n",
       "      <td>2.25</td>\n",
       "      <td>2.54</td>\n",
       "    </tr>\n",
       "  </tbody>\n",
       "</table>\n",
       "</div>"
      ],
      "text/plain": [
       "  Unnamed: 0   2007   2008   2009   2010   2011\n",
       "0      China   7.71   7.95  11.96  15.84  16.33\n",
       "1         EU  19.02  17.71  15.00  16.70  17.48\n",
       "2         US  10.47   8.45   5.58   7.60   8.40\n",
       "3      Japan  10.87  10.83   7.55   9.09   7.88\n",
       "4      Korea   4.04   3.78   3.45   4.20   4.62\n",
       "5     Mexico   2.01   2.05   1.50   2.25   2.54"
      ]
     },
     "execution_count": 1,
     "metadata": {},
     "output_type": "execute_result"
    }
   ],
   "source": [
    "import pandas as pd\n",
    "\n",
    "df = pd.read_csv('data/vehicle_prod.csv')\n",
    "df"
   ]
  },
  {
   "cell_type": "markdown",
   "id": "91c6daa3",
   "metadata": {},
   "source": [
    "### 컬럼명 바꾸기"
   ]
  },
  {
   "cell_type": "code",
   "execution_count": 2,
   "id": "695dd99f",
   "metadata": {},
   "outputs": [
    {
     "data": {
      "text/html": [
       "<div>\n",
       "<style scoped>\n",
       "    .dataframe tbody tr th:only-of-type {\n",
       "        vertical-align: middle;\n",
       "    }\n",
       "\n",
       "    .dataframe tbody tr th {\n",
       "        vertical-align: top;\n",
       "    }\n",
       "\n",
       "    .dataframe thead th {\n",
       "        text-align: right;\n",
       "    }\n",
       "</style>\n",
       "<table border=\"1\" class=\"dataframe\">\n",
       "  <thead>\n",
       "    <tr style=\"text-align: right;\">\n",
       "      <th></th>\n",
       "      <th>Country</th>\n",
       "      <th>2007</th>\n",
       "      <th>2008</th>\n",
       "      <th>2009</th>\n",
       "      <th>2010</th>\n",
       "      <th>2011</th>\n",
       "    </tr>\n",
       "  </thead>\n",
       "  <tbody>\n",
       "    <tr>\n",
       "      <th>0</th>\n",
       "      <td>China</td>\n",
       "      <td>7.71</td>\n",
       "      <td>7.95</td>\n",
       "      <td>11.96</td>\n",
       "      <td>15.84</td>\n",
       "      <td>16.33</td>\n",
       "    </tr>\n",
       "    <tr>\n",
       "      <th>1</th>\n",
       "      <td>EU</td>\n",
       "      <td>19.02</td>\n",
       "      <td>17.71</td>\n",
       "      <td>15.00</td>\n",
       "      <td>16.70</td>\n",
       "      <td>17.48</td>\n",
       "    </tr>\n",
       "    <tr>\n",
       "      <th>2</th>\n",
       "      <td>US</td>\n",
       "      <td>10.47</td>\n",
       "      <td>8.45</td>\n",
       "      <td>5.58</td>\n",
       "      <td>7.60</td>\n",
       "      <td>8.40</td>\n",
       "    </tr>\n",
       "    <tr>\n",
       "      <th>3</th>\n",
       "      <td>Japan</td>\n",
       "      <td>10.87</td>\n",
       "      <td>10.83</td>\n",
       "      <td>7.55</td>\n",
       "      <td>9.09</td>\n",
       "      <td>7.88</td>\n",
       "    </tr>\n",
       "    <tr>\n",
       "      <th>4</th>\n",
       "      <td>Korea</td>\n",
       "      <td>4.04</td>\n",
       "      <td>3.78</td>\n",
       "      <td>3.45</td>\n",
       "      <td>4.20</td>\n",
       "      <td>4.62</td>\n",
       "    </tr>\n",
       "    <tr>\n",
       "      <th>5</th>\n",
       "      <td>Mexico</td>\n",
       "      <td>2.01</td>\n",
       "      <td>2.05</td>\n",
       "      <td>1.50</td>\n",
       "      <td>2.25</td>\n",
       "      <td>2.54</td>\n",
       "    </tr>\n",
       "  </tbody>\n",
       "</table>\n",
       "</div>"
      ],
      "text/plain": [
       "  Country   2007   2008   2009   2010   2011\n",
       "0   China   7.71   7.95  11.96  15.84  16.33\n",
       "1      EU  19.02  17.71  15.00  16.70  17.48\n",
       "2      US  10.47   8.45   5.58   7.60   8.40\n",
       "3   Japan  10.87  10.83   7.55   9.09   7.88\n",
       "4   Korea   4.04   3.78   3.45   4.20   4.62\n",
       "5  Mexico   2.01   2.05   1.50   2.25   2.54"
      ]
     },
     "execution_count": 2,
     "metadata": {},
     "output_type": "execute_result"
    }
   ],
   "source": [
    "\n",
    "df1 = df.rename(columns={'Unnamed: 0' : 'Country'})  \n",
    "df1"
   ]
  },
  {
   "cell_type": "markdown",
   "id": "61301357",
   "metadata": {},
   "source": [
    "### 기존 열을 인덱스로 설정하는 함수 \n",
    "\n",
    "함수 _set_index('지정한 열', inplace = True(원본) / False(리턴) )"
   ]
  },
  {
   "cell_type": "code",
   "execution_count": 3,
   "id": "580ab311",
   "metadata": {},
   "outputs": [],
   "source": [
    "\n",
    "df1.set_index('Country', inplace=True)\n"
   ]
  },
  {
   "cell_type": "code",
   "execution_count": 4,
   "id": "09839352",
   "metadata": {},
   "outputs": [
    {
     "data": {
      "text/html": [
       "<div>\n",
       "<style scoped>\n",
       "    .dataframe tbody tr th:only-of-type {\n",
       "        vertical-align: middle;\n",
       "    }\n",
       "\n",
       "    .dataframe tbody tr th {\n",
       "        vertical-align: top;\n",
       "    }\n",
       "\n",
       "    .dataframe thead th {\n",
       "        text-align: right;\n",
       "    }\n",
       "</style>\n",
       "<table border=\"1\" class=\"dataframe\">\n",
       "  <thead>\n",
       "    <tr style=\"text-align: right;\">\n",
       "      <th></th>\n",
       "      <th>2007</th>\n",
       "      <th>2008</th>\n",
       "      <th>2009</th>\n",
       "      <th>2010</th>\n",
       "      <th>2011</th>\n",
       "    </tr>\n",
       "    <tr>\n",
       "      <th>Country</th>\n",
       "      <th></th>\n",
       "      <th></th>\n",
       "      <th></th>\n",
       "      <th></th>\n",
       "      <th></th>\n",
       "    </tr>\n",
       "  </thead>\n",
       "  <tbody>\n",
       "    <tr>\n",
       "      <th>China</th>\n",
       "      <td>7.71</td>\n",
       "      <td>7.95</td>\n",
       "      <td>11.96</td>\n",
       "      <td>15.84</td>\n",
       "      <td>16.33</td>\n",
       "    </tr>\n",
       "    <tr>\n",
       "      <th>EU</th>\n",
       "      <td>19.02</td>\n",
       "      <td>17.71</td>\n",
       "      <td>15.00</td>\n",
       "      <td>16.70</td>\n",
       "      <td>17.48</td>\n",
       "    </tr>\n",
       "    <tr>\n",
       "      <th>US</th>\n",
       "      <td>10.47</td>\n",
       "      <td>8.45</td>\n",
       "      <td>5.58</td>\n",
       "      <td>7.60</td>\n",
       "      <td>8.40</td>\n",
       "    </tr>\n",
       "    <tr>\n",
       "      <th>Japan</th>\n",
       "      <td>10.87</td>\n",
       "      <td>10.83</td>\n",
       "      <td>7.55</td>\n",
       "      <td>9.09</td>\n",
       "      <td>7.88</td>\n",
       "    </tr>\n",
       "    <tr>\n",
       "      <th>Korea</th>\n",
       "      <td>4.04</td>\n",
       "      <td>3.78</td>\n",
       "      <td>3.45</td>\n",
       "      <td>4.20</td>\n",
       "      <td>4.62</td>\n",
       "    </tr>\n",
       "    <tr>\n",
       "      <th>Mexico</th>\n",
       "      <td>2.01</td>\n",
       "      <td>2.05</td>\n",
       "      <td>1.50</td>\n",
       "      <td>2.25</td>\n",
       "      <td>2.54</td>\n",
       "    </tr>\n",
       "  </tbody>\n",
       "</table>\n",
       "</div>"
      ],
      "text/plain": [
       "          2007   2008   2009   2010   2011\n",
       "Country                                   \n",
       "China     7.71   7.95  11.96  15.84  16.33\n",
       "EU       19.02  17.71  15.00  16.70  17.48\n",
       "US       10.47   8.45   5.58   7.60   8.40\n",
       "Japan    10.87  10.83   7.55   9.09   7.88\n",
       "Korea     4.04   3.78   3.45   4.20   4.62\n",
       "Mexico    2.01   2.05   1.50   2.25   2.54"
      ]
     },
     "execution_count": 4,
     "metadata": {},
     "output_type": "execute_result"
    }
   ],
   "source": [
    "df1"
   ]
  },
  {
   "cell_type": "markdown",
   "id": "2229dcbf",
   "metadata": {},
   "source": [
    "### 국가명을 컬럼으로 인덱스 설정하고 바로 데이터 프레임생성"
   ]
  },
  {
   "cell_type": "code",
   "execution_count": 10,
   "id": "0a40bc39",
   "metadata": {},
   "outputs": [
    {
     "data": {
      "text/html": [
       "<div>\n",
       "<style scoped>\n",
       "    .dataframe tbody tr th:only-of-type {\n",
       "        vertical-align: middle;\n",
       "    }\n",
       "\n",
       "    .dataframe tbody tr th {\n",
       "        vertical-align: top;\n",
       "    }\n",
       "\n",
       "    .dataframe thead th {\n",
       "        text-align: right;\n",
       "    }\n",
       "</style>\n",
       "<table border=\"1\" class=\"dataframe\">\n",
       "  <thead>\n",
       "    <tr style=\"text-align: right;\">\n",
       "      <th></th>\n",
       "      <th>2007</th>\n",
       "      <th>2008</th>\n",
       "      <th>2009</th>\n",
       "      <th>2010</th>\n",
       "      <th>2011</th>\n",
       "    </tr>\n",
       "  </thead>\n",
       "  <tbody>\n",
       "    <tr>\n",
       "      <th>China</th>\n",
       "      <td>7.71</td>\n",
       "      <td>7.95</td>\n",
       "      <td>11.96</td>\n",
       "      <td>15.84</td>\n",
       "      <td>16.33</td>\n",
       "    </tr>\n",
       "    <tr>\n",
       "      <th>EU</th>\n",
       "      <td>19.02</td>\n",
       "      <td>17.71</td>\n",
       "      <td>15.00</td>\n",
       "      <td>16.70</td>\n",
       "      <td>17.48</td>\n",
       "    </tr>\n",
       "    <tr>\n",
       "      <th>US</th>\n",
       "      <td>10.47</td>\n",
       "      <td>8.45</td>\n",
       "      <td>5.58</td>\n",
       "      <td>7.60</td>\n",
       "      <td>8.40</td>\n",
       "    </tr>\n",
       "    <tr>\n",
       "      <th>Japan</th>\n",
       "      <td>10.87</td>\n",
       "      <td>10.83</td>\n",
       "      <td>7.55</td>\n",
       "      <td>9.09</td>\n",
       "      <td>7.88</td>\n",
       "    </tr>\n",
       "    <tr>\n",
       "      <th>Korea</th>\n",
       "      <td>4.04</td>\n",
       "      <td>3.78</td>\n",
       "      <td>3.45</td>\n",
       "      <td>4.20</td>\n",
       "      <td>4.62</td>\n",
       "    </tr>\n",
       "    <tr>\n",
       "      <th>Mexico</th>\n",
       "      <td>2.01</td>\n",
       "      <td>2.05</td>\n",
       "      <td>1.50</td>\n",
       "      <td>2.25</td>\n",
       "      <td>2.54</td>\n",
       "    </tr>\n",
       "  </tbody>\n",
       "</table>\n",
       "</div>"
      ],
      "text/plain": [
       "         2007   2008   2009   2010   2011\n",
       "China    7.71   7.95  11.96  15.84  16.33\n",
       "EU      19.02  17.71  15.00  16.70  17.48\n",
       "US      10.47   8.45   5.58   7.60   8.40\n",
       "Japan   10.87  10.83   7.55   9.09   7.88\n",
       "Korea    4.04   3.78   3.45   4.20   4.62\n",
       "Mexico   2.01   2.05   1.50   2.25   2.54"
      ]
     },
     "execution_count": 10,
     "metadata": {},
     "output_type": "execute_result"
    }
   ],
   "source": [
    "odf = pd.read_csv('data/vehicle_prod.csv', index_col=0)\n",
    "odf"
   ]
  },
  {
   "cell_type": "code",
   "execution_count": 11,
   "id": "b3292aa0",
   "metadata": {},
   "outputs": [
    {
     "data": {
      "text/plain": [
       "China      7.71\n",
       "EU        19.02\n",
       "US        10.47\n",
       "Japan     10.87\n",
       "Korea      4.04\n",
       "Mexico     2.01\n",
       "Name: 2007, dtype: float64"
      ]
     },
     "execution_count": 11,
     "metadata": {},
     "output_type": "execute_result"
    }
   ],
   "source": [
    "ofd['2007'] #2007의 인덱스값 출력  "
   ]
  },
  {
   "cell_type": "code",
   "execution_count": null,
   "id": "5d1576d5",
   "metadata": {},
   "outputs": [
    {
     "data": {
      "text/html": [
       "<div>\n",
       "<style scoped>\n",
       "    .dataframe tbody tr th:only-of-type {\n",
       "        vertical-align: middle;\n",
       "    }\n",
       "\n",
       "    .dataframe tbody tr th {\n",
       "        vertical-align: top;\n",
       "    }\n",
       "\n",
       "    .dataframe thead th {\n",
       "        text-align: right;\n",
       "    }\n",
       "</style>\n",
       "<table border=\"1\" class=\"dataframe\">\n",
       "  <thead>\n",
       "    <tr style=\"text-align: right;\">\n",
       "      <th></th>\n",
       "      <th>2007</th>\n",
       "    </tr>\n",
       "  </thead>\n",
       "  <tbody>\n",
       "    <tr>\n",
       "      <th>China</th>\n",
       "      <td>7.71</td>\n",
       "    </tr>\n",
       "    <tr>\n",
       "      <th>EU</th>\n",
       "      <td>19.02</td>\n",
       "    </tr>\n",
       "    <tr>\n",
       "      <th>US</th>\n",
       "      <td>10.47</td>\n",
       "    </tr>\n",
       "    <tr>\n",
       "      <th>Japan</th>\n",
       "      <td>10.87</td>\n",
       "    </tr>\n",
       "    <tr>\n",
       "      <th>Korea</th>\n",
       "      <td>4.04</td>\n",
       "    </tr>\n",
       "    <tr>\n",
       "      <th>Mexico</th>\n",
       "      <td>2.01</td>\n",
       "    </tr>\n",
       "  </tbody>\n",
       "</table>\n",
       "</div>"
      ],
      "text/plain": [
       "         2007\n",
       "China    7.71\n",
       "EU      19.02\n",
       "US      10.47\n",
       "Japan   10.87\n",
       "Korea    4.04\n",
       "Mexico   2.01"
      ]
     },
     "execution_count": 12,
     "metadata": {},
     "output_type": "execute_result"
    }
   ],
   "source": [
    "odf[['2007']] #2007의 인덱스를 가시성 있게 출력"
   ]
  },
  {
   "cell_type": "code",
   "execution_count": 14,
   "id": "a4ff302e",
   "metadata": {},
   "outputs": [
    {
     "data": {
      "text/plain": [
       "['2007', '2008', '2009', '2010', '2011']"
      ]
     },
     "execution_count": 14,
     "metadata": {},
     "output_type": "execute_result"
    }
   ],
   "source": [
    "odf.columns.tolist()"
   ]
  },
  {
   "cell_type": "markdown",
   "id": "8197fae6",
   "metadata": {},
   "source": [
    "## ✅ 개념 정리: .columns.tolist()  \n",
    "DataFrame.columns는 컬럼명(열 이름)들을 인덱스 객체(Index)로 반환합니다.\n",
    "\n",
    "여기에 .tolist()를 붙이면 그걸 리스트로 변환합니다."
   ]
  },
  {
   "cell_type": "code",
   "execution_count": null,
   "id": "79c04741",
   "metadata": {},
   "outputs": [
    {
     "data": {
      "text/plain": [
       "Index(['2007', '2008', '2009', '2010', '2011'], dtype='object')"
      ]
     },
     "execution_count": 15,
     "metadata": {},
     "output_type": "execute_result"
    }
   ],
   "source": [
    "# 컬렴명(열 이름)들을 인덱스 객체(Index)로 반환\n",
    "\n",
    "odf.columns"
   ]
  },
  {
   "cell_type": "code",
   "execution_count": 16,
   "id": "2782faad",
   "metadata": {},
   "outputs": [
    {
     "data": {
      "text/plain": [
       "['2007', '2008', '2009', '2010', '2011']"
      ]
     },
     "execution_count": 16,
     "metadata": {},
     "output_type": "execute_result"
    }
   ],
   "source": [
    "# .tolist()를 붙이면 리스트로 반환\n",
    "\n",
    "odf.columns.tolist()"
   ]
  },
  {
   "cell_type": "code",
   "execution_count": null,
   "id": "b6991e78",
   "metadata": {},
   "outputs": [
    {
     "data": {
      "text/plain": [
       "China      7.71\n",
       "EU        19.02\n",
       "US        10.47\n",
       "Japan     10.87\n",
       "Korea      4.04\n",
       "Mexico     2.01\n",
       "Name: 2007, dtype: float64"
      ]
     },
     "execution_count": 18,
     "metadata": {},
     "output_type": "execute_result"
    }
   ],
   "source": [
    "odf['2007'] # odf의 2007년의 인덱스값 호출"
   ]
  },
  {
   "cell_type": "code",
   "execution_count": null,
   "id": "70f8147f",
   "metadata": {},
   "outputs": [
    {
     "data": {
      "text/plain": [
       "[7.71, 19.02, 10.47, 10.87, 4.04, 2.01]"
      ]
     },
     "execution_count": 19,
     "metadata": {},
     "output_type": "execute_result"
    }
   ],
   "source": [
    "odf['2007'].tolist() #2007년의 인덱스 값의 리스트화"
   ]
  },
  {
   "cell_type": "code",
   "execution_count": null,
   "id": "68a8a621",
   "metadata": {},
   "outputs": [
    {
     "data": {
      "text/html": [
       "<div>\n",
       "<style scoped>\n",
       "    .dataframe tbody tr th:only-of-type {\n",
       "        vertical-align: middle;\n",
       "    }\n",
       "\n",
       "    .dataframe tbody tr th {\n",
       "        vertical-align: top;\n",
       "    }\n",
       "\n",
       "    .dataframe thead th {\n",
       "        text-align: right;\n",
       "    }\n",
       "</style>\n",
       "<table border=\"1\" class=\"dataframe\">\n",
       "  <thead>\n",
       "    <tr style=\"text-align: right;\">\n",
       "      <th></th>\n",
       "      <th>2007</th>\n",
       "      <th>2008</th>\n",
       "      <th>2009</th>\n",
       "      <th>2010</th>\n",
       "      <th>2011</th>\n",
       "    </tr>\n",
       "  </thead>\n",
       "  <tbody>\n",
       "    <tr>\n",
       "      <th>count</th>\n",
       "      <td>6.000000</td>\n",
       "      <td>6.000000</td>\n",
       "      <td>6.000000</td>\n",
       "      <td>6.000000</td>\n",
       "      <td>6.000000</td>\n",
       "    </tr>\n",
       "    <tr>\n",
       "      <th>mean</th>\n",
       "      <td>9.020000</td>\n",
       "      <td>8.461667</td>\n",
       "      <td>7.506667</td>\n",
       "      <td>9.280000</td>\n",
       "      <td>9.541667</td>\n",
       "    </tr>\n",
       "    <tr>\n",
       "      <th>std</th>\n",
       "      <td>6.019661</td>\n",
       "      <td>5.557519</td>\n",
       "      <td>5.142621</td>\n",
       "      <td>5.935921</td>\n",
       "      <td>6.105887</td>\n",
       "    </tr>\n",
       "    <tr>\n",
       "      <th>min</th>\n",
       "      <td>2.010000</td>\n",
       "      <td>2.050000</td>\n",
       "      <td>1.500000</td>\n",
       "      <td>2.250000</td>\n",
       "      <td>2.540000</td>\n",
       "    </tr>\n",
       "    <tr>\n",
       "      <th>25%</th>\n",
       "      <td>4.957500</td>\n",
       "      <td>4.822500</td>\n",
       "      <td>3.982500</td>\n",
       "      <td>5.050000</td>\n",
       "      <td>5.435000</td>\n",
       "    </tr>\n",
       "    <tr>\n",
       "      <th>50%</th>\n",
       "      <td>9.090000</td>\n",
       "      <td>8.200000</td>\n",
       "      <td>6.565000</td>\n",
       "      <td>8.345000</td>\n",
       "      <td>8.140000</td>\n",
       "    </tr>\n",
       "    <tr>\n",
       "      <th>75%</th>\n",
       "      <td>10.770000</td>\n",
       "      <td>10.235000</td>\n",
       "      <td>10.857500</td>\n",
       "      <td>14.152500</td>\n",
       "      <td>14.347500</td>\n",
       "    </tr>\n",
       "    <tr>\n",
       "      <th>max</th>\n",
       "      <td>19.020000</td>\n",
       "      <td>17.710000</td>\n",
       "      <td>15.000000</td>\n",
       "      <td>16.700000</td>\n",
       "      <td>17.480000</td>\n",
       "    </tr>\n",
       "  </tbody>\n",
       "</table>\n",
       "</div>"
      ],
      "text/plain": [
       "            2007       2008       2009       2010       2011\n",
       "count   6.000000   6.000000   6.000000   6.000000   6.000000\n",
       "mean    9.020000   8.461667   7.506667   9.280000   9.541667\n",
       "std     6.019661   5.557519   5.142621   5.935921   6.105887\n",
       "min     2.010000   2.050000   1.500000   2.250000   2.540000\n",
       "25%     4.957500   4.822500   3.982500   5.050000   5.435000\n",
       "50%     9.090000   8.200000   6.565000   8.345000   8.140000\n",
       "75%    10.770000  10.235000  10.857500  14.152500  14.347500\n",
       "max    19.020000  17.710000  15.000000  16.700000  17.480000"
      ]
     },
     "execution_count": 20,
     "metadata": {},
     "output_type": "execute_result"
    }
   ],
   "source": [
    "odf.describe() "
   ]
  },
  {
   "cell_type": "markdown",
   "id": "0ee57a16",
   "metadata": {},
   "source": [
    "## ✅ 개념 정리: DataFrame.describe()  \n",
    "describe()는 수치형(Numeric) 데이터의 대표 통계 지표들을 한눈에 보여줍니다.\n",
    "\n",
    "기본적으로 아래 항목들이 출력됩니다:\n",
    "\n",
    "| 지표        | 설명                |\n",
    "| --------- | ----------------- |\n",
    "| **count** | 결측치가 아닌 데이터 개수    |\n",
    "| **mean**  | 평균값               |\n",
    "| **std**   | 표준편차 (데이터의 분산 정도) |\n",
    "| **min**   | 최소값               |\n",
    "| **25%**   | 1사분위수 (Q1)        |\n",
    "| **50%**   | 중앙값 (Q2, median)  |\n",
    "| **75%**   | 3사분위수 (Q3)        |\n",
    "| **max**   | 최대값               |\n"
   ]
  },
  {
   "cell_type": "markdown",
   "id": "fb4f5b9d",
   "metadata": {},
   "source": [
    "### ✅ 실무에서 쓰는 경우"
   ]
  },
  {
   "cell_type": "markdown",
   "id": "c8d5b689",
   "metadata": {},
   "source": [
    "🔹 1. 데이터 분포 확인 (이상치, 스케일 확인용)\n",
    "\n",
    "```odf.describe() ```\n",
    "\n",
    "max와 min 차이가 너무 크면 이상치 존재 가능\n",
    "\n",
    "std가 너무 크면 값이 널뛰기 함 → 정규화 필요성 판단\n",
    "\n",
    "*정규화란 ?*\n",
    "* 데이터의 값의 범위를 일정하게 조정하는 작업을 뜻합니다.\n",
    "\n",
    "*정규화가 필요한 이유*\n",
    "\n",
    "| 상황         | 이유                                                     |\n",
    "| ---------- | ------------------------------------------------------ |\n",
    "| 머신러닝 학습 전에 | 스케일이 다르면 **학습 성능**이 떨어짐 (예: KNN, SVM, 회귀모델 등 거리 기반 모델) |\n",
    "| 데이터 시각화    | 큰 값 때문에 작은 값이 안 보이는 경우, 시각화 왜곡 방지                      |\n",
    "| 이상치 탐지     | 값 범위가 비슷해야 이상치가 뚜렷하게 드러남                               |\n",
    "| PCA 등 차원축소 | 모든 feature가 같은 기준이어야 올바르게 작동함                          |\n"
   ]
  },
  {
   "cell_type": "markdown",
   "id": "89f1a042",
   "metadata": {},
   "source": [
    "🔹 2. 결측치 확인\n",
    "\n",
    "```odf.describe().loc['count'] == len(odf)```\n",
    "\n",
    "False가 나오면 결측치가 존재하는 열이라는 뜻"
   ]
  },
  {
   "cell_type": "code",
   "execution_count": 24,
   "id": "737ed143",
   "metadata": {},
   "outputs": [
    {
     "data": {
      "text/html": [
       "<div>\n",
       "<style scoped>\n",
       "    .dataframe tbody tr th:only-of-type {\n",
       "        vertical-align: middle;\n",
       "    }\n",
       "\n",
       "    .dataframe tbody tr th {\n",
       "        vertical-align: top;\n",
       "    }\n",
       "\n",
       "    .dataframe thead th {\n",
       "        text-align: right;\n",
       "    }\n",
       "</style>\n",
       "<table border=\"1\" class=\"dataframe\">\n",
       "  <thead>\n",
       "    <tr style=\"text-align: right;\">\n",
       "      <th></th>\n",
       "      <th>2007</th>\n",
       "      <th>2008</th>\n",
       "      <th>2009</th>\n",
       "      <th>2010</th>\n",
       "      <th>2011</th>\n",
       "    </tr>\n",
       "  </thead>\n",
       "  <tbody>\n",
       "    <tr>\n",
       "      <th>count</th>\n",
       "      <td>True</td>\n",
       "      <td>True</td>\n",
       "      <td>True</td>\n",
       "      <td>True</td>\n",
       "      <td>True</td>\n",
       "    </tr>\n",
       "    <tr>\n",
       "      <th>mean</th>\n",
       "      <td>False</td>\n",
       "      <td>False</td>\n",
       "      <td>False</td>\n",
       "      <td>False</td>\n",
       "      <td>False</td>\n",
       "    </tr>\n",
       "    <tr>\n",
       "      <th>std</th>\n",
       "      <td>False</td>\n",
       "      <td>False</td>\n",
       "      <td>False</td>\n",
       "      <td>False</td>\n",
       "      <td>False</td>\n",
       "    </tr>\n",
       "    <tr>\n",
       "      <th>min</th>\n",
       "      <td>False</td>\n",
       "      <td>False</td>\n",
       "      <td>False</td>\n",
       "      <td>False</td>\n",
       "      <td>False</td>\n",
       "    </tr>\n",
       "    <tr>\n",
       "      <th>25%</th>\n",
       "      <td>False</td>\n",
       "      <td>False</td>\n",
       "      <td>False</td>\n",
       "      <td>False</td>\n",
       "      <td>False</td>\n",
       "    </tr>\n",
       "    <tr>\n",
       "      <th>50%</th>\n",
       "      <td>False</td>\n",
       "      <td>False</td>\n",
       "      <td>False</td>\n",
       "      <td>False</td>\n",
       "      <td>False</td>\n",
       "    </tr>\n",
       "    <tr>\n",
       "      <th>75%</th>\n",
       "      <td>False</td>\n",
       "      <td>False</td>\n",
       "      <td>False</td>\n",
       "      <td>False</td>\n",
       "      <td>False</td>\n",
       "    </tr>\n",
       "    <tr>\n",
       "      <th>max</th>\n",
       "      <td>False</td>\n",
       "      <td>False</td>\n",
       "      <td>False</td>\n",
       "      <td>False</td>\n",
       "      <td>False</td>\n",
       "    </tr>\n",
       "  </tbody>\n",
       "</table>\n",
       "</div>"
      ],
      "text/plain": [
       "        2007   2008   2009   2010   2011\n",
       "count   True   True   True   True   True\n",
       "mean   False  False  False  False  False\n",
       "std    False  False  False  False  False\n",
       "min    False  False  False  False  False\n",
       "25%    False  False  False  False  False\n",
       "50%    False  False  False  False  False\n",
       "75%    False  False  False  False  False\n",
       "max    False  False  False  False  False"
      ]
     },
     "execution_count": 24,
     "metadata": {},
     "output_type": "execute_result"
    }
   ],
   "source": [
    "odf.describe().iloc[:] == len(odf) # 전체 결측치 확인"
   ]
  },
  {
   "cell_type": "markdown",
   "id": "c582e332",
   "metadata": {},
   "source": [
    "🔹 3. 범주형 포함 요약 보고 싶을 때\n",
    "\n",
    "```odf.describe(include='all')```\n",
    "\n",
    "수치형뿐 아니라 문자형, 날짜형 등 모든 열의 요약 정보도 확인 가능\n",
    "\n",
    "문자형에는 unique, top, freq가 나옴"
   ]
  },
  {
   "cell_type": "markdown",
   "id": "3372b4e6",
   "metadata": {},
   "source": [
    "🔹 4. 특정 열만 describe\n",
    "\n",
    "```odf[['sales', 'profit']].describe()```\n",
    "\n",
    "관심 있는 열만 뽑아서 확인 가능"
   ]
  },
  {
   "cell_type": "markdown",
   "id": "36ed3e39",
   "metadata": {},
   "source": [
    "# ✅ 상관분석\n",
    "변수들 간의 변화의 유사도,\n",
    "- 음의상관: 서로 반대 방향으로 변화, 증가>감소, 감소>증가\n",
    "- 양의상관: 서로 같은 방향으로 변화, 증가>증가, 감소>감소"
   ]
  },
  {
   "cell_type": "markdown",
   "id": "09106edf",
   "metadata": {},
   "source": [
    "## ✅ 개념: corr()이란?\n",
    ".corr()는 데이터프레임 내 수치형 열들 간의 선형 상관관계를 계산합니다.\n",
    "기본적으로 **피어슨 상관계수(Pearson correlation coefficient)**를 사용합니다.\n",
    "\n",
    "📌 상관계수(Pearson correlation coefficient)\n",
    "값 범위: –1 ~ +1\n",
    "\n",
    "의미:\n",
    "| 상관계수 | 해석                         |\n",
    "| ---- | -------------------------- |\n",
    "| +1   | 완전한 양의 상관관계 (같이 증가)        |\n",
    "| 0    | 상관관계 없음                    |\n",
    "| –1   | 완전한 음의 상관관계 (한쪽 증가, 한쪽 감소) |\n"
   ]
  },
  {
   "cell_type": "code",
   "execution_count": 25,
   "id": "8239c479",
   "metadata": {},
   "outputs": [
    {
     "data": {
      "text/html": [
       "<div>\n",
       "<style scoped>\n",
       "    .dataframe tbody tr th:only-of-type {\n",
       "        vertical-align: middle;\n",
       "    }\n",
       "\n",
       "    .dataframe tbody tr th {\n",
       "        vertical-align: top;\n",
       "    }\n",
       "\n",
       "    .dataframe thead th {\n",
       "        text-align: right;\n",
       "    }\n",
       "</style>\n",
       "<table border=\"1\" class=\"dataframe\">\n",
       "  <thead>\n",
       "    <tr style=\"text-align: right;\">\n",
       "      <th></th>\n",
       "      <th>2007</th>\n",
       "      <th>2008</th>\n",
       "      <th>2009</th>\n",
       "      <th>2010</th>\n",
       "      <th>2011</th>\n",
       "    </tr>\n",
       "  </thead>\n",
       "  <tbody>\n",
       "    <tr>\n",
       "      <th>2007</th>\n",
       "      <td>1.000000</td>\n",
       "      <td>0.991073</td>\n",
       "      <td>0.831447</td>\n",
       "      <td>0.769040</td>\n",
       "      <td>0.758271</td>\n",
       "    </tr>\n",
       "    <tr>\n",
       "      <th>2008</th>\n",
       "      <td>0.991073</td>\n",
       "      <td>1.000000</td>\n",
       "      <td>0.872296</td>\n",
       "      <td>0.810529</td>\n",
       "      <td>0.789512</td>\n",
       "    </tr>\n",
       "    <tr>\n",
       "      <th>2009</th>\n",
       "      <td>0.831447</td>\n",
       "      <td>0.872296</td>\n",
       "      <td>1.000000</td>\n",
       "      <td>0.988513</td>\n",
       "      <td>0.980025</td>\n",
       "    </tr>\n",
       "    <tr>\n",
       "      <th>2010</th>\n",
       "      <td>0.769040</td>\n",
       "      <td>0.810529</td>\n",
       "      <td>0.988513</td>\n",
       "      <td>1.000000</td>\n",
       "      <td>0.992667</td>\n",
       "    </tr>\n",
       "    <tr>\n",
       "      <th>2011</th>\n",
       "      <td>0.758271</td>\n",
       "      <td>0.789512</td>\n",
       "      <td>0.980025</td>\n",
       "      <td>0.992667</td>\n",
       "      <td>1.000000</td>\n",
       "    </tr>\n",
       "  </tbody>\n",
       "</table>\n",
       "</div>"
      ],
      "text/plain": [
       "          2007      2008      2009      2010      2011\n",
       "2007  1.000000  0.991073  0.831447  0.769040  0.758271\n",
       "2008  0.991073  1.000000  0.872296  0.810529  0.789512\n",
       "2009  0.831447  0.872296  1.000000  0.988513  0.980025\n",
       "2010  0.769040  0.810529  0.988513  1.000000  0.992667\n",
       "2011  0.758271  0.789512  0.980025  0.992667  1.000000"
      ]
     },
     "execution_count": 25,
     "metadata": {},
     "output_type": "execute_result"
    }
   ],
   "source": [
    "odf.corr()"
   ]
  },
  {
   "cell_type": "code",
   "execution_count": 30,
   "id": "31704b31",
   "metadata": {},
   "outputs": [
    {
     "data": {
      "text/plain": [
       "China     59.79\n",
       "EU        85.91\n",
       "US        40.50\n",
       "Japan     46.22\n",
       "Korea     20.09\n",
       "Mexico    10.35\n",
       "dtype: float64"
      ]
     },
     "execution_count": 30,
     "metadata": {},
     "output_type": "execute_result"
    }
   ],
   "source": [
    "odf.sum(axis=1, numeric_only=True)"
   ]
  },
  {
   "cell_type": "code",
   "execution_count": 32,
   "id": "7a897ea8",
   "metadata": {},
   "outputs": [
    {
     "data": {
      "text/html": [
       "<div>\n",
       "<style scoped>\n",
       "    .dataframe tbody tr th:only-of-type {\n",
       "        vertical-align: middle;\n",
       "    }\n",
       "\n",
       "    .dataframe tbody tr th {\n",
       "        vertical-align: top;\n",
       "    }\n",
       "\n",
       "    .dataframe thead th {\n",
       "        text-align: right;\n",
       "    }\n",
       "</style>\n",
       "<table border=\"1\" class=\"dataframe\">\n",
       "  <thead>\n",
       "    <tr style=\"text-align: right;\">\n",
       "      <th></th>\n",
       "      <th>2007</th>\n",
       "      <th>2008</th>\n",
       "      <th>2009</th>\n",
       "      <th>2010</th>\n",
       "      <th>2011</th>\n",
       "      <th>total_production</th>\n",
       "    </tr>\n",
       "  </thead>\n",
       "  <tbody>\n",
       "    <tr>\n",
       "      <th>China</th>\n",
       "      <td>7.71</td>\n",
       "      <td>7.95</td>\n",
       "      <td>11.96</td>\n",
       "      <td>15.84</td>\n",
       "      <td>16.33</td>\n",
       "      <td>NaN</td>\n",
       "    </tr>\n",
       "    <tr>\n",
       "      <th>EU</th>\n",
       "      <td>19.02</td>\n",
       "      <td>17.71</td>\n",
       "      <td>15.00</td>\n",
       "      <td>16.70</td>\n",
       "      <td>17.48</td>\n",
       "      <td>NaN</td>\n",
       "    </tr>\n",
       "    <tr>\n",
       "      <th>US</th>\n",
       "      <td>10.47</td>\n",
       "      <td>8.45</td>\n",
       "      <td>5.58</td>\n",
       "      <td>7.60</td>\n",
       "      <td>8.40</td>\n",
       "      <td>NaN</td>\n",
       "    </tr>\n",
       "    <tr>\n",
       "      <th>Japan</th>\n",
       "      <td>10.87</td>\n",
       "      <td>10.83</td>\n",
       "      <td>7.55</td>\n",
       "      <td>9.09</td>\n",
       "      <td>7.88</td>\n",
       "      <td>NaN</td>\n",
       "    </tr>\n",
       "    <tr>\n",
       "      <th>Korea</th>\n",
       "      <td>4.04</td>\n",
       "      <td>3.78</td>\n",
       "      <td>3.45</td>\n",
       "      <td>4.20</td>\n",
       "      <td>4.62</td>\n",
       "      <td>NaN</td>\n",
       "    </tr>\n",
       "    <tr>\n",
       "      <th>Mexico</th>\n",
       "      <td>2.01</td>\n",
       "      <td>2.05</td>\n",
       "      <td>1.50</td>\n",
       "      <td>2.25</td>\n",
       "      <td>2.54</td>\n",
       "      <td>NaN</td>\n",
       "    </tr>\n",
       "  </tbody>\n",
       "</table>\n",
       "</div>"
      ],
      "text/plain": [
       "         2007   2008   2009   2010   2011  total_production\n",
       "China    7.71   7.95  11.96  15.84  16.33               NaN\n",
       "EU      19.02  17.71  15.00  16.70  17.48               NaN\n",
       "US      10.47   8.45   5.58   7.60   8.40               NaN\n",
       "Japan   10.87  10.83   7.55   9.09   7.88               NaN\n",
       "Korea    4.04   3.78   3.45   4.20   4.62               NaN\n",
       "Mexico   2.01   2.05   1.50   2.25   2.54               NaN"
      ]
     },
     "execution_count": 32,
     "metadata": {},
     "output_type": "execute_result"
    }
   ],
   "source": [
    "# 2007~2011 년까지의 생산량을 합한 total_production 컬럼을 생성해보자\n",
    "odf['total_production'] = df.sum(axis=1, numeric_only=True)\n",
    "odf"
   ]
  },
  {
   "cell_type": "markdown",
   "id": "808f8107",
   "metadata": {},
   "source": []
  }
 ],
 "metadata": {
  "kernelspec": {
   "display_name": "hipython",
   "language": "python",
   "name": "python3"
  },
  "language_info": {
   "codemirror_mode": {
    "name": "ipython",
    "version": 3
   },
   "file_extension": ".py",
   "mimetype": "text/x-python",
   "name": "python",
   "nbconvert_exporter": "python",
   "pygments_lexer": "ipython3",
   "version": "3.10.18"
  }
 },
 "nbformat": 4,
 "nbformat_minor": 5
}
