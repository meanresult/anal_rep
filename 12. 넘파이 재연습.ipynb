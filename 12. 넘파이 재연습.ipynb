{
 "cells": [
  {
   "cell_type": "code",
   "execution_count": 3,
   "id": "767de665",
   "metadata": {},
   "outputs": [
    {
     "data": {
      "text/plain": [
       "array([[ 0,  1,  2,  3],\n",
       "       [ 4,  5,  6,  7],\n",
       "       [ 8,  9, 10, 11],\n",
       "       [12, 13, 14, 15]])"
      ]
     },
     "execution_count": 3,
     "metadata": {},
     "output_type": "execute_result"
    }
   ],
   "source": [
    "import numpy as np\n",
    "\n",
    "arr = np.arange(16).reshape((4,4))\n",
    "\n",
    "arr"
   ]
  },
  {
   "cell_type": "code",
   "execution_count": 25,
   "id": "50229e45",
   "metadata": {},
   "outputs": [
    {
     "name": "stdout",
     "output_type": "stream",
     "text": [
      "[[0 1 2 3]]\n",
      "[[0 1 2 3]]\n"
     ]
    }
   ],
   "source": [
    "# 첫번째 행 선택\n",
    "\n",
    "print ( arr[[0],])\n",
    "print ( arr[0:1,])"
   ]
  },
  {
   "cell_type": "code",
   "execution_count": 18,
   "id": "11404789",
   "metadata": {},
   "outputs": [
    {
     "name": "stdout",
     "output_type": "stream",
     "text": [
      "[[ 3]\n",
      " [ 7]\n",
      " [11]\n",
      " [15]]\n",
      "[[ 3]\n",
      " [ 7]\n",
      " [11]\n",
      " [15]]\n"
     ]
    }
   ],
   "source": [
    "# 마지막열 전체\n",
    "print( arr[:,[3]]) # 앞에는 생략 불가능 \n",
    "ㅔ\n",
    "print( arr[:,3:4])"
   ]
  },
  {
   "cell_type": "code",
   "execution_count": 41,
   "id": "d58b4ff4",
   "metadata": {},
   "outputs": [
    {
     "name": "stdout",
     "output_type": "stream",
     "text": [
      "[[ 0  3]\n",
      " [12 15]]\n",
      "[[ 0  3]\n",
      " [12 15]]\n",
      "\n",
      "[[ 0  3]\n",
      " [12 15]]\n",
      "\n",
      "[[ 0  1  2  3]\n",
      " [12 13 14 15]]\n",
      "\n",
      "[[ 0  1  2  3]\n",
      " [12 13 14 15]]\n"
     ]
    }
   ],
   "source": [
    "#첫번째 행과 마지막 행만 선택, 각행의 첫번째, 마지막열 선택 \n",
    "print (arr[[0,-1]][:,[0,-1]]) # 리스트끼리 곱의 개념 \n",
    "# 0, -1 x \n",
    "print (arr[[0,3]][:,[0,3]])\n",
    "print()\n",
    "print( arr[::3,::3])\n",
    "print()\n",
    "print (arr[0::])\n",
    "\n",
    "\n"
   ]
  },
  {
   "cell_type": "markdown",
   "id": "617ac07b",
   "metadata": {},
   "source": [
    "**오답**\n",
    "\n",
    "```\n",
    "print (arr[[0,-1]][[0,-1]])\n",
    "```\n",
    "\n",
    "> 위와 같이 출력하면 아래와 같이 나오기 때문에 뒤의 1열 4열 전체값을 잡아줘야 한다\n",
    "출력 (0,0) , (-1,-1)\n",
    "\n",
    "array([[ 0,  1,  2,  3],\n",
    "       [ 4,  5,  6,  7],\n",
    "       [ 8,  9, 10, 11],\n",
    "       [12, 13, 14, 15]])"
   ]
  },
  {
   "cell_type": "code",
   "execution_count": null,
   "id": "090463b6",
   "metadata": {},
   "outputs": [],
   "source": []
  }
 ],
 "metadata": {
  "kernelspec": {
   "display_name": "hipython",
   "language": "python",
   "name": "python3"
  },
  "language_info": {
   "codemirror_mode": {
    "name": "ipython",
    "version": 3
   },
   "file_extension": ".py",
   "mimetype": "text/x-python",
   "name": "python",
   "nbconvert_exporter": "python",
   "pygments_lexer": "ipython3",
   "version": "3.12.9"
  }
 },
 "nbformat": 4,
 "nbformat_minor": 5
}
