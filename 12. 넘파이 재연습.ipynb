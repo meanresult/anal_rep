{
 "cells": [
  {
   "cell_type": "code",
   "execution_count": 2,
   "id": "767de665",
   "metadata": {},
   "outputs": [
    {
     "data": {
      "text/plain": [
       "array([[ 0,  1,  2,  3],\n",
       "       [ 4,  5,  6,  7],\n",
       "       [ 8,  9, 10, 11],\n",
       "       [12, 13, 14, 15]])"
      ]
     },
     "execution_count": 2,
     "metadata": {},
     "output_type": "execute_result"
    }
   ],
   "source": [
    "import numpy as np\n",
    "\n",
    "arr = np.arange(16).reshape((4,4))\n",
    "\n",
    "arr"
   ]
  },
  {
   "cell_type": "code",
   "execution_count": 3,
   "id": "50229e45",
   "metadata": {},
   "outputs": [
    {
     "name": "stdout",
     "output_type": "stream",
     "text": [
      "[[0 1 2 3]]\n",
      "[[0 1 2 3]]\n"
     ]
    }
   ],
   "source": [
    "# 첫번째 행 선택\n",
    "\n",
    "print ( arr[[0],])\n",
    "print ( arr[0:1,])"
   ]
  },
  {
   "cell_type": "code",
   "execution_count": null,
   "id": "11404789",
   "metadata": {},
   "outputs": [
    {
     "name": "stdout",
     "output_type": "stream",
     "text": [
      "[[ 3]\n",
      " [ 7]\n",
      " [11]\n",
      " [15]]\n",
      "[[ 3]\n",
      " [ 7]\n",
      " [11]\n",
      " [15]]\n"
     ]
    }
   ],
   "source": [
    "# 마지막열 전체\n",
    "print( arr[:,[3]]) # 앞에는 생략 불가능 \n",
    "print( arr[:,3:4])"
   ]
  },
  {
   "cell_type": "code",
   "execution_count": 9,
   "id": "8b6fb7ba",
   "metadata": {},
   "outputs": [
    {
     "name": "stdout",
     "output_type": "stream",
     "text": [
      "[[ 0  3]\n",
      " [12 15]]\n",
      "[[ 0  1  2  3]\n",
      " [12 13 14 15]]\n",
      "[[ 0  3]\n",
      " [ 4  7]\n",
      " [ 8 11]\n",
      " [12 15]]\n"
     ]
    }
   ],
   "source": [
    "print (arr[[0,-1],:][:,[0,-1]])\n",
    "print(arr[[0,-1],:])\n",
    "print(arr[:,[0,-1]])\n"
   ]
  },
  {
   "cell_type": "code",
   "execution_count": null,
   "id": "d58b4ff4",
   "metadata": {},
   "outputs": [
    {
     "name": "stdout",
     "output_type": "stream",
     "text": [
      "[[ 0  3]\n",
      " [12 15]]\n",
      "[[ 0  3]\n",
      " [12 15]]\n",
      "\n",
      "[[ 0  3]\n",
      " [12 15]]\n",
      "\n",
      "[[ 0  1  2  3]\n",
      " [12 13 14 15]]\n",
      "\n",
      "[[ 0  1  2  3]\n",
      " [12 13 14 15]]\n"
     ]
    }
   ],
   "source": [
    "#첫번째 행과 마지막 행만 선택, 각행의 첫번째, 마지막열 선택 \n",
    "print (arr[[0,-1]][:,[0,-1]]) # 리스트끼리 곱의 개념 \n",
    "# 0, -1 x \n",
    "print (arr[[0,3],:][:,[0,3]])\n",
    "print()\n",
    "print( arr[::3,::3])\n",
    "print()\n",
    "print (arr[0::])\n",
    "\n",
    "\n"
   ]
  },
  {
   "cell_type": "markdown",
   "id": "617ac07b",
   "metadata": {},
   "source": [
    "**오답**\n",
    "\n",
    "```\n",
    "print (arr[[0,-1]][[0,-1]])\n",
    "```\n",
    "\n",
    "> 위와 같이 출력하면 아래와 같이 나오기 때문에 뒤의 1열 4열 전체값을 잡아줘야 한다\n",
    "출력 (0,0) , (-1,-1)\n",
    "\n",
    "```\n",
    "array([[ 0,  1,  2,  3],\n",
    "       [ 4,  5,  6,  7],\n",
    "       [ 8,  9, 10, 11],\n",
    "       [12, 13, 14, 15]])\n",
    "```\n",
    "해서 첫번째 행과 마지막행 전체와 첫번째열 마지막열 전체를 불러와야 한다.\n",
    "정리해보면 아래와 같다\n",
    "\n",
    " print (arr[[0,-1],:][:,[0,-1]])\n",
    " 이것을 풀어보면 \n",
    " ---\n",
    " arr \n",
    " \n",
    " [[첫번째행, 마지막행], ':' # 열 전체] \n",
    " x \n",
    " [':' # 행전체 [첫번째열, 마지막열]]\n",
    "\n",
    "---\n",
    "```\n",
    "[[ 0  1  2  3]\n",
    " [12 13 14 15]]\n",
    "x\n",
    "[[ 0  3]\n",
    " [ 4  7]\n",
    " [ 8 11]\n",
    " [12 15]]\n",
    "\n",
    " =\n",
    " [[ 0  3]\n",
    " [12 15]]\n",
    "```"
   ]
  },
  {
   "cell_type": "code",
   "execution_count": 20,
   "id": "090463b6",
   "metadata": {},
   "outputs": [
    {
     "data": {
      "text/plain": [
       "array([[ 1,  3],\n",
       "       [ 9, 11]])"
      ]
     },
     "execution_count": 20,
     "metadata": {},
     "output_type": "execute_result"
    }
   ],
   "source": [
    "# 짝수 인덱스 행(0번째, 2번째 행), 홀수 인덱스 열(1,3) 선택\n",
    "\n",
    "# arr[[0,2],:][:,[1,3]]\n",
    "arr[::2, 1::2] #[시작인덱스 전체/ 끝인덱스 전체/ 2 간격, 시작인덱스 1번째, 끝인덱스 전체 / 3 간격 ]"
   ]
  },
  {
   "cell_type": "code",
   "execution_count": 27,
   "id": "0790b435",
   "metadata": {},
   "outputs": [
    {
     "data": {
      "text/plain": [
       "array([[[  0,   1,   2,   3,   4,   5],\n",
       "        [  6,   7,   8,   9,  10,  11],\n",
       "        [ 12,  13,  14,  15,  16,  17],\n",
       "        [ 18,  19,  20,  21,  22,  23],\n",
       "        [ 24,  25,  26,  27,  28,  29],\n",
       "        [ 30,  31,  32,  33,  34,  35]],\n",
       "\n",
       "       [[ 36,  37,  38,  39,  40,  41],\n",
       "        [ 42,  43,  44,  45,  46,  47],\n",
       "        [ 48,  49,  50,  51,  52,  53],\n",
       "        [ 54,  55,  56,  57,  58,  59],\n",
       "        [ 60,  61,  62,  63,  64,  65],\n",
       "        [ 66,  67,  68,  69,  70,  71]],\n",
       "\n",
       "       [[ 72,  73,  74,  75,  76,  77],\n",
       "        [ 78,  79,  80,  81,  82,  83],\n",
       "        [ 84,  85,  86,  87,  88,  89],\n",
       "        [ 90,  91,  92,  93,  94,  95],\n",
       "        [ 96,  97,  98,  99, 100, 101],\n",
       "        [102, 103, 104, 105, 106, 107]],\n",
       "\n",
       "       [[108, 109, 110, 111, 112, 113],\n",
       "        [114, 115, 116, 117, 118, 119],\n",
       "        [120, 121, 122, 123, 124, 125],\n",
       "        [126, 127, 128, 129, 130, 131],\n",
       "        [132, 133, 134, 135, 136, 137],\n",
       "        [138, 139, 140, 141, 142, 143]]])"
      ]
     },
     "execution_count": 27,
     "metadata": {},
     "output_type": "execute_result"
    }
   ],
   "source": [
    "#위의 3차원 행렬을 작성하세요\n",
    "arr3 = np.arange(144).reshape((4,6,6))\n",
    "arr3"
   ]
  },
  {
   "cell_type": "code",
   "execution_count": 36,
   "id": "199c71bd",
   "metadata": {},
   "outputs": [
    {
     "data": {
      "text/plain": [
       "array([[[ 0,  1,  2,  3,  4,  5],\n",
       "        [ 6,  7,  8,  9, 10, 11],\n",
       "        [12, 13, 14, 15, 16, 17],\n",
       "        [18, 19, 20, 21, 22, 23],\n",
       "        [24, 25, 26, 27, 28, 29],\n",
       "        [30, 31, 32, 33, 34, 35]],\n",
       "\n",
       "       [[ 1,  1,  2,  3,  4,  5],\n",
       "        [ 6,  7,  8,  9, 10, 11],\n",
       "        [12, 13, 14, 15, 16, 17],\n",
       "        [18, 19, 20, 21, 22, 23],\n",
       "        [24, 25, 26, 27, 28, 29],\n",
       "        [30, 31, 32, 33, 34, 35]],\n",
       "\n",
       "       [[ 2,  1,  2,  3,  4,  5],\n",
       "        [ 6,  7,  8,  9, 10, 11],\n",
       "        [12, 13, 14, 15, 16, 17],\n",
       "        [18, 19, 20, 21, 22, 23],\n",
       "        [24, 25, 26, 27, 28, 29],\n",
       "        [30, 31, 32, 33, 34, 35]],\n",
       "\n",
       "       [[ 3,  1,  2,  3,  4,  5],\n",
       "        [ 6,  7,  8,  9, 10, 11],\n",
       "        [12, 13, 14, 15, 16, 17],\n",
       "        [18, 19, 20, 21, 22, 23],\n",
       "        [24, 25, 26, 27, 28, 29],\n",
       "        [30, 31, 32, 33, 34, 35]]])"
      ]
     },
     "execution_count": 36,
     "metadata": {},
     "output_type": "execute_result"
    }
   ],
   "source": [
    "arr4 = np.stack([np.arange(36).reshape((6,6))]*4)\n",
    "\n",
    "for i in range(4):\n",
    "    arr4[i,0,0] = i\n",
    "\n",
    "arr4"
   ]
  },
  {
   "cell_type": "code",
   "execution_count": 40,
   "id": "17b8c954",
   "metadata": {},
   "outputs": [
    {
     "data": {
      "text/plain": [
       "array([[ 1,  1,  2,  3,  4,  5],\n",
       "       [ 6,  7,  8,  9, 10, 11],\n",
       "       [12, 13, 14, 15, 16, 17],\n",
       "       [18, 19, 20, 21, 22, 23],\n",
       "       [24, 25, 26, 27, 28, 29],\n",
       "       [30, 31, 32, 33, 34, 35]])"
      ]
     },
     "execution_count": 40,
     "metadata": {},
     "output_type": "execute_result"
    }
   ],
   "source": [
    "\n",
    "# 2번째 층(깊이, 면) 선택\n",
    "arr4[1]"
   ]
  },
  {
   "cell_type": "code",
   "execution_count": 57,
   "id": "c6590119",
   "metadata": {},
   "outputs": [
    {
     "data": {
      "text/plain": [
       "array([19, 19, 19, 19])"
      ]
     },
     "execution_count": 57,
     "metadata": {},
     "output_type": "execute_result"
    }
   ],
   "source": [
    "#모든 층, 네번째 행, 두번째 열 원소 선택, 1차원 배열로 작성\n",
    "\n",
    "arr4[:,3,1] # 괄호를 안넣으면 1차원 배열 형식이라 1차원으로 나옴\n",
    "arr4[:,[3],[1]].reshape(-1)"
   ]
  },
  {
   "cell_type": "code",
   "execution_count": 61,
   "id": "269e3e78",
   "metadata": {},
   "outputs": [
    {
     "data": {
      "text/plain": [
       "(array([[[28, 29],\n",
       "         [34, 35]],\n",
       " \n",
       "        [[28, 29],\n",
       "         [34, 35]]]),\n",
       " array([[[28, 29],\n",
       "         [34, 35]],\n",
       " \n",
       "        [[28, 29],\n",
       "         [34, 35]]]))"
      ]
     },
     "execution_count": 61,
     "metadata": {},
     "output_type": "execute_result"
    }
   ],
   "source": [
    "#배열의 첫 두 층, 마지막 두 행, 마지막 두 열 선택\n",
    "arr4[:2,4::,4::] , arr4[:2,-2:,-2:]"
   ]
  },
  {
   "cell_type": "code",
   "execution_count": 66,
   "id": "37f66335",
   "metadata": {},
   "outputs": [
    {
     "data": {
      "text/plain": [
       "array([[ 7,  9, 11],\n",
       "       [13, 15, 17],\n",
       "       [19, 21, 23]])"
      ]
     },
     "execution_count": 66,
     "metadata": {},
     "output_type": "execute_result"
    }
   ],
   "source": [
    "#세번째 층, 두번째 행에서 네번째 행, 홀수 인덱스 열\n",
    "arr4[3,1:4,1::2]"
   ]
  }
 ],
 "metadata": {
  "kernelspec": {
   "display_name": "hipython",
   "language": "python",
   "name": "python3"
  },
  "language_info": {
   "codemirror_mode": {
    "name": "ipython",
    "version": 3
   },
   "file_extension": ".py",
   "mimetype": "text/x-python",
   "name": "python",
   "nbconvert_exporter": "python",
   "pygments_lexer": "ipython3",
   "version": "3.10.18"
  }
 },
 "nbformat": 4,
 "nbformat_minor": 5
}
